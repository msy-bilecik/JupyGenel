{
 "cells": [
  {
   "cell_type": "code",
   "execution_count": 2,
   "metadata": {},
   "outputs": [],
   "source": [
    "# !pip install dicom2nifti"
   ]
  },
  {
   "cell_type": "code",
   "execution_count": 2,
   "metadata": {},
   "outputs": [],
   "source": [
    "import os\n",
    "from glob import glob\n",
    "import numpy as np\n",
    "import dicom2nifti\n",
    "import dicom2nifti.settings as settings\n"
   ]
  },
  {
   "cell_type": "code",
   "execution_count": 3,
   "metadata": {},
   "outputs": [],
   "source": [
    "def folderInFolder(path):\n",
    "    liste=[os.path.join(path, o) for o in os.listdir(path) if os.path.isdir(os.path.join(path,o))]\n",
    "    return liste\n",
    "\n",
    "    \n",
    "\n",
    "def d2Nii(DCM_Folder,output_folder,lfpreC,id=0):\n",
    "    print(\"DCM bulunan adres: \",root)\n",
    "    lf=DCM_Folder.split(os.sep)\n",
    "    #print(lf)\n",
    "    e=lf[lfpreC].split(\"_\")\n",
    "    name=\"{}_{}_{}_{:05d}_{}\".format(lf[lfpreC-1],e[0][0:2].upper(),e[1][0:2].upper(),id,lf[-1])\n",
    "    output_fileName=output_folder+name+\".nii.gz\"\n",
    "    #print(os.path.exists(output_fileName))\n",
    "    if not (os.path.exists(output_fileName)):\n",
    "        try:\n",
    "            print(\"Nifti eklenen adres: \", output_fileName,\"\\n\")\n",
    "            dicom2nifti.dicom_series_to_nifti(DCM_Folder, output_fileName, reorient_nifti=True)\n",
    "        except:\n",
    "            print(\"!!!!!!! dicom ile ilgili bir sorun oldu !!!!! \\n \")\n",
    "    else:\n",
    "        print(\"Nifti daha önceden oluşturulmuş: \", output_fileName)\n",
    "        print(\"--\")\n"
   ]
  },
  {
   "cell_type": "code",
   "execution_count": 4,
   "metadata": {
    "scrolled": true
   },
   "outputs": [
    {
     "data": {
      "text/plain": [
       "['D:\\\\dataset\\\\Dataset_KSBU_egfr\\\\valPart\\\\egfrNnew',\n",
       " 'D:\\\\dataset\\\\Dataset_KSBU_egfr\\\\valPart\\\\egfrPnew']"
      ]
     },
     "metadata": {},
     "output_type": "display_data"
    },
    {
     "name": "stdout",
     "output_type": "stream",
     "text": [
      "5\n",
      "DCM bulunan adres:  D:\\dataset\\Dataset_KSBU_egfr\\valPart\\egfrNnew\\Cevat_Kayin\\Unnamed - 15111\\_Lung_50_CE_4\n",
      "Nifti eklenen adres:  D:\\dataset\\Dataset_KSBU_egfr\\valPart\\egfrNnew_CE_KA_00000__Lung_50_CE_4.nii.gz \n",
      "\n",
      "1\n",
      "DCM bulunan adres:  D:\\dataset\\Dataset_KSBU_egfr\\valPart\\egfrNnew\\Cevdet_Onluturk\\Bt_Toraks_Kontrastl - 19819\\25mm_lung_5\n",
      "Nifti eklenen adres:  D:\\dataset\\Dataset_KSBU_egfr\\valPart\\egfrNnew_CE_ON_00001_25mm_lung_5.nii.gz \n",
      "\n",
      "2\n",
      "DCM bulunan adres:  D:\\dataset\\Dataset_KSBU_egfr\\valPart\\egfrNnew\\Mehmet_Dilmen\\Bt_Toraks_Kontrastl - 9988\\25mm_lung_5\n",
      "Nifti eklenen adres:  D:\\dataset\\Dataset_KSBU_egfr\\valPart\\egfrNnew_ME_DI_00002_25mm_lung_5.nii.gz \n",
      "\n",
      "3\n",
      "DCM bulunan adres:  D:\\dataset\\Dataset_KSBU_egfr\\valPart\\egfrNnew\\Semra_Savas\\Bt_Toraks_Kontrastsýz - 15110\\_Body_50_2\n",
      "Nifti eklenen adres:  D:\\dataset\\Dataset_KSBU_egfr\\valPart\\egfrNnew_SE_SA_00003__Body_50_2.nii.gz \n",
      "\n",
      "4\n",
      "DCM bulunan adres:  D:\\dataset\\Dataset_KSBU_egfr\\valPart\\egfrPnew\\Cemalettin_Sezer\\Bt_Toraks_Kontrastlý - 16469\\25mm_lung_5\n",
      "Nifti eklenen adres:  D:\\dataset\\Dataset_KSBU_egfr\\valPart\\egfrPnew_CE_SE_00000_25mm_lung_5.nii.gz \n",
      "\n",
      "1\n",
      "DCM bulunan adres:  D:\\dataset\\Dataset_KSBU_egfr\\valPart\\egfrPnew\\Cemalettin_Sezer\\Bt_Toraks_Kontrastlý - 16469\\CT_Chest1_Cor_3_Avg_601\n",
      "Nifti eklenen adres:  D:\\dataset\\Dataset_KSBU_egfr\\valPart\\egfrPnew_CE_SE_00001_CT_Chest1_Cor_3_Avg_601.nii.gz \n",
      "\n"
     ]
    },
    {
     "name": "stderr",
     "output_type": "stream",
     "text": [
      "Removing duplicate slice from series\n",
      "Removing duplicate slice from series\n",
      "Removing duplicate slice from series\n",
      "Removing duplicate slice from series\n",
      "Removing duplicate slice from series\n",
      "Removing duplicate slice from series\n",
      "Removing duplicate slice from series\n",
      "Removing duplicate slice from series\n",
      "Removing duplicate slice from series\n",
      "Removing duplicate slice from series\n",
      "Removing duplicate slice from series\n",
      "Removing duplicate slice from series\n",
      "Removing duplicate slice from series\n",
      "Removing duplicate slice from series\n",
      "Removing duplicate slice from series\n",
      "Removing duplicate slice from series\n",
      "Removing duplicate slice from series\n",
      "Removing duplicate slice from series\n",
      "Removing duplicate slice from series\n",
      "Removing duplicate slice from series\n",
      "Removing duplicate slice from series\n",
      "Removing duplicate slice from series\n",
      "Removing duplicate slice from series\n",
      "Removing duplicate slice from series\n",
      "Removing duplicate slice from series\n",
      "Removing duplicate slice from series\n",
      "Removing duplicate slice from series\n",
      "Removing duplicate slice from series\n",
      "Removing duplicate slice from series\n",
      "Removing duplicate slice from series\n",
      "Removing duplicate slice from series\n",
      "Removing duplicate slice from series\n",
      "Removing duplicate slice from series\n",
      "Removing duplicate slice from series\n",
      "Removing duplicate slice from series\n",
      "Removing duplicate slice from series\n",
      "Removing duplicate slice from series\n",
      "Removing duplicate slice from series\n",
      "Removing duplicate slice from series\n",
      "Removing duplicate slice from series\n"
     ]
    },
    {
     "name": "stdout",
     "output_type": "stream",
     "text": [
      "2\n",
      "DCM bulunan adres:  D:\\dataset\\Dataset_KSBU_egfr\\valPart\\egfrPnew\\Cemalettin_Sezer\\Bt_Toraks_Kontrastlý - 16469\\CT_Chest2_Sag_5_Avg_602\n",
      "Nifti eklenen adres:  D:\\dataset\\Dataset_KSBU_egfr\\valPart\\egfrPnew_CE_SE_00002_CT_Chest2_Sag_5_Avg_602.nii.gz \n",
      "\n",
      "3\n",
      "DCM bulunan adres:  D:\\dataset\\Dataset_KSBU_egfr\\valPart\\egfrPnew\\Cemalettin_Sezer\\Bt_Toraks_Kontrastlý - 16469\\STND_5MM_4\n",
      "Nifti eklenen adres:  D:\\dataset\\Dataset_KSBU_egfr\\valPart\\egfrPnew_CE_SE_00003_STND_5MM_4.nii.gz \n",
      "\n"
     ]
    },
    {
     "name": "stderr",
     "output_type": "stream",
     "text": [
      "Removing duplicate slice from series\n",
      "Removing duplicate slice from series\n",
      "Removing duplicate slice from series\n",
      "Removing duplicate slice from series\n",
      "Removing duplicate slice from series\n",
      "Removing duplicate slice from series\n",
      "Removing duplicate slice from series\n"
     ]
    },
    {
     "name": "stdout",
     "output_type": "stream",
     "text": [
      "4\n",
      "DCM bulunan adres:  D:\\dataset\\Dataset_KSBU_egfr\\valPart\\egfrPnew\\Turan_Tok\\Bt_Toraks - 4074792\\_Lung_50_CE_3\n",
      "Nifti eklenen adres:  D:\\dataset\\Dataset_KSBU_egfr\\valPart\\egfrPnew_TU_TO_00004__Lung_50_CE_3.nii.gz \n",
      "\n",
      "5\n"
     ]
    }
   ],
   "source": [
    "dicom_directory=\"D:\\\\dataset\\\\Dataset_KSBU_egfr\\\\valPart\\\\\"\n",
    "output_folder =\"D:\\\\dataset\\\\Dataset_KSBU_egfr\\\\valPart\\\\\"\n",
    "\n",
    "liste=folderInFolder(dicom_directory)\n",
    "display(liste)\n",
    "name=\" \"\n",
    "lfpreC=len(dicom_directory.split(os.sep))\n",
    "print(lfpreC)\n",
    "for ix in liste:\n",
    "    name=\"\"\n",
    "    dcmCounter=0\n",
    "    i=0\n",
    "    for root, dirs, files in os.walk(ix):\n",
    "        #print(root)\n",
    "        dcmCounter=0\n",
    "        for file in files:        \n",
    "            if file.endswith('.dcm'):\n",
    "                dcmCounter += 1\n",
    "            if(dcmCounter>3):\n",
    "                d2Nii(root,output_folder,lfpreC,i)\n",
    "                i+=1\n",
    "                print(i)\n",
    "                break\n",
    "            \n",
    "        "
   ]
  },
  {
   "cell_type": "code",
   "execution_count": 4,
   "metadata": {},
   "outputs": [
    {
     "name": "stdout",
     "output_type": "stream",
     "text": [
      "4\n",
      "['D:', 'dataset', 'Dataset_KSBU_egfr', 'EGFRP']\n"
     ]
    },
    {
     "ename": "IndexError",
     "evalue": "list index out of range",
     "output_type": "error",
     "traceback": [
      "\u001b[1;31m---------------------------------------------------------------------------\u001b[0m",
      "\u001b[1;31mIndexError\u001b[0m                                Traceback (most recent call last)",
      "\u001b[1;32m<ipython-input-4-d91d32567ad9>\u001b[0m in \u001b[0;36m<module>\u001b[1;34m\u001b[0m\n\u001b[0;32m      4\u001b[0m     \u001b[0mlf\u001b[0m\u001b[1;33m=\u001b[0m\u001b[0mix\u001b[0m\u001b[1;33m.\u001b[0m\u001b[0msplit\u001b[0m\u001b[1;33m(\u001b[0m\u001b[0mos\u001b[0m\u001b[1;33m.\u001b[0m\u001b[0msep\u001b[0m\u001b[1;33m)\u001b[0m\u001b[1;33m\u001b[0m\u001b[1;33m\u001b[0m\u001b[0m\n\u001b[0;32m      5\u001b[0m     \u001b[0mprint\u001b[0m\u001b[1;33m(\u001b[0m\u001b[0mlf\u001b[0m\u001b[1;33m)\u001b[0m\u001b[1;33m\u001b[0m\u001b[1;33m\u001b[0m\u001b[0m\n\u001b[1;32m----> 6\u001b[1;33m     \u001b[0me\u001b[0m\u001b[1;33m=\u001b[0m\u001b[0mlf\u001b[0m\u001b[1;33m[\u001b[0m\u001b[0mlfpreC\u001b[0m\u001b[1;33m+\u001b[0m\u001b[1;36m1\u001b[0m\u001b[1;33m]\u001b[0m\u001b[1;33m.\u001b[0m\u001b[0msplit\u001b[0m\u001b[1;33m(\u001b[0m\u001b[1;34m'_'\u001b[0m\u001b[1;33m)\u001b[0m\u001b[1;33m\u001b[0m\u001b[1;33m\u001b[0m\u001b[0m\n\u001b[0m\u001b[0;32m      7\u001b[0m     \u001b[0mname\u001b[0m\u001b[1;33m+=\u001b[0m\u001b[0mlf\u001b[0m\u001b[1;33m[\u001b[0m\u001b[0mlfpreC\u001b[0m\u001b[1;33m]\u001b[0m\u001b[1;33m+\u001b[0m\u001b[1;34m\"_\"\u001b[0m\u001b[1;33m+\u001b[0m\u001b[0me\u001b[0m\u001b[1;33m[\u001b[0m\u001b[1;36m0\u001b[0m\u001b[1;33m]\u001b[0m\u001b[1;33m[\u001b[0m\u001b[1;36m0\u001b[0m\u001b[1;33m:\u001b[0m\u001b[1;36m2\u001b[0m\u001b[1;33m]\u001b[0m\u001b[1;33m.\u001b[0m\u001b[0mupper\u001b[0m\u001b[1;33m(\u001b[0m\u001b[1;33m)\u001b[0m\u001b[1;33m+\u001b[0m\u001b[1;34m\"_\"\u001b[0m\u001b[1;33m+\u001b[0m\u001b[0me\u001b[0m\u001b[1;33m[\u001b[0m\u001b[1;36m1\u001b[0m\u001b[1;33m]\u001b[0m\u001b[1;33m[\u001b[0m\u001b[1;36m0\u001b[0m\u001b[1;33m:\u001b[0m\u001b[1;36m2\u001b[0m\u001b[1;33m]\u001b[0m\u001b[1;33m.\u001b[0m\u001b[0mupper\u001b[0m\u001b[1;33m(\u001b[0m\u001b[1;33m)\u001b[0m\u001b[1;33m+\u001b[0m\u001b[1;34m\"_\"\u001b[0m\u001b[1;33m+\u001b[0m\u001b[0mlf\u001b[0m\u001b[1;33m[\u001b[0m\u001b[1;33m-\u001b[0m\u001b[1;36m1\u001b[0m\u001b[1;33m]\u001b[0m\u001b[1;33m\u001b[0m\u001b[1;33m\u001b[0m\u001b[0m\n\u001b[0;32m      8\u001b[0m     \u001b[0mprint\u001b[0m\u001b[1;33m(\u001b[0m\u001b[0mname\u001b[0m\u001b[1;33m)\u001b[0m\u001b[1;33m\u001b[0m\u001b[1;33m\u001b[0m\u001b[0m\n",
      "\u001b[1;31mIndexError\u001b[0m: list index out of range"
     ]
    }
   ],
   "source": [
    "    if(dcmCounter>3):\n",
    "        print(dcmCounter)\n",
    "        DCM_Folder=ix\n",
    "        lf=ix.split(os.sep)\n",
    "        print(lf)\n",
    "        e=lf[lfpreC+1].split('_')\n",
    "        name+=lf[lfpreC]+\"_\"+e[0][0:2].upper()+\"_\"+e[1][0:2].upper()+\"_\"+lf[-1]\n",
    "        print(name)\n",
    "\n",
    "        output_fileName=output_folder+name+\".nii.gz\"\n",
    "        print(output_fileName)\n",
    "        print(\"--\")\n",
    "        dicom2nifti.dicom_series_to_nifti(DCM_Folder, output_fileName, reorient_nifti=True)"
   ]
  },
  {
   "cell_type": "code",
   "execution_count": 5,
   "metadata": {},
   "outputs": [
    {
     "ename": "SyntaxError",
     "evalue": "'break' outside loop (<ipython-input-5-6aaf1f276005>, line 4)",
     "output_type": "error",
     "traceback": [
      "\u001b[1;36m  File \u001b[1;32m\"<ipython-input-5-6aaf1f276005>\"\u001b[1;36m, line \u001b[1;32m4\u001b[0m\n\u001b[1;31mSyntaxError\u001b[0m\u001b[1;31m:\u001b[0m 'break' outside loop\n"
     ]
    }
   ],
   "source": [
    "    break"
   ]
  },
  {
   "cell_type": "code",
   "execution_count": 2,
   "metadata": {},
   "outputs": [
    {
     "data": {
      "text/plain": [
       "{'NII_FILE': 'D:\\\\datasets\\\\ms\\\\msAkdenizFull\\\\m\\\\AB_AK_FL_1.nii.gz',\n",
       " 'NII': <nibabel.nifti1.Nifti1Image at 0x2c57a5bad08>,\n",
       " 'MAX_SLICE_INCREMENT': 6.000000031308812}"
      ]
     },
     "execution_count": 2,
     "metadata": {},
     "output_type": "execute_result"
    }
   ],
   "source": [
    "dicom_directory =\"D:\\\\datasets\\\\ms\\\\msAkdenizFull\\\\ms veri-YENİ VERİLER-17.11.2021\\\\abdullah akdeniz FLAİR-1\\\\DICOM\\\\000053B1\\\\AA664950\\\\AA9989AE\\\\00009E40\\\\\"\n",
    "output_folder =\"D:\\\\datasets\\\\ms\\\\msAkdenizFull\\\\m\\\\\"\n",
    "filename =\"AB_AK_FL_1\"\n",
    "output_file=output_folder+filename+\".nii.gz\"\n",
    "\n",
    "\n",
    "# settings.disable_validate_orthogonal()\n",
    "# settings.enable_resampling()\n",
    "# settings.set_resample_spline_interpolation_order(1)\n",
    "# settings.set_resample_padding(-1000)\n",
    "\n",
    "#dicom2nifti.convert_directory(dicom_directory, output_folder)\n",
    "\n",
    "dicom2nifti.dicom_series_to_nifti(dicom_directory, output_file, reorient_nifti=True)"
   ]
  },
  {
   "cell_type": "code",
   "execution_count": 5,
   "metadata": {},
   "outputs": [
    {
     "name": "stdout",
     "output_type": "stream",
     "text": [
      "['D:\\\\dataset\\\\Dataset_KSBU\\\\EGFR-\\\\Ayse_Cetindag\\\\Bt_Akci - 13930\\\\25mm_lung_8', 'D:\\\\dataset\\\\Dataset_KSBU\\\\EGFR-\\\\Ayse_Cetindag\\\\Bt_Akci - 13930\\\\CT_Chest1_Cor_3_Avg_601', 'D:\\\\dataset\\\\Dataset_KSBU\\\\EGFR-\\\\Ayse_Cetindag\\\\Bt_Akci - 13930\\\\CT_Chest2_Sag_5_Avg_602', 'D:\\\\dataset\\\\Dataset_KSBU\\\\EGFR-\\\\Ayse_Cetindag\\\\Bt_Akci - 13930\\\\Dose_Report_999', 'D:\\\\dataset\\\\Dataset_KSBU\\\\EGFR-\\\\Ayse_Cetindag\\\\Bt_Akci - 13930\\\\HRCT_8mm_interval_4', 'D:\\\\dataset\\\\Dataset_KSBU\\\\EGFR-\\\\Ayse_Cetindag\\\\Bt_Akci - 13930\\\\Localizers_1', 'D:\\\\dataset\\\\Dataset_KSBU\\\\EGFR-\\\\Ayse_Cetindag\\\\Bt_Akci - 13930\\\\lung_125mm_3', 'D:\\\\dataset\\\\Dataset_KSBU\\\\EGFR-\\\\Ayse_Cetindag\\\\Bt_Akci - 13930\\\\stnd_25mm_2', 'D:\\\\dataset\\\\Dataset_KSBU\\\\EGFR-\\\\Ayse_Cetindag\\\\Bt_Akci - 13930\\\\STND_5MM_7']\n",
      "CT_13601\n",
      "D:\\dataset\\Dataset_KSBU\\EGFR-\\Ayse_Cetindag\\CT_13601.nii.gz\n"
     ]
    }
   ],
   "source": [
    "dicom_directory=\"D:\\\\dataset\\\\Dataset_KSBU\\\\EGFR-\\\\Ayse_Cetindag\\\\Bt_Akci - 13930\\\\\"\n",
    "output_folder =\"D:\\\\dataset\\\\Dataset_KSBU\\\\EGFR-\\\\Ayse_Cetindag\\\\\"\n",
    "\n",
    "#glob(dicom_directory+\"*\\\\\", recursive = True)\n",
    "\n",
    "d = dicom_directory\n",
    "liste=[os.path.join(d, o) for o in os.listdir(d) if os.path.isdir(os.path.join(d,o))]\n",
    "print(liste)\n",
    "# lF=liste[0].replace(dicom_directory,\"\").upper().split(\" \")\n",
    "lF=liste[1].replace(dicom_directory,\"\")\n",
    "say=''.join(filter(str.isdigit, lF))\n",
    "lF=lF.replace(say,\"\").upper().split(\" \")\n",
    "name=\"\"\n",
    "for e in lF:\n",
    "    name+=e[0]+e[1]+\"_\"\n",
    "\n",
    "name+=say\n",
    "\n",
    "print(name)\n",
    "\n",
    "output_fileName=output_folder+name+\".nii.gz\"\n",
    "print(output_fileName)"
   ]
  },
  {
   "cell_type": "code",
   "execution_count": 7,
   "metadata": {},
   "outputs": [
    {
     "name": "stdout",
     "output_type": "stream",
     "text": [
      "D:\\dataset\\Dataset_KSBU\\EGFR-\\Ayse_Cetindag\\Bt_Akci - 13930\\CT_Chest1_Cor_3_Avg_601\n"
     ]
    },
    {
     "ename": "ConversionError",
     "evalue": "GDCMCONV_NOT_FOUND",
     "output_type": "error",
     "traceback": [
      "\u001b[1;31m---------------------------------------------------------------------------\u001b[0m",
      "\u001b[1;31mConversionError\u001b[0m                           Traceback (most recent call last)",
      "\u001b[1;32m<ipython-input-7-dd721c622ce8>\u001b[0m in \u001b[0;36m<module>\u001b[1;34m\u001b[0m\n\u001b[0;32m      6\u001b[0m \u001b[0mprint\u001b[0m\u001b[1;33m(\u001b[0m\u001b[0mDCM_Folder\u001b[0m\u001b[1;33m)\u001b[0m\u001b[1;33m\u001b[0m\u001b[1;33m\u001b[0m\u001b[0m\n\u001b[0;32m      7\u001b[0m \u001b[1;33m\u001b[0m\u001b[0m\n\u001b[1;32m----> 8\u001b[1;33m \u001b[0mdicom2nifti\u001b[0m\u001b[1;33m.\u001b[0m\u001b[0mdicom_series_to_nifti\u001b[0m\u001b[1;33m(\u001b[0m\u001b[0mDCM_Folder\u001b[0m\u001b[1;33m,\u001b[0m \u001b[0moutput_fileName\u001b[0m\u001b[1;33m,\u001b[0m \u001b[0mreorient_nifti\u001b[0m\u001b[1;33m=\u001b[0m\u001b[1;32mTrue\u001b[0m\u001b[1;33m)\u001b[0m\u001b[1;33m\u001b[0m\u001b[1;33m\u001b[0m\u001b[0m\n\u001b[0m",
      "\u001b[1;32m~\\miniconda3\\envs\\tensorflow\\lib\\site-packages\\dicom2nifti\\convert_dicom.py\u001b[0m in \u001b[0;36mdicom_series_to_nifti\u001b[1;34m(original_dicom_directory, output_file, reorient_nifti)\u001b[0m\n\u001b[0;32m     74\u001b[0m         \u001b[0mshutil\u001b[0m\u001b[1;33m.\u001b[0m\u001b[0mcopytree\u001b[0m\u001b[1;33m(\u001b[0m\u001b[0moriginal_dicom_directory\u001b[0m\u001b[1;33m,\u001b[0m \u001b[0mdicom_directory\u001b[0m\u001b[1;33m)\u001b[0m\u001b[1;33m\u001b[0m\u001b[1;33m\u001b[0m\u001b[0m\n\u001b[0;32m     75\u001b[0m \u001b[1;33m\u001b[0m\u001b[0m\n\u001b[1;32m---> 76\u001b[1;33m         \u001b[0mdicom_input\u001b[0m \u001b[1;33m=\u001b[0m \u001b[0mcommon\u001b[0m\u001b[1;33m.\u001b[0m\u001b[0mread_dicom_directory\u001b[0m\u001b[1;33m(\u001b[0m\u001b[0mdicom_directory\u001b[0m\u001b[1;33m)\u001b[0m\u001b[1;33m\u001b[0m\u001b[1;33m\u001b[0m\u001b[0m\n\u001b[0m\u001b[0;32m     77\u001b[0m \u001b[1;33m\u001b[0m\u001b[0m\n\u001b[0;32m     78\u001b[0m         \u001b[1;32mreturn\u001b[0m \u001b[0mdicom_array_to_nifti\u001b[0m\u001b[1;33m(\u001b[0m\u001b[0mdicom_input\u001b[0m\u001b[1;33m,\u001b[0m \u001b[0moutput_file\u001b[0m\u001b[1;33m,\u001b[0m \u001b[0mreorient_nifti\u001b[0m\u001b[1;33m)\u001b[0m\u001b[1;33m\u001b[0m\u001b[1;33m\u001b[0m\u001b[0m\n",
      "\u001b[1;32m~\\miniconda3\\envs\\tensorflow\\lib\\site-packages\\dicom2nifti\\common.py\u001b[0m in \u001b[0;36mread_dicom_directory\u001b[1;34m(dicom_directory, stop_before_pixels)\u001b[0m\n\u001b[0;32m     41\u001b[0m                                                            \u001b[0mdefer_size\u001b[0m\u001b[1;33m=\u001b[0m\u001b[1;34m\"1 KB\"\u001b[0m\u001b[1;33m,\u001b[0m\u001b[1;33m\u001b[0m\u001b[1;33m\u001b[0m\u001b[0m\n\u001b[0;32m     42\u001b[0m                                                            \u001b[0mstop_before_pixels\u001b[0m\u001b[1;33m=\u001b[0m\u001b[0mstop_before_pixels\u001b[0m\u001b[1;33m,\u001b[0m\u001b[1;33m\u001b[0m\u001b[1;33m\u001b[0m\u001b[0m\n\u001b[1;32m---> 43\u001b[1;33m                                                            force=dicom2nifti.settings.pydicom_read_force)\n\u001b[0m\u001b[0;32m     44\u001b[0m                 \u001b[1;32mif\u001b[0m \u001b[0mis_valid_imaging_dicom\u001b[0m\u001b[1;33m(\u001b[0m\u001b[0mdicom_headers\u001b[0m\u001b[1;33m)\u001b[0m\u001b[1;33m:\u001b[0m\u001b[1;33m\u001b[0m\u001b[1;33m\u001b[0m\u001b[0m\n\u001b[0;32m     45\u001b[0m                     \u001b[0mdicom_input\u001b[0m\u001b[1;33m.\u001b[0m\u001b[0mappend\u001b[0m\u001b[1;33m(\u001b[0m\u001b[0mdicom_headers\u001b[0m\u001b[1;33m)\u001b[0m\u001b[1;33m\u001b[0m\u001b[1;33m\u001b[0m\u001b[0m\n",
      "\u001b[1;32m~\\miniconda3\\envs\\tensorflow\\lib\\site-packages\\dicom2nifti\\compressed_dicom.py\u001b[0m in \u001b[0;36mread_file\u001b[1;34m(dicom_file, defer_size, stop_before_pixels, force)\u001b[0m\n\u001b[0;32m     18\u001b[0m             \u001b[1;32mwith\u001b[0m \u001b[0mtempfile\u001b[0m\u001b[1;33m.\u001b[0m\u001b[0mNamedTemporaryFile\u001b[0m\u001b[1;33m(\u001b[0m\u001b[0mdelete\u001b[0m\u001b[1;33m=\u001b[0m\u001b[1;32mFalse\u001b[0m\u001b[1;33m)\u001b[0m \u001b[1;32mas\u001b[0m \u001b[0mfp\u001b[0m\u001b[1;33m:\u001b[0m\u001b[1;33m\u001b[0m\u001b[1;33m\u001b[0m\u001b[0m\n\u001b[0;32m     19\u001b[0m                 \u001b[0mfp\u001b[0m\u001b[1;33m.\u001b[0m\u001b[0mclose\u001b[0m\u001b[1;33m(\u001b[0m\u001b[1;33m)\u001b[0m\u001b[1;33m\u001b[0m\u001b[1;33m\u001b[0m\u001b[0m\n\u001b[1;32m---> 20\u001b[1;33m                 \u001b[0m_decompress_dicom\u001b[0m\u001b[1;33m(\u001b[0m\u001b[0mdicom_file\u001b[0m\u001b[1;33m,\u001b[0m \u001b[0moutput_file\u001b[0m\u001b[1;33m=\u001b[0m\u001b[0mfp\u001b[0m\u001b[1;33m.\u001b[0m\u001b[0mname\u001b[0m\u001b[1;33m)\u001b[0m\u001b[1;33m\u001b[0m\u001b[1;33m\u001b[0m\u001b[0m\n\u001b[0m\u001b[0;32m     21\u001b[0m \u001b[1;33m\u001b[0m\u001b[0m\n\u001b[0;32m     22\u001b[0m             return pydicom.read_file(fp.name,\n",
      "\u001b[1;32m~\\miniconda3\\envs\\tensorflow\\lib\\site-packages\\dicom2nifti\\compressed_dicom.py\u001b[0m in \u001b[0;36m_decompress_dicom\u001b[1;34m(dicom_file, output_file)\u001b[0m\n\u001b[0;32m    129\u001b[0m     \u001b[1;33m:\u001b[0m\u001b[0mparam\u001b[0m \u001b[0minput_file\u001b[0m\u001b[1;33m:\u001b[0m \u001b[0msingle\u001b[0m \u001b[0mdicom\u001b[0m \u001b[0mfile\u001b[0m \u001b[0mto\u001b[0m \u001b[0mdecompress\u001b[0m\u001b[1;33m\u001b[0m\u001b[1;33m\u001b[0m\u001b[0m\n\u001b[0;32m    130\u001b[0m     \"\"\"\n\u001b[1;32m--> 131\u001b[1;33m     \u001b[0mgdcmconv_executable\u001b[0m \u001b[1;33m=\u001b[0m \u001b[0m_get_gdcmconv\u001b[0m\u001b[1;33m(\u001b[0m\u001b[1;33m)\u001b[0m\u001b[1;33m\u001b[0m\u001b[1;33m\u001b[0m\u001b[0m\n\u001b[0m\u001b[0;32m    132\u001b[0m \u001b[1;33m\u001b[0m\u001b[0m\n\u001b[0;32m    133\u001b[0m     \u001b[0msubprocess\u001b[0m\u001b[1;33m.\u001b[0m\u001b[0mcheck_output\u001b[0m\u001b[1;33m(\u001b[0m\u001b[1;33m[\u001b[0m\u001b[0mgdcmconv_executable\u001b[0m\u001b[1;33m,\u001b[0m \u001b[1;34m'-w'\u001b[0m\u001b[1;33m,\u001b[0m \u001b[0mdicom_file\u001b[0m\u001b[1;33m,\u001b[0m \u001b[0moutput_file\u001b[0m\u001b[1;33m]\u001b[0m\u001b[1;33m)\u001b[0m\u001b[1;33m\u001b[0m\u001b[1;33m\u001b[0m\u001b[0m\n",
      "\u001b[1;32m~\\miniconda3\\envs\\tensorflow\\lib\\site-packages\\dicom2nifti\\compressed_dicom.py\u001b[0m in \u001b[0;36m_get_gdcmconv\u001b[1;34m()\u001b[0m\n\u001b[0;32m     57\u001b[0m \u001b[1;33m\u001b[0m\u001b[0m\n\u001b[0;32m     58\u001b[0m     \u001b[1;32mif\u001b[0m \u001b[0mgdcmconv_executable\u001b[0m \u001b[1;32mis\u001b[0m \u001b[1;32mNone\u001b[0m\u001b[1;33m:\u001b[0m\u001b[1;33m\u001b[0m\u001b[1;33m\u001b[0m\u001b[0m\n\u001b[1;32m---> 59\u001b[1;33m         \u001b[1;32mraise\u001b[0m \u001b[0mConversionError\u001b[0m\u001b[1;33m(\u001b[0m\u001b[1;34m'GDCMCONV_NOT_FOUND'\u001b[0m\u001b[1;33m)\u001b[0m\u001b[1;33m\u001b[0m\u001b[1;33m\u001b[0m\u001b[0m\n\u001b[0m\u001b[0;32m     60\u001b[0m \u001b[1;33m\u001b[0m\u001b[0m\n\u001b[0;32m     61\u001b[0m     \u001b[1;32mreturn\u001b[0m \u001b[0mgdcmconv_executable\u001b[0m\u001b[1;33m\u001b[0m\u001b[1;33m\u001b[0m\u001b[0m\n",
      "\u001b[1;31mConversionError\u001b[0m: GDCMCONV_NOT_FOUND"
     ]
    }
   ],
   "source": [
    "\n",
    "DCM_folder=liste[1]\n",
    "for anaDizin, altDizinler, dosyalar in os.walk(DCM_folder):\n",
    "    if(len(dosyalar)>0):\n",
    "        DCM_Folder=anaDizin\n",
    "    \n",
    "print(DCM_Folder)\n",
    "\n",
    "dicom2nifti.dicom_series_to_nifti(DCM_Folder, output_fileName, reorient_nifti=True)\n"
   ]
  },
  {
   "cell_type": "code",
   "execution_count": 29,
   "metadata": {},
   "outputs": [
    {
     "name": "stdout",
     "output_type": "stream",
     "text": [
      "Collecting python-gdcm\n",
      "  Downloading python_gdcm-3.0.20-cp37-cp37m-win_amd64.whl (27.2 MB)\n",
      "Installing collected packages: python-gdcm\n",
      "Successfully installed python-gdcm-3.0.20\n",
      "Collecting python-gdcm\n",
      "  Downloading python_gdcm-3.0.20-cp37-cp37m-win_amd64.whl (27.2 MB)\n",
      "Installing collected packages: python-gdcm\n",
      "Successfully installed python-gdcm-3.0.20\n"
     ]
    }
   ],
   "source": [
    "!pip install -U python-gdcm"
   ]
  },
  {
   "cell_type": "code",
   "execution_count": null,
   "metadata": {},
   "outputs": [],
   "source": []
  }
 ],
 "metadata": {
  "kernelspec": {
   "display_name": "gputest",
   "language": "python",
   "name": "gputest"
  },
  "language_info": {
   "codemirror_mode": {
    "name": "ipython",
    "version": 3
   },
   "file_extension": ".py",
   "mimetype": "text/x-python",
   "name": "python",
   "nbconvert_exporter": "python",
   "pygments_lexer": "ipython3",
   "version": "3.7.9"
  }
 },
 "nbformat": 4,
 "nbformat_minor": 4
}
