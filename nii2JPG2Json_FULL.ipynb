{
 "cells": [
  {
   "cell_type": "markdown",
   "metadata": {},
   "source": [
    "## maskelere göre dolu olan slicelerı kaydeden bir yapı tek klasörlere kaydeden"
   ]
  },
  {
   "cell_type": "code",
   "execution_count": 2,
   "metadata": {},
   "outputs": [
    {
     "name": "stdout",
     "output_type": "stream",
     "text": [
      "D:\\datasets\\ms\\MSAkdeniz_SpinalCord\\_beyinbolgesiSecimler\\\n",
      "D:\\datasets\\ms\\MSAkdeniz_SpinalCord\\MSAkdeniz_SC_MRs\\\n",
      "AB_AK_B1_mask\n"
     ]
    },
    {
     "name": "stderr",
     "output_type": "stream",
     "text": [
      "Lossy conversion from float64 to uint8. Range [0, 1]. Convert image to uint8 prior to saving to suppress this warning.\n",
      "Lossy conversion from float64 to uint8. Range [0.0, 324.0]. Convert image to uint8 prior to saving to suppress this warning.\n",
      "Lossy conversion from float64 to uint8. Range [0, 1]. Convert image to uint8 prior to saving to suppress this warning.\n",
      "Lossy conversion from float64 to uint8. Range [0.0, 298.0]. Convert image to uint8 prior to saving to suppress this warning.\n",
      "Lossy conversion from float64 to uint8. Range [0, 1]. Convert image to uint8 prior to saving to suppress this warning.\n",
      "Lossy conversion from float64 to uint8. Range [0.0, 319.0]. Convert image to uint8 prior to saving to suppress this warning.\n",
      "Lossy conversion from float64 to uint8. Range [0, 1]. Convert image to uint8 prior to saving to suppress this warning.\n",
      "Lossy conversion from float64 to uint8. Range [0.0, 317.0]. Convert image to uint8 prior to saving to suppress this warning.\n",
      "Lossy conversion from float64 to uint8. Range [0, 1]. Convert image to uint8 prior to saving to suppress this warning.\n",
      "Lossy conversion from float64 to uint8. Range [0.0, 312.0]. Convert image to uint8 prior to saving to suppress this warning.\n",
      "Lossy conversion from float64 to uint8. Range [0, 1]. Convert image to uint8 prior to saving to suppress this warning.\n",
      "Lossy conversion from float64 to uint8. Range [0.0, 307.0]. Convert image to uint8 prior to saving to suppress this warning.\n",
      "Lossy conversion from float64 to uint8. Range [0, 1]. Convert image to uint8 prior to saving to suppress this warning.\n"
     ]
    },
    {
     "name": "stdout",
     "output_type": "stream",
     "text": [
      "True\n",
      "D:\\datasets\\ms\\MSAkdeniz_SpinalCord\\MSAkdeniz_SC_Masks\\\\AB_AK_GTmask_0090.jpg  saved\n",
      "D:\\datasets\\ms\\MSAkdeniz_SpinalCord\\MSAkdeniz_SC_MRs\\\\AB_AK_slice_0090.jpg  saved\n",
      "D:\\datasets\\ms\\MSAkdeniz_SpinalCord\\MSAkdeniz_SC_Masks\\\\AB_AK_GTmask_0091.jpg  saved\n",
      "D:\\datasets\\ms\\MSAkdeniz_SpinalCord\\MSAkdeniz_SC_MRs\\\\AB_AK_slice_0091.jpg  saved\n",
      "D:\\datasets\\ms\\MSAkdeniz_SpinalCord\\MSAkdeniz_SC_Masks\\\\AB_AK_GTmask_0092.jpg  saved\n",
      "D:\\datasets\\ms\\MSAkdeniz_SpinalCord\\MSAkdeniz_SC_MRs\\\\AB_AK_slice_0092.jpg  saved\n",
      "D:\\datasets\\ms\\MSAkdeniz_SpinalCord\\MSAkdeniz_SC_Masks\\\\AB_AK_GTmask_0093.jpg  saved\n",
      "D:\\datasets\\ms\\MSAkdeniz_SpinalCord\\MSAkdeniz_SC_MRs\\\\AB_AK_slice_0093.jpg  saved\n",
      "D:\\datasets\\ms\\MSAkdeniz_SpinalCord\\MSAkdeniz_SC_Masks\\\\AB_AK_GTmask_0094.jpg  saved\n",
      "D:\\datasets\\ms\\MSAkdeniz_SpinalCord\\MSAkdeniz_SC_MRs\\\\AB_AK_slice_0094.jpg  saved\n",
      "D:\\datasets\\ms\\MSAkdeniz_SpinalCord\\MSAkdeniz_SC_Masks\\\\AB_AK_GTmask_0095.jpg  saved\n",
      "D:\\datasets\\ms\\MSAkdeniz_SpinalCord\\MSAkdeniz_SC_MRs\\\\AB_AK_slice_0095.jpg  saved\n",
      "D:\\datasets\\ms\\MSAkdeniz_SpinalCord\\MSAkdeniz_SC_Masks\\\\AB_AK_GTmask_0096.jpg"
     ]
    },
    {
     "name": "stderr",
     "output_type": "stream",
     "text": [
      "Lossy conversion from float64 to uint8. Range [0.0, 294.0]. Convert image to uint8 prior to saving to suppress this warning.\n",
      "Lossy conversion from float64 to uint8. Range [0, 1]. Convert image to uint8 prior to saving to suppress this warning.\n",
      "Lossy conversion from float64 to uint8. Range [0.0, 275.0]. Convert image to uint8 prior to saving to suppress this warning.\n",
      "Lossy conversion from float64 to uint8. Range [0, 1]. Convert image to uint8 prior to saving to suppress this warning.\n",
      "Lossy conversion from float64 to uint8. Range [0.0, 245.0]. Convert image to uint8 prior to saving to suppress this warning.\n",
      "Lossy conversion from float64 to uint8. Range [0, 1]. Convert image to uint8 prior to saving to suppress this warning.\n",
      "Lossy conversion from float64 to uint8. Range [0.0, 255.0]. Convert image to uint8 prior to saving to suppress this warning.\n"
     ]
    },
    {
     "name": "stdout",
     "output_type": "stream",
     "text": [
      "  saved\n",
      "D:\\datasets\\ms\\MSAkdeniz_SpinalCord\\MSAkdeniz_SC_MRs\\\\AB_AK_slice_0096.jpg  saved\n",
      "D:\\datasets\\ms\\MSAkdeniz_SpinalCord\\MSAkdeniz_SC_Masks\\\\AB_AK_GTmask_0097.jpg  saved\n",
      "D:\\datasets\\ms\\MSAkdeniz_SpinalCord\\MSAkdeniz_SC_MRs\\\\AB_AK_slice_0097.jpg  saved\n",
      "D:\\datasets\\ms\\MSAkdeniz_SpinalCord\\MSAkdeniz_SC_Masks\\\\AB_AK_GTmask_0098.jpg  saved\n",
      "D:\\datasets\\ms\\MSAkdeniz_SpinalCord\\MSAkdeniz_SC_MRs\\\\AB_AK_slice_0098.jpg  saved\n",
      "D:\\datasets\\ms\\MSAkdeniz_SpinalCord\\MSAkdeniz_SC_Masks\\\\AB_AK_GTmask_0099.jpg  saved\n",
      "D:\\datasets\\ms\\MSAkdeniz_SpinalCord\\MSAkdeniz_SC_MRs\\\\AB_AK_slice_0099.jpg  saved\n",
      "AB_AK_B2_mask\n"
     ]
    },
    {
     "name": "stderr",
     "output_type": "stream",
     "text": [
      "Lossy conversion from float64 to uint8. Range [0, 1]. Convert image to uint8 prior to saving to suppress this warning.\n",
      "Lossy conversion from float64 to uint8. Range [0.0, 298.0]. Convert image to uint8 prior to saving to suppress this warning.\n",
      "Lossy conversion from float64 to uint8. Range [0, 1]. Convert image to uint8 prior to saving to suppress this warning.\n",
      "Lossy conversion from float64 to uint8. Range [0.0, 328.0]. Convert image to uint8 prior to saving to suppress this warning.\n",
      "Lossy conversion from float64 to uint8. Range [0, 1]. Convert image to uint8 prior to saving to suppress this warning.\n",
      "Lossy conversion from float64 to uint8. Range [0.0, 308.0]. Convert image to uint8 prior to saving to suppress this warning.\n",
      "Lossy conversion from float64 to uint8. Range [0, 1]. Convert image to uint8 prior to saving to suppress this warning.\n",
      "Lossy conversion from float64 to uint8. Range [0.0, 333.0]. Convert image to uint8 prior to saving to suppress this warning.\n",
      "Lossy conversion from float64 to uint8. Range [0, 1]. Convert image to uint8 prior to saving to suppress this warning.\n",
      "Lossy conversion from float64 to uint8. Range [0.0, 351.0]. Convert image to uint8 prior to saving to suppress this warning.\n"
     ]
    },
    {
     "name": "stdout",
     "output_type": "stream",
     "text": [
      "True\n",
      "D:\\datasets\\ms\\MSAkdeniz_SpinalCord\\MSAkdeniz_SC_Masks\\\\AB_AK_GTmask_0092.jpg  saved\n",
      "D:\\datasets\\ms\\MSAkdeniz_SpinalCord\\MSAkdeniz_SC_MRs\\\\AB_AK_slice_0092.jpg  saved\n",
      "D:\\datasets\\ms\\MSAkdeniz_SpinalCord\\MSAkdeniz_SC_Masks\\\\AB_AK_GTmask_0093.jpg  saved\n",
      "D:\\datasets\\ms\\MSAkdeniz_SpinalCord\\MSAkdeniz_SC_MRs\\\\AB_AK_slice_0093.jpg  saved\n",
      "D:\\datasets\\ms\\MSAkdeniz_SpinalCord\\MSAkdeniz_SC_Masks\\\\AB_AK_GTmask_0094.jpg  saved\n",
      "D:\\datasets\\ms\\MSAkdeniz_SpinalCord\\MSAkdeniz_SC_MRs\\\\AB_AK_slice_0094.jpg  saved\n",
      "D:\\datasets\\ms\\MSAkdeniz_SpinalCord\\MSAkdeniz_SC_Masks\\\\AB_AK_GTmask_0095.jpg  saved\n",
      "D:\\datasets\\ms\\MSAkdeniz_SpinalCord\\MSAkdeniz_SC_MRs\\\\AB_AK_slice_0095.jpg  saved\n",
      "D:\\datasets\\ms\\MSAkdeniz_SpinalCord\\MSAkdeniz_SC_Masks\\\\AB_AK_GTmask_0096.jpg  saved\n"
     ]
    },
    {
     "name": "stderr",
     "output_type": "stream",
     "text": [
      "Lossy conversion from float64 to uint8. Range [0, 1]. Convert image to uint8 prior to saving to suppress this warning.\n",
      "Lossy conversion from float64 to uint8. Range [0.0, 348.0]. Convert image to uint8 prior to saving to suppress this warning.\n",
      "Lossy conversion from float64 to uint8. Range [0, 1]. Convert image to uint8 prior to saving to suppress this warning.\n",
      "Lossy conversion from float64 to uint8. Range [0.0, 356.0]. Convert image to uint8 prior to saving to suppress this warning.\n",
      "Lossy conversion from float64 to uint8. Range [0, 1]. Convert image to uint8 prior to saving to suppress this warning.\n",
      "Lossy conversion from float64 to uint8. Range [0.0, 336.0]. Convert image to uint8 prior to saving to suppress this warning.\n",
      "Lossy conversion from float64 to uint8. Range [0, 1]. Convert image to uint8 prior to saving to suppress this warning.\n",
      "Lossy conversion from float64 to uint8. Range [0.0, 325.0]. Convert image to uint8 prior to saving to suppress this warning.\n",
      "Lossy conversion from float64 to uint8. Range [0, 1]. Convert image to uint8 prior to saving to suppress this warning.\n",
      "Lossy conversion from float64 to uint8. Range [0.0, 335.0]. Convert image to uint8 prior to saving to suppress this warning.\n",
      "Lossy conversion from float64 to uint8. Range [0, 1]. Convert image to uint8 prior to saving to suppress this warning.\n",
      "Lossy conversion from float64 to uint8. Range [0.0, 274.0]. Convert image to uint8 prior to saving to suppress this warning.\n"
     ]
    },
    {
     "name": "stdout",
     "output_type": "stream",
     "text": [
      "D:\\datasets\\ms\\MSAkdeniz_SpinalCord\\MSAkdeniz_SC_MRs\\\\AB_AK_slice_0096.jpg  saved\n",
      "D:\\datasets\\ms\\MSAkdeniz_SpinalCord\\MSAkdeniz_SC_Masks\\\\AB_AK_GTmask_0097.jpg  saved\n",
      "D:\\datasets\\ms\\MSAkdeniz_SpinalCord\\MSAkdeniz_SC_MRs\\\\AB_AK_slice_0097.jpg  saved\n",
      "D:\\datasets\\ms\\MSAkdeniz_SpinalCord\\MSAkdeniz_SC_Masks\\\\AB_AK_GTmask_0098.jpg  saved\n",
      "D:\\datasets\\ms\\MSAkdeniz_SpinalCord\\MSAkdeniz_SC_MRs\\\\AB_AK_slice_0098.jpg  saved\n",
      "D:\\datasets\\ms\\MSAkdeniz_SpinalCord\\MSAkdeniz_SC_Masks\\\\AB_AK_GTmask_0099.jpg  saved\n",
      "D:\\datasets\\ms\\MSAkdeniz_SpinalCord\\MSAkdeniz_SC_MRs\\\\AB_AK_slice_0099.jpg  saved\n",
      "D:\\datasets\\ms\\MSAkdeniz_SpinalCord\\MSAkdeniz_SC_Masks\\\\AB_AK_GTmask_0100.jpg  saved\n",
      "D:\\datasets\\ms\\MSAkdeniz_SpinalCord\\MSAkdeniz_SC_MRs\\\\AB_AK_slice_0100.jpg  saved\n",
      "D:\\datasets\\ms\\MSAkdeniz_SpinalCord\\MSAkdeniz_SC_Masks\\\\AB_AK_GTmask_0101.jpg  saved\n",
      "D:\\datasets\\ms\\MSAkdeniz_SpinalCord\\MSAkdeniz_SC_MRs\\\\AB_AK_slice_0101.jpg  saved\n",
      "D:\\datasets\\ms\\MSAkdeniz_SpinalCord\\MSAkdeniz_SC_Masks\\\\AB_AK_GTmask_0102.jpg  saved\n",
      "D:\\datasets\\ms\\MSAkdeniz_SpinalCord\\MSAkdeniz_SC_MRs\\\\AB_AK_slice_0102.jpg"
     ]
    },
    {
     "name": "stderr",
     "output_type": "stream",
     "text": [
      "Lossy conversion from float64 to uint8. Range [0, 1]. Convert image to uint8 prior to saving to suppress this warning.\n",
      "Lossy conversion from float64 to uint8. Range [0.0, 269.0]. Convert image to uint8 prior to saving to suppress this warning.\n",
      "Lossy conversion from float64 to uint8. Range [0, 1]. Convert image to uint8 prior to saving to suppress this warning.\n",
      "Lossy conversion from float64 to uint8. Range [0.0, 283.0]. Convert image to uint8 prior to saving to suppress this warning.\n"
     ]
    },
    {
     "name": "stdout",
     "output_type": "stream",
     "text": [
      "  saved\n",
      "D:\\datasets\\ms\\MSAkdeniz_SpinalCord\\MSAkdeniz_SC_Masks\\\\AB_AK_GTmask_0103.jpg  saved\n",
      "D:\\datasets\\ms\\MSAkdeniz_SpinalCord\\MSAkdeniz_SC_MRs\\\\AB_AK_slice_0103.jpg  saved\n",
      "D:\\datasets\\ms\\MSAkdeniz_SpinalCord\\MSAkdeniz_SC_Masks\\\\AB_AK_GTmask_0104.jpg  saved\n",
      "D:\\datasets\\ms\\MSAkdeniz_SpinalCord\\MSAkdeniz_SC_MRs\\\\AB_AK_slice_0104.jpg  saved\n",
      "AD_EG_B1_mask\n"
     ]
    },
    {
     "name": "stderr",
     "output_type": "stream",
     "text": [
      "Lossy conversion from float64 to uint8. Range [0, 1]. Convert image to uint8 prior to saving to suppress this warning.\n",
      "Lossy conversion from float64 to uint8. Range [0.0, 331.0]. Convert image to uint8 prior to saving to suppress this warning.\n",
      "Lossy conversion from float64 to uint8. Range [0, 1]. Convert image to uint8 prior to saving to suppress this warning.\n",
      "Lossy conversion from float64 to uint8. Range [0.0, 325.0]. Convert image to uint8 prior to saving to suppress this warning.\n"
     ]
    },
    {
     "name": "stdout",
     "output_type": "stream",
     "text": [
      "True\n",
      "D:\\datasets\\ms\\MSAkdeniz_SpinalCord\\MSAkdeniz_SC_Masks\\\\AD_EG_GTmask_0088.jpg  saved\n",
      "D:\\datasets\\ms\\MSAkdeniz_SpinalCord\\MSAkdeniz_SC_MRs\\\\AD_EG_slice_0088.jpg  saved\n",
      "D:\\datasets\\ms\\MSAkdeniz_SpinalCord\\MSAkdeniz_SC_Masks\\\\AD_EG_GTmask_0089.jpg  saved\n",
      "D:\\datasets\\ms\\MSAkdeniz_SpinalCord\\MSAkdeniz_SC_MRs\\\\AD_EG_slice_0089.jpg"
     ]
    },
    {
     "name": "stderr",
     "output_type": "stream",
     "text": [
      "Lossy conversion from float64 to uint8. Range [0, 1]. Convert image to uint8 prior to saving to suppress this warning.\n",
      "Lossy conversion from float64 to uint8. Range [0.0, 326.0]. Convert image to uint8 prior to saving to suppress this warning.\n",
      "Lossy conversion from float64 to uint8. Range [0, 1]. Convert image to uint8 prior to saving to suppress this warning.\n",
      "Lossy conversion from float64 to uint8. Range [0.0, 300.0]. Convert image to uint8 prior to saving to suppress this warning.\n",
      "Lossy conversion from float64 to uint8. Range [0, 1]. Convert image to uint8 prior to saving to suppress this warning.\n",
      "Lossy conversion from float64 to uint8. Range [0.0, 319.0]. Convert image to uint8 prior to saving to suppress this warning.\n",
      "Lossy conversion from float64 to uint8. Range [0, 1]. Convert image to uint8 prior to saving to suppress this warning.\n",
      "Lossy conversion from float64 to uint8. Range [0.0, 313.0]. Convert image to uint8 prior to saving to suppress this warning.\n",
      "Lossy conversion from float64 to uint8. Range [0, 1]. Convert image to uint8 prior to saving to suppress this warning.\n",
      "Lossy conversion from float64 to uint8. Range [0.0, 324.0]. Convert image to uint8 prior to saving to suppress this warning.\n",
      "Lossy conversion from float64 to uint8. Range [0, 1]. Convert image to uint8 prior to saving to suppress this warning.\n",
      "Lossy conversion from float64 to uint8. Range [0.0, 339.0]. Convert image to uint8 prior to saving to suppress this warning.\n"
     ]
    },
    {
     "name": "stdout",
     "output_type": "stream",
     "text": [
      "  saved\n",
      "D:\\datasets\\ms\\MSAkdeniz_SpinalCord\\MSAkdeniz_SC_Masks\\\\AD_EG_GTmask_0090.jpg  saved\n",
      "D:\\datasets\\ms\\MSAkdeniz_SpinalCord\\MSAkdeniz_SC_MRs\\\\AD_EG_slice_0090.jpg  saved\n",
      "D:\\datasets\\ms\\MSAkdeniz_SpinalCord\\MSAkdeniz_SC_Masks\\\\AD_EG_GTmask_0091.jpg  saved\n",
      "D:\\datasets\\ms\\MSAkdeniz_SpinalCord\\MSAkdeniz_SC_MRs\\\\AD_EG_slice_0091.jpg  saved\n",
      "D:\\datasets\\ms\\MSAkdeniz_SpinalCord\\MSAkdeniz_SC_Masks\\\\AD_EG_GTmask_0092.jpg  saved\n",
      "D:\\datasets\\ms\\MSAkdeniz_SpinalCord\\MSAkdeniz_SC_MRs\\\\AD_EG_slice_0092.jpg  saved\n",
      "D:\\datasets\\ms\\MSAkdeniz_SpinalCord\\MSAkdeniz_SC_Masks\\\\AD_EG_GTmask_0093.jpg  saved\n",
      "D:\\datasets\\ms\\MSAkdeniz_SpinalCord\\MSAkdeniz_SC_MRs\\\\AD_EG_slice_0093.jpg  saved\n",
      "D:\\datasets\\ms\\MSAkdeniz_SpinalCord\\MSAkdeniz_SC_Masks\\\\AD_EG_GTmask_0094.jpg  saved\n",
      "D:\\datasets\\ms\\MSAkdeniz_SpinalCord\\MSAkdeniz_SC_MRs\\\\AD_EG_slice_0094.jpg  saved\n",
      "D:\\datasets\\ms\\MSAkdeniz_SpinalCord\\MSAkdeniz_SC_Masks\\\\AD_EG_GTmask_0095.jpg  saved\n",
      "D:\\datasets\\ms\\MSAkdeniz_SpinalCord\\MSAkdeniz_SC_MRs\\\\AD_EG_slice_0095.jpg"
     ]
    },
    {
     "name": "stderr",
     "output_type": "stream",
     "text": [
      "Lossy conversion from float64 to uint8. Range [0, 1]. Convert image to uint8 prior to saving to suppress this warning.\n",
      "Lossy conversion from float64 to uint8. Range [0.0, 321.0]. Convert image to uint8 prior to saving to suppress this warning.\n",
      "Lossy conversion from float64 to uint8. Range [0, 1]. Convert image to uint8 prior to saving to suppress this warning.\n",
      "Lossy conversion from float64 to uint8. Range [0.0, 292.0]. Convert image to uint8 prior to saving to suppress this warning.\n"
     ]
    },
    {
     "name": "stdout",
     "output_type": "stream",
     "text": [
      "  saved\n",
      "D:\\datasets\\ms\\MSAkdeniz_SpinalCord\\MSAkdeniz_SC_Masks\\\\AD_EG_GTmask_0096.jpg  saved\n",
      "D:\\datasets\\ms\\MSAkdeniz_SpinalCord\\MSAkdeniz_SC_MRs\\\\AD_EG_slice_0096.jpg  saved\n",
      "D:\\datasets\\ms\\MSAkdeniz_SpinalCord\\MSAkdeniz_SC_Masks\\\\AD_EG_GTmask_0097.jpg  saved\n",
      "D:\\datasets\\ms\\MSAkdeniz_SpinalCord\\MSAkdeniz_SC_MRs\\\\AD_EG_slice_0097.jpg  saved\n",
      "AD_EG_B2_mask\n"
     ]
    },
    {
     "name": "stderr",
     "output_type": "stream",
     "text": [
      "Lossy conversion from float64 to uint8. Range [0, 1]. Convert image to uint8 prior to saving to suppress this warning.\n",
      "Lossy conversion from float64 to uint8. Range [0.0, 306.0]. Convert image to uint8 prior to saving to suppress this warning.\n",
      "Lossy conversion from float64 to uint8. Range [0, 1]. Convert image to uint8 prior to saving to suppress this warning.\n",
      "Lossy conversion from float64 to uint8. Range [0.0, 305.0]. Convert image to uint8 prior to saving to suppress this warning.\n"
     ]
    },
    {
     "name": "stdout",
     "output_type": "stream",
     "text": [
      "True\n",
      "D:\\datasets\\ms\\MSAkdeniz_SpinalCord\\MSAkdeniz_SC_Masks\\\\AD_EG_GTmask_0094.jpg  saved\n",
      "D:\\datasets\\ms\\MSAkdeniz_SpinalCord\\MSAkdeniz_SC_MRs\\\\AD_EG_slice_0094.jpg  saved\n",
      "D:\\datasets\\ms\\MSAkdeniz_SpinalCord\\MSAkdeniz_SC_Masks\\\\AD_EG_GTmask_0095.jpg  saved\n",
      "D:\\datasets\\ms\\MSAkdeniz_SpinalCord\\MSAkdeniz_SC_MRs\\\\AD_EG_slice_0095.jpg"
     ]
    },
    {
     "name": "stderr",
     "output_type": "stream",
     "text": [
      "Lossy conversion from float64 to uint8. Range [0, 1]. Convert image to uint8 prior to saving to suppress this warning.\n",
      "Lossy conversion from float64 to uint8. Range [0.0, 306.0]. Convert image to uint8 prior to saving to suppress this warning.\n",
      "Lossy conversion from float64 to uint8. Range [0, 1]. Convert image to uint8 prior to saving to suppress this warning.\n",
      "Lossy conversion from float64 to uint8. Range [0.0, 308.0]. Convert image to uint8 prior to saving to suppress this warning.\n",
      "Lossy conversion from float64 to uint8. Range [0, 1]. Convert image to uint8 prior to saving to suppress this warning.\n",
      "Lossy conversion from float64 to uint8. Range [0.0, 301.0]. Convert image to uint8 prior to saving to suppress this warning.\n",
      "Lossy conversion from float64 to uint8. Range [0, 1]. Convert image to uint8 prior to saving to suppress this warning.\n",
      "Lossy conversion from float64 to uint8. Range [0.0, 298.0]. Convert image to uint8 prior to saving to suppress this warning.\n",
      "Lossy conversion from float64 to uint8. Range [0, 1]. Convert image to uint8 prior to saving to suppress this warning.\n",
      "Lossy conversion from float64 to uint8. Range [0.0, 298.0]. Convert image to uint8 prior to saving to suppress this warning.\n",
      "Lossy conversion from float64 to uint8. Range [0, 1]. Convert image to uint8 prior to saving to suppress this warning.\n",
      "Lossy conversion from float64 to uint8. Range [0.0, 321.0]. Convert image to uint8 prior to saving to suppress this warning.\n",
      "Lossy conversion from float64 to uint8. Range [0, 1]. Convert image to uint8 prior to saving to suppress this warning.\n"
     ]
    },
    {
     "name": "stdout",
     "output_type": "stream",
     "text": [
      "  saved\n",
      "D:\\datasets\\ms\\MSAkdeniz_SpinalCord\\MSAkdeniz_SC_Masks\\\\AD_EG_GTmask_0096.jpg  saved\n",
      "D:\\datasets\\ms\\MSAkdeniz_SpinalCord\\MSAkdeniz_SC_MRs\\\\AD_EG_slice_0096.jpg  saved\n",
      "D:\\datasets\\ms\\MSAkdeniz_SpinalCord\\MSAkdeniz_SC_Masks\\\\AD_EG_GTmask_0097.jpg  saved\n",
      "D:\\datasets\\ms\\MSAkdeniz_SpinalCord\\MSAkdeniz_SC_MRs\\\\AD_EG_slice_0097.jpg  saved\n",
      "D:\\datasets\\ms\\MSAkdeniz_SpinalCord\\MSAkdeniz_SC_Masks\\\\AD_EG_GTmask_0098.jpg  saved\n",
      "D:\\datasets\\ms\\MSAkdeniz_SpinalCord\\MSAkdeniz_SC_MRs\\\\AD_EG_slice_0098.jpg  saved\n",
      "D:\\datasets\\ms\\MSAkdeniz_SpinalCord\\MSAkdeniz_SC_Masks\\\\AD_EG_GTmask_0099.jpg  saved\n",
      "D:\\datasets\\ms\\MSAkdeniz_SpinalCord\\MSAkdeniz_SC_MRs\\\\AD_EG_slice_0099.jpg  saved\n",
      "D:\\datasets\\ms\\MSAkdeniz_SpinalCord\\MSAkdeniz_SC_Masks\\\\AD_EG_GTmask_0100.jpg  saved\n",
      "D:\\datasets\\ms\\MSAkdeniz_SpinalCord\\MSAkdeniz_SC_MRs\\\\AD_EG_slice_0100.jpg  saved\n",
      "D:\\datasets\\ms\\MSAkdeniz_SpinalCord\\MSAkdeniz_SC_Masks\\\\AD_EG_GTmask_0101.jpg  saved\n",
      "D:\\datasets\\ms\\MSAkdeniz_SpinalCord\\MSAkdeniz_SC_MRs\\\\AD_EG_slice_0101.jpg  saved\n",
      "D:\\datasets\\ms\\MSAkdeniz_SpinalCord\\MSAkdeniz_SC_Masks\\\\AD_EG_GTmask_0102.jpg"
     ]
    },
    {
     "name": "stderr",
     "output_type": "stream",
     "text": [
      "Lossy conversion from float64 to uint8. Range [0.0, 314.0]. Convert image to uint8 prior to saving to suppress this warning.\n"
     ]
    },
    {
     "name": "stdout",
     "output_type": "stream",
     "text": [
      "  saved\n",
      "D:\\datasets\\ms\\MSAkdeniz_SpinalCord\\MSAkdeniz_SC_MRs\\\\AD_EG_slice_0102.jpg  saved\n",
      "AY_OS_B1_mask\n"
     ]
    },
    {
     "name": "stderr",
     "output_type": "stream",
     "text": [
      "Lossy conversion from float64 to uint8. Range [0, 1]. Convert image to uint8 prior to saving to suppress this warning.\n",
      "Lossy conversion from float64 to uint8. Range [0.0, 286.0]. Convert image to uint8 prior to saving to suppress this warning.\n",
      "Lossy conversion from float64 to uint8. Range [0, 1]. Convert image to uint8 prior to saving to suppress this warning.\n",
      "Lossy conversion from float64 to uint8. Range [0.0, 252.0]. Convert image to uint8 prior to saving to suppress this warning.\n",
      "Lossy conversion from float64 to uint8. Range [0, 1]. Convert image to uint8 prior to saving to suppress this warning.\n",
      "Lossy conversion from float64 to uint8. Range [0.0, 272.0]. Convert image to uint8 prior to saving to suppress this warning.\n",
      "Lossy conversion from float64 to uint8. Range [0, 1]. Convert image to uint8 prior to saving to suppress this warning.\n"
     ]
    },
    {
     "name": "stdout",
     "output_type": "stream",
     "text": [
      "True\n",
      "D:\\datasets\\ms\\MSAkdeniz_SpinalCord\\MSAkdeniz_SC_Masks\\\\AY_OS_GTmask_0091.jpg  saved\n",
      "D:\\datasets\\ms\\MSAkdeniz_SpinalCord\\MSAkdeniz_SC_MRs\\\\AY_OS_slice_0091.jpg  saved\n",
      "D:\\datasets\\ms\\MSAkdeniz_SpinalCord\\MSAkdeniz_SC_Masks\\\\AY_OS_GTmask_0092.jpg  saved\n",
      "D:\\datasets\\ms\\MSAkdeniz_SpinalCord\\MSAkdeniz_SC_MRs\\\\AY_OS_slice_0092.jpg  saved\n",
      "D:\\datasets\\ms\\MSAkdeniz_SpinalCord\\MSAkdeniz_SC_Masks\\\\AY_OS_GTmask_0093.jpg  saved\n",
      "D:\\datasets\\ms\\MSAkdeniz_SpinalCord\\MSAkdeniz_SC_MRs\\\\AY_OS_slice_0093.jpg  saved\n",
      "D:\\datasets\\ms\\MSAkdeniz_SpinalCord\\MSAkdeniz_SC_Masks\\\\AY_OS_GTmask_0094.jpg"
     ]
    },
    {
     "name": "stderr",
     "output_type": "stream",
     "text": [
      "Lossy conversion from float64 to uint8. Range [0.0, 284.0]. Convert image to uint8 prior to saving to suppress this warning.\n",
      "Lossy conversion from float64 to uint8. Range [0, 1]. Convert image to uint8 prior to saving to suppress this warning.\n",
      "Lossy conversion from float64 to uint8. Range [0.0, 265.0]. Convert image to uint8 prior to saving to suppress this warning.\n",
      "Lossy conversion from float64 to uint8. Range [0, 1]. Convert image to uint8 prior to saving to suppress this warning.\n",
      "Lossy conversion from float64 to uint8. Range [0.0, 275.0]. Convert image to uint8 prior to saving to suppress this warning.\n",
      "Lossy conversion from float64 to uint8. Range [0, 1]. Convert image to uint8 prior to saving to suppress this warning.\n",
      "Lossy conversion from float64 to uint8. Range [0.0, 254.0]. Convert image to uint8 prior to saving to suppress this warning.\n",
      "Lossy conversion from float64 to uint8. Range [0, 1]. Convert image to uint8 prior to saving to suppress this warning.\n",
      "Lossy conversion from float64 to uint8. Range [0.0, 270.0]. Convert image to uint8 prior to saving to suppress this warning.\n",
      "Lossy conversion from float64 to uint8. Range [0, 1]. Convert image to uint8 prior to saving to suppress this warning.\n",
      "Lossy conversion from float64 to uint8. Range [0.0, 252.0]. Convert image to uint8 prior to saving to suppress this warning.\n"
     ]
    },
    {
     "name": "stdout",
     "output_type": "stream",
     "text": [
      "  saved\n",
      "D:\\datasets\\ms\\MSAkdeniz_SpinalCord\\MSAkdeniz_SC_MRs\\\\AY_OS_slice_0094.jpg  saved\n",
      "D:\\datasets\\ms\\MSAkdeniz_SpinalCord\\MSAkdeniz_SC_Masks\\\\AY_OS_GTmask_0095.jpg  saved\n",
      "D:\\datasets\\ms\\MSAkdeniz_SpinalCord\\MSAkdeniz_SC_MRs\\\\AY_OS_slice_0095.jpg  saved\n",
      "D:\\datasets\\ms\\MSAkdeniz_SpinalCord\\MSAkdeniz_SC_Masks\\\\AY_OS_GTmask_0096.jpg  saved\n",
      "D:\\datasets\\ms\\MSAkdeniz_SpinalCord\\MSAkdeniz_SC_MRs\\\\AY_OS_slice_0096.jpg  saved\n",
      "D:\\datasets\\ms\\MSAkdeniz_SpinalCord\\MSAkdeniz_SC_Masks\\\\AY_OS_GTmask_0097.jpg  saved\n",
      "D:\\datasets\\ms\\MSAkdeniz_SpinalCord\\MSAkdeniz_SC_MRs\\\\AY_OS_slice_0097.jpg  saved\n",
      "D:\\datasets\\ms\\MSAkdeniz_SpinalCord\\MSAkdeniz_SC_Masks\\\\AY_OS_GTmask_0098.jpg  saved\n",
      "D:\\datasets\\ms\\MSAkdeniz_SpinalCord\\MSAkdeniz_SC_MRs\\\\AY_OS_slice_0098.jpg  saved\n",
      "D:\\datasets\\ms\\MSAkdeniz_SpinalCord\\MSAkdeniz_SC_Masks\\\\AY_OS_GTmask_0099.jpg  saved\n",
      "D:\\datasets\\ms\\MSAkdeniz_SpinalCord\\MSAkdeniz_SC_MRs\\\\AY_OS_slice_0099.jpg  saved\n",
      "AY_OS_B2_mask\n"
     ]
    },
    {
     "name": "stderr",
     "output_type": "stream",
     "text": [
      "Lossy conversion from float64 to uint8. Range [0, 1]. Convert image to uint8 prior to saving to suppress this warning.\n",
      "Lossy conversion from float64 to uint8. Range [0.0, 300.0]. Convert image to uint8 prior to saving to suppress this warning.\n",
      "Lossy conversion from float64 to uint8. Range [0, 1]. Convert image to uint8 prior to saving to suppress this warning.\n",
      "Lossy conversion from float64 to uint8. Range [0.0, 276.0]. Convert image to uint8 prior to saving to suppress this warning.\n",
      "Lossy conversion from float64 to uint8. Range [0, 1]. Convert image to uint8 prior to saving to suppress this warning.\n",
      "Lossy conversion from float64 to uint8. Range [0.0, 262.0]. Convert image to uint8 prior to saving to suppress this warning.\n",
      "Lossy conversion from float64 to uint8. Range [0, 1]. Convert image to uint8 prior to saving to suppress this warning.\n",
      "Lossy conversion from float64 to uint8. Range [0.0, 289.0]. Convert image to uint8 prior to saving to suppress this warning.\n",
      "Lossy conversion from float64 to uint8. Range [0, 1]. Convert image to uint8 prior to saving to suppress this warning.\n",
      "Lossy conversion from float64 to uint8. Range [0.0, 280.0]. Convert image to uint8 prior to saving to suppress this warning.\n",
      "Lossy conversion from float64 to uint8. Range [0, 1]. Convert image to uint8 prior to saving to suppress this warning.\n"
     ]
    },
    {
     "name": "stdout",
     "output_type": "stream",
     "text": [
      "True\n",
      "D:\\datasets\\ms\\MSAkdeniz_SpinalCord\\MSAkdeniz_SC_Masks\\\\AY_OS_GTmask_0085.jpg  saved\n",
      "D:\\datasets\\ms\\MSAkdeniz_SpinalCord\\MSAkdeniz_SC_MRs\\\\AY_OS_slice_0085.jpg  saved\n",
      "D:\\datasets\\ms\\MSAkdeniz_SpinalCord\\MSAkdeniz_SC_Masks\\\\AY_OS_GTmask_0086.jpg  saved\n",
      "D:\\datasets\\ms\\MSAkdeniz_SpinalCord\\MSAkdeniz_SC_MRs\\\\AY_OS_slice_0086.jpg  saved\n",
      "D:\\datasets\\ms\\MSAkdeniz_SpinalCord\\MSAkdeniz_SC_Masks\\\\AY_OS_GTmask_0087.jpg  saved\n",
      "D:\\datasets\\ms\\MSAkdeniz_SpinalCord\\MSAkdeniz_SC_MRs\\\\AY_OS_slice_0087.jpg  saved\n",
      "D:\\datasets\\ms\\MSAkdeniz_SpinalCord\\MSAkdeniz_SC_Masks\\\\AY_OS_GTmask_0088.jpg  saved\n",
      "D:\\datasets\\ms\\MSAkdeniz_SpinalCord\\MSAkdeniz_SC_MRs\\\\AY_OS_slice_0088.jpg  saved\n",
      "D:\\datasets\\ms\\MSAkdeniz_SpinalCord\\MSAkdeniz_SC_Masks\\\\AY_OS_GTmask_0089.jpg  saved\n",
      "D:\\datasets\\ms\\MSAkdeniz_SpinalCord\\MSAkdeniz_SC_MRs\\\\AY_OS_slice_0089.jpg  saved\n",
      "D:\\datasets\\ms\\MSAkdeniz_SpinalCord\\MSAkdeniz_SC_Masks\\\\AY_OS_GTmask_0090.jpg"
     ]
    },
    {
     "name": "stderr",
     "output_type": "stream",
     "text": [
      "Lossy conversion from float64 to uint8. Range [0.0, 261.0]. Convert image to uint8 prior to saving to suppress this warning.\n",
      "Lossy conversion from float64 to uint8. Range [0, 1]. Convert image to uint8 prior to saving to suppress this warning.\n",
      "Lossy conversion from float64 to uint8. Range [0.0, 247.0]. Convert image to uint8 prior to saving to suppress this warning.\n",
      "Lossy conversion from float64 to uint8. Range [0, 1]. Convert image to uint8 prior to saving to suppress this warning.\n",
      "Lossy conversion from float64 to uint8. Range [0.0, 243.0]. Convert image to uint8 prior to saving to suppress this warning.\n",
      "Lossy conversion from float64 to uint8. Range [0, 1]. Convert image to uint8 prior to saving to suppress this warning.\n",
      "Lossy conversion from float64 to uint8. Range [0.0, 258.0]. Convert image to uint8 prior to saving to suppress this warning.\n"
     ]
    },
    {
     "name": "stdout",
     "output_type": "stream",
     "text": [
      "  saved\n",
      "D:\\datasets\\ms\\MSAkdeniz_SpinalCord\\MSAkdeniz_SC_MRs\\\\AY_OS_slice_0090.jpg  saved\n",
      "D:\\datasets\\ms\\MSAkdeniz_SpinalCord\\MSAkdeniz_SC_Masks\\\\AY_OS_GTmask_0091.jpg  saved\n",
      "D:\\datasets\\ms\\MSAkdeniz_SpinalCord\\MSAkdeniz_SC_MRs\\\\AY_OS_slice_0091.jpg  saved\n",
      "D:\\datasets\\ms\\MSAkdeniz_SpinalCord\\MSAkdeniz_SC_Masks\\\\AY_OS_GTmask_0092.jpg  saved\n",
      "D:\\datasets\\ms\\MSAkdeniz_SpinalCord\\MSAkdeniz_SC_MRs\\\\AY_OS_slice_0092.jpg  saved\n",
      "D:\\datasets\\ms\\MSAkdeniz_SpinalCord\\MSAkdeniz_SC_Masks\\\\AY_OS_GTmask_0093.jpg  saved\n",
      "D:\\datasets\\ms\\MSAkdeniz_SpinalCord\\MSAkdeniz_SC_MRs\\\\AY_OS_slice_0093.jpg  saved\n",
      "AY_TA_B2_mask\n"
     ]
    },
    {
     "name": "stderr",
     "output_type": "stream",
     "text": [
      "Lossy conversion from float64 to uint8. Range [0, 1]. Convert image to uint8 prior to saving to suppress this warning.\n",
      "Lossy conversion from float64 to uint8. Range [0.0, 340.0]. Convert image to uint8 prior to saving to suppress this warning.\n",
      "Lossy conversion from float64 to uint8. Range [0, 1]. Convert image to uint8 prior to saving to suppress this warning.\n"
     ]
    },
    {
     "name": "stdout",
     "output_type": "stream",
     "text": [
      "True\n",
      "D:\\datasets\\ms\\MSAkdeniz_SpinalCord\\MSAkdeniz_SC_Masks\\\\AY_TA_GTmask_0091.jpg  saved\n",
      "D:\\datasets\\ms\\MSAkdeniz_SpinalCord\\MSAkdeniz_SC_MRs\\\\AY_TA_slice_0091.jpg  saved\n",
      "D:\\datasets\\ms\\MSAkdeniz_SpinalCord\\MSAkdeniz_SC_Masks\\\\AY_TA_GTmask_0092.jpg"
     ]
    },
    {
     "name": "stderr",
     "output_type": "stream",
     "text": [
      "Lossy conversion from float64 to uint8. Range [0.0, 240.0]. Convert image to uint8 prior to saving to suppress this warning.\n",
      "Lossy conversion from float64 to uint8. Range [0, 1]. Convert image to uint8 prior to saving to suppress this warning.\n",
      "Lossy conversion from float64 to uint8. Range [0.0, 255.0]. Convert image to uint8 prior to saving to suppress this warning.\n",
      "Lossy conversion from float64 to uint8. Range [0, 1]. Convert image to uint8 prior to saving to suppress this warning.\n",
      "Lossy conversion from float64 to uint8. Range [0.0, 283.0]. Convert image to uint8 prior to saving to suppress this warning.\n",
      "Lossy conversion from float64 to uint8. Range [0, 1]. Convert image to uint8 prior to saving to suppress this warning.\n",
      "Lossy conversion from float64 to uint8. Range [0.0, 251.0]. Convert image to uint8 prior to saving to suppress this warning.\n",
      "Lossy conversion from float64 to uint8. Range [0, 1]. Convert image to uint8 prior to saving to suppress this warning.\n",
      "Lossy conversion from float64 to uint8. Range [0.0, 269.0]. Convert image to uint8 prior to saving to suppress this warning.\n",
      "Lossy conversion from float64 to uint8. Range [0, 1]. Convert image to uint8 prior to saving to suppress this warning.\n",
      "Lossy conversion from float64 to uint8. Range [0.0, 293.0]. Convert image to uint8 prior to saving to suppress this warning.\n",
      "Lossy conversion from float64 to uint8. Range [0, 1]. Convert image to uint8 prior to saving to suppress this warning.\n"
     ]
    },
    {
     "name": "stdout",
     "output_type": "stream",
     "text": [
      "  saved\n",
      "D:\\datasets\\ms\\MSAkdeniz_SpinalCord\\MSAkdeniz_SC_MRs\\\\AY_TA_slice_0092.jpg  saved\n",
      "D:\\datasets\\ms\\MSAkdeniz_SpinalCord\\MSAkdeniz_SC_Masks\\\\AY_TA_GTmask_0093.jpg  saved\n",
      "D:\\datasets\\ms\\MSAkdeniz_SpinalCord\\MSAkdeniz_SC_MRs\\\\AY_TA_slice_0093.jpg  saved\n",
      "D:\\datasets\\ms\\MSAkdeniz_SpinalCord\\MSAkdeniz_SC_Masks\\\\AY_TA_GTmask_0094.jpg  saved\n",
      "D:\\datasets\\ms\\MSAkdeniz_SpinalCord\\MSAkdeniz_SC_MRs\\\\AY_TA_slice_0094.jpg  saved\n",
      "D:\\datasets\\ms\\MSAkdeniz_SpinalCord\\MSAkdeniz_SC_Masks\\\\AY_TA_GTmask_0095.jpg  saved\n",
      "D:\\datasets\\ms\\MSAkdeniz_SpinalCord\\MSAkdeniz_SC_MRs\\\\AY_TA_slice_0095.jpg  saved\n",
      "D:\\datasets\\ms\\MSAkdeniz_SpinalCord\\MSAkdeniz_SC_Masks\\\\AY_TA_GTmask_0096.jpg  saved\n",
      "D:\\datasets\\ms\\MSAkdeniz_SpinalCord\\MSAkdeniz_SC_MRs\\\\AY_TA_slice_0096.jpg  saved\n",
      "D:\\datasets\\ms\\MSAkdeniz_SpinalCord\\MSAkdeniz_SC_Masks\\\\AY_TA_GTmask_0097.jpg  saved\n",
      "D:\\datasets\\ms\\MSAkdeniz_SpinalCord\\MSAkdeniz_SC_MRs\\\\AY_TA_slice_0097.jpg  saved\n",
      "D:\\datasets\\ms\\MSAkdeniz_SpinalCord\\MSAkdeniz_SC_Masks\\\\AY_TA_GTmask_0098.jpg"
     ]
    },
    {
     "name": "stderr",
     "output_type": "stream",
     "text": [
      "Lossy conversion from float64 to uint8. Range [0.0, 294.0]. Convert image to uint8 prior to saving to suppress this warning.\n",
      "Lossy conversion from float64 to uint8. Range [0, 1]. Convert image to uint8 prior to saving to suppress this warning.\n",
      "Lossy conversion from float64 to uint8. Range [0.0, 256.0]. Convert image to uint8 prior to saving to suppress this warning.\n",
      "Lossy conversion from float64 to uint8. Range [0, 1]. Convert image to uint8 prior to saving to suppress this warning.\n",
      "Lossy conversion from float64 to uint8. Range [0.0, 261.0]. Convert image to uint8 prior to saving to suppress this warning.\n",
      "Lossy conversion from float64 to uint8. Range [0, 1]. Convert image to uint8 prior to saving to suppress this warning.\n",
      "Lossy conversion from float64 to uint8. Range [0.0, 284.0]. Convert image to uint8 prior to saving to suppress this warning.\n"
     ]
    },
    {
     "name": "stdout",
     "output_type": "stream",
     "text": [
      "  saved\n",
      "D:\\datasets\\ms\\MSAkdeniz_SpinalCord\\MSAkdeniz_SC_MRs\\\\AY_TA_slice_0098.jpg  saved\n",
      "D:\\datasets\\ms\\MSAkdeniz_SpinalCord\\MSAkdeniz_SC_Masks\\\\AY_TA_GTmask_0099.jpg  saved\n",
      "D:\\datasets\\ms\\MSAkdeniz_SpinalCord\\MSAkdeniz_SC_MRs\\\\AY_TA_slice_0099.jpg  saved\n",
      "D:\\datasets\\ms\\MSAkdeniz_SpinalCord\\MSAkdeniz_SC_Masks\\\\AY_TA_GTmask_0100.jpg  saved\n",
      "D:\\datasets\\ms\\MSAkdeniz_SpinalCord\\MSAkdeniz_SC_MRs\\\\AY_TA_slice_0100.jpg  saved\n",
      "D:\\datasets\\ms\\MSAkdeniz_SpinalCord\\MSAkdeniz_SC_Masks\\\\AY_TA_GTmask_0101.jpg  saved\n",
      "D:\\datasets\\ms\\MSAkdeniz_SpinalCord\\MSAkdeniz_SC_MRs\\\\AY_TA_slice_0101.jpg  saved\n",
      "DU_MA_B1_mask\n"
     ]
    },
    {
     "name": "stderr",
     "output_type": "stream",
     "text": [
      "Lossy conversion from float64 to uint8. Range [0, 1]. Convert image to uint8 prior to saving to suppress this warning.\n",
      "Lossy conversion from float64 to uint8. Range [0.0, 252.0]. Convert image to uint8 prior to saving to suppress this warning.\n",
      "Lossy conversion from float64 to uint8. Range [0, 1]. Convert image to uint8 prior to saving to suppress this warning.\n",
      "Lossy conversion from float64 to uint8. Range [0.0, 268.0]. Convert image to uint8 prior to saving to suppress this warning.\n"
     ]
    },
    {
     "name": "stdout",
     "output_type": "stream",
     "text": [
      "True\n",
      "D:\\datasets\\ms\\MSAkdeniz_SpinalCord\\MSAkdeniz_SC_Masks\\\\DU_MA_GTmask_0088.jpg  saved\n",
      "D:\\datasets\\ms\\MSAkdeniz_SpinalCord\\MSAkdeniz_SC_MRs\\\\DU_MA_slice_0088.jpg  saved\n",
      "D:\\datasets\\ms\\MSAkdeniz_SpinalCord\\MSAkdeniz_SC_Masks\\\\DU_MA_GTmask_0089.jpg  saved\n",
      "D:\\datasets\\ms\\MSAkdeniz_SpinalCord\\MSAkdeniz_SC_MRs\\\\DU_MA_slice_0089.jpg  saved\n"
     ]
    },
    {
     "name": "stderr",
     "output_type": "stream",
     "text": [
      "Lossy conversion from float64 to uint8. Range [0, 1]. Convert image to uint8 prior to saving to suppress this warning.\n",
      "Lossy conversion from float64 to uint8. Range [0.0, 258.0]. Convert image to uint8 prior to saving to suppress this warning.\n",
      "Lossy conversion from float64 to uint8. Range [0, 1]. Convert image to uint8 prior to saving to suppress this warning.\n",
      "Lossy conversion from float64 to uint8. Range [0.0, 278.0]. Convert image to uint8 prior to saving to suppress this warning.\n",
      "Lossy conversion from float64 to uint8. Range [0, 1]. Convert image to uint8 prior to saving to suppress this warning.\n",
      "Lossy conversion from float64 to uint8. Range [0.0, 292.0]. Convert image to uint8 prior to saving to suppress this warning.\n",
      "Lossy conversion from float64 to uint8. Range [0, 1]. Convert image to uint8 prior to saving to suppress this warning.\n",
      "Lossy conversion from float64 to uint8. Range [0.0, 249.0]. Convert image to uint8 prior to saving to suppress this warning.\n",
      "Lossy conversion from float64 to uint8. Range [0, 1]. Convert image to uint8 prior to saving to suppress this warning.\n",
      "Lossy conversion from float64 to uint8. Range [0.0, 239.0]. Convert image to uint8 prior to saving to suppress this warning.\n",
      "Lossy conversion from float64 to uint8. Range [0, 1]. Convert image to uint8 prior to saving to suppress this warning.\n",
      "Lossy conversion from float64 to uint8. Range [0.0, 263.0]. Convert image to uint8 prior to saving to suppress this warning.\n",
      "Lossy conversion from float64 to uint8. Range [0, 1]. Convert image to uint8 prior to saving to suppress this warning.\n"
     ]
    },
    {
     "name": "stdout",
     "output_type": "stream",
     "text": [
      "D:\\datasets\\ms\\MSAkdeniz_SpinalCord\\MSAkdeniz_SC_Masks\\\\DU_MA_GTmask_0090.jpg  saved\n",
      "D:\\datasets\\ms\\MSAkdeniz_SpinalCord\\MSAkdeniz_SC_MRs\\\\DU_MA_slice_0090.jpg  saved\n",
      "D:\\datasets\\ms\\MSAkdeniz_SpinalCord\\MSAkdeniz_SC_Masks\\\\DU_MA_GTmask_0091.jpg  saved\n",
      "D:\\datasets\\ms\\MSAkdeniz_SpinalCord\\MSAkdeniz_SC_MRs\\\\DU_MA_slice_0091.jpg  saved\n",
      "D:\\datasets\\ms\\MSAkdeniz_SpinalCord\\MSAkdeniz_SC_Masks\\\\DU_MA_GTmask_0092.jpg  saved\n",
      "D:\\datasets\\ms\\MSAkdeniz_SpinalCord\\MSAkdeniz_SC_MRs\\\\DU_MA_slice_0092.jpg  saved\n",
      "D:\\datasets\\ms\\MSAkdeniz_SpinalCord\\MSAkdeniz_SC_Masks\\\\DU_MA_GTmask_0093.jpg  saved\n",
      "D:\\datasets\\ms\\MSAkdeniz_SpinalCord\\MSAkdeniz_SC_MRs\\\\DU_MA_slice_0093.jpg  saved\n",
      "D:\\datasets\\ms\\MSAkdeniz_SpinalCord\\MSAkdeniz_SC_Masks\\\\DU_MA_GTmask_0094.jpg  saved\n",
      "D:\\datasets\\ms\\MSAkdeniz_SpinalCord\\MSAkdeniz_SC_MRs\\\\DU_MA_slice_0094.jpg  saved\n",
      "D:\\datasets\\ms\\MSAkdeniz_SpinalCord\\MSAkdeniz_SC_Masks\\\\DU_MA_GTmask_0095.jpg  saved\n",
      "D:\\datasets\\ms\\MSAkdeniz_SpinalCord\\MSAkdeniz_SC_MRs\\\\DU_MA_slice_0095.jpg  saved\n",
      "D:\\datasets\\ms\\MSAkdeniz_SpinalCord\\MSAkdeniz_SC_Masks\\\\DU_MA_GTmask_0096.jpg  saved\n"
     ]
    },
    {
     "name": "stderr",
     "output_type": "stream",
     "text": [
      "Lossy conversion from float64 to uint8. Range [0.0, 255.0]. Convert image to uint8 prior to saving to suppress this warning.\n",
      "Lossy conversion from float64 to uint8. Range [0, 1]. Convert image to uint8 prior to saving to suppress this warning.\n",
      "Lossy conversion from float64 to uint8. Range [0.0, 270.0]. Convert image to uint8 prior to saving to suppress this warning.\n"
     ]
    },
    {
     "name": "stdout",
     "output_type": "stream",
     "text": [
      "D:\\datasets\\ms\\MSAkdeniz_SpinalCord\\MSAkdeniz_SC_MRs\\\\DU_MA_slice_0096.jpg  saved\n",
      "D:\\datasets\\ms\\MSAkdeniz_SpinalCord\\MSAkdeniz_SC_Masks\\\\DU_MA_GTmask_0097.jpg  saved\n",
      "D:\\datasets\\ms\\MSAkdeniz_SpinalCord\\MSAkdeniz_SC_MRs\\\\DU_MA_slice_0097.jpg  saved\n",
      "DU_MA_B2_mask\n"
     ]
    },
    {
     "name": "stderr",
     "output_type": "stream",
     "text": [
      "Lossy conversion from float64 to uint8. Range [0, 1]. Convert image to uint8 prior to saving to suppress this warning.\n",
      "Lossy conversion from float64 to uint8. Range [0.0, 268.0]. Convert image to uint8 prior to saving to suppress this warning.\n",
      "Lossy conversion from float64 to uint8. Range [0, 1]. Convert image to uint8 prior to saving to suppress this warning.\n",
      "Lossy conversion from float64 to uint8. Range [0.0, 252.0]. Convert image to uint8 prior to saving to suppress this warning.\n"
     ]
    },
    {
     "name": "stdout",
     "output_type": "stream",
     "text": [
      "True\n",
      "D:\\datasets\\ms\\MSAkdeniz_SpinalCord\\MSAkdeniz_SC_Masks\\\\DU_MA_GTmask_0074.jpg  saved\n",
      "D:\\datasets\\ms\\MSAkdeniz_SpinalCord\\MSAkdeniz_SC_MRs\\\\DU_MA_slice_0074.jpg  saved\n",
      "D:\\datasets\\ms\\MSAkdeniz_SpinalCord\\MSAkdeniz_SC_Masks\\\\DU_MA_GTmask_0075.jpg  saved\n",
      "D:\\datasets\\ms\\MSAkdeniz_SpinalCord\\MSAkdeniz_SC_MRs\\\\DU_MA_slice_0075.jpg"
     ]
    },
    {
     "name": "stderr",
     "output_type": "stream",
     "text": [
      "Lossy conversion from float64 to uint8. Range [0, 1]. Convert image to uint8 prior to saving to suppress this warning.\n",
      "Lossy conversion from float64 to uint8. Range [0.0, 254.0]. Convert image to uint8 prior to saving to suppress this warning.\n",
      "Lossy conversion from float64 to uint8. Range [0, 1]. Convert image to uint8 prior to saving to suppress this warning.\n",
      "Lossy conversion from float64 to uint8. Range [0.0, 250.0]. Convert image to uint8 prior to saving to suppress this warning.\n",
      "Lossy conversion from float64 to uint8. Range [0, 1]. Convert image to uint8 prior to saving to suppress this warning.\n",
      "Lossy conversion from float64 to uint8. Range [0.0, 279.0]. Convert image to uint8 prior to saving to suppress this warning.\n",
      "Lossy conversion from float64 to uint8. Range [0, 1]. Convert image to uint8 prior to saving to suppress this warning.\n",
      "Lossy conversion from float64 to uint8. Range [0.0, 259.0]. Convert image to uint8 prior to saving to suppress this warning.\n",
      "Lossy conversion from float64 to uint8. Range [0, 1]. Convert image to uint8 prior to saving to suppress this warning.\n",
      "Lossy conversion from float64 to uint8. Range [0.0, 272.0]. Convert image to uint8 prior to saving to suppress this warning.\n",
      "Lossy conversion from float64 to uint8. Range [0, 1]. Convert image to uint8 prior to saving to suppress this warning.\n",
      "Lossy conversion from float64 to uint8. Range [0.0, 290.0]. Convert image to uint8 prior to saving to suppress this warning.\n",
      "Lossy conversion from float64 to uint8. Range [0, 1]. Convert image to uint8 prior to saving to suppress this warning.\n",
      "Lossy conversion from float64 to uint8. Range [0.0, 277.0]. Convert image to uint8 prior to saving to suppress this warning.\n"
     ]
    },
    {
     "name": "stdout",
     "output_type": "stream",
     "text": [
      "  saved\n",
      "D:\\datasets\\ms\\MSAkdeniz_SpinalCord\\MSAkdeniz_SC_Masks\\\\DU_MA_GTmask_0076.jpg  saved\n",
      "D:\\datasets\\ms\\MSAkdeniz_SpinalCord\\MSAkdeniz_SC_MRs\\\\DU_MA_slice_0076.jpg  saved\n",
      "D:\\datasets\\ms\\MSAkdeniz_SpinalCord\\MSAkdeniz_SC_Masks\\\\DU_MA_GTmask_0077.jpg  saved\n",
      "D:\\datasets\\ms\\MSAkdeniz_SpinalCord\\MSAkdeniz_SC_MRs\\\\DU_MA_slice_0077.jpg  saved\n",
      "D:\\datasets\\ms\\MSAkdeniz_SpinalCord\\MSAkdeniz_SC_Masks\\\\DU_MA_GTmask_0078.jpg  saved\n",
      "D:\\datasets\\ms\\MSAkdeniz_SpinalCord\\MSAkdeniz_SC_MRs\\\\DU_MA_slice_0078.jpg  saved\n",
      "D:\\datasets\\ms\\MSAkdeniz_SpinalCord\\MSAkdeniz_SC_Masks\\\\DU_MA_GTmask_0079.jpg  saved\n",
      "D:\\datasets\\ms\\MSAkdeniz_SpinalCord\\MSAkdeniz_SC_MRs\\\\DU_MA_slice_0079.jpg  saved\n",
      "D:\\datasets\\ms\\MSAkdeniz_SpinalCord\\MSAkdeniz_SC_Masks\\\\DU_MA_GTmask_0080.jpg  saved\n",
      "D:\\datasets\\ms\\MSAkdeniz_SpinalCord\\MSAkdeniz_SC_MRs\\\\DU_MA_slice_0080.jpg  saved\n",
      "D:\\datasets\\ms\\MSAkdeniz_SpinalCord\\MSAkdeniz_SC_Masks\\\\DU_MA_GTmask_0081.jpg  saved\n",
      "D:\\datasets\\ms\\MSAkdeniz_SpinalCord\\MSAkdeniz_SC_MRs\\\\DU_MA_slice_0081.jpg  saved\n",
      "D:\\datasets\\ms\\MSAkdeniz_SpinalCord\\MSAkdeniz_SC_Masks\\\\DU_MA_GTmask_0082.jpg  saved\n"
     ]
    },
    {
     "name": "stderr",
     "output_type": "stream",
     "text": [
      "Lossy conversion from float64 to uint8. Range [0, 1]. Convert image to uint8 prior to saving to suppress this warning.\n",
      "Lossy conversion from float64 to uint8. Range [0.0, 262.0]. Convert image to uint8 prior to saving to suppress this warning.\n",
      "Lossy conversion from float64 to uint8. Range [0, 1]. Convert image to uint8 prior to saving to suppress this warning.\n",
      "Lossy conversion from float64 to uint8. Range [0.0, 249.0]. Convert image to uint8 prior to saving to suppress this warning.\n"
     ]
    },
    {
     "name": "stdout",
     "output_type": "stream",
     "text": [
      "D:\\datasets\\ms\\MSAkdeniz_SpinalCord\\MSAkdeniz_SC_MRs\\\\DU_MA_slice_0082.jpg  saved\n",
      "D:\\datasets\\ms\\MSAkdeniz_SpinalCord\\MSAkdeniz_SC_Masks\\\\DU_MA_GTmask_0083.jpg  saved\n",
      "D:\\datasets\\ms\\MSAkdeniz_SpinalCord\\MSAkdeniz_SC_MRs\\\\DU_MA_slice_0083.jpg  saved\n",
      "D:\\datasets\\ms\\MSAkdeniz_SpinalCord\\MSAkdeniz_SC_Masks\\\\DU_MA_GTmask_0084.jpg  saved\n",
      "D:\\datasets\\ms\\MSAkdeniz_SpinalCord\\MSAkdeniz_SC_MRs\\\\DU_MA_slice_0084.jpg  saved\n",
      "FA_CA_B1_mask\n"
     ]
    },
    {
     "name": "stderr",
     "output_type": "stream",
     "text": [
      "Lossy conversion from float64 to uint8. Range [0, 1]. Convert image to uint8 prior to saving to suppress this warning.\n",
      "Lossy conversion from float64 to uint8. Range [0.0, 284.0]. Convert image to uint8 prior to saving to suppress this warning.\n"
     ]
    },
    {
     "name": "stdout",
     "output_type": "stream",
     "text": [
      "True\n",
      "D:\\datasets\\ms\\MSAkdeniz_SpinalCord\\MSAkdeniz_SC_Masks\\\\FA_CA_GTmask_0098.jpg  saved\n",
      "D:\\datasets\\ms\\MSAkdeniz_SpinalCord\\MSAkdeniz_SC_MRs\\\\FA_CA_slice_0098.jpg  saved\n"
     ]
    },
    {
     "name": "stderr",
     "output_type": "stream",
     "text": [
      "Lossy conversion from float64 to uint8. Range [0, 1]. Convert image to uint8 prior to saving to suppress this warning.\n",
      "Lossy conversion from float64 to uint8. Range [0.0, 265.0]. Convert image to uint8 prior to saving to suppress this warning.\n",
      "Lossy conversion from float64 to uint8. Range [0, 1]. Convert image to uint8 prior to saving to suppress this warning.\n",
      "Lossy conversion from float64 to uint8. Range [0.0, 267.0]. Convert image to uint8 prior to saving to suppress this warning.\n",
      "Lossy conversion from float64 to uint8. Range [0, 1]. Convert image to uint8 prior to saving to suppress this warning.\n",
      "Lossy conversion from float64 to uint8. Range [0.0, 254.0]. Convert image to uint8 prior to saving to suppress this warning.\n",
      "Lossy conversion from float64 to uint8. Range [0, 1]. Convert image to uint8 prior to saving to suppress this warning.\n",
      "Lossy conversion from float64 to uint8. Range [0.0, 253.0]. Convert image to uint8 prior to saving to suppress this warning.\n",
      "Lossy conversion from float64 to uint8. Range [0, 1]. Convert image to uint8 prior to saving to suppress this warning.\n",
      "Lossy conversion from float64 to uint8. Range [0.0, 273.0]. Convert image to uint8 prior to saving to suppress this warning.\n",
      "Lossy conversion from float64 to uint8. Range [0, 1]. Convert image to uint8 prior to saving to suppress this warning.\n"
     ]
    },
    {
     "name": "stdout",
     "output_type": "stream",
     "text": [
      "D:\\datasets\\ms\\MSAkdeniz_SpinalCord\\MSAkdeniz_SC_Masks\\\\FA_CA_GTmask_0099.jpg  saved\n",
      "D:\\datasets\\ms\\MSAkdeniz_SpinalCord\\MSAkdeniz_SC_MRs\\\\FA_CA_slice_0099.jpg  saved\n",
      "D:\\datasets\\ms\\MSAkdeniz_SpinalCord\\MSAkdeniz_SC_Masks\\\\FA_CA_GTmask_0100.jpg  saved\n",
      "D:\\datasets\\ms\\MSAkdeniz_SpinalCord\\MSAkdeniz_SC_MRs\\\\FA_CA_slice_0100.jpg  saved\n",
      "D:\\datasets\\ms\\MSAkdeniz_SpinalCord\\MSAkdeniz_SC_Masks\\\\FA_CA_GTmask_0101.jpg  saved\n",
      "D:\\datasets\\ms\\MSAkdeniz_SpinalCord\\MSAkdeniz_SC_MRs\\\\FA_CA_slice_0101.jpg  saved\n",
      "D:\\datasets\\ms\\MSAkdeniz_SpinalCord\\MSAkdeniz_SC_Masks\\\\FA_CA_GTmask_0102.jpg  saved\n",
      "D:\\datasets\\ms\\MSAkdeniz_SpinalCord\\MSAkdeniz_SC_MRs\\\\FA_CA_slice_0102.jpg  saved\n",
      "D:\\datasets\\ms\\MSAkdeniz_SpinalCord\\MSAkdeniz_SC_Masks\\\\FA_CA_GTmask_0103.jpg  saved\n",
      "D:\\datasets\\ms\\MSAkdeniz_SpinalCord\\MSAkdeniz_SC_MRs\\\\FA_CA_slice_0103.jpg  saved\n",
      "D:\\datasets\\ms\\MSAkdeniz_SpinalCord\\MSAkdeniz_SC_Masks\\\\FA_CA_GTmask_0104.jpg "
     ]
    },
    {
     "name": "stderr",
     "output_type": "stream",
     "text": [
      "Lossy conversion from float64 to uint8. Range [0.0, 299.0]. Convert image to uint8 prior to saving to suppress this warning.\n",
      "Lossy conversion from float64 to uint8. Range [0, 1]. Convert image to uint8 prior to saving to suppress this warning.\n",
      "Lossy conversion from float64 to uint8. Range [0.0, 299.0]. Convert image to uint8 prior to saving to suppress this warning.\n",
      "Lossy conversion from float64 to uint8. Range [0, 1]. Convert image to uint8 prior to saving to suppress this warning.\n",
      "Lossy conversion from float64 to uint8. Range [0.0, 260.0]. Convert image to uint8 prior to saving to suppress this warning.\n"
     ]
    },
    {
     "name": "stdout",
     "output_type": "stream",
     "text": [
      " saved\n",
      "D:\\datasets\\ms\\MSAkdeniz_SpinalCord\\MSAkdeniz_SC_MRs\\\\FA_CA_slice_0104.jpg  saved\n",
      "D:\\datasets\\ms\\MSAkdeniz_SpinalCord\\MSAkdeniz_SC_Masks\\\\FA_CA_GTmask_0105.jpg  saved\n",
      "D:\\datasets\\ms\\MSAkdeniz_SpinalCord\\MSAkdeniz_SC_MRs\\\\FA_CA_slice_0105.jpg  saved\n",
      "D:\\datasets\\ms\\MSAkdeniz_SpinalCord\\MSAkdeniz_SC_Masks\\\\FA_CA_GTmask_0106.jpg  saved\n",
      "D:\\datasets\\ms\\MSAkdeniz_SpinalCord\\MSAkdeniz_SC_MRs\\\\FA_CA_slice_0106.jpg  saved\n",
      "FA_CA_B2_mask\n"
     ]
    },
    {
     "name": "stderr",
     "output_type": "stream",
     "text": [
      "Lossy conversion from float64 to uint8. Range [0, 1]. Convert image to uint8 prior to saving to suppress this warning.\n",
      "Lossy conversion from float64 to uint8. Range [0.0, 247.0]. Convert image to uint8 prior to saving to suppress this warning.\n",
      "Lossy conversion from float64 to uint8. Range [0, 1]. Convert image to uint8 prior to saving to suppress this warning.\n",
      "Lossy conversion from float64 to uint8. Range [0.0, 245.0]. Convert image to uint8 prior to saving to suppress this warning.\n"
     ]
    },
    {
     "name": "stdout",
     "output_type": "stream",
     "text": [
      "True\n",
      "D:\\datasets\\ms\\MSAkdeniz_SpinalCord\\MSAkdeniz_SC_Masks\\\\FA_CA_GTmask_0092.jpg  saved\n",
      "D:\\datasets\\ms\\MSAkdeniz_SpinalCord\\MSAkdeniz_SC_MRs\\\\FA_CA_slice_0092.jpg  saved\n",
      "D:\\datasets\\ms\\MSAkdeniz_SpinalCord\\MSAkdeniz_SC_Masks\\\\FA_CA_GTmask_0093.jpg  saved\n",
      "D:\\datasets\\ms\\MSAkdeniz_SpinalCord\\MSAkdeniz_SC_MRs\\\\FA_CA_slice_0093.jpg"
     ]
    },
    {
     "name": "stderr",
     "output_type": "stream",
     "text": [
      "Lossy conversion from float64 to uint8. Range [0, 1]. Convert image to uint8 prior to saving to suppress this warning.\n",
      "Lossy conversion from float64 to uint8. Range [0.0, 229.0]. Convert image to uint8 prior to saving to suppress this warning.\n",
      "Lossy conversion from float64 to uint8. Range [0, 1]. Convert image to uint8 prior to saving to suppress this warning.\n",
      "Lossy conversion from float64 to uint8. Range [0.0, 238.0]. Convert image to uint8 prior to saving to suppress this warning.\n",
      "Lossy conversion from float64 to uint8. Range [0, 1]. Convert image to uint8 prior to saving to suppress this warning.\n",
      "Lossy conversion from float64 to uint8. Range [0.0, 229.0]. Convert image to uint8 prior to saving to suppress this warning.\n",
      "Lossy conversion from float64 to uint8. Range [0, 1]. Convert image to uint8 prior to saving to suppress this warning.\n",
      "Lossy conversion from float64 to uint8. Range [0.0, 230.0]. Convert image to uint8 prior to saving to suppress this warning.\n",
      "Lossy conversion from float64 to uint8. Range [0, 1]. Convert image to uint8 prior to saving to suppress this warning.\n",
      "Lossy conversion from float64 to uint8. Range [0.0, 230.0]. Convert image to uint8 prior to saving to suppress this warning.\n",
      "Lossy conversion from float64 to uint8. Range [0, 1]. Convert image to uint8 prior to saving to suppress this warning.\n",
      "Lossy conversion from float64 to uint8. Range [0.0, 223.0]. Convert image to uint8 prior to saving to suppress this warning.\n"
     ]
    },
    {
     "name": "stdout",
     "output_type": "stream",
     "text": [
      "  saved\n",
      "D:\\datasets\\ms\\MSAkdeniz_SpinalCord\\MSAkdeniz_SC_Masks\\\\FA_CA_GTmask_0094.jpg  saved\n",
      "D:\\datasets\\ms\\MSAkdeniz_SpinalCord\\MSAkdeniz_SC_MRs\\\\FA_CA_slice_0094.jpg  saved\n",
      "D:\\datasets\\ms\\MSAkdeniz_SpinalCord\\MSAkdeniz_SC_Masks\\\\FA_CA_GTmask_0095.jpg  saved\n",
      "D:\\datasets\\ms\\MSAkdeniz_SpinalCord\\MSAkdeniz_SC_MRs\\\\FA_CA_slice_0095.jpg  saved\n",
      "D:\\datasets\\ms\\MSAkdeniz_SpinalCord\\MSAkdeniz_SC_Masks\\\\FA_CA_GTmask_0096.jpg  saved\n",
      "D:\\datasets\\ms\\MSAkdeniz_SpinalCord\\MSAkdeniz_SC_MRs\\\\FA_CA_slice_0096.jpg  saved\n",
      "D:\\datasets\\ms\\MSAkdeniz_SpinalCord\\MSAkdeniz_SC_Masks\\\\FA_CA_GTmask_0097.jpg  saved\n",
      "D:\\datasets\\ms\\MSAkdeniz_SpinalCord\\MSAkdeniz_SC_MRs\\\\FA_CA_slice_0097.jpg  saved\n",
      "D:\\datasets\\ms\\MSAkdeniz_SpinalCord\\MSAkdeniz_SC_Masks\\\\FA_CA_GTmask_0098.jpg  saved\n",
      "D:\\datasets\\ms\\MSAkdeniz_SpinalCord\\MSAkdeniz_SC_MRs\\\\FA_CA_slice_0098.jpg  saved\n",
      "D:\\datasets\\ms\\MSAkdeniz_SpinalCord\\MSAkdeniz_SC_Masks\\\\FA_CA_GTmask_0099.jpg  saved\n",
      "D:\\datasets\\ms\\MSAkdeniz_SpinalCord\\MSAkdeniz_SC_MRs\\\\FA_CA_slice_0099.jpg"
     ]
    },
    {
     "name": "stderr",
     "output_type": "stream",
     "text": [
      "Lossy conversion from float64 to uint8. Range [0, 1]. Convert image to uint8 prior to saving to suppress this warning.\n",
      "Lossy conversion from float64 to uint8. Range [0.0, 233.0]. Convert image to uint8 prior to saving to suppress this warning.\n",
      "Lossy conversion from float64 to uint8. Range [0, 1]. Convert image to uint8 prior to saving to suppress this warning.\n",
      "Lossy conversion from float64 to uint8. Range [0.0, 247.0]. Convert image to uint8 prior to saving to suppress this warning.\n",
      "Lossy conversion from float64 to uint8. Range [0, 1]. Convert image to uint8 prior to saving to suppress this warning.\n",
      "Lossy conversion from float64 to uint8. Range [0.0, 244.0]. Convert image to uint8 prior to saving to suppress this warning.\n"
     ]
    },
    {
     "name": "stdout",
     "output_type": "stream",
     "text": [
      "  saved\n",
      "D:\\datasets\\ms\\MSAkdeniz_SpinalCord\\MSAkdeniz_SC_Masks\\\\FA_CA_GTmask_0100.jpg  saved\n",
      "D:\\datasets\\ms\\MSAkdeniz_SpinalCord\\MSAkdeniz_SC_MRs\\\\FA_CA_slice_0100.jpg  saved\n",
      "D:\\datasets\\ms\\MSAkdeniz_SpinalCord\\MSAkdeniz_SC_Masks\\\\FA_CA_GTmask_0101.jpg  saved\n",
      "D:\\datasets\\ms\\MSAkdeniz_SpinalCord\\MSAkdeniz_SC_MRs\\\\FA_CA_slice_0101.jpg  saved\n",
      "D:\\datasets\\ms\\MSAkdeniz_SpinalCord\\MSAkdeniz_SC_Masks\\\\FA_CA_GTmask_0102.jpg  saved\n",
      "D:\\datasets\\ms\\MSAkdeniz_SpinalCord\\MSAkdeniz_SC_MRs\\\\FA_CA_slice_0102.jpg  saved\n",
      "FA_TO_B1_mask\n"
     ]
    },
    {
     "name": "stderr",
     "output_type": "stream",
     "text": [
      "Lossy conversion from float64 to uint8. Range [0, 1]. Convert image to uint8 prior to saving to suppress this warning.\n",
      "Lossy conversion from float64 to uint8. Range [0.0, 289.0]. Convert image to uint8 prior to saving to suppress this warning.\n",
      "Lossy conversion from float64 to uint8. Range [0, 1]. Convert image to uint8 prior to saving to suppress this warning.\n",
      "Lossy conversion from float64 to uint8. Range [0.0, 297.0]. Convert image to uint8 prior to saving to suppress this warning.\n"
     ]
    },
    {
     "name": "stdout",
     "output_type": "stream",
     "text": [
      "True\n",
      "D:\\datasets\\ms\\MSAkdeniz_SpinalCord\\MSAkdeniz_SC_Masks\\\\FA_TO_GTmask_0079.jpg  saved\n",
      "D:\\datasets\\ms\\MSAkdeniz_SpinalCord\\MSAkdeniz_SC_MRs\\\\FA_TO_slice_0079.jpg  saved\n",
      "D:\\datasets\\ms\\MSAkdeniz_SpinalCord\\MSAkdeniz_SC_Masks\\\\FA_TO_GTmask_0080.jpg  saved\n"
     ]
    },
    {
     "name": "stderr",
     "output_type": "stream",
     "text": [
      "Lossy conversion from float64 to uint8. Range [0, 1]. Convert image to uint8 prior to saving to suppress this warning.\n",
      "Lossy conversion from float64 to uint8. Range [0.0, 277.0]. Convert image to uint8 prior to saving to suppress this warning.\n",
      "Lossy conversion from float64 to uint8. Range [0, 1]. Convert image to uint8 prior to saving to suppress this warning.\n",
      "Lossy conversion from float64 to uint8. Range [0.0, 263.0]. Convert image to uint8 prior to saving to suppress this warning.\n",
      "Lossy conversion from float64 to uint8. Range [0, 1]. Convert image to uint8 prior to saving to suppress this warning.\n",
      "Lossy conversion from float64 to uint8. Range [0.0, 253.0]. Convert image to uint8 prior to saving to suppress this warning.\n",
      "Lossy conversion from float64 to uint8. Range [0, 1]. Convert image to uint8 prior to saving to suppress this warning.\n",
      "Lossy conversion from float64 to uint8. Range [0.0, 253.0]. Convert image to uint8 prior to saving to suppress this warning.\n",
      "Lossy conversion from float64 to uint8. Range [0, 1]. Convert image to uint8 prior to saving to suppress this warning.\n",
      "Lossy conversion from float64 to uint8. Range [0.0, 273.0]. Convert image to uint8 prior to saving to suppress this warning.\n",
      "Lossy conversion from float64 to uint8. Range [0, 1]. Convert image to uint8 prior to saving to suppress this warning.\n"
     ]
    },
    {
     "name": "stdout",
     "output_type": "stream",
     "text": [
      "D:\\datasets\\ms\\MSAkdeniz_SpinalCord\\MSAkdeniz_SC_MRs\\\\FA_TO_slice_0080.jpg  saved\n",
      "D:\\datasets\\ms\\MSAkdeniz_SpinalCord\\MSAkdeniz_SC_Masks\\\\FA_TO_GTmask_0081.jpg  saved\n",
      "D:\\datasets\\ms\\MSAkdeniz_SpinalCord\\MSAkdeniz_SC_MRs\\\\FA_TO_slice_0081.jpg  saved\n",
      "D:\\datasets\\ms\\MSAkdeniz_SpinalCord\\MSAkdeniz_SC_Masks\\\\FA_TO_GTmask_0082.jpg  saved\n",
      "D:\\datasets\\ms\\MSAkdeniz_SpinalCord\\MSAkdeniz_SC_MRs\\\\FA_TO_slice_0082.jpg  saved\n",
      "D:\\datasets\\ms\\MSAkdeniz_SpinalCord\\MSAkdeniz_SC_Masks\\\\FA_TO_GTmask_0083.jpg  saved\n",
      "D:\\datasets\\ms\\MSAkdeniz_SpinalCord\\MSAkdeniz_SC_MRs\\\\FA_TO_slice_0083.jpg  saved\n",
      "D:\\datasets\\ms\\MSAkdeniz_SpinalCord\\MSAkdeniz_SC_Masks\\\\FA_TO_GTmask_0084.jpg  saved\n",
      "D:\\datasets\\ms\\MSAkdeniz_SpinalCord\\MSAkdeniz_SC_MRs\\\\FA_TO_slice_0084.jpg  saved\n",
      "D:\\datasets\\ms\\MSAkdeniz_SpinalCord\\MSAkdeniz_SC_Masks\\\\FA_TO_GTmask_0085.jpg  saved\n",
      "D:\\datasets\\ms\\MSAkdeniz_SpinalCord\\MSAkdeniz_SC_MRs\\\\FA_TO_slice_0085.jpg  saved\n",
      "D:\\datasets\\ms\\MSAkdeniz_SpinalCord\\MSAkdeniz_SC_Masks\\\\FA_TO_GTmask_0086.jpg  saved\n"
     ]
    },
    {
     "name": "stderr",
     "output_type": "stream",
     "text": [
      "Lossy conversion from float64 to uint8. Range [0.0, 303.0]. Convert image to uint8 prior to saving to suppress this warning.\n",
      "Lossy conversion from float64 to uint8. Range [0, 1]. Convert image to uint8 prior to saving to suppress this warning.\n",
      "Lossy conversion from float64 to uint8. Range [0.0, 253.0]. Convert image to uint8 prior to saving to suppress this warning.\n",
      "Lossy conversion from float64 to uint8. Range [0, 1]. Convert image to uint8 prior to saving to suppress this warning.\n",
      "Lossy conversion from float64 to uint8. Range [0.0, 248.0]. Convert image to uint8 prior to saving to suppress this warning.\n"
     ]
    },
    {
     "name": "stdout",
     "output_type": "stream",
     "text": [
      "D:\\datasets\\ms\\MSAkdeniz_SpinalCord\\MSAkdeniz_SC_MRs\\\\FA_TO_slice_0086.jpg  saved\n",
      "D:\\datasets\\ms\\MSAkdeniz_SpinalCord\\MSAkdeniz_SC_Masks\\\\FA_TO_GTmask_0087.jpg  saved\n",
      "D:\\datasets\\ms\\MSAkdeniz_SpinalCord\\MSAkdeniz_SC_MRs\\\\FA_TO_slice_0087.jpg  saved\n",
      "D:\\datasets\\ms\\MSAkdeniz_SpinalCord\\MSAkdeniz_SC_Masks\\\\FA_TO_GTmask_0088.jpg  saved\n",
      "D:\\datasets\\ms\\MSAkdeniz_SpinalCord\\MSAkdeniz_SC_MRs\\\\FA_TO_slice_0088.jpg  saved\n",
      "FA_TO_B2_mask\n"
     ]
    },
    {
     "name": "stderr",
     "output_type": "stream",
     "text": [
      "Lossy conversion from float64 to uint8. Range [0, 1]. Convert image to uint8 prior to saving to suppress this warning.\n",
      "Lossy conversion from float64 to uint8. Range [0.0, 272.0]. Convert image to uint8 prior to saving to suppress this warning.\n",
      "Lossy conversion from float64 to uint8. Range [0, 1]. Convert image to uint8 prior to saving to suppress this warning.\n",
      "Lossy conversion from float64 to uint8. Range [0.0, 266.0]. Convert image to uint8 prior to saving to suppress this warning.\n",
      "Lossy conversion from float64 to uint8. Range [0, 1]. Convert image to uint8 prior to saving to suppress this warning.\n",
      "Lossy conversion from float64 to uint8. Range [0.0, 260.0]. Convert image to uint8 prior to saving to suppress this warning.\n",
      "Lossy conversion from float64 to uint8. Range [0, 1]. Convert image to uint8 prior to saving to suppress this warning.\n"
     ]
    },
    {
     "name": "stdout",
     "output_type": "stream",
     "text": [
      "True\n",
      "D:\\datasets\\ms\\MSAkdeniz_SpinalCord\\MSAkdeniz_SC_Masks\\\\FA_TO_GTmask_0079.jpg  saved\n",
      "D:\\datasets\\ms\\MSAkdeniz_SpinalCord\\MSAkdeniz_SC_MRs\\\\FA_TO_slice_0079.jpg  saved\n",
      "D:\\datasets\\ms\\MSAkdeniz_SpinalCord\\MSAkdeniz_SC_Masks\\\\FA_TO_GTmask_0080.jpg  saved\n",
      "D:\\datasets\\ms\\MSAkdeniz_SpinalCord\\MSAkdeniz_SC_MRs\\\\FA_TO_slice_0080.jpg  saved\n",
      "D:\\datasets\\ms\\MSAkdeniz_SpinalCord\\MSAkdeniz_SC_Masks\\\\FA_TO_GTmask_0081.jpg  saved\n",
      "D:\\datasets\\ms\\MSAkdeniz_SpinalCord\\MSAkdeniz_SC_MRs\\\\FA_TO_slice_0081.jpg  saved\n",
      "D:\\datasets\\ms\\MSAkdeniz_SpinalCord\\MSAkdeniz_SC_Masks\\\\FA_TO_GTmask_0082.jpg"
     ]
    },
    {
     "name": "stderr",
     "output_type": "stream",
     "text": [
      "Lossy conversion from float64 to uint8. Range [0.0, 282.0]. Convert image to uint8 prior to saving to suppress this warning.\n",
      "Lossy conversion from float64 to uint8. Range [0, 1]. Convert image to uint8 prior to saving to suppress this warning.\n",
      "Lossy conversion from float64 to uint8. Range [0.0, 314.0]. Convert image to uint8 prior to saving to suppress this warning.\n",
      "Lossy conversion from float64 to uint8. Range [0, 1]. Convert image to uint8 prior to saving to suppress this warning.\n",
      "Lossy conversion from float64 to uint8. Range [0.0, 291.0]. Convert image to uint8 prior to saving to suppress this warning.\n",
      "Lossy conversion from float64 to uint8. Range [0, 1]. Convert image to uint8 prior to saving to suppress this warning.\n",
      "Lossy conversion from float64 to uint8. Range [0.0, 293.0]. Convert image to uint8 prior to saving to suppress this warning.\n",
      "Lossy conversion from float64 to uint8. Range [0, 1]. Convert image to uint8 prior to saving to suppress this warning.\n",
      "Lossy conversion from float64 to uint8. Range [0.0, 287.0]. Convert image to uint8 prior to saving to suppress this warning.\n",
      "Lossy conversion from float64 to uint8. Range [0, 1]. Convert image to uint8 prior to saving to suppress this warning.\n",
      "Lossy conversion from float64 to uint8. Range [0.0, 281.0]. Convert image to uint8 prior to saving to suppress this warning.\n"
     ]
    },
    {
     "name": "stdout",
     "output_type": "stream",
     "text": [
      "  saved\n",
      "D:\\datasets\\ms\\MSAkdeniz_SpinalCord\\MSAkdeniz_SC_MRs\\\\FA_TO_slice_0082.jpg  saved\n",
      "D:\\datasets\\ms\\MSAkdeniz_SpinalCord\\MSAkdeniz_SC_Masks\\\\FA_TO_GTmask_0083.jpg  saved\n",
      "D:\\datasets\\ms\\MSAkdeniz_SpinalCord\\MSAkdeniz_SC_MRs\\\\FA_TO_slice_0083.jpg  saved\n",
      "D:\\datasets\\ms\\MSAkdeniz_SpinalCord\\MSAkdeniz_SC_Masks\\\\FA_TO_GTmask_0084.jpg  saved\n",
      "D:\\datasets\\ms\\MSAkdeniz_SpinalCord\\MSAkdeniz_SC_MRs\\\\FA_TO_slice_0084.jpg  saved\n",
      "D:\\datasets\\ms\\MSAkdeniz_SpinalCord\\MSAkdeniz_SC_Masks\\\\FA_TO_GTmask_0085.jpg  saved\n",
      "D:\\datasets\\ms\\MSAkdeniz_SpinalCord\\MSAkdeniz_SC_MRs\\\\FA_TO_slice_0085.jpg  saved\n",
      "D:\\datasets\\ms\\MSAkdeniz_SpinalCord\\MSAkdeniz_SC_Masks\\\\FA_TO_GTmask_0086.jpg  saved\n",
      "D:\\datasets\\ms\\MSAkdeniz_SpinalCord\\MSAkdeniz_SC_MRs\\\\FA_TO_slice_0086.jpg  saved\n",
      "D:\\datasets\\ms\\MSAkdeniz_SpinalCord\\MSAkdeniz_SC_Masks\\\\FA_TO_GTmask_0087.jpg  saved\n",
      "D:\\datasets\\ms\\MSAkdeniz_SpinalCord\\MSAkdeniz_SC_MRs\\\\FA_TO_slice_0087.jpg  saved\n"
     ]
    },
    {
     "name": "stderr",
     "output_type": "stream",
     "text": [
      "Lossy conversion from float64 to uint8. Range [0, 1]. Convert image to uint8 prior to saving to suppress this warning.\n",
      "Lossy conversion from float64 to uint8. Range [0.0, 300.0]. Convert image to uint8 prior to saving to suppress this warning.\n",
      "Lossy conversion from float64 to uint8. Range [0, 1]. Convert image to uint8 prior to saving to suppress this warning.\n",
      "Lossy conversion from float64 to uint8. Range [0.0, 315.0]. Convert image to uint8 prior to saving to suppress this warning.\n"
     ]
    },
    {
     "name": "stdout",
     "output_type": "stream",
     "text": [
      "D:\\datasets\\ms\\MSAkdeniz_SpinalCord\\MSAkdeniz_SC_Masks\\\\FA_TO_GTmask_0088.jpg  saved\n",
      "D:\\datasets\\ms\\MSAkdeniz_SpinalCord\\MSAkdeniz_SC_MRs\\\\FA_TO_slice_0088.jpg  saved\n",
      "D:\\datasets\\ms\\MSAkdeniz_SpinalCord\\MSAkdeniz_SC_Masks\\\\FA_TO_GTmask_0089.jpg  saved\n",
      "D:\\datasets\\ms\\MSAkdeniz_SpinalCord\\MSAkdeniz_SC_MRs\\\\FA_TO_slice_0089.jpg  saved\n",
      "FE_EL_B1_mask\n"
     ]
    },
    {
     "name": "stderr",
     "output_type": "stream",
     "text": [
      "Lossy conversion from float64 to uint8. Range [0, 1]. Convert image to uint8 prior to saving to suppress this warning.\n",
      "Lossy conversion from float64 to uint8. Range [0.0, 261.0]. Convert image to uint8 prior to saving to suppress this warning.\n",
      "Lossy conversion from float64 to uint8. Range [0, 1]. Convert image to uint8 prior to saving to suppress this warning.\n",
      "Lossy conversion from float64 to uint8. Range [0.0, 280.0]. Convert image to uint8 prior to saving to suppress this warning.\n"
     ]
    },
    {
     "name": "stdout",
     "output_type": "stream",
     "text": [
      "True\n",
      "D:\\datasets\\ms\\MSAkdeniz_SpinalCord\\MSAkdeniz_SC_Masks\\\\FE_EL_GTmask_0076.jpg  saved\n",
      "D:\\datasets\\ms\\MSAkdeniz_SpinalCord\\MSAkdeniz_SC_MRs\\\\FE_EL_slice_0076.jpg  saved\n",
      "D:\\datasets\\ms\\MSAkdeniz_SpinalCord\\MSAkdeniz_SC_Masks\\\\FE_EL_GTmask_0077.jpg  saved\n",
      "D:\\datasets\\ms\\MSAkdeniz_SpinalCord\\MSAkdeniz_SC_MRs\\\\FE_EL_slice_0077.jpg  saved"
     ]
    },
    {
     "name": "stderr",
     "output_type": "stream",
     "text": [
      "Lossy conversion from float64 to uint8. Range [0, 1]. Convert image to uint8 prior to saving to suppress this warning.\n",
      "Lossy conversion from float64 to uint8. Range [0.0, 308.0]. Convert image to uint8 prior to saving to suppress this warning.\n",
      "Lossy conversion from float64 to uint8. Range [0, 1]. Convert image to uint8 prior to saving to suppress this warning.\n",
      "Lossy conversion from float64 to uint8. Range [0.0, 349.0]. Convert image to uint8 prior to saving to suppress this warning.\n",
      "Lossy conversion from float64 to uint8. Range [0, 1]. Convert image to uint8 prior to saving to suppress this warning.\n",
      "Lossy conversion from float64 to uint8. Range [0.0, 321.0]. Convert image to uint8 prior to saving to suppress this warning.\n",
      "Lossy conversion from float64 to uint8. Range [0, 1]. Convert image to uint8 prior to saving to suppress this warning.\n",
      "Lossy conversion from float64 to uint8. Range [0.0, 295.0]. Convert image to uint8 prior to saving to suppress this warning.\n",
      "Lossy conversion from float64 to uint8. Range [0, 1]. Convert image to uint8 prior to saving to suppress this warning.\n",
      "Lossy conversion from float64 to uint8. Range [0.0, 289.0]. Convert image to uint8 prior to saving to suppress this warning.\n",
      "Lossy conversion from float64 to uint8. Range [0, 1]. Convert image to uint8 prior to saving to suppress this warning.\n",
      "Lossy conversion from float64 to uint8. Range [0.0, 284.0]. Convert image to uint8 prior to saving to suppress this warning.\n",
      "Lossy conversion from float64 to uint8. Range [0, 1]. Convert image to uint8 prior to saving to suppress this warning.\n"
     ]
    },
    {
     "name": "stdout",
     "output_type": "stream",
     "text": [
      "\n",
      "D:\\datasets\\ms\\MSAkdeniz_SpinalCord\\MSAkdeniz_SC_Masks\\\\FE_EL_GTmask_0078.jpg  saved\n",
      "D:\\datasets\\ms\\MSAkdeniz_SpinalCord\\MSAkdeniz_SC_MRs\\\\FE_EL_slice_0078.jpg  saved\n",
      "D:\\datasets\\ms\\MSAkdeniz_SpinalCord\\MSAkdeniz_SC_Masks\\\\FE_EL_GTmask_0079.jpg  saved\n",
      "D:\\datasets\\ms\\MSAkdeniz_SpinalCord\\MSAkdeniz_SC_MRs\\\\FE_EL_slice_0079.jpg  saved\n",
      "D:\\datasets\\ms\\MSAkdeniz_SpinalCord\\MSAkdeniz_SC_Masks\\\\FE_EL_GTmask_0080.jpg  saved\n",
      "D:\\datasets\\ms\\MSAkdeniz_SpinalCord\\MSAkdeniz_SC_MRs\\\\FE_EL_slice_0080.jpg  saved\n",
      "D:\\datasets\\ms\\MSAkdeniz_SpinalCord\\MSAkdeniz_SC_Masks\\\\FE_EL_GTmask_0081.jpg  saved\n",
      "D:\\datasets\\ms\\MSAkdeniz_SpinalCord\\MSAkdeniz_SC_MRs\\\\FE_EL_slice_0081.jpg  saved\n",
      "D:\\datasets\\ms\\MSAkdeniz_SpinalCord\\MSAkdeniz_SC_Masks\\\\FE_EL_GTmask_0082.jpg  saved\n",
      "D:\\datasets\\ms\\MSAkdeniz_SpinalCord\\MSAkdeniz_SC_MRs\\\\FE_EL_slice_0082.jpg  saved\n",
      "D:\\datasets\\ms\\MSAkdeniz_SpinalCord\\MSAkdeniz_SC_Masks\\\\FE_EL_GTmask_0083.jpg  saved\n",
      "D:\\datasets\\ms\\MSAkdeniz_SpinalCord\\MSAkdeniz_SC_MRs\\\\FE_EL_slice_0083.jpg  saved\n",
      "D:\\datasets\\ms\\MSAkdeniz_SpinalCord\\MSAkdeniz_SC_Masks\\\\FE_EL_GTmask_0084.jpg"
     ]
    },
    {
     "name": "stderr",
     "output_type": "stream",
     "text": [
      "Lossy conversion from float64 to uint8. Range [0.0, 309.0]. Convert image to uint8 prior to saving to suppress this warning.\n"
     ]
    },
    {
     "name": "stdout",
     "output_type": "stream",
     "text": [
      "  saved\n",
      "D:\\datasets\\ms\\MSAkdeniz_SpinalCord\\MSAkdeniz_SC_MRs\\\\FE_EL_slice_0084.jpg  saved\n",
      "FE_EL_B2_mask\n"
     ]
    },
    {
     "name": "stderr",
     "output_type": "stream",
     "text": [
      "Lossy conversion from float64 to uint8. Range [0, 1]. Convert image to uint8 prior to saving to suppress this warning.\n",
      "Lossy conversion from float64 to uint8. Range [0.0, 367.0]. Convert image to uint8 prior to saving to suppress this warning.\n",
      "Lossy conversion from float64 to uint8. Range [0, 1]. Convert image to uint8 prior to saving to suppress this warning.\n",
      "Lossy conversion from float64 to uint8. Range [0.0, 349.0]. Convert image to uint8 prior to saving to suppress this warning.\n",
      "Lossy conversion from float64 to uint8. Range [0, 1]. Convert image to uint8 prior to saving to suppress this warning.\n",
      "Lossy conversion from float64 to uint8. Range [0.0, 319.0]. Convert image to uint8 prior to saving to suppress this warning.\n"
     ]
    },
    {
     "name": "stdout",
     "output_type": "stream",
     "text": [
      "True\n",
      "D:\\datasets\\ms\\MSAkdeniz_SpinalCord\\MSAkdeniz_SC_Masks\\\\FE_EL_GTmask_0092.jpg  saved\n",
      "D:\\datasets\\ms\\MSAkdeniz_SpinalCord\\MSAkdeniz_SC_MRs\\\\FE_EL_slice_0092.jpg  saved\n",
      "D:\\datasets\\ms\\MSAkdeniz_SpinalCord\\MSAkdeniz_SC_Masks\\\\FE_EL_GTmask_0093.jpg  saved\n",
      "D:\\datasets\\ms\\MSAkdeniz_SpinalCord\\MSAkdeniz_SC_MRs\\\\FE_EL_slice_0093.jpg  saved\n",
      "D:\\datasets\\ms\\MSAkdeniz_SpinalCord\\MSAkdeniz_SC_Masks\\\\FE_EL_GTmask_0094.jpg  saved\n",
      "D:\\datasets\\ms\\MSAkdeniz_SpinalCord\\MSAkdeniz_SC_MRs\\\\FE_EL_slice_0094.jpg  saved\n"
     ]
    },
    {
     "name": "stderr",
     "output_type": "stream",
     "text": [
      "Lossy conversion from float64 to uint8. Range [0, 1]. Convert image to uint8 prior to saving to suppress this warning.\n",
      "Lossy conversion from float64 to uint8. Range [0.0, 317.0]. Convert image to uint8 prior to saving to suppress this warning.\n",
      "Lossy conversion from float64 to uint8. Range [0, 1]. Convert image to uint8 prior to saving to suppress this warning.\n",
      "Lossy conversion from float64 to uint8. Range [0.0, 276.0]. Convert image to uint8 prior to saving to suppress this warning.\n",
      "Lossy conversion from float64 to uint8. Range [0, 1]. Convert image to uint8 prior to saving to suppress this warning.\n",
      "Lossy conversion from float64 to uint8. Range [0.0, 291.0]. Convert image to uint8 prior to saving to suppress this warning.\n",
      "Lossy conversion from float64 to uint8. Range [0, 1]. Convert image to uint8 prior to saving to suppress this warning.\n",
      "Lossy conversion from float64 to uint8. Range [0.0, 308.0]. Convert image to uint8 prior to saving to suppress this warning.\n",
      "Lossy conversion from float64 to uint8. Range [0, 1]. Convert image to uint8 prior to saving to suppress this warning.\n",
      "Lossy conversion from float64 to uint8. Range [0.0, 329.0]. Convert image to uint8 prior to saving to suppress this warning.\n",
      "Lossy conversion from float64 to uint8. Range [0, 1]. Convert image to uint8 prior to saving to suppress this warning.\n",
      "Lossy conversion from float64 to uint8. Range [0.0, 370.0]. Convert image to uint8 prior to saving to suppress this warning.\n",
      "Lossy conversion from float64 to uint8. Range [0, 1]. Convert image to uint8 prior to saving to suppress this warning.\n",
      "Lossy conversion from float64 to uint8. Range [0.0, 343.0]. Convert image to uint8 prior to saving to suppress this warning.\n"
     ]
    },
    {
     "name": "stdout",
     "output_type": "stream",
     "text": [
      "D:\\datasets\\ms\\MSAkdeniz_SpinalCord\\MSAkdeniz_SC_Masks\\\\FE_EL_GTmask_0095.jpg  saved\n",
      "D:\\datasets\\ms\\MSAkdeniz_SpinalCord\\MSAkdeniz_SC_MRs\\\\FE_EL_slice_0095.jpg  saved\n",
      "D:\\datasets\\ms\\MSAkdeniz_SpinalCord\\MSAkdeniz_SC_Masks\\\\FE_EL_GTmask_0096.jpg  saved\n",
      "D:\\datasets\\ms\\MSAkdeniz_SpinalCord\\MSAkdeniz_SC_MRs\\\\FE_EL_slice_0096.jpg  saved\n",
      "D:\\datasets\\ms\\MSAkdeniz_SpinalCord\\MSAkdeniz_SC_Masks\\\\FE_EL_GTmask_0097.jpg  saved\n",
      "D:\\datasets\\ms\\MSAkdeniz_SpinalCord\\MSAkdeniz_SC_MRs\\\\FE_EL_slice_0097.jpg  saved\n",
      "D:\\datasets\\ms\\MSAkdeniz_SpinalCord\\MSAkdeniz_SC_Masks\\\\FE_EL_GTmask_0098.jpg  saved\n",
      "D:\\datasets\\ms\\MSAkdeniz_SpinalCord\\MSAkdeniz_SC_MRs\\\\FE_EL_slice_0098.jpg  saved\n",
      "D:\\datasets\\ms\\MSAkdeniz_SpinalCord\\MSAkdeniz_SC_Masks\\\\FE_EL_GTmask_0099.jpg  saved\n",
      "D:\\datasets\\ms\\MSAkdeniz_SpinalCord\\MSAkdeniz_SC_MRs\\\\FE_EL_slice_0099.jpg  saved\n",
      "D:\\datasets\\ms\\MSAkdeniz_SpinalCord\\MSAkdeniz_SC_Masks\\\\FE_EL_GTmask_0100.jpg  saved\n",
      "D:\\datasets\\ms\\MSAkdeniz_SpinalCord\\MSAkdeniz_SC_MRs\\\\FE_EL_slice_0100.jpg  saved\n",
      "D:\\datasets\\ms\\MSAkdeniz_SpinalCord\\MSAkdeniz_SC_Masks\\\\FE_EL_GTmask_0101.jpg  saved\n",
      "D:\\datasets\\ms\\MSAkdeniz_SpinalCord\\MSAkdeniz_SC_MRs\\\\FE_EL_slice_0101.jpg  saved\n",
      "GU_CO_B1_mask\n"
     ]
    },
    {
     "name": "stderr",
     "output_type": "stream",
     "text": [
      "Lossy conversion from float64 to uint8. Range [0, 1]. Convert image to uint8 prior to saving to suppress this warning.\n",
      "Lossy conversion from float64 to uint8. Range [0.0, 287.0]. Convert image to uint8 prior to saving to suppress this warning.\n",
      "Lossy conversion from float64 to uint8. Range [0, 1]. Convert image to uint8 prior to saving to suppress this warning.\n",
      "Lossy conversion from float64 to uint8. Range [0.0, 287.0]. Convert image to uint8 prior to saving to suppress this warning.\n",
      "Lossy conversion from float64 to uint8. Range [0, 1]. Convert image to uint8 prior to saving to suppress this warning.\n",
      "Lossy conversion from float64 to uint8. Range [0.0, 304.0]. Convert image to uint8 prior to saving to suppress this warning.\n"
     ]
    },
    {
     "name": "stdout",
     "output_type": "stream",
     "text": [
      "True\n",
      "D:\\datasets\\ms\\MSAkdeniz_SpinalCord\\MSAkdeniz_SC_Masks\\\\GU_CO_GTmask_0089.jpg  saved\n",
      "D:\\datasets\\ms\\MSAkdeniz_SpinalCord\\MSAkdeniz_SC_MRs\\\\GU_CO_slice_0089.jpg  saved\n",
      "D:\\datasets\\ms\\MSAkdeniz_SpinalCord\\MSAkdeniz_SC_Masks\\\\GU_CO_GTmask_0090.jpg  saved\n",
      "D:\\datasets\\ms\\MSAkdeniz_SpinalCord\\MSAkdeniz_SC_MRs\\\\GU_CO_slice_0090.jpg  saved\n",
      "D:\\datasets\\ms\\MSAkdeniz_SpinalCord\\MSAkdeniz_SC_Masks\\\\GU_CO_GTmask_0091.jpg  saved\n"
     ]
    },
    {
     "name": "stderr",
     "output_type": "stream",
     "text": [
      "Lossy conversion from float64 to uint8. Range [0, 1]. Convert image to uint8 prior to saving to suppress this warning.\n",
      "Lossy conversion from float64 to uint8. Range [0.0, 337.0]. Convert image to uint8 prior to saving to suppress this warning.\n",
      "Lossy conversion from float64 to uint8. Range [0, 1]. Convert image to uint8 prior to saving to suppress this warning.\n",
      "Lossy conversion from float64 to uint8. Range [0.0, 342.0]. Convert image to uint8 prior to saving to suppress this warning.\n",
      "Lossy conversion from float64 to uint8. Range [0, 1]. Convert image to uint8 prior to saving to suppress this warning.\n",
      "Lossy conversion from float64 to uint8. Range [0.0, 319.0]. Convert image to uint8 prior to saving to suppress this warning.\n",
      "Lossy conversion from float64 to uint8. Range [0, 1]. Convert image to uint8 prior to saving to suppress this warning.\n",
      "Lossy conversion from float64 to uint8. Range [0.0, 337.0]. Convert image to uint8 prior to saving to suppress this warning.\n",
      "Lossy conversion from float64 to uint8. Range [0, 1]. Convert image to uint8 prior to saving to suppress this warning.\n"
     ]
    },
    {
     "name": "stdout",
     "output_type": "stream",
     "text": [
      "D:\\datasets\\ms\\MSAkdeniz_SpinalCord\\MSAkdeniz_SC_MRs\\\\GU_CO_slice_0091.jpg  saved\n",
      "D:\\datasets\\ms\\MSAkdeniz_SpinalCord\\MSAkdeniz_SC_Masks\\\\GU_CO_GTmask_0092.jpg  saved\n",
      "D:\\datasets\\ms\\MSAkdeniz_SpinalCord\\MSAkdeniz_SC_MRs\\\\GU_CO_slice_0092.jpg  saved\n",
      "D:\\datasets\\ms\\MSAkdeniz_SpinalCord\\MSAkdeniz_SC_Masks\\\\GU_CO_GTmask_0093.jpg  saved\n",
      "D:\\datasets\\ms\\MSAkdeniz_SpinalCord\\MSAkdeniz_SC_MRs\\\\GU_CO_slice_0093.jpg  saved\n",
      "D:\\datasets\\ms\\MSAkdeniz_SpinalCord\\MSAkdeniz_SC_Masks\\\\GU_CO_GTmask_0094.jpg  saved\n",
      "D:\\datasets\\ms\\MSAkdeniz_SpinalCord\\MSAkdeniz_SC_MRs\\\\GU_CO_slice_0094.jpg  saved\n",
      "D:\\datasets\\ms\\MSAkdeniz_SpinalCord\\MSAkdeniz_SC_Masks\\\\GU_CO_GTmask_0095.jpg  saved\n",
      "D:\\datasets\\ms\\MSAkdeniz_SpinalCord\\MSAkdeniz_SC_MRs\\\\GU_CO_slice_0095.jpg  saved\n",
      "D:\\datasets\\ms\\MSAkdeniz_SpinalCord\\MSAkdeniz_SC_Masks\\\\GU_CO_GTmask_0096.jpg  saved\n"
     ]
    },
    {
     "name": "stderr",
     "output_type": "stream",
     "text": [
      "Lossy conversion from float64 to uint8. Range [0.0, 290.0]. Convert image to uint8 prior to saving to suppress this warning.\n",
      "Lossy conversion from float64 to uint8. Range [0, 1]. Convert image to uint8 prior to saving to suppress this warning.\n",
      "Lossy conversion from float64 to uint8. Range [0.0, 280.0]. Convert image to uint8 prior to saving to suppress this warning.\n"
     ]
    },
    {
     "name": "stdout",
     "output_type": "stream",
     "text": [
      "D:\\datasets\\ms\\MSAkdeniz_SpinalCord\\MSAkdeniz_SC_MRs\\\\GU_CO_slice_0096.jpg  saved\n",
      "D:\\datasets\\ms\\MSAkdeniz_SpinalCord\\MSAkdeniz_SC_Masks\\\\GU_CO_GTmask_0097.jpg  saved\n",
      "D:\\datasets\\ms\\MSAkdeniz_SpinalCord\\MSAkdeniz_SC_MRs\\\\GU_CO_slice_0097.jpg  saved\n",
      "GU_CO_B2_mask\n"
     ]
    },
    {
     "name": "stderr",
     "output_type": "stream",
     "text": [
      "Lossy conversion from float64 to uint8. Range [0, 1]. Convert image to uint8 prior to saving to suppress this warning.\n",
      "Lossy conversion from float64 to uint8. Range [0.0, 273.0]. Convert image to uint8 prior to saving to suppress this warning.\n",
      "Lossy conversion from float64 to uint8. Range [0, 1]. Convert image to uint8 prior to saving to suppress this warning.\n"
     ]
    },
    {
     "name": "stdout",
     "output_type": "stream",
     "text": [
      "True\n",
      "D:\\datasets\\ms\\MSAkdeniz_SpinalCord\\MSAkdeniz_SC_Masks\\\\GU_CO_GTmask_0083.jpg  saved\n",
      "D:\\datasets\\ms\\MSAkdeniz_SpinalCord\\MSAkdeniz_SC_MRs\\\\GU_CO_slice_0083.jpg  saved\n",
      "D:\\datasets\\ms\\MSAkdeniz_SpinalCord\\MSAkdeniz_SC_Masks\\\\GU_CO_GTmask_0084.jpg"
     ]
    },
    {
     "name": "stderr",
     "output_type": "stream",
     "text": [
      "Lossy conversion from float64 to uint8. Range [0.0, 275.0]. Convert image to uint8 prior to saving to suppress this warning.\n",
      "Lossy conversion from float64 to uint8. Range [0, 1]. Convert image to uint8 prior to saving to suppress this warning.\n",
      "Lossy conversion from float64 to uint8. Range [0.0, 272.0]. Convert image to uint8 prior to saving to suppress this warning.\n",
      "Lossy conversion from float64 to uint8. Range [0, 1]. Convert image to uint8 prior to saving to suppress this warning.\n",
      "Lossy conversion from float64 to uint8. Range [0.0, 287.0]. Convert image to uint8 prior to saving to suppress this warning.\n",
      "Lossy conversion from float64 to uint8. Range [0, 1]. Convert image to uint8 prior to saving to suppress this warning.\n",
      "Lossy conversion from float64 to uint8. Range [0.0, 281.0]. Convert image to uint8 prior to saving to suppress this warning.\n",
      "Lossy conversion from float64 to uint8. Range [0, 1]. Convert image to uint8 prior to saving to suppress this warning.\n",
      "Lossy conversion from float64 to uint8. Range [0.0, 295.0]. Convert image to uint8 prior to saving to suppress this warning.\n",
      "Lossy conversion from float64 to uint8. Range [0, 1]. Convert image to uint8 prior to saving to suppress this warning.\n",
      "Lossy conversion from float64 to uint8. Range [0.0, 266.0]. Convert image to uint8 prior to saving to suppress this warning.\n",
      "Lossy conversion from float64 to uint8. Range [0, 1]. Convert image to uint8 prior to saving to suppress this warning.\n"
     ]
    },
    {
     "name": "stdout",
     "output_type": "stream",
     "text": [
      "  saved\n",
      "D:\\datasets\\ms\\MSAkdeniz_SpinalCord\\MSAkdeniz_SC_MRs\\\\GU_CO_slice_0084.jpg  saved\n",
      "D:\\datasets\\ms\\MSAkdeniz_SpinalCord\\MSAkdeniz_SC_Masks\\\\GU_CO_GTmask_0085.jpg  saved\n",
      "D:\\datasets\\ms\\MSAkdeniz_SpinalCord\\MSAkdeniz_SC_MRs\\\\GU_CO_slice_0085.jpg  saved\n",
      "D:\\datasets\\ms\\MSAkdeniz_SpinalCord\\MSAkdeniz_SC_Masks\\\\GU_CO_GTmask_0086.jpg  saved\n",
      "D:\\datasets\\ms\\MSAkdeniz_SpinalCord\\MSAkdeniz_SC_MRs\\\\GU_CO_slice_0086.jpg  saved\n",
      "D:\\datasets\\ms\\MSAkdeniz_SpinalCord\\MSAkdeniz_SC_Masks\\\\GU_CO_GTmask_0087.jpg  saved\n",
      "D:\\datasets\\ms\\MSAkdeniz_SpinalCord\\MSAkdeniz_SC_MRs\\\\GU_CO_slice_0087.jpg  saved\n",
      "D:\\datasets\\ms\\MSAkdeniz_SpinalCord\\MSAkdeniz_SC_Masks\\\\GU_CO_GTmask_0088.jpg  saved\n",
      "D:\\datasets\\ms\\MSAkdeniz_SpinalCord\\MSAkdeniz_SC_MRs\\\\GU_CO_slice_0088.jpg  saved\n",
      "D:\\datasets\\ms\\MSAkdeniz_SpinalCord\\MSAkdeniz_SC_Masks\\\\GU_CO_GTmask_0089.jpg  saved\n",
      "D:\\datasets\\ms\\MSAkdeniz_SpinalCord\\MSAkdeniz_SC_MRs\\\\GU_CO_slice_0089.jpg  saved\n",
      "D:\\datasets\\ms\\MSAkdeniz_SpinalCord\\MSAkdeniz_SC_Masks\\\\GU_CO_GTmask_0090.jpg"
     ]
    },
    {
     "name": "stderr",
     "output_type": "stream",
     "text": [
      "Lossy conversion from float64 to uint8. Range [0.0, 273.0]. Convert image to uint8 prior to saving to suppress this warning.\n",
      "Lossy conversion from float64 to uint8. Range [0, 1]. Convert image to uint8 prior to saving to suppress this warning.\n",
      "Lossy conversion from float64 to uint8. Range [0.0, 260.0]. Convert image to uint8 prior to saving to suppress this warning.\n"
     ]
    },
    {
     "name": "stdout",
     "output_type": "stream",
     "text": [
      "  saved\n",
      "D:\\datasets\\ms\\MSAkdeniz_SpinalCord\\MSAkdeniz_SC_MRs\\\\GU_CO_slice_0090.jpg  saved\n",
      "D:\\datasets\\ms\\MSAkdeniz_SpinalCord\\MSAkdeniz_SC_Masks\\\\GU_CO_GTmask_0091.jpg  saved\n",
      "D:\\datasets\\ms\\MSAkdeniz_SpinalCord\\MSAkdeniz_SC_MRs\\\\GU_CO_slice_0091.jpg  saved\n",
      "HA_AK_B1_mask\n"
     ]
    },
    {
     "name": "stderr",
     "output_type": "stream",
     "text": [
      "Lossy conversion from float64 to uint8. Range [0, 1]. Convert image to uint8 prior to saving to suppress this warning.\n",
      "Lossy conversion from float64 to uint8. Range [0.0, 287.0]. Convert image to uint8 prior to saving to suppress this warning.\n",
      "Lossy conversion from float64 to uint8. Range [0, 1]. Convert image to uint8 prior to saving to suppress this warning.\n",
      "Lossy conversion from float64 to uint8. Range [0.0, 313.0]. Convert image to uint8 prior to saving to suppress this warning.\n",
      "Lossy conversion from float64 to uint8. Range [0, 1]. Convert image to uint8 prior to saving to suppress this warning.\n",
      "Lossy conversion from float64 to uint8. Range [0.0, 292.0]. Convert image to uint8 prior to saving to suppress this warning.\n",
      "Lossy conversion from float64 to uint8. Range [0, 1]. Convert image to uint8 prior to saving to suppress this warning.\n",
      "Lossy conversion from float64 to uint8. Range [0.0, 284.0]. Convert image to uint8 prior to saving to suppress this warning.\n"
     ]
    },
    {
     "name": "stdout",
     "output_type": "stream",
     "text": [
      "True\n",
      "D:\\datasets\\ms\\MSAkdeniz_SpinalCord\\MSAkdeniz_SC_Masks\\\\HA_AK_GTmask_0095.jpg  saved\n",
      "D:\\datasets\\ms\\MSAkdeniz_SpinalCord\\MSAkdeniz_SC_MRs\\\\HA_AK_slice_0095.jpg  saved\n",
      "D:\\datasets\\ms\\MSAkdeniz_SpinalCord\\MSAkdeniz_SC_Masks\\\\HA_AK_GTmask_0096.jpg  saved\n",
      "D:\\datasets\\ms\\MSAkdeniz_SpinalCord\\MSAkdeniz_SC_MRs\\\\HA_AK_slice_0096.jpg  saved\n",
      "D:\\datasets\\ms\\MSAkdeniz_SpinalCord\\MSAkdeniz_SC_Masks\\\\HA_AK_GTmask_0097.jpg  saved\n",
      "D:\\datasets\\ms\\MSAkdeniz_SpinalCord\\MSAkdeniz_SC_MRs\\\\HA_AK_slice_0097.jpg  saved\n",
      "D:\\datasets\\ms\\MSAkdeniz_SpinalCord\\MSAkdeniz_SC_Masks\\\\HA_AK_GTmask_0098.jpg  saved\n",
      "D:\\datasets\\ms\\MSAkdeniz_SpinalCord\\MSAkdeniz_SC_MRs\\\\HA_AK_slice_0098.jpg  saved\n"
     ]
    },
    {
     "name": "stderr",
     "output_type": "stream",
     "text": [
      "Lossy conversion from float64 to uint8. Range [0, 1]. Convert image to uint8 prior to saving to suppress this warning.\n",
      "Lossy conversion from float64 to uint8. Range [0.0, 288.0]. Convert image to uint8 prior to saving to suppress this warning.\n",
      "Lossy conversion from float64 to uint8. Range [0, 1]. Convert image to uint8 prior to saving to suppress this warning.\n",
      "Lossy conversion from float64 to uint8. Range [0.0, 300.0]. Convert image to uint8 prior to saving to suppress this warning.\n",
      "Lossy conversion from float64 to uint8. Range [0, 1]. Convert image to uint8 prior to saving to suppress this warning.\n",
      "Lossy conversion from float64 to uint8. Range [0.0, 306.0]. Convert image to uint8 prior to saving to suppress this warning.\n",
      "Lossy conversion from float64 to uint8. Range [0, 1]. Convert image to uint8 prior to saving to suppress this warning.\n",
      "Lossy conversion from float64 to uint8. Range [0.0, 274.0]. Convert image to uint8 prior to saving to suppress this warning.\n",
      "Lossy conversion from float64 to uint8. Range [0, 1]. Convert image to uint8 prior to saving to suppress this warning.\n",
      "Lossy conversion from float64 to uint8. Range [0.0, 279.0]. Convert image to uint8 prior to saving to suppress this warning.\n",
      "Lossy conversion from float64 to uint8. Range [0, 1]. Convert image to uint8 prior to saving to suppress this warning.\n",
      "Lossy conversion from float64 to uint8. Range [0.0, 325.0]. Convert image to uint8 prior to saving to suppress this warning.\n",
      "Lossy conversion from float64 to uint8. Range [0, 1]. Convert image to uint8 prior to saving to suppress this warning.\n",
      "Lossy conversion from float64 to uint8. Range [0.0, 331.0]. Convert image to uint8 prior to saving to suppress this warning.\n"
     ]
    },
    {
     "name": "stdout",
     "output_type": "stream",
     "text": [
      "D:\\datasets\\ms\\MSAkdeniz_SpinalCord\\MSAkdeniz_SC_Masks\\\\HA_AK_GTmask_0099.jpg  saved\n",
      "D:\\datasets\\ms\\MSAkdeniz_SpinalCord\\MSAkdeniz_SC_MRs\\\\HA_AK_slice_0099.jpg  saved\n",
      "D:\\datasets\\ms\\MSAkdeniz_SpinalCord\\MSAkdeniz_SC_Masks\\\\HA_AK_GTmask_0100.jpg  saved\n",
      "D:\\datasets\\ms\\MSAkdeniz_SpinalCord\\MSAkdeniz_SC_MRs\\\\HA_AK_slice_0100.jpg  saved\n",
      "D:\\datasets\\ms\\MSAkdeniz_SpinalCord\\MSAkdeniz_SC_Masks\\\\HA_AK_GTmask_0101.jpg  saved\n",
      "D:\\datasets\\ms\\MSAkdeniz_SpinalCord\\MSAkdeniz_SC_MRs\\\\HA_AK_slice_0101.jpg  saved\n",
      "D:\\datasets\\ms\\MSAkdeniz_SpinalCord\\MSAkdeniz_SC_Masks\\\\HA_AK_GTmask_0102.jpg  saved\n",
      "D:\\datasets\\ms\\MSAkdeniz_SpinalCord\\MSAkdeniz_SC_MRs\\\\HA_AK_slice_0102.jpg  saved\n",
      "D:\\datasets\\ms\\MSAkdeniz_SpinalCord\\MSAkdeniz_SC_Masks\\\\HA_AK_GTmask_0103.jpg  saved\n",
      "D:\\datasets\\ms\\MSAkdeniz_SpinalCord\\MSAkdeniz_SC_MRs\\\\HA_AK_slice_0103.jpg  saved\n",
      "D:\\datasets\\ms\\MSAkdeniz_SpinalCord\\MSAkdeniz_SC_Masks\\\\HA_AK_GTmask_0104.jpg  saved\n",
      "D:\\datasets\\ms\\MSAkdeniz_SpinalCord\\MSAkdeniz_SC_MRs\\\\HA_AK_slice_0104.jpg  saved\n",
      "D:\\datasets\\ms\\MSAkdeniz_SpinalCord\\MSAkdeniz_SC_Masks\\\\HA_AK_GTmask_0105.jpg  saved\n",
      "D:\\datasets\\ms\\MSAkdeniz_SpinalCord\\MSAkdeniz_SC_MRs\\\\HA_AK_slice_0105.jpg  saved\n",
      "HA_AK_B2_mask\n"
     ]
    },
    {
     "name": "stderr",
     "output_type": "stream",
     "text": [
      "Lossy conversion from float64 to uint8. Range [0, 1]. Convert image to uint8 prior to saving to suppress this warning.\n",
      "Lossy conversion from float64 to uint8. Range [0.0, 262.0]. Convert image to uint8 prior to saving to suppress this warning.\n",
      "Lossy conversion from float64 to uint8. Range [0, 1]. Convert image to uint8 prior to saving to suppress this warning.\n",
      "Lossy conversion from float64 to uint8. Range [0.0, 261.0]. Convert image to uint8 prior to saving to suppress this warning.\n",
      "Lossy conversion from float64 to uint8. Range [0, 1]. Convert image to uint8 prior to saving to suppress this warning.\n",
      "Lossy conversion from float64 to uint8. Range [0.0, 251.0]. Convert image to uint8 prior to saving to suppress this warning.\n",
      "Lossy conversion from float64 to uint8. Range [0, 1]. Convert image to uint8 prior to saving to suppress this warning.\n"
     ]
    },
    {
     "name": "stdout",
     "output_type": "stream",
     "text": [
      "True\n",
      "D:\\datasets\\ms\\MSAkdeniz_SpinalCord\\MSAkdeniz_SC_Masks\\\\HA_AK_GTmask_0093.jpg  saved\n",
      "D:\\datasets\\ms\\MSAkdeniz_SpinalCord\\MSAkdeniz_SC_MRs\\\\HA_AK_slice_0093.jpg  saved\n",
      "D:\\datasets\\ms\\MSAkdeniz_SpinalCord\\MSAkdeniz_SC_Masks\\\\HA_AK_GTmask_0094.jpg  saved\n",
      "D:\\datasets\\ms\\MSAkdeniz_SpinalCord\\MSAkdeniz_SC_MRs\\\\HA_AK_slice_0094.jpg  saved\n",
      "D:\\datasets\\ms\\MSAkdeniz_SpinalCord\\MSAkdeniz_SC_Masks\\\\HA_AK_GTmask_0095.jpg  saved\n",
      "D:\\datasets\\ms\\MSAkdeniz_SpinalCord\\MSAkdeniz_SC_MRs\\\\HA_AK_slice_0095.jpg  saved\n",
      "D:\\datasets\\ms\\MSAkdeniz_SpinalCord\\MSAkdeniz_SC_Masks\\\\HA_AK_GTmask_0096.jpg"
     ]
    },
    {
     "name": "stderr",
     "output_type": "stream",
     "text": [
      "Lossy conversion from float64 to uint8. Range [0.0, 283.0]. Convert image to uint8 prior to saving to suppress this warning.\n",
      "Lossy conversion from float64 to uint8. Range [0, 1]. Convert image to uint8 prior to saving to suppress this warning.\n",
      "Lossy conversion from float64 to uint8. Range [0.0, 298.0]. Convert image to uint8 prior to saving to suppress this warning.\n",
      "Lossy conversion from float64 to uint8. Range [0, 1]. Convert image to uint8 prior to saving to suppress this warning.\n",
      "Lossy conversion from float64 to uint8. Range [0.0, 285.0]. Convert image to uint8 prior to saving to suppress this warning.\n",
      "Lossy conversion from float64 to uint8. Range [0, 1]. Convert image to uint8 prior to saving to suppress this warning.\n",
      "Lossy conversion from float64 to uint8. Range [0.0, 264.0]. Convert image to uint8 prior to saving to suppress this warning.\n",
      "Lossy conversion from float64 to uint8. Range [0, 1]. Convert image to uint8 prior to saving to suppress this warning.\n",
      "Lossy conversion from float64 to uint8. Range [0.0, 284.0]. Convert image to uint8 prior to saving to suppress this warning.\n",
      "Lossy conversion from float64 to uint8. Range [0, 1]. Convert image to uint8 prior to saving to suppress this warning.\n",
      "Lossy conversion from float64 to uint8. Range [0.0, 261.0]. Convert image to uint8 prior to saving to suppress this warning.\n",
      "Lossy conversion from float64 to uint8. Range [0, 1]. Convert image to uint8 prior to saving to suppress this warning.\n",
      "Lossy conversion from float64 to uint8. Range [0.0, 264.0]. Convert image to uint8 prior to saving to suppress this warning.\n"
     ]
    },
    {
     "name": "stdout",
     "output_type": "stream",
     "text": [
      "  saved\n",
      "D:\\datasets\\ms\\MSAkdeniz_SpinalCord\\MSAkdeniz_SC_MRs\\\\HA_AK_slice_0096.jpg  saved\n",
      "D:\\datasets\\ms\\MSAkdeniz_SpinalCord\\MSAkdeniz_SC_Masks\\\\HA_AK_GTmask_0097.jpg  saved\n",
      "D:\\datasets\\ms\\MSAkdeniz_SpinalCord\\MSAkdeniz_SC_MRs\\\\HA_AK_slice_0097.jpg  saved\n",
      "D:\\datasets\\ms\\MSAkdeniz_SpinalCord\\MSAkdeniz_SC_Masks\\\\HA_AK_GTmask_0098.jpg  saved\n",
      "D:\\datasets\\ms\\MSAkdeniz_SpinalCord\\MSAkdeniz_SC_MRs\\\\HA_AK_slice_0098.jpg  saved\n",
      "D:\\datasets\\ms\\MSAkdeniz_SpinalCord\\MSAkdeniz_SC_Masks\\\\HA_AK_GTmask_0099.jpg  saved\n",
      "D:\\datasets\\ms\\MSAkdeniz_SpinalCord\\MSAkdeniz_SC_MRs\\\\HA_AK_slice_0099.jpg  saved\n",
      "D:\\datasets\\ms\\MSAkdeniz_SpinalCord\\MSAkdeniz_SC_Masks\\\\HA_AK_GTmask_0100.jpg  saved\n",
      "D:\\datasets\\ms\\MSAkdeniz_SpinalCord\\MSAkdeniz_SC_MRs\\\\HA_AK_slice_0100.jpg  saved\n",
      "D:\\datasets\\ms\\MSAkdeniz_SpinalCord\\MSAkdeniz_SC_Masks\\\\HA_AK_GTmask_0101.jpg  saved\n",
      "D:\\datasets\\ms\\MSAkdeniz_SpinalCord\\MSAkdeniz_SC_MRs\\\\HA_AK_slice_0101.jpg  saved\n",
      "D:\\datasets\\ms\\MSAkdeniz_SpinalCord\\MSAkdeniz_SC_Masks\\\\HA_AK_GTmask_0102.jpg  saved\n",
      "D:\\datasets\\ms\\MSAkdeniz_SpinalCord\\MSAkdeniz_SC_MRs\\\\HA_AK_slice_0102.jpg  saved\n",
      "HA_KA_B1_mask\n"
     ]
    },
    {
     "name": "stderr",
     "output_type": "stream",
     "text": [
      "Lossy conversion from float64 to uint8. Range [0, 1]. Convert image to uint8 prior to saving to suppress this warning.\n",
      "Lossy conversion from float64 to uint8. Range [0.0, 326.0]. Convert image to uint8 prior to saving to suppress this warning.\n",
      "Lossy conversion from float64 to uint8. Range [0, 1]. Convert image to uint8 prior to saving to suppress this warning.\n",
      "Lossy conversion from float64 to uint8. Range [0.0, 302.0]. Convert image to uint8 prior to saving to suppress this warning.\n",
      "Lossy conversion from float64 to uint8. Range [0, 1]. Convert image to uint8 prior to saving to suppress this warning.\n",
      "Lossy conversion from float64 to uint8. Range [0.0, 266.0]. Convert image to uint8 prior to saving to suppress this warning.\n",
      "Lossy conversion from float64 to uint8. Range [0, 1]. Convert image to uint8 prior to saving to suppress this warning.\n",
      "Lossy conversion from float64 to uint8. Range [0.0, 271.0]. Convert image to uint8 prior to saving to suppress this warning.\n",
      "Lossy conversion from float64 to uint8. Range [0, 1]. Convert image to uint8 prior to saving to suppress this warning.\n",
      "Lossy conversion from float64 to uint8. Range [0.0, 247.0]. Convert image to uint8 prior to saving to suppress this warning.\n"
     ]
    },
    {
     "name": "stdout",
     "output_type": "stream",
     "text": [
      "True\n",
      "D:\\datasets\\ms\\MSAkdeniz_SpinalCord\\MSAkdeniz_SC_Masks\\\\HA_KA_GTmask_0085.jpg  saved\n",
      "D:\\datasets\\ms\\MSAkdeniz_SpinalCord\\MSAkdeniz_SC_MRs\\\\HA_KA_slice_0085.jpg  saved\n",
      "D:\\datasets\\ms\\MSAkdeniz_SpinalCord\\MSAkdeniz_SC_Masks\\\\HA_KA_GTmask_0086.jpg  saved\n",
      "D:\\datasets\\ms\\MSAkdeniz_SpinalCord\\MSAkdeniz_SC_MRs\\\\HA_KA_slice_0086.jpg  saved\n",
      "D:\\datasets\\ms\\MSAkdeniz_SpinalCord\\MSAkdeniz_SC_Masks\\\\HA_KA_GTmask_0087.jpg  saved\n",
      "D:\\datasets\\ms\\MSAkdeniz_SpinalCord\\MSAkdeniz_SC_MRs\\\\HA_KA_slice_0087.jpg  saved\n",
      "D:\\datasets\\ms\\MSAkdeniz_SpinalCord\\MSAkdeniz_SC_Masks\\\\HA_KA_GTmask_0088.jpg  saved\n",
      "D:\\datasets\\ms\\MSAkdeniz_SpinalCord\\MSAkdeniz_SC_MRs\\\\HA_KA_slice_0088.jpg  saved\n",
      "D:\\datasets\\ms\\MSAkdeniz_SpinalCord\\MSAkdeniz_SC_Masks\\\\HA_KA_GTmask_0089.jpg  saved\n"
     ]
    },
    {
     "name": "stderr",
     "output_type": "stream",
     "text": [
      "Lossy conversion from float64 to uint8. Range [0, 1]. Convert image to uint8 prior to saving to suppress this warning.\n",
      "Lossy conversion from float64 to uint8. Range [0.0, 278.0]. Convert image to uint8 prior to saving to suppress this warning.\n",
      "Lossy conversion from float64 to uint8. Range [0, 1]. Convert image to uint8 prior to saving to suppress this warning.\n",
      "Lossy conversion from float64 to uint8. Range [0.0, 266.0]. Convert image to uint8 prior to saving to suppress this warning.\n",
      "Lossy conversion from float64 to uint8. Range [0, 1]. Convert image to uint8 prior to saving to suppress this warning.\n",
      "Lossy conversion from float64 to uint8. Range [0.0, 246.0]. Convert image to uint8 prior to saving to suppress this warning.\n",
      "Lossy conversion from float64 to uint8. Range [0, 1]. Convert image to uint8 prior to saving to suppress this warning.\n",
      "Lossy conversion from float64 to uint8. Range [0.0, 264.0]. Convert image to uint8 prior to saving to suppress this warning.\n",
      "Lossy conversion from float64 to uint8. Range [0, 1]. Convert image to uint8 prior to saving to suppress this warning.\n",
      "Lossy conversion from float64 to uint8. Range [0.0, 231.0]. Convert image to uint8 prior to saving to suppress this warning.\n"
     ]
    },
    {
     "name": "stdout",
     "output_type": "stream",
     "text": [
      "D:\\datasets\\ms\\MSAkdeniz_SpinalCord\\MSAkdeniz_SC_MRs\\\\HA_KA_slice_0089.jpg  saved\n",
      "D:\\datasets\\ms\\MSAkdeniz_SpinalCord\\MSAkdeniz_SC_Masks\\\\HA_KA_GTmask_0090.jpg  saved\n",
      "D:\\datasets\\ms\\MSAkdeniz_SpinalCord\\MSAkdeniz_SC_MRs\\\\HA_KA_slice_0090.jpg  saved\n",
      "D:\\datasets\\ms\\MSAkdeniz_SpinalCord\\MSAkdeniz_SC_Masks\\\\HA_KA_GTmask_0091.jpg  saved\n",
      "D:\\datasets\\ms\\MSAkdeniz_SpinalCord\\MSAkdeniz_SC_MRs\\\\HA_KA_slice_0091.jpg  saved\n",
      "D:\\datasets\\ms\\MSAkdeniz_SpinalCord\\MSAkdeniz_SC_Masks\\\\HA_KA_GTmask_0092.jpg  saved\n",
      "D:\\datasets\\ms\\MSAkdeniz_SpinalCord\\MSAkdeniz_SC_MRs\\\\HA_KA_slice_0092.jpg  saved\n",
      "D:\\datasets\\ms\\MSAkdeniz_SpinalCord\\MSAkdeniz_SC_Masks\\\\HA_KA_GTmask_0093.jpg  saved\n",
      "D:\\datasets\\ms\\MSAkdeniz_SpinalCord\\MSAkdeniz_SC_MRs\\\\HA_KA_slice_0093.jpg  saved\n",
      "D:\\datasets\\ms\\MSAkdeniz_SpinalCord\\MSAkdeniz_SC_Masks\\\\HA_KA_GTmask_0094.jpg  saved\n",
      "D:\\datasets\\ms\\MSAkdeniz_SpinalCord\\MSAkdeniz_SC_MRs\\\\HA_KA_slice_0094.jpg  saved\n",
      "HA_KA_B2_mask\n"
     ]
    },
    {
     "name": "stderr",
     "output_type": "stream",
     "text": [
      "Lossy conversion from float64 to uint8. Range [0, 1]. Convert image to uint8 prior to saving to suppress this warning.\n",
      "Lossy conversion from float64 to uint8. Range [0.0, 283.0]. Convert image to uint8 prior to saving to suppress this warning.\n",
      "Lossy conversion from float64 to uint8. Range [0, 1]. Convert image to uint8 prior to saving to suppress this warning.\n",
      "Lossy conversion from float64 to uint8. Range [0.0, 322.0]. Convert image to uint8 prior to saving to suppress this warning.\n",
      "Lossy conversion from float64 to uint8. Range [0, 1]. Convert image to uint8 prior to saving to suppress this warning.\n",
      "Lossy conversion from float64 to uint8. Range [0.0, 326.0]. Convert image to uint8 prior to saving to suppress this warning.\n",
      "Lossy conversion from float64 to uint8. Range [0, 1]. Convert image to uint8 prior to saving to suppress this warning.\n",
      "Lossy conversion from float64 to uint8. Range [0.0, 264.0]. Convert image to uint8 prior to saving to suppress this warning.\n",
      "Lossy conversion from float64 to uint8. Range [0, 1]. Convert image to uint8 prior to saving to suppress this warning.\n",
      "Lossy conversion from float64 to uint8. Range [0.0, 274.0]. Convert image to uint8 prior to saving to suppress this warning.\n"
     ]
    },
    {
     "name": "stdout",
     "output_type": "stream",
     "text": [
      "True\n",
      "D:\\datasets\\ms\\MSAkdeniz_SpinalCord\\MSAkdeniz_SC_Masks\\\\HA_KA_GTmask_0081.jpg  saved\n",
      "D:\\datasets\\ms\\MSAkdeniz_SpinalCord\\MSAkdeniz_SC_MRs\\\\HA_KA_slice_0081.jpg  saved\n",
      "D:\\datasets\\ms\\MSAkdeniz_SpinalCord\\MSAkdeniz_SC_Masks\\\\HA_KA_GTmask_0082.jpg  saved\n",
      "D:\\datasets\\ms\\MSAkdeniz_SpinalCord\\MSAkdeniz_SC_MRs\\\\HA_KA_slice_0082.jpg  saved\n",
      "D:\\datasets\\ms\\MSAkdeniz_SpinalCord\\MSAkdeniz_SC_Masks\\\\HA_KA_GTmask_0083.jpg  saved\n",
      "D:\\datasets\\ms\\MSAkdeniz_SpinalCord\\MSAkdeniz_SC_MRs\\\\HA_KA_slice_0083.jpg  saved\n",
      "D:\\datasets\\ms\\MSAkdeniz_SpinalCord\\MSAkdeniz_SC_Masks\\\\HA_KA_GTmask_0084.jpg  saved\n",
      "D:\\datasets\\ms\\MSAkdeniz_SpinalCord\\MSAkdeniz_SC_MRs\\\\HA_KA_slice_0084.jpg  saved\n",
      "D:\\datasets\\ms\\MSAkdeniz_SpinalCord\\MSAkdeniz_SC_Masks\\\\HA_KA_GTmask_0085.jpg  saved\n",
      "D:\\datasets\\ms\\MSAkdeniz_SpinalCord\\MSAkdeniz_SC_MRs\\\\HA_KA_slice_0085.jpg"
     ]
    },
    {
     "name": "stderr",
     "output_type": "stream",
     "text": [
      "Lossy conversion from float64 to uint8. Range [0, 1]. Convert image to uint8 prior to saving to suppress this warning.\n",
      "Lossy conversion from float64 to uint8. Range [0.0, 274.0]. Convert image to uint8 prior to saving to suppress this warning.\n",
      "Lossy conversion from float64 to uint8. Range [0, 1]. Convert image to uint8 prior to saving to suppress this warning.\n",
      "Lossy conversion from float64 to uint8. Range [0.0, 280.0]. Convert image to uint8 prior to saving to suppress this warning.\n",
      "Lossy conversion from float64 to uint8. Range [0, 1]. Convert image to uint8 prior to saving to suppress this warning.\n",
      "Lossy conversion from float64 to uint8. Range [0.0, 250.0]. Convert image to uint8 prior to saving to suppress this warning.\n",
      "Lossy conversion from float64 to uint8. Range [0, 1]. Convert image to uint8 prior to saving to suppress this warning.\n",
      "Lossy conversion from float64 to uint8. Range [0.0, 262.0]. Convert image to uint8 prior to saving to suppress this warning.\n",
      "Lossy conversion from float64 to uint8. Range [0, 1]. Convert image to uint8 prior to saving to suppress this warning.\n",
      "Lossy conversion from float64 to uint8. Range [0.0, 231.0]. Convert image to uint8 prior to saving to suppress this warning.\n",
      "Lossy conversion from float64 to uint8. Range [0, 1]. Convert image to uint8 prior to saving to suppress this warning.\n",
      "Lossy conversion from float64 to uint8. Range [0.0, 247.0]. Convert image to uint8 prior to saving to suppress this warning.\n"
     ]
    },
    {
     "name": "stdout",
     "output_type": "stream",
     "text": [
      "  saved\n",
      "D:\\datasets\\ms\\MSAkdeniz_SpinalCord\\MSAkdeniz_SC_Masks\\\\HA_KA_GTmask_0086.jpg  saved\n",
      "D:\\datasets\\ms\\MSAkdeniz_SpinalCord\\MSAkdeniz_SC_MRs\\\\HA_KA_slice_0086.jpg  saved\n",
      "D:\\datasets\\ms\\MSAkdeniz_SpinalCord\\MSAkdeniz_SC_Masks\\\\HA_KA_GTmask_0087.jpg  saved\n",
      "D:\\datasets\\ms\\MSAkdeniz_SpinalCord\\MSAkdeniz_SC_MRs\\\\HA_KA_slice_0087.jpg  saved\n",
      "D:\\datasets\\ms\\MSAkdeniz_SpinalCord\\MSAkdeniz_SC_Masks\\\\HA_KA_GTmask_0088.jpg  saved\n",
      "D:\\datasets\\ms\\MSAkdeniz_SpinalCord\\MSAkdeniz_SC_MRs\\\\HA_KA_slice_0088.jpg  saved\n",
      "D:\\datasets\\ms\\MSAkdeniz_SpinalCord\\MSAkdeniz_SC_Masks\\\\HA_KA_GTmask_0089.jpg  saved\n",
      "D:\\datasets\\ms\\MSAkdeniz_SpinalCord\\MSAkdeniz_SC_MRs\\\\HA_KA_slice_0089.jpg  saved\n",
      "D:\\datasets\\ms\\MSAkdeniz_SpinalCord\\MSAkdeniz_SC_Masks\\\\HA_KA_GTmask_0090.jpg  saved\n",
      "D:\\datasets\\ms\\MSAkdeniz_SpinalCord\\MSAkdeniz_SC_MRs\\\\HA_KA_slice_0090.jpg  saved\n",
      "D:\\datasets\\ms\\MSAkdeniz_SpinalCord\\MSAkdeniz_SC_Masks\\\\HA_KA_GTmask_0091.jpg  saved\n",
      "D:\\datasets\\ms\\MSAkdeniz_SpinalCord\\MSAkdeniz_SC_MRs\\\\HA_KA_slice_0091.jpg  saved\n",
      "IH_AL_B1_mask\n"
     ]
    },
    {
     "name": "stderr",
     "output_type": "stream",
     "text": [
      "Lossy conversion from float64 to uint8. Range [0, 1]. Convert image to uint8 prior to saving to suppress this warning.\n",
      "Lossy conversion from float64 to uint8. Range [0.0, 302.0]. Convert image to uint8 prior to saving to suppress this warning.\n",
      "Lossy conversion from float64 to uint8. Range [0, 1]. Convert image to uint8 prior to saving to suppress this warning.\n",
      "Lossy conversion from float64 to uint8. Range [0.0, 305.0]. Convert image to uint8 prior to saving to suppress this warning.\n",
      "Lossy conversion from float64 to uint8. Range [0, 1]. Convert image to uint8 prior to saving to suppress this warning.\n"
     ]
    },
    {
     "name": "stdout",
     "output_type": "stream",
     "text": [
      "True\n",
      "D:\\datasets\\ms\\MSAkdeniz_SpinalCord\\MSAkdeniz_SC_Masks\\\\IH_AL_GTmask_0096.jpg  saved\n",
      "D:\\datasets\\ms\\MSAkdeniz_SpinalCord\\MSAkdeniz_SC_MRs\\\\IH_AL_slice_0096.jpg  saved\n",
      "D:\\datasets\\ms\\MSAkdeniz_SpinalCord\\MSAkdeniz_SC_Masks\\\\IH_AL_GTmask_0097.jpg  saved\n",
      "D:\\datasets\\ms\\MSAkdeniz_SpinalCord\\MSAkdeniz_SC_MRs\\\\IH_AL_slice_0097.jpg  saved\n",
      "D:\\datasets\\ms\\MSAkdeniz_SpinalCord\\MSAkdeniz_SC_Masks\\\\IH_AL_GTmask_0098.jpg"
     ]
    },
    {
     "name": "stderr",
     "output_type": "stream",
     "text": [
      "Lossy conversion from float64 to uint8. Range [0.0, 305.0]. Convert image to uint8 prior to saving to suppress this warning.\n",
      "Lossy conversion from float64 to uint8. Range [0, 1]. Convert image to uint8 prior to saving to suppress this warning.\n",
      "Lossy conversion from float64 to uint8. Range [0.0, 320.0]. Convert image to uint8 prior to saving to suppress this warning.\n",
      "Lossy conversion from float64 to uint8. Range [0, 1]. Convert image to uint8 prior to saving to suppress this warning.\n",
      "Lossy conversion from float64 to uint8. Range [0.0, 307.0]. Convert image to uint8 prior to saving to suppress this warning.\n",
      "Lossy conversion from float64 to uint8. Range [0, 1]. Convert image to uint8 prior to saving to suppress this warning.\n",
      "Lossy conversion from float64 to uint8. Range [0.0, 296.0]. Convert image to uint8 prior to saving to suppress this warning.\n",
      "Lossy conversion from float64 to uint8. Range [0, 1]. Convert image to uint8 prior to saving to suppress this warning.\n",
      "Lossy conversion from float64 to uint8. Range [0.0, 327.0]. Convert image to uint8 prior to saving to suppress this warning.\n",
      "Lossy conversion from float64 to uint8. Range [0, 1]. Convert image to uint8 prior to saving to suppress this warning.\n",
      "Lossy conversion from float64 to uint8. Range [0.0, 376.0]. Convert image to uint8 prior to saving to suppress this warning.\n",
      "Lossy conversion from float64 to uint8. Range [0, 1]. Convert image to uint8 prior to saving to suppress this warning.\n"
     ]
    },
    {
     "name": "stdout",
     "output_type": "stream",
     "text": [
      "  saved\n",
      "D:\\datasets\\ms\\MSAkdeniz_SpinalCord\\MSAkdeniz_SC_MRs\\\\IH_AL_slice_0098.jpg  saved\n",
      "D:\\datasets\\ms\\MSAkdeniz_SpinalCord\\MSAkdeniz_SC_Masks\\\\IH_AL_GTmask_0099.jpg  saved\n",
      "D:\\datasets\\ms\\MSAkdeniz_SpinalCord\\MSAkdeniz_SC_MRs\\\\IH_AL_slice_0099.jpg  saved\n",
      "D:\\datasets\\ms\\MSAkdeniz_SpinalCord\\MSAkdeniz_SC_Masks\\\\IH_AL_GTmask_0100.jpg  saved\n",
      "D:\\datasets\\ms\\MSAkdeniz_SpinalCord\\MSAkdeniz_SC_MRs\\\\IH_AL_slice_0100.jpg  saved\n",
      "D:\\datasets\\ms\\MSAkdeniz_SpinalCord\\MSAkdeniz_SC_Masks\\\\IH_AL_GTmask_0101.jpg  saved\n",
      "D:\\datasets\\ms\\MSAkdeniz_SpinalCord\\MSAkdeniz_SC_MRs\\\\IH_AL_slice_0101.jpg  saved\n",
      "D:\\datasets\\ms\\MSAkdeniz_SpinalCord\\MSAkdeniz_SC_Masks\\\\IH_AL_GTmask_0102.jpg  saved\n",
      "D:\\datasets\\ms\\MSAkdeniz_SpinalCord\\MSAkdeniz_SC_MRs\\\\IH_AL_slice_0102.jpg  saved\n",
      "D:\\datasets\\ms\\MSAkdeniz_SpinalCord\\MSAkdeniz_SC_Masks\\\\IH_AL_GTmask_0103.jpg  saved\n",
      "D:\\datasets\\ms\\MSAkdeniz_SpinalCord\\MSAkdeniz_SC_MRs\\\\IH_AL_slice_0103.jpg  saved\n",
      "D:\\datasets\\ms\\MSAkdeniz_SpinalCord\\MSAkdeniz_SC_Masks\\\\IH_AL_GTmask_0104.jpg"
     ]
    },
    {
     "name": "stderr",
     "output_type": "stream",
     "text": [
      "Lossy conversion from float64 to uint8. Range [0.0, 359.0]. Convert image to uint8 prior to saving to suppress this warning.\n",
      "Lossy conversion from float64 to uint8. Range [0, 1]. Convert image to uint8 prior to saving to suppress this warning.\n",
      "Lossy conversion from float64 to uint8. Range [0.0, 322.0]. Convert image to uint8 prior to saving to suppress this warning.\n",
      "Lossy conversion from float64 to uint8. Range [0, 1]. Convert image to uint8 prior to saving to suppress this warning.\n",
      "Lossy conversion from float64 to uint8. Range [0.0, 310.0]. Convert image to uint8 prior to saving to suppress this warning.\n"
     ]
    },
    {
     "name": "stdout",
     "output_type": "stream",
     "text": [
      "  saved\n",
      "D:\\datasets\\ms\\MSAkdeniz_SpinalCord\\MSAkdeniz_SC_MRs\\\\IH_AL_slice_0104.jpg  saved\n",
      "D:\\datasets\\ms\\MSAkdeniz_SpinalCord\\MSAkdeniz_SC_Masks\\\\IH_AL_GTmask_0105.jpg  saved\n",
      "D:\\datasets\\ms\\MSAkdeniz_SpinalCord\\MSAkdeniz_SC_MRs\\\\IH_AL_slice_0105.jpg  saved\n",
      "D:\\datasets\\ms\\MSAkdeniz_SpinalCord\\MSAkdeniz_SC_Masks\\\\IH_AL_GTmask_0106.jpg  saved\n",
      "D:\\datasets\\ms\\MSAkdeniz_SpinalCord\\MSAkdeniz_SC_MRs\\\\IH_AL_slice_0106.jpg  saved\n",
      "IH_AL_B2_mask\n"
     ]
    },
    {
     "name": "stderr",
     "output_type": "stream",
     "text": [
      "Lossy conversion from float64 to uint8. Range [0, 1]. Convert image to uint8 prior to saving to suppress this warning.\n",
      "Lossy conversion from float64 to uint8. Range [0.0, 323.0]. Convert image to uint8 prior to saving to suppress this warning.\n",
      "Lossy conversion from float64 to uint8. Range [0, 1]. Convert image to uint8 prior to saving to suppress this warning.\n",
      "Lossy conversion from float64 to uint8. Range [0.0, 335.0]. Convert image to uint8 prior to saving to suppress this warning.\n"
     ]
    },
    {
     "name": "stdout",
     "output_type": "stream",
     "text": [
      "True\n",
      "D:\\datasets\\ms\\MSAkdeniz_SpinalCord\\MSAkdeniz_SC_Masks\\\\IH_AL_GTmask_0090.jpg  saved\n",
      "D:\\datasets\\ms\\MSAkdeniz_SpinalCord\\MSAkdeniz_SC_MRs\\\\IH_AL_slice_0090.jpg  saved\n",
      "D:\\datasets\\ms\\MSAkdeniz_SpinalCord\\MSAkdeniz_SC_Masks\\\\IH_AL_GTmask_0091.jpg  saved\n",
      "D:\\datasets\\ms\\MSAkdeniz_SpinalCord\\MSAkdeniz_SC_MRs\\\\IH_AL_slice_0091.jpg  saved\n"
     ]
    },
    {
     "name": "stderr",
     "output_type": "stream",
     "text": [
      "Lossy conversion from float64 to uint8. Range [0, 1]. Convert image to uint8 prior to saving to suppress this warning.\n",
      "Lossy conversion from float64 to uint8. Range [0.0, 282.0]. Convert image to uint8 prior to saving to suppress this warning.\n",
      "Lossy conversion from float64 to uint8. Range [0, 1]. Convert image to uint8 prior to saving to suppress this warning.\n",
      "Lossy conversion from float64 to uint8. Range [0.0, 274.0]. Convert image to uint8 prior to saving to suppress this warning.\n",
      "Lossy conversion from float64 to uint8. Range [0, 1]. Convert image to uint8 prior to saving to suppress this warning.\n",
      "Lossy conversion from float64 to uint8. Range [0.0, 278.0]. Convert image to uint8 prior to saving to suppress this warning.\n",
      "Lossy conversion from float64 to uint8. Range [0, 1]. Convert image to uint8 prior to saving to suppress this warning.\n",
      "Lossy conversion from float64 to uint8. Range [0.0, 282.0]. Convert image to uint8 prior to saving to suppress this warning.\n",
      "Lossy conversion from float64 to uint8. Range [0, 1]. Convert image to uint8 prior to saving to suppress this warning.\n",
      "Lossy conversion from float64 to uint8. Range [0.0, 274.0]. Convert image to uint8 prior to saving to suppress this warning.\n"
     ]
    },
    {
     "name": "stdout",
     "output_type": "stream",
     "text": [
      "D:\\datasets\\ms\\MSAkdeniz_SpinalCord\\MSAkdeniz_SC_Masks\\\\IH_AL_GTmask_0092.jpg  saved\n",
      "D:\\datasets\\ms\\MSAkdeniz_SpinalCord\\MSAkdeniz_SC_MRs\\\\IH_AL_slice_0092.jpg  saved\n",
      "D:\\datasets\\ms\\MSAkdeniz_SpinalCord\\MSAkdeniz_SC_Masks\\\\IH_AL_GTmask_0093.jpg  saved\n",
      "D:\\datasets\\ms\\MSAkdeniz_SpinalCord\\MSAkdeniz_SC_MRs\\\\IH_AL_slice_0093.jpg  saved\n",
      "D:\\datasets\\ms\\MSAkdeniz_SpinalCord\\MSAkdeniz_SC_Masks\\\\IH_AL_GTmask_0094.jpg  saved\n",
      "D:\\datasets\\ms\\MSAkdeniz_SpinalCord\\MSAkdeniz_SC_MRs\\\\IH_AL_slice_0094.jpg  saved\n",
      "D:\\datasets\\ms\\MSAkdeniz_SpinalCord\\MSAkdeniz_SC_Masks\\\\IH_AL_GTmask_0095.jpg  saved\n",
      "D:\\datasets\\ms\\MSAkdeniz_SpinalCord\\MSAkdeniz_SC_MRs\\\\IH_AL_slice_0095.jpg  saved\n",
      "D:\\datasets\\ms\\MSAkdeniz_SpinalCord\\MSAkdeniz_SC_Masks\\\\IH_AL_GTmask_0096.jpg  saved\n",
      "D:\\datasets\\ms\\MSAkdeniz_SpinalCord\\MSAkdeniz_SC_MRs\\\\IH_AL_slice_0096.jpg  saved\n"
     ]
    },
    {
     "name": "stderr",
     "output_type": "stream",
     "text": [
      "Lossy conversion from float64 to uint8. Range [0, 1]. Convert image to uint8 prior to saving to suppress this warning.\n",
      "Lossy conversion from float64 to uint8. Range [0.0, 275.0]. Convert image to uint8 prior to saving to suppress this warning.\n",
      "Lossy conversion from float64 to uint8. Range [0, 1]. Convert image to uint8 prior to saving to suppress this warning.\n",
      "Lossy conversion from float64 to uint8. Range [0.0, 296.0]. Convert image to uint8 prior to saving to suppress this warning.\n",
      "Lossy conversion from float64 to uint8. Range [0, 1]. Convert image to uint8 prior to saving to suppress this warning.\n",
      "Lossy conversion from float64 to uint8. Range [0.0, 290.0]. Convert image to uint8 prior to saving to suppress this warning.\n"
     ]
    },
    {
     "name": "stdout",
     "output_type": "stream",
     "text": [
      "D:\\datasets\\ms\\MSAkdeniz_SpinalCord\\MSAkdeniz_SC_Masks\\\\IH_AL_GTmask_0097.jpg  saved\n",
      "D:\\datasets\\ms\\MSAkdeniz_SpinalCord\\MSAkdeniz_SC_MRs\\\\IH_AL_slice_0097.jpg  saved\n",
      "D:\\datasets\\ms\\MSAkdeniz_SpinalCord\\MSAkdeniz_SC_Masks\\\\IH_AL_GTmask_0098.jpg  saved\n",
      "D:\\datasets\\ms\\MSAkdeniz_SpinalCord\\MSAkdeniz_SC_MRs\\\\IH_AL_slice_0098.jpg  saved\n",
      "D:\\datasets\\ms\\MSAkdeniz_SpinalCord\\MSAkdeniz_SC_Masks\\\\IH_AL_GTmask_0099.jpg  saved\n",
      "D:\\datasets\\ms\\MSAkdeniz_SpinalCord\\MSAkdeniz_SC_MRs\\\\IH_AL_slice_0099.jpg  saved\n",
      "IK_AT_B1_mask\n"
     ]
    },
    {
     "name": "stderr",
     "output_type": "stream",
     "text": [
      "Lossy conversion from float64 to uint8. Range [0, 1]. Convert image to uint8 prior to saving to suppress this warning.\n",
      "Lossy conversion from float64 to uint8. Range [0.0, 321.0]. Convert image to uint8 prior to saving to suppress this warning.\n",
      "Lossy conversion from float64 to uint8. Range [0, 1]. Convert image to uint8 prior to saving to suppress this warning.\n",
      "Lossy conversion from float64 to uint8. Range [0.0, 308.0]. Convert image to uint8 prior to saving to suppress this warning.\n",
      "Lossy conversion from float64 to uint8. Range [0, 1]. Convert image to uint8 prior to saving to suppress this warning.\n",
      "Lossy conversion from float64 to uint8. Range [0.0, 266.0]. Convert image to uint8 prior to saving to suppress this warning.\n",
      "Lossy conversion from float64 to uint8. Range [0, 1]. Convert image to uint8 prior to saving to suppress this warning.\n"
     ]
    },
    {
     "name": "stdout",
     "output_type": "stream",
     "text": [
      "True\n",
      "D:\\datasets\\ms\\MSAkdeniz_SpinalCord\\MSAkdeniz_SC_Masks\\\\IK_AT_GTmask_0079.jpg  saved\n",
      "D:\\datasets\\ms\\MSAkdeniz_SpinalCord\\MSAkdeniz_SC_MRs\\\\IK_AT_slice_0079.jpg  saved\n",
      "D:\\datasets\\ms\\MSAkdeniz_SpinalCord\\MSAkdeniz_SC_Masks\\\\IK_AT_GTmask_0080.jpg  saved\n",
      "D:\\datasets\\ms\\MSAkdeniz_SpinalCord\\MSAkdeniz_SC_MRs\\\\IK_AT_slice_0080.jpg  saved\n",
      "D:\\datasets\\ms\\MSAkdeniz_SpinalCord\\MSAkdeniz_SC_Masks\\\\IK_AT_GTmask_0081.jpg  saved\n",
      "D:\\datasets\\ms\\MSAkdeniz_SpinalCord\\MSAkdeniz_SC_MRs\\\\IK_AT_slice_0081.jpg  saved\n",
      "D:\\datasets\\ms\\MSAkdeniz_SpinalCord\\MSAkdeniz_SC_Masks\\\\IK_AT_GTmask_0082.jpg"
     ]
    },
    {
     "name": "stderr",
     "output_type": "stream",
     "text": [
      "Lossy conversion from float64 to uint8. Range [0.0, 263.0]. Convert image to uint8 prior to saving to suppress this warning.\n",
      "Lossy conversion from float64 to uint8. Range [0, 1]. Convert image to uint8 prior to saving to suppress this warning.\n",
      "Lossy conversion from float64 to uint8. Range [0.0, 306.0]. Convert image to uint8 prior to saving to suppress this warning.\n",
      "Lossy conversion from float64 to uint8. Range [0, 1]. Convert image to uint8 prior to saving to suppress this warning.\n",
      "Lossy conversion from float64 to uint8. Range [0.0, 279.0]. Convert image to uint8 prior to saving to suppress this warning.\n",
      "Lossy conversion from float64 to uint8. Range [0, 1]. Convert image to uint8 prior to saving to suppress this warning.\n",
      "Lossy conversion from float64 to uint8. Range [0.0, 270.0]. Convert image to uint8 prior to saving to suppress this warning.\n",
      "Lossy conversion from float64 to uint8. Range [0, 1]. Convert image to uint8 prior to saving to suppress this warning.\n",
      "Lossy conversion from float64 to uint8. Range [0.0, 251.0]. Convert image to uint8 prior to saving to suppress this warning.\n"
     ]
    },
    {
     "name": "stdout",
     "output_type": "stream",
     "text": [
      "  saved\n",
      "D:\\datasets\\ms\\MSAkdeniz_SpinalCord\\MSAkdeniz_SC_MRs\\\\IK_AT_slice_0082.jpg  saved\n",
      "D:\\datasets\\ms\\MSAkdeniz_SpinalCord\\MSAkdeniz_SC_Masks\\\\IK_AT_GTmask_0083.jpg  saved\n",
      "D:\\datasets\\ms\\MSAkdeniz_SpinalCord\\MSAkdeniz_SC_MRs\\\\IK_AT_slice_0083.jpg  saved\n",
      "D:\\datasets\\ms\\MSAkdeniz_SpinalCord\\MSAkdeniz_SC_Masks\\\\IK_AT_GTmask_0084.jpg  saved\n",
      "D:\\datasets\\ms\\MSAkdeniz_SpinalCord\\MSAkdeniz_SC_MRs\\\\IK_AT_slice_0084.jpg  saved\n",
      "D:\\datasets\\ms\\MSAkdeniz_SpinalCord\\MSAkdeniz_SC_Masks\\\\IK_AT_GTmask_0085.jpg  saved\n",
      "D:\\datasets\\ms\\MSAkdeniz_SpinalCord\\MSAkdeniz_SC_MRs\\\\IK_AT_slice_0085.jpg  saved\n",
      "D:\\datasets\\ms\\MSAkdeniz_SpinalCord\\MSAkdeniz_SC_Masks\\\\IK_AT_GTmask_0086.jpg  saved\n",
      "D:\\datasets\\ms\\MSAkdeniz_SpinalCord\\MSAkdeniz_SC_MRs\\\\IK_AT_slice_0086.jpg  saved\n",
      "IK_AT_B2_mask\n"
     ]
    },
    {
     "name": "stderr",
     "output_type": "stream",
     "text": [
      "Lossy conversion from float64 to uint8. Range [0, 1]. Convert image to uint8 prior to saving to suppress this warning.\n",
      "Lossy conversion from float64 to uint8. Range [0.0, 300.0]. Convert image to uint8 prior to saving to suppress this warning.\n",
      "Lossy conversion from float64 to uint8. Range [0, 1]. Convert image to uint8 prior to saving to suppress this warning.\n",
      "Lossy conversion from float64 to uint8. Range [0.0, 285.0]. Convert image to uint8 prior to saving to suppress this warning.\n",
      "Lossy conversion from float64 to uint8. Range [0, 1]. Convert image to uint8 prior to saving to suppress this warning.\n",
      "Lossy conversion from float64 to uint8. Range [0.0, 268.0]. Convert image to uint8 prior to saving to suppress this warning.\n",
      "Lossy conversion from float64 to uint8. Range [0, 1]. Convert image to uint8 prior to saving to suppress this warning.\n",
      "Lossy conversion from float64 to uint8. Range [0.0, 323.0]. Convert image to uint8 prior to saving to suppress this warning.\n",
      "Lossy conversion from float64 to uint8. Range [0, 1]. Convert image to uint8 prior to saving to suppress this warning.\n",
      "Lossy conversion from float64 to uint8. Range [0.0, 323.0]. Convert image to uint8 prior to saving to suppress this warning.\n",
      "Lossy conversion from float64 to uint8. Range [0, 1]. Convert image to uint8 prior to saving to suppress this warning.\n"
     ]
    },
    {
     "name": "stdout",
     "output_type": "stream",
     "text": [
      "True\n",
      "D:\\datasets\\ms\\MSAkdeniz_SpinalCord\\MSAkdeniz_SC_Masks\\\\IK_AT_GTmask_0079.jpg  saved\n",
      "D:\\datasets\\ms\\MSAkdeniz_SpinalCord\\MSAkdeniz_SC_MRs\\\\IK_AT_slice_0079.jpg  saved\n",
      "D:\\datasets\\ms\\MSAkdeniz_SpinalCord\\MSAkdeniz_SC_Masks\\\\IK_AT_GTmask_0080.jpg  saved\n",
      "D:\\datasets\\ms\\MSAkdeniz_SpinalCord\\MSAkdeniz_SC_MRs\\\\IK_AT_slice_0080.jpg  saved\n",
      "D:\\datasets\\ms\\MSAkdeniz_SpinalCord\\MSAkdeniz_SC_Masks\\\\IK_AT_GTmask_0081.jpg  saved\n",
      "D:\\datasets\\ms\\MSAkdeniz_SpinalCord\\MSAkdeniz_SC_MRs\\\\IK_AT_slice_0081.jpg  saved\n",
      "D:\\datasets\\ms\\MSAkdeniz_SpinalCord\\MSAkdeniz_SC_Masks\\\\IK_AT_GTmask_0082.jpg  saved\n",
      "D:\\datasets\\ms\\MSAkdeniz_SpinalCord\\MSAkdeniz_SC_MRs\\\\IK_AT_slice_0082.jpg  saved\n",
      "D:\\datasets\\ms\\MSAkdeniz_SpinalCord\\MSAkdeniz_SC_Masks\\\\IK_AT_GTmask_0083.jpg  saved\n",
      "D:\\datasets\\ms\\MSAkdeniz_SpinalCord\\MSAkdeniz_SC_MRs\\\\IK_AT_slice_0083.jpg  saved\n",
      "D:\\datasets\\ms\\MSAkdeniz_SpinalCord\\MSAkdeniz_SC_Masks\\\\IK_AT_GTmask_0084.jpg"
     ]
    },
    {
     "name": "stderr",
     "output_type": "stream",
     "text": [
      "Lossy conversion from float64 to uint8. Range [0.0, 315.0]. Convert image to uint8 prior to saving to suppress this warning.\n",
      "Lossy conversion from float64 to uint8. Range [0, 1]. Convert image to uint8 prior to saving to suppress this warning.\n",
      "Lossy conversion from float64 to uint8. Range [0.0, 271.0]. Convert image to uint8 prior to saving to suppress this warning.\n",
      "Lossy conversion from float64 to uint8. Range [0, 1]. Convert image to uint8 prior to saving to suppress this warning.\n",
      "Lossy conversion from float64 to uint8. Range [0.0, 277.0]. Convert image to uint8 prior to saving to suppress this warning.\n"
     ]
    },
    {
     "name": "stdout",
     "output_type": "stream",
     "text": [
      "  saved\n",
      "D:\\datasets\\ms\\MSAkdeniz_SpinalCord\\MSAkdeniz_SC_MRs\\\\IK_AT_slice_0084.jpg  saved\n",
      "D:\\datasets\\ms\\MSAkdeniz_SpinalCord\\MSAkdeniz_SC_Masks\\\\IK_AT_GTmask_0085.jpg  saved\n",
      "D:\\datasets\\ms\\MSAkdeniz_SpinalCord\\MSAkdeniz_SC_MRs\\\\IK_AT_slice_0085.jpg  saved\n",
      "D:\\datasets\\ms\\MSAkdeniz_SpinalCord\\MSAkdeniz_SC_Masks\\\\IK_AT_GTmask_0086.jpg  saved\n",
      "D:\\datasets\\ms\\MSAkdeniz_SpinalCord\\MSAkdeniz_SC_MRs\\\\IK_AT_slice_0086.jpg  saved\n",
      "IR_ER_B1_mask\n"
     ]
    },
    {
     "name": "stderr",
     "output_type": "stream",
     "text": [
      "Lossy conversion from float64 to uint8. Range [0, 1]. Convert image to uint8 prior to saving to suppress this warning.\n",
      "Lossy conversion from float64 to uint8. Range [0.0, 309.0]. Convert image to uint8 prior to saving to suppress this warning.\n",
      "Lossy conversion from float64 to uint8. Range [0, 1]. Convert image to uint8 prior to saving to suppress this warning.\n",
      "Lossy conversion from float64 to uint8. Range [0.0, 270.0]. Convert image to uint8 prior to saving to suppress this warning.\n",
      "Lossy conversion from float64 to uint8. Range [0, 1]. Convert image to uint8 prior to saving to suppress this warning.\n",
      "Lossy conversion from float64 to uint8. Range [0.0, 279.0]. Convert image to uint8 prior to saving to suppress this warning.\n",
      "Lossy conversion from float64 to uint8. Range [0, 1]. Convert image to uint8 prior to saving to suppress this warning.\n",
      "Lossy conversion from float64 to uint8. Range [0.0, 301.0]. Convert image to uint8 prior to saving to suppress this warning.\n",
      "Lossy conversion from float64 to uint8. Range [0, 1]. Convert image to uint8 prior to saving to suppress this warning.\n"
     ]
    },
    {
     "name": "stdout",
     "output_type": "stream",
     "text": [
      "True\n",
      "D:\\datasets\\ms\\MSAkdeniz_SpinalCord\\MSAkdeniz_SC_Masks\\\\IR_ER_GTmask_0076.jpg  saved\n",
      "D:\\datasets\\ms\\MSAkdeniz_SpinalCord\\MSAkdeniz_SC_MRs\\\\IR_ER_slice_0076.jpg  saved\n",
      "D:\\datasets\\ms\\MSAkdeniz_SpinalCord\\MSAkdeniz_SC_Masks\\\\IR_ER_GTmask_0077.jpg  saved\n",
      "D:\\datasets\\ms\\MSAkdeniz_SpinalCord\\MSAkdeniz_SC_MRs\\\\IR_ER_slice_0077.jpg  saved\n",
      "D:\\datasets\\ms\\MSAkdeniz_SpinalCord\\MSAkdeniz_SC_Masks\\\\IR_ER_GTmask_0078.jpg  saved\n",
      "D:\\datasets\\ms\\MSAkdeniz_SpinalCord\\MSAkdeniz_SC_MRs\\\\IR_ER_slice_0078.jpg  saved\n",
      "D:\\datasets\\ms\\MSAkdeniz_SpinalCord\\MSAkdeniz_SC_Masks\\\\IR_ER_GTmask_0079.jpg  saved\n",
      "D:\\datasets\\ms\\MSAkdeniz_SpinalCord\\MSAkdeniz_SC_MRs\\\\IR_ER_slice_0079.jpg  saved\n",
      "D:\\datasets\\ms\\MSAkdeniz_SpinalCord\\MSAkdeniz_SC_Masks\\\\IR_ER_GTmask_0080.jpg"
     ]
    },
    {
     "name": "stderr",
     "output_type": "stream",
     "text": [
      "Lossy conversion from float64 to uint8. Range [0.0, 329.0]. Convert image to uint8 prior to saving to suppress this warning.\n",
      "Lossy conversion from float64 to uint8. Range [0, 1]. Convert image to uint8 prior to saving to suppress this warning.\n",
      "Lossy conversion from float64 to uint8. Range [0.0, 310.0]. Convert image to uint8 prior to saving to suppress this warning.\n",
      "Lossy conversion from float64 to uint8. Range [0, 1]. Convert image to uint8 prior to saving to suppress this warning.\n",
      "Lossy conversion from float64 to uint8. Range [0.0, 309.0]. Convert image to uint8 prior to saving to suppress this warning.\n",
      "Lossy conversion from float64 to uint8. Range [0, 1]. Convert image to uint8 prior to saving to suppress this warning.\n",
      "Lossy conversion from float64 to uint8. Range [0.0, 316.0]. Convert image to uint8 prior to saving to suppress this warning.\n"
     ]
    },
    {
     "name": "stdout",
     "output_type": "stream",
     "text": [
      "  saved\n",
      "D:\\datasets\\ms\\MSAkdeniz_SpinalCord\\MSAkdeniz_SC_MRs\\\\IR_ER_slice_0080.jpg  saved\n",
      "D:\\datasets\\ms\\MSAkdeniz_SpinalCord\\MSAkdeniz_SC_Masks\\\\IR_ER_GTmask_0081.jpg  saved\n",
      "D:\\datasets\\ms\\MSAkdeniz_SpinalCord\\MSAkdeniz_SC_MRs\\\\IR_ER_slice_0081.jpg  saved\n",
      "D:\\datasets\\ms\\MSAkdeniz_SpinalCord\\MSAkdeniz_SC_Masks\\\\IR_ER_GTmask_0082.jpg  saved\n",
      "D:\\datasets\\ms\\MSAkdeniz_SpinalCord\\MSAkdeniz_SC_MRs\\\\IR_ER_slice_0082.jpg  saved\n",
      "D:\\datasets\\ms\\MSAkdeniz_SpinalCord\\MSAkdeniz_SC_Masks\\\\IR_ER_GTmask_0083.jpg  saved\n",
      "D:\\datasets\\ms\\MSAkdeniz_SpinalCord\\MSAkdeniz_SC_MRs\\\\IR_ER_slice_0083.jpg  saved\n",
      "IR_ER_B2_mask\n"
     ]
    },
    {
     "name": "stderr",
     "output_type": "stream",
     "text": [
      "Lossy conversion from float64 to uint8. Range [0, 1]. Convert image to uint8 prior to saving to suppress this warning.\n",
      "Lossy conversion from float64 to uint8. Range [0.0, 216.0]. Convert image to uint8 prior to saving to suppress this warning.\n",
      "Lossy conversion from float64 to uint8. Range [0, 1]. Convert image to uint8 prior to saving to suppress this warning.\n",
      "Lossy conversion from float64 to uint8. Range [0.0, 264.0]. Convert image to uint8 prior to saving to suppress this warning.\n",
      "Lossy conversion from float64 to uint8. Range [0, 1]. Convert image to uint8 prior to saving to suppress this warning.\n",
      "Lossy conversion from float64 to uint8. Range [0.0, 220.0]. Convert image to uint8 prior to saving to suppress this warning.\n",
      "Lossy conversion from float64 to uint8. Range [0, 1]. Convert image to uint8 prior to saving to suppress this warning.\n",
      "Lossy conversion from float64 to uint8. Range [0.0, 230.0]. Convert image to uint8 prior to saving to suppress this warning.\n",
      "Lossy conversion from float64 to uint8. Range [0, 1]. Convert image to uint8 prior to saving to suppress this warning.\n",
      "Lossy conversion from float64 to uint8. Range [0.0, 251.0]. Convert image to uint8 prior to saving to suppress this warning.\n"
     ]
    },
    {
     "name": "stdout",
     "output_type": "stream",
     "text": [
      "True\n",
      "D:\\datasets\\ms\\MSAkdeniz_SpinalCord\\MSAkdeniz_SC_Masks\\\\IR_ER_GTmask_0082.jpg  saved\n",
      "D:\\datasets\\ms\\MSAkdeniz_SpinalCord\\MSAkdeniz_SC_MRs\\\\IR_ER_slice_0082.jpg  saved\n",
      "D:\\datasets\\ms\\MSAkdeniz_SpinalCord\\MSAkdeniz_SC_Masks\\\\IR_ER_GTmask_0083.jpg  saved\n",
      "D:\\datasets\\ms\\MSAkdeniz_SpinalCord\\MSAkdeniz_SC_MRs\\\\IR_ER_slice_0083.jpg  saved\n",
      "D:\\datasets\\ms\\MSAkdeniz_SpinalCord\\MSAkdeniz_SC_Masks\\\\IR_ER_GTmask_0084.jpg  saved\n",
      "D:\\datasets\\ms\\MSAkdeniz_SpinalCord\\MSAkdeniz_SC_MRs\\\\IR_ER_slice_0084.jpg  saved\n",
      "D:\\datasets\\ms\\MSAkdeniz_SpinalCord\\MSAkdeniz_SC_Masks\\\\IR_ER_GTmask_0085.jpg  saved\n",
      "D:\\datasets\\ms\\MSAkdeniz_SpinalCord\\MSAkdeniz_SC_MRs\\\\IR_ER_slice_0085.jpg  saved\n",
      "D:\\datasets\\ms\\MSAkdeniz_SpinalCord\\MSAkdeniz_SC_Masks\\\\IR_ER_GTmask_0086.jpg  saved\n",
      "D:\\datasets\\ms\\MSAkdeniz_SpinalCord\\MSAkdeniz_SC_MRs\\\\IR_ER_slice_0086.jpg"
     ]
    },
    {
     "name": "stderr",
     "output_type": "stream",
     "text": [
      "Lossy conversion from float64 to uint8. Range [0, 1]. Convert image to uint8 prior to saving to suppress this warning.\n",
      "Lossy conversion from float64 to uint8. Range [0.0, 276.0]. Convert image to uint8 prior to saving to suppress this warning.\n",
      "Lossy conversion from float64 to uint8. Range [0, 1]. Convert image to uint8 prior to saving to suppress this warning.\n",
      "Lossy conversion from float64 to uint8. Range [0.0, 281.0]. Convert image to uint8 prior to saving to suppress this warning.\n",
      "Lossy conversion from float64 to uint8. Range [0, 1]. Convert image to uint8 prior to saving to suppress this warning.\n",
      "Lossy conversion from float64 to uint8. Range [0.0, 283.0]. Convert image to uint8 prior to saving to suppress this warning.\n",
      "Lossy conversion from float64 to uint8. Range [0, 1]. Convert image to uint8 prior to saving to suppress this warning.\n",
      "Lossy conversion from float64 to uint8. Range [0.0, 301.0]. Convert image to uint8 prior to saving to suppress this warning.\n"
     ]
    },
    {
     "name": "stdout",
     "output_type": "stream",
     "text": [
      "  saved\n",
      "D:\\datasets\\ms\\MSAkdeniz_SpinalCord\\MSAkdeniz_SC_Masks\\\\IR_ER_GTmask_0087.jpg  saved\n",
      "D:\\datasets\\ms\\MSAkdeniz_SpinalCord\\MSAkdeniz_SC_MRs\\\\IR_ER_slice_0087.jpg  saved\n",
      "D:\\datasets\\ms\\MSAkdeniz_SpinalCord\\MSAkdeniz_SC_Masks\\\\IR_ER_GTmask_0088.jpg  saved\n",
      "D:\\datasets\\ms\\MSAkdeniz_SpinalCord\\MSAkdeniz_SC_MRs\\\\IR_ER_slice_0088.jpg  saved\n",
      "D:\\datasets\\ms\\MSAkdeniz_SpinalCord\\MSAkdeniz_SC_Masks\\\\IR_ER_GTmask_0089.jpg  saved\n",
      "D:\\datasets\\ms\\MSAkdeniz_SpinalCord\\MSAkdeniz_SC_MRs\\\\IR_ER_slice_0089.jpg  saved\n",
      "D:\\datasets\\ms\\MSAkdeniz_SpinalCord\\MSAkdeniz_SC_Masks\\\\IR_ER_GTmask_0090.jpg  saved\n",
      "D:\\datasets\\ms\\MSAkdeniz_SpinalCord\\MSAkdeniz_SC_MRs\\\\IR_ER_slice_0090.jpg  saved\n",
      "ME_YA_B1_mask\n"
     ]
    },
    {
     "name": "stderr",
     "output_type": "stream",
     "text": [
      "Lossy conversion from float64 to uint8. Range [0, 1]. Convert image to uint8 prior to saving to suppress this warning.\n",
      "Lossy conversion from float64 to uint8. Range [0.0, 297.0]. Convert image to uint8 prior to saving to suppress this warning.\n",
      "Lossy conversion from float64 to uint8. Range [0, 1]. Convert image to uint8 prior to saving to suppress this warning.\n"
     ]
    },
    {
     "name": "stdout",
     "output_type": "stream",
     "text": [
      "True\n",
      "D:\\datasets\\ms\\MSAkdeniz_SpinalCord\\MSAkdeniz_SC_Masks\\\\ME_YA_GTmask_0088.jpg  saved\n",
      "D:\\datasets\\ms\\MSAkdeniz_SpinalCord\\MSAkdeniz_SC_MRs\\\\ME_YA_slice_0088.jpg  saved\n",
      "D:\\datasets\\ms\\MSAkdeniz_SpinalCord\\MSAkdeniz_SC_Masks\\\\ME_YA_GTmask_0089.jpg  saved\n"
     ]
    },
    {
     "name": "stderr",
     "output_type": "stream",
     "text": [
      "Lossy conversion from float64 to uint8. Range [0.0, 302.0]. Convert image to uint8 prior to saving to suppress this warning.\n",
      "Lossy conversion from float64 to uint8. Range [0, 1]. Convert image to uint8 prior to saving to suppress this warning.\n",
      "Lossy conversion from float64 to uint8. Range [0.0, 304.0]. Convert image to uint8 prior to saving to suppress this warning.\n",
      "Lossy conversion from float64 to uint8. Range [0, 1]. Convert image to uint8 prior to saving to suppress this warning.\n",
      "Lossy conversion from float64 to uint8. Range [0.0, 315.0]. Convert image to uint8 prior to saving to suppress this warning.\n",
      "Lossy conversion from float64 to uint8. Range [0, 1]. Convert image to uint8 prior to saving to suppress this warning.\n",
      "Lossy conversion from float64 to uint8. Range [0.0, 338.0]. Convert image to uint8 prior to saving to suppress this warning.\n",
      "Lossy conversion from float64 to uint8. Range [0, 1]. Convert image to uint8 prior to saving to suppress this warning.\n",
      "Lossy conversion from float64 to uint8. Range [0.0, 323.0]. Convert image to uint8 prior to saving to suppress this warning.\n",
      "Lossy conversion from float64 to uint8. Range [0, 1]. Convert image to uint8 prior to saving to suppress this warning.\n",
      "Lossy conversion from float64 to uint8. Range [0.0, 306.0]. Convert image to uint8 prior to saving to suppress this warning.\n",
      "Lossy conversion from float64 to uint8. Range [0, 1]. Convert image to uint8 prior to saving to suppress this warning.\n",
      "Lossy conversion from float64 to uint8. Range [0.0, 324.0]. Convert image to uint8 prior to saving to suppress this warning.\n",
      "Lossy conversion from float64 to uint8. Range [0, 1]. Convert image to uint8 prior to saving to suppress this warning.\n"
     ]
    },
    {
     "name": "stdout",
     "output_type": "stream",
     "text": [
      "D:\\datasets\\ms\\MSAkdeniz_SpinalCord\\MSAkdeniz_SC_MRs\\\\ME_YA_slice_0089.jpg  saved\n",
      "D:\\datasets\\ms\\MSAkdeniz_SpinalCord\\MSAkdeniz_SC_Masks\\\\ME_YA_GTmask_0090.jpg  saved\n",
      "D:\\datasets\\ms\\MSAkdeniz_SpinalCord\\MSAkdeniz_SC_MRs\\\\ME_YA_slice_0090.jpg  saved\n",
      "D:\\datasets\\ms\\MSAkdeniz_SpinalCord\\MSAkdeniz_SC_Masks\\\\ME_YA_GTmask_0091.jpg  saved\n",
      "D:\\datasets\\ms\\MSAkdeniz_SpinalCord\\MSAkdeniz_SC_MRs\\\\ME_YA_slice_0091.jpg  saved\n",
      "D:\\datasets\\ms\\MSAkdeniz_SpinalCord\\MSAkdeniz_SC_Masks\\\\ME_YA_GTmask_0092.jpg  saved\n",
      "D:\\datasets\\ms\\MSAkdeniz_SpinalCord\\MSAkdeniz_SC_MRs\\\\ME_YA_slice_0092.jpg  saved\n",
      "D:\\datasets\\ms\\MSAkdeniz_SpinalCord\\MSAkdeniz_SC_Masks\\\\ME_YA_GTmask_0093.jpg  saved\n",
      "D:\\datasets\\ms\\MSAkdeniz_SpinalCord\\MSAkdeniz_SC_MRs\\\\ME_YA_slice_0093.jpg  saved\n",
      "D:\\datasets\\ms\\MSAkdeniz_SpinalCord\\MSAkdeniz_SC_Masks\\\\ME_YA_GTmask_0094.jpg  saved\n",
      "D:\\datasets\\ms\\MSAkdeniz_SpinalCord\\MSAkdeniz_SC_MRs\\\\ME_YA_slice_0094.jpg  saved\n",
      "D:\\datasets\\ms\\MSAkdeniz_SpinalCord\\MSAkdeniz_SC_Masks\\\\ME_YA_GTmask_0095.jpg  saved\n",
      "D:\\datasets\\ms\\MSAkdeniz_SpinalCord\\MSAkdeniz_SC_MRs\\\\ME_YA_slice_0095.jpg  saved\n"
     ]
    },
    {
     "name": "stderr",
     "output_type": "stream",
     "text": [
      "Lossy conversion from float64 to uint8. Range [0.0, 298.0]. Convert image to uint8 prior to saving to suppress this warning.\n",
      "Lossy conversion from float64 to uint8. Range [0, 1]. Convert image to uint8 prior to saving to suppress this warning.\n",
      "Lossy conversion from float64 to uint8. Range [0.0, 302.0]. Convert image to uint8 prior to saving to suppress this warning.\n",
      "Lossy conversion from float64 to uint8. Range [0, 1]. Convert image to uint8 prior to saving to suppress this warning.\n",
      "Lossy conversion from float64 to uint8. Range [0.0, 322.0]. Convert image to uint8 prior to saving to suppress this warning.\n"
     ]
    },
    {
     "name": "stdout",
     "output_type": "stream",
     "text": [
      "D:\\datasets\\ms\\MSAkdeniz_SpinalCord\\MSAkdeniz_SC_Masks\\\\ME_YA_GTmask_0096.jpg  saved\n",
      "D:\\datasets\\ms\\MSAkdeniz_SpinalCord\\MSAkdeniz_SC_MRs\\\\ME_YA_slice_0096.jpg  saved\n",
      "D:\\datasets\\ms\\MSAkdeniz_SpinalCord\\MSAkdeniz_SC_Masks\\\\ME_YA_GTmask_0097.jpg  saved\n",
      "D:\\datasets\\ms\\MSAkdeniz_SpinalCord\\MSAkdeniz_SC_MRs\\\\ME_YA_slice_0097.jpg  saved\n",
      "D:\\datasets\\ms\\MSAkdeniz_SpinalCord\\MSAkdeniz_SC_Masks\\\\ME_YA_GTmask_0098.jpg  saved\n",
      "D:\\datasets\\ms\\MSAkdeniz_SpinalCord\\MSAkdeniz_SC_MRs\\\\ME_YA_slice_0098.jpg  saved\n",
      "ME_YA_B2_mask\n"
     ]
    },
    {
     "name": "stderr",
     "output_type": "stream",
     "text": [
      "Lossy conversion from float64 to uint8. Range [0, 1]. Convert image to uint8 prior to saving to suppress this warning.\n",
      "Lossy conversion from float64 to uint8. Range [0.0, 347.0]. Convert image to uint8 prior to saving to suppress this warning.\n",
      "Lossy conversion from float64 to uint8. Range [0, 1]. Convert image to uint8 prior to saving to suppress this warning.\n",
      "Lossy conversion from float64 to uint8. Range [0.0, 345.0]. Convert image to uint8 prior to saving to suppress this warning.\n",
      "Lossy conversion from float64 to uint8. Range [0, 1]. Convert image to uint8 prior to saving to suppress this warning.\n"
     ]
    },
    {
     "name": "stdout",
     "output_type": "stream",
     "text": [
      "True\n",
      "D:\\datasets\\ms\\MSAkdeniz_SpinalCord\\MSAkdeniz_SC_Masks\\\\ME_YA_GTmask_0087.jpg  saved\n",
      "D:\\datasets\\ms\\MSAkdeniz_SpinalCord\\MSAkdeniz_SC_MRs\\\\ME_YA_slice_0087.jpg  saved\n",
      "D:\\datasets\\ms\\MSAkdeniz_SpinalCord\\MSAkdeniz_SC_Masks\\\\ME_YA_GTmask_0088.jpg  saved\n",
      "D:\\datasets\\ms\\MSAkdeniz_SpinalCord\\MSAkdeniz_SC_MRs\\\\ME_YA_slice_0088.jpg  saved\n",
      "D:\\datasets\\ms\\MSAkdeniz_SpinalCord\\MSAkdeniz_SC_Masks\\\\ME_YA_GTmask_0089.jpg"
     ]
    },
    {
     "name": "stderr",
     "output_type": "stream",
     "text": [
      "Lossy conversion from float64 to uint8. Range [0.0, 316.0]. Convert image to uint8 prior to saving to suppress this warning.\n",
      "Lossy conversion from float64 to uint8. Range [0, 1]. Convert image to uint8 prior to saving to suppress this warning.\n",
      "Lossy conversion from float64 to uint8. Range [0.0, 283.0]. Convert image to uint8 prior to saving to suppress this warning.\n",
      "Lossy conversion from float64 to uint8. Range [0, 1]. Convert image to uint8 prior to saving to suppress this warning.\n",
      "Lossy conversion from float64 to uint8. Range [0.0, 281.0]. Convert image to uint8 prior to saving to suppress this warning.\n",
      "Lossy conversion from float64 to uint8. Range [0, 1]. Convert image to uint8 prior to saving to suppress this warning.\n",
      "Lossy conversion from float64 to uint8. Range [0.0, 301.0]. Convert image to uint8 prior to saving to suppress this warning.\n",
      "Lossy conversion from float64 to uint8. Range [0, 1]. Convert image to uint8 prior to saving to suppress this warning.\n",
      "Lossy conversion from float64 to uint8. Range [0.0, 325.0]. Convert image to uint8 prior to saving to suppress this warning.\n",
      "Lossy conversion from float64 to uint8. Range [0, 1]. Convert image to uint8 prior to saving to suppress this warning.\n",
      "Lossy conversion from float64 to uint8. Range [0.0, 364.0]. Convert image to uint8 prior to saving to suppress this warning.\n"
     ]
    },
    {
     "name": "stdout",
     "output_type": "stream",
     "text": [
      "  saved\n",
      "D:\\datasets\\ms\\MSAkdeniz_SpinalCord\\MSAkdeniz_SC_MRs\\\\ME_YA_slice_0089.jpg  saved\n",
      "D:\\datasets\\ms\\MSAkdeniz_SpinalCord\\MSAkdeniz_SC_Masks\\\\ME_YA_GTmask_0090.jpg  saved\n",
      "D:\\datasets\\ms\\MSAkdeniz_SpinalCord\\MSAkdeniz_SC_MRs\\\\ME_YA_slice_0090.jpg  saved\n",
      "D:\\datasets\\ms\\MSAkdeniz_SpinalCord\\MSAkdeniz_SC_Masks\\\\ME_YA_GTmask_0091.jpg  saved\n",
      "D:\\datasets\\ms\\MSAkdeniz_SpinalCord\\MSAkdeniz_SC_MRs\\\\ME_YA_slice_0091.jpg  saved\n",
      "D:\\datasets\\ms\\MSAkdeniz_SpinalCord\\MSAkdeniz_SC_Masks\\\\ME_YA_GTmask_0092.jpg  saved\n",
      "D:\\datasets\\ms\\MSAkdeniz_SpinalCord\\MSAkdeniz_SC_MRs\\\\ME_YA_slice_0092.jpg  saved\n",
      "D:\\datasets\\ms\\MSAkdeniz_SpinalCord\\MSAkdeniz_SC_Masks\\\\ME_YA_GTmask_0093.jpg  saved\n",
      "D:\\datasets\\ms\\MSAkdeniz_SpinalCord\\MSAkdeniz_SC_MRs\\\\ME_YA_slice_0093.jpg  saved\n",
      "D:\\datasets\\ms\\MSAkdeniz_SpinalCord\\MSAkdeniz_SC_Masks\\\\ME_YA_GTmask_0094.jpg  saved\n"
     ]
    },
    {
     "name": "stderr",
     "output_type": "stream",
     "text": [
      "Lossy conversion from float64 to uint8. Range [0, 1]. Convert image to uint8 prior to saving to suppress this warning.\n",
      "Lossy conversion from float64 to uint8. Range [0.0, 334.0]. Convert image to uint8 prior to saving to suppress this warning.\n",
      "Lossy conversion from float64 to uint8. Range [0, 1]. Convert image to uint8 prior to saving to suppress this warning.\n",
      "Lossy conversion from float64 to uint8. Range [0.0, 289.0]. Convert image to uint8 prior to saving to suppress this warning.\n"
     ]
    },
    {
     "name": "stdout",
     "output_type": "stream",
     "text": [
      "D:\\datasets\\ms\\MSAkdeniz_SpinalCord\\MSAkdeniz_SC_MRs\\\\ME_YA_slice_0094.jpg  saved\n",
      "D:\\datasets\\ms\\MSAkdeniz_SpinalCord\\MSAkdeniz_SC_Masks\\\\ME_YA_GTmask_0095.jpg  saved\n",
      "D:\\datasets\\ms\\MSAkdeniz_SpinalCord\\MSAkdeniz_SC_MRs\\\\ME_YA_slice_0095.jpg  saved\n",
      "D:\\datasets\\ms\\MSAkdeniz_SpinalCord\\MSAkdeniz_SC_Masks\\\\ME_YA_GTmask_0096.jpg  saved\n",
      "D:\\datasets\\ms\\MSAkdeniz_SpinalCord\\MSAkdeniz_SC_MRs\\\\ME_YA_slice_0096.jpg  saved\n",
      "RA_UY_B1_mask\n"
     ]
    },
    {
     "name": "stderr",
     "output_type": "stream",
     "text": [
      "Lossy conversion from float64 to uint8. Range [0, 1]. Convert image to uint8 prior to saving to suppress this warning.\n",
      "Lossy conversion from float64 to uint8. Range [0.0, 258.0]. Convert image to uint8 prior to saving to suppress this warning.\n"
     ]
    },
    {
     "name": "stdout",
     "output_type": "stream",
     "text": [
      "True\n",
      "D:\\datasets\\ms\\MSAkdeniz_SpinalCord\\MSAkdeniz_SC_Masks\\\\RA_UY_GTmask_0093.jpg  saved\n",
      "D:\\datasets\\ms\\MSAkdeniz_SpinalCord\\MSAkdeniz_SC_MRs\\\\RA_UY_slice_0093.jpg"
     ]
    },
    {
     "name": "stderr",
     "output_type": "stream",
     "text": [
      "Lossy conversion from float64 to uint8. Range [0, 1]. Convert image to uint8 prior to saving to suppress this warning.\n",
      "Lossy conversion from float64 to uint8. Range [0.0, 257.0]. Convert image to uint8 prior to saving to suppress this warning.\n",
      "Lossy conversion from float64 to uint8. Range [0, 1]. Convert image to uint8 prior to saving to suppress this warning.\n",
      "Lossy conversion from float64 to uint8. Range [0.0, 275.0]. Convert image to uint8 prior to saving to suppress this warning.\n",
      "Lossy conversion from float64 to uint8. Range [0, 1]. Convert image to uint8 prior to saving to suppress this warning.\n",
      "Lossy conversion from float64 to uint8. Range [0.0, 298.0]. Convert image to uint8 prior to saving to suppress this warning.\n",
      "Lossy conversion from float64 to uint8. Range [0, 1]. Convert image to uint8 prior to saving to suppress this warning.\n",
      "Lossy conversion from float64 to uint8. Range [0.0, 293.0]. Convert image to uint8 prior to saving to suppress this warning.\n",
      "Lossy conversion from float64 to uint8. Range [0, 1]. Convert image to uint8 prior to saving to suppress this warning.\n",
      "Lossy conversion from float64 to uint8. Range [0.0, 261.0]. Convert image to uint8 prior to saving to suppress this warning.\n",
      "Lossy conversion from float64 to uint8. Range [0, 1]. Convert image to uint8 prior to saving to suppress this warning.\n"
     ]
    },
    {
     "name": "stdout",
     "output_type": "stream",
     "text": [
      "  saved\n",
      "D:\\datasets\\ms\\MSAkdeniz_SpinalCord\\MSAkdeniz_SC_Masks\\\\RA_UY_GTmask_0094.jpg  saved\n",
      "D:\\datasets\\ms\\MSAkdeniz_SpinalCord\\MSAkdeniz_SC_MRs\\\\RA_UY_slice_0094.jpg  saved\n",
      "D:\\datasets\\ms\\MSAkdeniz_SpinalCord\\MSAkdeniz_SC_Masks\\\\RA_UY_GTmask_0095.jpg  saved\n",
      "D:\\datasets\\ms\\MSAkdeniz_SpinalCord\\MSAkdeniz_SC_MRs\\\\RA_UY_slice_0095.jpg  saved\n",
      "D:\\datasets\\ms\\MSAkdeniz_SpinalCord\\MSAkdeniz_SC_Masks\\\\RA_UY_GTmask_0096.jpg  saved\n",
      "D:\\datasets\\ms\\MSAkdeniz_SpinalCord\\MSAkdeniz_SC_MRs\\\\RA_UY_slice_0096.jpg  saved\n",
      "D:\\datasets\\ms\\MSAkdeniz_SpinalCord\\MSAkdeniz_SC_Masks\\\\RA_UY_GTmask_0097.jpg  saved\n",
      "D:\\datasets\\ms\\MSAkdeniz_SpinalCord\\MSAkdeniz_SC_MRs\\\\RA_UY_slice_0097.jpg  saved\n",
      "D:\\datasets\\ms\\MSAkdeniz_SpinalCord\\MSAkdeniz_SC_Masks\\\\RA_UY_GTmask_0098.jpg  saved\n",
      "D:\\datasets\\ms\\MSAkdeniz_SpinalCord\\MSAkdeniz_SC_MRs\\\\RA_UY_slice_0098.jpg  saved\n",
      "D:\\datasets\\ms\\MSAkdeniz_SpinalCord\\MSAkdeniz_SC_Masks\\\\RA_UY_GTmask_0099.jpg"
     ]
    },
    {
     "name": "stderr",
     "output_type": "stream",
     "text": [
      "Lossy conversion from float64 to uint8. Range [0.0, 257.0]. Convert image to uint8 prior to saving to suppress this warning.\n",
      "Lossy conversion from float64 to uint8. Range [0, 1]. Convert image to uint8 prior to saving to suppress this warning.\n",
      "Lossy conversion from float64 to uint8. Range [0.0, 253.0]. Convert image to uint8 prior to saving to suppress this warning.\n",
      "Lossy conversion from float64 to uint8. Range [0, 1]. Convert image to uint8 prior to saving to suppress this warning.\n",
      "Lossy conversion from float64 to uint8. Range [0.0, 272.0]. Convert image to uint8 prior to saving to suppress this warning.\n",
      "Lossy conversion from float64 to uint8. Range [0, 1]. Convert image to uint8 prior to saving to suppress this warning.\n",
      "Lossy conversion from float64 to uint8. Range [0.0, 242.0]. Convert image to uint8 prior to saving to suppress this warning.\n"
     ]
    },
    {
     "name": "stdout",
     "output_type": "stream",
     "text": [
      "  saved\n",
      "D:\\datasets\\ms\\MSAkdeniz_SpinalCord\\MSAkdeniz_SC_MRs\\\\RA_UY_slice_0099.jpg  saved\n",
      "D:\\datasets\\ms\\MSAkdeniz_SpinalCord\\MSAkdeniz_SC_Masks\\\\RA_UY_GTmask_0100.jpg  saved\n",
      "D:\\datasets\\ms\\MSAkdeniz_SpinalCord\\MSAkdeniz_SC_MRs\\\\RA_UY_slice_0100.jpg  saved\n",
      "D:\\datasets\\ms\\MSAkdeniz_SpinalCord\\MSAkdeniz_SC_Masks\\\\RA_UY_GTmask_0101.jpg  saved\n",
      "D:\\datasets\\ms\\MSAkdeniz_SpinalCord\\MSAkdeniz_SC_MRs\\\\RA_UY_slice_0101.jpg  saved\n",
      "D:\\datasets\\ms\\MSAkdeniz_SpinalCord\\MSAkdeniz_SC_Masks\\\\RA_UY_GTmask_0102.jpg  saved\n",
      "D:\\datasets\\ms\\MSAkdeniz_SpinalCord\\MSAkdeniz_SC_MRs\\\\RA_UY_slice_0102.jpg  saved\n",
      "RA_UY_B2_mask\n"
     ]
    },
    {
     "name": "stderr",
     "output_type": "stream",
     "text": [
      "Lossy conversion from float64 to uint8. Range [0, 1]. Convert image to uint8 prior to saving to suppress this warning.\n",
      "Lossy conversion from float64 to uint8. Range [0.0, 243.0]. Convert image to uint8 prior to saving to suppress this warning.\n",
      "Lossy conversion from float64 to uint8. Range [0, 1]. Convert image to uint8 prior to saving to suppress this warning.\n",
      "Lossy conversion from float64 to uint8. Range [0.0, 247.0]. Convert image to uint8 prior to saving to suppress this warning.\n",
      "Lossy conversion from float64 to uint8. Range [0, 1]. Convert image to uint8 prior to saving to suppress this warning.\n"
     ]
    },
    {
     "name": "stdout",
     "output_type": "stream",
     "text": [
      "True\n",
      "D:\\datasets\\ms\\MSAkdeniz_SpinalCord\\MSAkdeniz_SC_Masks\\\\RA_UY_GTmask_0083.jpg  saved\n",
      "D:\\datasets\\ms\\MSAkdeniz_SpinalCord\\MSAkdeniz_SC_MRs\\\\RA_UY_slice_0083.jpg  saved\n",
      "D:\\datasets\\ms\\MSAkdeniz_SpinalCord\\MSAkdeniz_SC_Masks\\\\RA_UY_GTmask_0084.jpg  saved\n",
      "D:\\datasets\\ms\\MSAkdeniz_SpinalCord\\MSAkdeniz_SC_MRs\\\\RA_UY_slice_0084.jpg  saved\n",
      "D:\\datasets\\ms\\MSAkdeniz_SpinalCord\\MSAkdeniz_SC_Masks\\\\RA_UY_GTmask_0085.jpg"
     ]
    },
    {
     "name": "stderr",
     "output_type": "stream",
     "text": [
      "Lossy conversion from float64 to uint8. Range [0.0, 240.0]. Convert image to uint8 prior to saving to suppress this warning.\n",
      "Lossy conversion from float64 to uint8. Range [0, 1]. Convert image to uint8 prior to saving to suppress this warning.\n",
      "Lossy conversion from float64 to uint8. Range [0.0, 243.0]. Convert image to uint8 prior to saving to suppress this warning.\n",
      "Lossy conversion from float64 to uint8. Range [0, 1]. Convert image to uint8 prior to saving to suppress this warning.\n",
      "Lossy conversion from float64 to uint8. Range [0.0, 245.0]. Convert image to uint8 prior to saving to suppress this warning.\n",
      "Lossy conversion from float64 to uint8. Range [0, 1]. Convert image to uint8 prior to saving to suppress this warning.\n",
      "Lossy conversion from float64 to uint8. Range [0.0, 262.0]. Convert image to uint8 prior to saving to suppress this warning.\n",
      "Lossy conversion from float64 to uint8. Range [0, 1]. Convert image to uint8 prior to saving to suppress this warning.\n",
      "Lossy conversion from float64 to uint8. Range [0.0, 251.0]. Convert image to uint8 prior to saving to suppress this warning.\n",
      "Lossy conversion from float64 to uint8. Range [0, 1]. Convert image to uint8 prior to saving to suppress this warning.\n",
      "Lossy conversion from float64 to uint8. Range [0.0, 236.0]. Convert image to uint8 prior to saving to suppress this warning.\n",
      "Lossy conversion from float64 to uint8. Range [0, 1]. Convert image to uint8 prior to saving to suppress this warning.\n"
     ]
    },
    {
     "name": "stdout",
     "output_type": "stream",
     "text": [
      "  saved\n",
      "D:\\datasets\\ms\\MSAkdeniz_SpinalCord\\MSAkdeniz_SC_MRs\\\\RA_UY_slice_0085.jpg  saved\n",
      "D:\\datasets\\ms\\MSAkdeniz_SpinalCord\\MSAkdeniz_SC_Masks\\\\RA_UY_GTmask_0086.jpg  saved\n",
      "D:\\datasets\\ms\\MSAkdeniz_SpinalCord\\MSAkdeniz_SC_MRs\\\\RA_UY_slice_0086.jpg  saved\n",
      "D:\\datasets\\ms\\MSAkdeniz_SpinalCord\\MSAkdeniz_SC_Masks\\\\RA_UY_GTmask_0087.jpg  saved\n",
      "D:\\datasets\\ms\\MSAkdeniz_SpinalCord\\MSAkdeniz_SC_MRs\\\\RA_UY_slice_0087.jpg  saved\n",
      "D:\\datasets\\ms\\MSAkdeniz_SpinalCord\\MSAkdeniz_SC_Masks\\\\RA_UY_GTmask_0088.jpg  saved\n",
      "D:\\datasets\\ms\\MSAkdeniz_SpinalCord\\MSAkdeniz_SC_MRs\\\\RA_UY_slice_0088.jpg  saved\n",
      "D:\\datasets\\ms\\MSAkdeniz_SpinalCord\\MSAkdeniz_SC_Masks\\\\RA_UY_GTmask_0089.jpg  saved\n",
      "D:\\datasets\\ms\\MSAkdeniz_SpinalCord\\MSAkdeniz_SC_MRs\\\\RA_UY_slice_0089.jpg  saved\n",
      "D:\\datasets\\ms\\MSAkdeniz_SpinalCord\\MSAkdeniz_SC_Masks\\\\RA_UY_GTmask_0090.jpg  saved\n",
      "D:\\datasets\\ms\\MSAkdeniz_SpinalCord\\MSAkdeniz_SC_MRs\\\\RA_UY_slice_0090.jpg  saved\n"
     ]
    },
    {
     "name": "stderr",
     "output_type": "stream",
     "text": [
      "Lossy conversion from float64 to uint8. Range [0.0, 232.0]. Convert image to uint8 prior to saving to suppress this warning.\n"
     ]
    },
    {
     "name": "stdout",
     "output_type": "stream",
     "text": [
      "D:\\datasets\\ms\\MSAkdeniz_SpinalCord\\MSAkdeniz_SC_Masks\\\\RA_UY_GTmask_0091.jpg  saved\n",
      "D:\\datasets\\ms\\MSAkdeniz_SpinalCord\\MSAkdeniz_SC_MRs\\\\RA_UY_slice_0091.jpg  saved\n",
      "RE_KO_B1_mask\n"
     ]
    },
    {
     "name": "stderr",
     "output_type": "stream",
     "text": [
      "Lossy conversion from float64 to uint8. Range [0, 1]. Convert image to uint8 prior to saving to suppress this warning.\n",
      "Lossy conversion from float64 to uint8. Range [0.0, 387.0]. Convert image to uint8 prior to saving to suppress this warning.\n",
      "Lossy conversion from float64 to uint8. Range [0, 1]. Convert image to uint8 prior to saving to suppress this warning.\n",
      "Lossy conversion from float64 to uint8. Range [0.0, 397.0]. Convert image to uint8 prior to saving to suppress this warning.\n",
      "Lossy conversion from float64 to uint8. Range [0, 1]. Convert image to uint8 prior to saving to suppress this warning.\n"
     ]
    },
    {
     "name": "stdout",
     "output_type": "stream",
     "text": [
      "True\n",
      "D:\\datasets\\ms\\MSAkdeniz_SpinalCord\\MSAkdeniz_SC_Masks\\\\RE_KO_GTmask_0092.jpg  saved\n",
      "D:\\datasets\\ms\\MSAkdeniz_SpinalCord\\MSAkdeniz_SC_MRs\\\\RE_KO_slice_0092.jpg  saved\n",
      "D:\\datasets\\ms\\MSAkdeniz_SpinalCord\\MSAkdeniz_SC_Masks\\\\RE_KO_GTmask_0093.jpg  saved\n",
      "D:\\datasets\\ms\\MSAkdeniz_SpinalCord\\MSAkdeniz_SC_MRs\\\\RE_KO_slice_0093.jpg  saved\n",
      "D:\\datasets\\ms\\MSAkdeniz_SpinalCord\\MSAkdeniz_SC_Masks\\\\RE_KO_GTmask_0094.jpg"
     ]
    },
    {
     "name": "stderr",
     "output_type": "stream",
     "text": [
      "Lossy conversion from float64 to uint8. Range [0.0, 374.0]. Convert image to uint8 prior to saving to suppress this warning.\n",
      "Lossy conversion from float64 to uint8. Range [0, 1]. Convert image to uint8 prior to saving to suppress this warning.\n",
      "Lossy conversion from float64 to uint8. Range [0.0, 363.0]. Convert image to uint8 prior to saving to suppress this warning.\n",
      "Lossy conversion from float64 to uint8. Range [0, 1]. Convert image to uint8 prior to saving to suppress this warning.\n",
      "Lossy conversion from float64 to uint8. Range [0.0, 321.0]. Convert image to uint8 prior to saving to suppress this warning.\n",
      "Lossy conversion from float64 to uint8. Range [0, 1]. Convert image to uint8 prior to saving to suppress this warning.\n",
      "Lossy conversion from float64 to uint8. Range [0.0, 357.0]. Convert image to uint8 prior to saving to suppress this warning.\n",
      "Lossy conversion from float64 to uint8. Range [0, 1]. Convert image to uint8 prior to saving to suppress this warning.\n",
      "Lossy conversion from float64 to uint8. Range [0.0, 391.0]. Convert image to uint8 prior to saving to suppress this warning.\n",
      "Lossy conversion from float64 to uint8. Range [0, 1]. Convert image to uint8 prior to saving to suppress this warning.\n",
      "Lossy conversion from float64 to uint8. Range [0.0, 371.0]. Convert image to uint8 prior to saving to suppress this warning.\n"
     ]
    },
    {
     "name": "stdout",
     "output_type": "stream",
     "text": [
      "  saved\n",
      "D:\\datasets\\ms\\MSAkdeniz_SpinalCord\\MSAkdeniz_SC_MRs\\\\RE_KO_slice_0094.jpg  saved\n",
      "D:\\datasets\\ms\\MSAkdeniz_SpinalCord\\MSAkdeniz_SC_Masks\\\\RE_KO_GTmask_0095.jpg  saved\n",
      "D:\\datasets\\ms\\MSAkdeniz_SpinalCord\\MSAkdeniz_SC_MRs\\\\RE_KO_slice_0095.jpg  saved\n",
      "D:\\datasets\\ms\\MSAkdeniz_SpinalCord\\MSAkdeniz_SC_Masks\\\\RE_KO_GTmask_0096.jpg  saved\n",
      "D:\\datasets\\ms\\MSAkdeniz_SpinalCord\\MSAkdeniz_SC_MRs\\\\RE_KO_slice_0096.jpg  saved\n",
      "D:\\datasets\\ms\\MSAkdeniz_SpinalCord\\MSAkdeniz_SC_Masks\\\\RE_KO_GTmask_0097.jpg  saved\n",
      "D:\\datasets\\ms\\MSAkdeniz_SpinalCord\\MSAkdeniz_SC_MRs\\\\RE_KO_slice_0097.jpg  saved\n",
      "D:\\datasets\\ms\\MSAkdeniz_SpinalCord\\MSAkdeniz_SC_Masks\\\\RE_KO_GTmask_0098.jpg  saved\n",
      "D:\\datasets\\ms\\MSAkdeniz_SpinalCord\\MSAkdeniz_SC_MRs\\\\RE_KO_slice_0098.jpg  saved\n",
      "D:\\datasets\\ms\\MSAkdeniz_SpinalCord\\MSAkdeniz_SC_Masks\\\\RE_KO_GTmask_0099.jpg  saved\n",
      "D:\\datasets\\ms\\MSAkdeniz_SpinalCord\\MSAkdeniz_SC_MRs\\\\RE_KO_slice_0099.jpg  saved\n",
      "RE_KO_B2_mask\n"
     ]
    },
    {
     "name": "stderr",
     "output_type": "stream",
     "text": [
      "Lossy conversion from float64 to uint8. Range [0, 1]. Convert image to uint8 prior to saving to suppress this warning.\n",
      "Lossy conversion from float64 to uint8. Range [0.0, 308.0]. Convert image to uint8 prior to saving to suppress this warning.\n",
      "Lossy conversion from float64 to uint8. Range [0, 1]. Convert image to uint8 prior to saving to suppress this warning.\n",
      "Lossy conversion from float64 to uint8. Range [0.0, 339.0]. Convert image to uint8 prior to saving to suppress this warning.\n",
      "Lossy conversion from float64 to uint8. Range [0, 1]. Convert image to uint8 prior to saving to suppress this warning.\n",
      "Lossy conversion from float64 to uint8. Range [0.0, 373.0]. Convert image to uint8 prior to saving to suppress this warning.\n",
      "Lossy conversion from float64 to uint8. Range [0, 1]. Convert image to uint8 prior to saving to suppress this warning.\n"
     ]
    },
    {
     "name": "stdout",
     "output_type": "stream",
     "text": [
      "True\n",
      "D:\\datasets\\ms\\MSAkdeniz_SpinalCord\\MSAkdeniz_SC_Masks\\\\RE_KO_GTmask_0080.jpg  saved\n",
      "D:\\datasets\\ms\\MSAkdeniz_SpinalCord\\MSAkdeniz_SC_MRs\\\\RE_KO_slice_0080.jpg  saved\n",
      "D:\\datasets\\ms\\MSAkdeniz_SpinalCord\\MSAkdeniz_SC_Masks\\\\RE_KO_GTmask_0081.jpg  saved\n",
      "D:\\datasets\\ms\\MSAkdeniz_SpinalCord\\MSAkdeniz_SC_MRs\\\\RE_KO_slice_0081.jpg  saved\n",
      "D:\\datasets\\ms\\MSAkdeniz_SpinalCord\\MSAkdeniz_SC_Masks\\\\RE_KO_GTmask_0082.jpg  saved\n",
      "D:\\datasets\\ms\\MSAkdeniz_SpinalCord\\MSAkdeniz_SC_MRs\\\\RE_KO_slice_0082.jpg  saved\n",
      "D:\\datasets\\ms\\MSAkdeniz_SpinalCord\\MSAkdeniz_SC_Masks\\\\RE_KO_GTmask_0083.jpg"
     ]
    },
    {
     "name": "stderr",
     "output_type": "stream",
     "text": [
      "Lossy conversion from float64 to uint8. Range [0.0, 375.0]. Convert image to uint8 prior to saving to suppress this warning.\n",
      "Lossy conversion from float64 to uint8. Range [0, 1]. Convert image to uint8 prior to saving to suppress this warning.\n",
      "Lossy conversion from float64 to uint8. Range [0.0, 430.0]. Convert image to uint8 prior to saving to suppress this warning.\n",
      "Lossy conversion from float64 to uint8. Range [0, 1]. Convert image to uint8 prior to saving to suppress this warning.\n",
      "Lossy conversion from float64 to uint8. Range [0.0, 380.0]. Convert image to uint8 prior to saving to suppress this warning.\n",
      "Lossy conversion from float64 to uint8. Range [0, 1]. Convert image to uint8 prior to saving to suppress this warning.\n",
      "Lossy conversion from float64 to uint8. Range [0.0, 311.0]. Convert image to uint8 prior to saving to suppress this warning.\n",
      "Lossy conversion from float64 to uint8. Range [0, 1]. Convert image to uint8 prior to saving to suppress this warning.\n",
      "Lossy conversion from float64 to uint8. Range [0.0, 300.0]. Convert image to uint8 prior to saving to suppress this warning.\n",
      "Lossy conversion from float64 to uint8. Range [0, 1]. Convert image to uint8 prior to saving to suppress this warning.\n",
      "Lossy conversion from float64 to uint8. Range [0.0, 320.0]. Convert image to uint8 prior to saving to suppress this warning.\n",
      "Lossy conversion from float64 to uint8. Range [0, 1]. Convert image to uint8 prior to saving to suppress this warning.\n",
      "Lossy conversion from float64 to uint8. Range [0.0, 348.0]. Convert image to uint8 prior to saving to suppress this warning.\n"
     ]
    },
    {
     "name": "stdout",
     "output_type": "stream",
     "text": [
      "  saved\n",
      "D:\\datasets\\ms\\MSAkdeniz_SpinalCord\\MSAkdeniz_SC_MRs\\\\RE_KO_slice_0083.jpg  saved\n",
      "D:\\datasets\\ms\\MSAkdeniz_SpinalCord\\MSAkdeniz_SC_Masks\\\\RE_KO_GTmask_0084.jpg  saved\n",
      "D:\\datasets\\ms\\MSAkdeniz_SpinalCord\\MSAkdeniz_SC_MRs\\\\RE_KO_slice_0084.jpg  saved\n",
      "D:\\datasets\\ms\\MSAkdeniz_SpinalCord\\MSAkdeniz_SC_Masks\\\\RE_KO_GTmask_0085.jpg  saved\n",
      "D:\\datasets\\ms\\MSAkdeniz_SpinalCord\\MSAkdeniz_SC_MRs\\\\RE_KO_slice_0085.jpg  saved\n",
      "D:\\datasets\\ms\\MSAkdeniz_SpinalCord\\MSAkdeniz_SC_Masks\\\\RE_KO_GTmask_0086.jpg  saved\n",
      "D:\\datasets\\ms\\MSAkdeniz_SpinalCord\\MSAkdeniz_SC_MRs\\\\RE_KO_slice_0086.jpg  saved\n",
      "D:\\datasets\\ms\\MSAkdeniz_SpinalCord\\MSAkdeniz_SC_Masks\\\\RE_KO_GTmask_0087.jpg  saved\n",
      "D:\\datasets\\ms\\MSAkdeniz_SpinalCord\\MSAkdeniz_SC_MRs\\\\RE_KO_slice_0087.jpg  saved\n",
      "D:\\datasets\\ms\\MSAkdeniz_SpinalCord\\MSAkdeniz_SC_Masks\\\\RE_KO_GTmask_0088.jpg  saved\n",
      "D:\\datasets\\ms\\MSAkdeniz_SpinalCord\\MSAkdeniz_SC_MRs\\\\RE_KO_slice_0088.jpg  saved\n",
      "D:\\datasets\\ms\\MSAkdeniz_SpinalCord\\MSAkdeniz_SC_Masks\\\\RE_KO_GTmask_0089.jpg  saved\n",
      "D:\\datasets\\ms\\MSAkdeniz_SpinalCord\\MSAkdeniz_SC_MRs\\\\RE_KO_slice_0089.jpg  saved\n",
      "RE_UZ_B1_mask\n"
     ]
    },
    {
     "name": "stderr",
     "output_type": "stream",
     "text": [
      "Lossy conversion from float64 to uint8. Range [0, 1]. Convert image to uint8 prior to saving to suppress this warning.\n",
      "Lossy conversion from float64 to uint8. Range [0.0, 309.0]. Convert image to uint8 prior to saving to suppress this warning.\n",
      "Lossy conversion from float64 to uint8. Range [0, 1]. Convert image to uint8 prior to saving to suppress this warning.\n",
      "Lossy conversion from float64 to uint8. Range [0.0, 306.0]. Convert image to uint8 prior to saving to suppress this warning.\n"
     ]
    },
    {
     "name": "stdout",
     "output_type": "stream",
     "text": [
      "True\n",
      "D:\\datasets\\ms\\MSAkdeniz_SpinalCord\\MSAkdeniz_SC_Masks\\\\RE_UZ_GTmask_0086.jpg  saved\n",
      "D:\\datasets\\ms\\MSAkdeniz_SpinalCord\\MSAkdeniz_SC_MRs\\\\RE_UZ_slice_0086.jpg  saved\n",
      "D:\\datasets\\ms\\MSAkdeniz_SpinalCord\\MSAkdeniz_SC_Masks\\\\RE_UZ_GTmask_0087.jpg  saved\n",
      "D:\\datasets\\ms\\MSAkdeniz_SpinalCord\\MSAkdeniz_SC_MRs\\\\RE_UZ_slice_0087.jpg  saved\n"
     ]
    },
    {
     "name": "stderr",
     "output_type": "stream",
     "text": [
      "Lossy conversion from float64 to uint8. Range [0, 1]. Convert image to uint8 prior to saving to suppress this warning.\n",
      "Lossy conversion from float64 to uint8. Range [0.0, 310.0]. Convert image to uint8 prior to saving to suppress this warning.\n",
      "Lossy conversion from float64 to uint8. Range [0, 1]. Convert image to uint8 prior to saving to suppress this warning.\n",
      "Lossy conversion from float64 to uint8. Range [0.0, 312.0]. Convert image to uint8 prior to saving to suppress this warning.\n",
      "Lossy conversion from float64 to uint8. Range [0, 1]. Convert image to uint8 prior to saving to suppress this warning.\n",
      "Lossy conversion from float64 to uint8. Range [0.0, 331.0]. Convert image to uint8 prior to saving to suppress this warning.\n",
      "Lossy conversion from float64 to uint8. Range [0, 1]. Convert image to uint8 prior to saving to suppress this warning.\n",
      "Lossy conversion from float64 to uint8. Range [0.0, 325.0]. Convert image to uint8 prior to saving to suppress this warning.\n",
      "Lossy conversion from float64 to uint8. Range [0, 1]. Convert image to uint8 prior to saving to suppress this warning.\n",
      "Lossy conversion from float64 to uint8. Range [0.0, 317.0]. Convert image to uint8 prior to saving to suppress this warning.\n",
      "Lossy conversion from float64 to uint8. Range [0, 1]. Convert image to uint8 prior to saving to suppress this warning.\n",
      "Lossy conversion from float64 to uint8. Range [0.0, 302.0]. Convert image to uint8 prior to saving to suppress this warning.\n",
      "Lossy conversion from float64 to uint8. Range [0, 1]. Convert image to uint8 prior to saving to suppress this warning.\n",
      "Lossy conversion from float64 to uint8. Range [0.0, 263.0]. Convert image to uint8 prior to saving to suppress this warning.\n",
      "Lossy conversion from float64 to uint8. Range [0, 1]. Convert image to uint8 prior to saving to suppress this warning.\n"
     ]
    },
    {
     "name": "stdout",
     "output_type": "stream",
     "text": [
      "D:\\datasets\\ms\\MSAkdeniz_SpinalCord\\MSAkdeniz_SC_Masks\\\\RE_UZ_GTmask_0088.jpg  saved\n",
      "D:\\datasets\\ms\\MSAkdeniz_SpinalCord\\MSAkdeniz_SC_MRs\\\\RE_UZ_slice_0088.jpg  saved\n",
      "D:\\datasets\\ms\\MSAkdeniz_SpinalCord\\MSAkdeniz_SC_Masks\\\\RE_UZ_GTmask_0089.jpg  saved\n",
      "D:\\datasets\\ms\\MSAkdeniz_SpinalCord\\MSAkdeniz_SC_MRs\\\\RE_UZ_slice_0089.jpg  saved\n",
      "D:\\datasets\\ms\\MSAkdeniz_SpinalCord\\MSAkdeniz_SC_Masks\\\\RE_UZ_GTmask_0090.jpg  saved\n",
      "D:\\datasets\\ms\\MSAkdeniz_SpinalCord\\MSAkdeniz_SC_MRs\\\\RE_UZ_slice_0090.jpg  saved\n",
      "D:\\datasets\\ms\\MSAkdeniz_SpinalCord\\MSAkdeniz_SC_Masks\\\\RE_UZ_GTmask_0091.jpg  saved\n",
      "D:\\datasets\\ms\\MSAkdeniz_SpinalCord\\MSAkdeniz_SC_MRs\\\\RE_UZ_slice_0091.jpg  saved\n",
      "D:\\datasets\\ms\\MSAkdeniz_SpinalCord\\MSAkdeniz_SC_Masks\\\\RE_UZ_GTmask_0092.jpg  saved\n",
      "D:\\datasets\\ms\\MSAkdeniz_SpinalCord\\MSAkdeniz_SC_MRs\\\\RE_UZ_slice_0092.jpg  saved\n",
      "D:\\datasets\\ms\\MSAkdeniz_SpinalCord\\MSAkdeniz_SC_Masks\\\\RE_UZ_GTmask_0093.jpg  saved\n",
      "D:\\datasets\\ms\\MSAkdeniz_SpinalCord\\MSAkdeniz_SC_MRs\\\\RE_UZ_slice_0093.jpg  saved\n",
      "D:\\datasets\\ms\\MSAkdeniz_SpinalCord\\MSAkdeniz_SC_Masks\\\\RE_UZ_GTmask_0094.jpg  saved\n",
      "D:\\datasets\\ms\\MSAkdeniz_SpinalCord\\MSAkdeniz_SC_MRs\\\\RE_UZ_slice_0094.jpg  saved\n",
      "D:\\datasets\\ms\\MSAkdeniz_SpinalCord\\MSAkdeniz_SC_Masks\\\\RE_UZ_GTmask_0095.jpg"
     ]
    },
    {
     "name": "stderr",
     "output_type": "stream",
     "text": [
      "Lossy conversion from float64 to uint8. Range [0.0, 309.0]. Convert image to uint8 prior to saving to suppress this warning.\n",
      "Lossy conversion from float64 to uint8. Range [0, 1]. Convert image to uint8 prior to saving to suppress this warning.\n",
      "Lossy conversion from float64 to uint8. Range [0.0, 286.0]. Convert image to uint8 prior to saving to suppress this warning.\n"
     ]
    },
    {
     "name": "stdout",
     "output_type": "stream",
     "text": [
      "  saved\n",
      "D:\\datasets\\ms\\MSAkdeniz_SpinalCord\\MSAkdeniz_SC_MRs\\\\RE_UZ_slice_0095.jpg  saved\n",
      "D:\\datasets\\ms\\MSAkdeniz_SpinalCord\\MSAkdeniz_SC_Masks\\\\RE_UZ_GTmask_0096.jpg  saved\n",
      "D:\\datasets\\ms\\MSAkdeniz_SpinalCord\\MSAkdeniz_SC_MRs\\\\RE_UZ_slice_0096.jpg  saved\n",
      "RE_UZ_B2_mask\n"
     ]
    },
    {
     "name": "stderr",
     "output_type": "stream",
     "text": [
      "Lossy conversion from float64 to uint8. Range [0, 1]. Convert image to uint8 prior to saving to suppress this warning.\n",
      "Lossy conversion from float64 to uint8. Range [0.0, 323.0]. Convert image to uint8 prior to saving to suppress this warning.\n",
      "Lossy conversion from float64 to uint8. Range [0, 1]. Convert image to uint8 prior to saving to suppress this warning.\n",
      "Lossy conversion from float64 to uint8. Range [0.0, 289.0]. Convert image to uint8 prior to saving to suppress this warning.\n"
     ]
    },
    {
     "name": "stdout",
     "output_type": "stream",
     "text": [
      "True\n",
      "D:\\datasets\\ms\\MSAkdeniz_SpinalCord\\MSAkdeniz_SC_Masks\\\\RE_UZ_GTmask_0074.jpg  saved\n",
      "D:\\datasets\\ms\\MSAkdeniz_SpinalCord\\MSAkdeniz_SC_MRs\\\\RE_UZ_slice_0074.jpg  saved\n",
      "D:\\datasets\\ms\\MSAkdeniz_SpinalCord\\MSAkdeniz_SC_Masks\\\\RE_UZ_GTmask_0075.jpg  saved\n",
      "D:\\datasets\\ms\\MSAkdeniz_SpinalCord\\MSAkdeniz_SC_MRs\\\\RE_UZ_slice_0075.jpg"
     ]
    },
    {
     "name": "stderr",
     "output_type": "stream",
     "text": [
      "Lossy conversion from float64 to uint8. Range [0, 1]. Convert image to uint8 prior to saving to suppress this warning.\n",
      "Lossy conversion from float64 to uint8. Range [0.0, 292.0]. Convert image to uint8 prior to saving to suppress this warning.\n",
      "Lossy conversion from float64 to uint8. Range [0, 1]. Convert image to uint8 prior to saving to suppress this warning.\n",
      "Lossy conversion from float64 to uint8. Range [0.0, 293.0]. Convert image to uint8 prior to saving to suppress this warning.\n",
      "Lossy conversion from float64 to uint8. Range [0, 1]. Convert image to uint8 prior to saving to suppress this warning.\n",
      "Lossy conversion from float64 to uint8. Range [0.0, 316.0]. Convert image to uint8 prior to saving to suppress this warning.\n",
      "Lossy conversion from float64 to uint8. Range [0, 1]. Convert image to uint8 prior to saving to suppress this warning.\n",
      "Lossy conversion from float64 to uint8. Range [0.0, 334.0]. Convert image to uint8 prior to saving to suppress this warning.\n",
      "Lossy conversion from float64 to uint8. Range [0, 1]. Convert image to uint8 prior to saving to suppress this warning.\n",
      "Lossy conversion from float64 to uint8. Range [0.0, 336.0]. Convert image to uint8 prior to saving to suppress this warning.\n",
      "Lossy conversion from float64 to uint8. Range [0, 1]. Convert image to uint8 prior to saving to suppress this warning.\n"
     ]
    },
    {
     "name": "stdout",
     "output_type": "stream",
     "text": [
      "  saved\n",
      "D:\\datasets\\ms\\MSAkdeniz_SpinalCord\\MSAkdeniz_SC_Masks\\\\RE_UZ_GTmask_0076.jpg  saved\n",
      "D:\\datasets\\ms\\MSAkdeniz_SpinalCord\\MSAkdeniz_SC_MRs\\\\RE_UZ_slice_0076.jpg  saved\n",
      "D:\\datasets\\ms\\MSAkdeniz_SpinalCord\\MSAkdeniz_SC_Masks\\\\RE_UZ_GTmask_0077.jpg  saved\n",
      "D:\\datasets\\ms\\MSAkdeniz_SpinalCord\\MSAkdeniz_SC_MRs\\\\RE_UZ_slice_0077.jpg  saved\n",
      "D:\\datasets\\ms\\MSAkdeniz_SpinalCord\\MSAkdeniz_SC_Masks\\\\RE_UZ_GTmask_0078.jpg  saved\n",
      "D:\\datasets\\ms\\MSAkdeniz_SpinalCord\\MSAkdeniz_SC_MRs\\\\RE_UZ_slice_0078.jpg  saved\n",
      "D:\\datasets\\ms\\MSAkdeniz_SpinalCord\\MSAkdeniz_SC_Masks\\\\RE_UZ_GTmask_0079.jpg  saved\n",
      "D:\\datasets\\ms\\MSAkdeniz_SpinalCord\\MSAkdeniz_SC_MRs\\\\RE_UZ_slice_0079.jpg  saved\n",
      "D:\\datasets\\ms\\MSAkdeniz_SpinalCord\\MSAkdeniz_SC_Masks\\\\RE_UZ_GTmask_0080.jpg  saved\n",
      "D:\\datasets\\ms\\MSAkdeniz_SpinalCord\\MSAkdeniz_SC_MRs\\\\RE_UZ_slice_0080.jpg  saved\n",
      "D:\\datasets\\ms\\MSAkdeniz_SpinalCord\\MSAkdeniz_SC_Masks\\\\RE_UZ_GTmask_0081.jpg"
     ]
    },
    {
     "name": "stderr",
     "output_type": "stream",
     "text": [
      "Lossy conversion from float64 to uint8. Range [0.0, 305.0]. Convert image to uint8 prior to saving to suppress this warning.\n",
      "Lossy conversion from float64 to uint8. Range [0, 1]. Convert image to uint8 prior to saving to suppress this warning.\n",
      "Lossy conversion from float64 to uint8. Range [0.0, 301.0]. Convert image to uint8 prior to saving to suppress this warning.\n",
      "Lossy conversion from float64 to uint8. Range [0, 1]. Convert image to uint8 prior to saving to suppress this warning.\n",
      "Lossy conversion from float64 to uint8. Range [0.0, 300.0]. Convert image to uint8 prior to saving to suppress this warning.\n",
      "Lossy conversion from float64 to uint8. Range [0, 1]. Convert image to uint8 prior to saving to suppress this warning.\n",
      "Lossy conversion from float64 to uint8. Range [0.0, 307.0]. Convert image to uint8 prior to saving to suppress this warning.\n",
      "Lossy conversion from float64 to uint8. Range [0, 1]. Convert image to uint8 prior to saving to suppress this warning.\n",
      "Lossy conversion from float64 to uint8. Range [0.0, 296.0]. Convert image to uint8 prior to saving to suppress this warning.\n"
     ]
    },
    {
     "name": "stdout",
     "output_type": "stream",
     "text": [
      "  saved\n",
      "D:\\datasets\\ms\\MSAkdeniz_SpinalCord\\MSAkdeniz_SC_MRs\\\\RE_UZ_slice_0081.jpg  saved\n",
      "D:\\datasets\\ms\\MSAkdeniz_SpinalCord\\MSAkdeniz_SC_Masks\\\\RE_UZ_GTmask_0082.jpg  saved\n",
      "D:\\datasets\\ms\\MSAkdeniz_SpinalCord\\MSAkdeniz_SC_MRs\\\\RE_UZ_slice_0082.jpg  saved\n",
      "D:\\datasets\\ms\\MSAkdeniz_SpinalCord\\MSAkdeniz_SC_Masks\\\\RE_UZ_GTmask_0083.jpg  saved\n",
      "D:\\datasets\\ms\\MSAkdeniz_SpinalCord\\MSAkdeniz_SC_MRs\\\\RE_UZ_slice_0083.jpg  saved\n",
      "D:\\datasets\\ms\\MSAkdeniz_SpinalCord\\MSAkdeniz_SC_Masks\\\\RE_UZ_GTmask_0084.jpg  saved\n",
      "D:\\datasets\\ms\\MSAkdeniz_SpinalCord\\MSAkdeniz_SC_MRs\\\\RE_UZ_slice_0084.jpg  saved\n",
      "D:\\datasets\\ms\\MSAkdeniz_SpinalCord\\MSAkdeniz_SC_Masks\\\\RE_UZ_GTmask_0089.jpg  saved\n",
      "D:\\datasets\\ms\\MSAkdeniz_SpinalCord\\MSAkdeniz_SC_MRs\\\\RE_UZ_slice_0089.jpg  saved\n",
      "SE_AK_B1_mask\n"
     ]
    },
    {
     "name": "stderr",
     "output_type": "stream",
     "text": [
      "Lossy conversion from float64 to uint8. Range [0, 1]. Convert image to uint8 prior to saving to suppress this warning.\n",
      "Lossy conversion from float64 to uint8. Range [0.0, 311.0]. Convert image to uint8 prior to saving to suppress this warning.\n",
      "Lossy conversion from float64 to uint8. Range [0, 1]. Convert image to uint8 prior to saving to suppress this warning.\n"
     ]
    },
    {
     "name": "stdout",
     "output_type": "stream",
     "text": [
      "True\n",
      "D:\\datasets\\ms\\MSAkdeniz_SpinalCord\\MSAkdeniz_SC_Masks\\\\SE_AK_GTmask_0083.jpg  saved\n",
      "D:\\datasets\\ms\\MSAkdeniz_SpinalCord\\MSAkdeniz_SC_MRs\\\\SE_AK_slice_0083.jpg  saved\n",
      "D:\\datasets\\ms\\MSAkdeniz_SpinalCord\\MSAkdeniz_SC_Masks\\\\SE_AK_GTmask_0084.jpg  saved\n"
     ]
    },
    {
     "name": "stderr",
     "output_type": "stream",
     "text": [
      "Lossy conversion from float64 to uint8. Range [0.0, 288.0]. Convert image to uint8 prior to saving to suppress this warning.\n",
      "Lossy conversion from float64 to uint8. Range [0, 1]. Convert image to uint8 prior to saving to suppress this warning.\n",
      "Lossy conversion from float64 to uint8. Range [0.0, 320.0]. Convert image to uint8 prior to saving to suppress this warning.\n",
      "Lossy conversion from float64 to uint8. Range [0, 1]. Convert image to uint8 prior to saving to suppress this warning.\n",
      "Lossy conversion from float64 to uint8. Range [0.0, 314.0]. Convert image to uint8 prior to saving to suppress this warning.\n",
      "Lossy conversion from float64 to uint8. Range [0, 1]. Convert image to uint8 prior to saving to suppress this warning.\n",
      "Lossy conversion from float64 to uint8. Range [0.0, 287.0]. Convert image to uint8 prior to saving to suppress this warning.\n",
      "Lossy conversion from float64 to uint8. Range [0, 1]. Convert image to uint8 prior to saving to suppress this warning.\n",
      "Lossy conversion from float64 to uint8. Range [0.0, 259.0]. Convert image to uint8 prior to saving to suppress this warning.\n",
      "Lossy conversion from float64 to uint8. Range [0, 1]. Convert image to uint8 prior to saving to suppress this warning.\n",
      "Lossy conversion from float64 to uint8. Range [0.0, 276.0]. Convert image to uint8 prior to saving to suppress this warning.\n"
     ]
    },
    {
     "name": "stdout",
     "output_type": "stream",
     "text": [
      "D:\\datasets\\ms\\MSAkdeniz_SpinalCord\\MSAkdeniz_SC_MRs\\\\SE_AK_slice_0084.jpg  saved\n",
      "D:\\datasets\\ms\\MSAkdeniz_SpinalCord\\MSAkdeniz_SC_Masks\\\\SE_AK_GTmask_0085.jpg  saved\n",
      "D:\\datasets\\ms\\MSAkdeniz_SpinalCord\\MSAkdeniz_SC_MRs\\\\SE_AK_slice_0085.jpg  saved\n",
      "D:\\datasets\\ms\\MSAkdeniz_SpinalCord\\MSAkdeniz_SC_Masks\\\\SE_AK_GTmask_0086.jpg  saved\n",
      "D:\\datasets\\ms\\MSAkdeniz_SpinalCord\\MSAkdeniz_SC_MRs\\\\SE_AK_slice_0086.jpg  saved\n",
      "D:\\datasets\\ms\\MSAkdeniz_SpinalCord\\MSAkdeniz_SC_Masks\\\\SE_AK_GTmask_0087.jpg  saved\n",
      "D:\\datasets\\ms\\MSAkdeniz_SpinalCord\\MSAkdeniz_SC_MRs\\\\SE_AK_slice_0087.jpg  saved\n",
      "D:\\datasets\\ms\\MSAkdeniz_SpinalCord\\MSAkdeniz_SC_Masks\\\\SE_AK_GTmask_0088.jpg  saved\n",
      "D:\\datasets\\ms\\MSAkdeniz_SpinalCord\\MSAkdeniz_SC_MRs\\\\SE_AK_slice_0088.jpg  saved\n",
      "D:\\datasets\\ms\\MSAkdeniz_SpinalCord\\MSAkdeniz_SC_Masks\\\\SE_AK_GTmask_0089.jpg  saved\n",
      "D:\\datasets\\ms\\MSAkdeniz_SpinalCord\\MSAkdeniz_SC_MRs\\\\SE_AK_slice_0089.jpg  saved\n"
     ]
    },
    {
     "name": "stderr",
     "output_type": "stream",
     "text": [
      "Lossy conversion from float64 to uint8. Range [0, 1]. Convert image to uint8 prior to saving to suppress this warning.\n",
      "Lossy conversion from float64 to uint8. Range [0.0, 249.0]. Convert image to uint8 prior to saving to suppress this warning.\n",
      "Lossy conversion from float64 to uint8. Range [0, 1]. Convert image to uint8 prior to saving to suppress this warning.\n",
      "Lossy conversion from float64 to uint8. Range [0.0, 229.0]. Convert image to uint8 prior to saving to suppress this warning.\n",
      "Lossy conversion from float64 to uint8. Range [0, 1]. Convert image to uint8 prior to saving to suppress this warning.\n",
      "Lossy conversion from float64 to uint8. Range [0.0, 232.0]. Convert image to uint8 prior to saving to suppress this warning.\n",
      "Lossy conversion from float64 to uint8. Range [0, 1]. Convert image to uint8 prior to saving to suppress this warning.\n",
      "Lossy conversion from float64 to uint8. Range [0.0, 243.0]. Convert image to uint8 prior to saving to suppress this warning.\n"
     ]
    },
    {
     "name": "stdout",
     "output_type": "stream",
     "text": [
      "D:\\datasets\\ms\\MSAkdeniz_SpinalCord\\MSAkdeniz_SC_Masks\\\\SE_AK_GTmask_0090.jpg  saved\n",
      "D:\\datasets\\ms\\MSAkdeniz_SpinalCord\\MSAkdeniz_SC_MRs\\\\SE_AK_slice_0090.jpg  saved\n",
      "D:\\datasets\\ms\\MSAkdeniz_SpinalCord\\MSAkdeniz_SC_Masks\\\\SE_AK_GTmask_0091.jpg  saved\n",
      "D:\\datasets\\ms\\MSAkdeniz_SpinalCord\\MSAkdeniz_SC_MRs\\\\SE_AK_slice_0091.jpg  saved\n",
      "D:\\datasets\\ms\\MSAkdeniz_SpinalCord\\MSAkdeniz_SC_Masks\\\\SE_AK_GTmask_0092.jpg  saved\n",
      "D:\\datasets\\ms\\MSAkdeniz_SpinalCord\\MSAkdeniz_SC_MRs\\\\SE_AK_slice_0092.jpg  saved\n",
      "D:\\datasets\\ms\\MSAkdeniz_SpinalCord\\MSAkdeniz_SC_Masks\\\\SE_AK_GTmask_0093.jpg  saved\n",
      "D:\\datasets\\ms\\MSAkdeniz_SpinalCord\\MSAkdeniz_SC_MRs\\\\SE_AK_slice_0093.jpg  saved\n",
      "SE_AK_B2_mask\n"
     ]
    },
    {
     "name": "stderr",
     "output_type": "stream",
     "text": [
      "Lossy conversion from float64 to uint8. Range [0, 1]. Convert image to uint8 prior to saving to suppress this warning.\n",
      "Lossy conversion from float64 to uint8. Range [0.0, 272.0]. Convert image to uint8 prior to saving to suppress this warning.\n",
      "Lossy conversion from float64 to uint8. Range [0, 1]. Convert image to uint8 prior to saving to suppress this warning.\n",
      "Lossy conversion from float64 to uint8. Range [0.0, 278.0]. Convert image to uint8 prior to saving to suppress this warning.\n"
     ]
    },
    {
     "name": "stdout",
     "output_type": "stream",
     "text": [
      "True\n",
      "D:\\datasets\\ms\\MSAkdeniz_SpinalCord\\MSAkdeniz_SC_Masks\\\\SE_AK_GTmask_0077.jpg  saved\n",
      "D:\\datasets\\ms\\MSAkdeniz_SpinalCord\\MSAkdeniz_SC_MRs\\\\SE_AK_slice_0077.jpg  saved\n",
      "D:\\datasets\\ms\\MSAkdeniz_SpinalCord\\MSAkdeniz_SC_Masks\\\\SE_AK_GTmask_0078.jpg  saved\n",
      "D:\\datasets\\ms\\MSAkdeniz_SpinalCord\\MSAkdeniz_SC_MRs\\\\SE_AK_slice_0078.jpg"
     ]
    },
    {
     "name": "stderr",
     "output_type": "stream",
     "text": [
      "Lossy conversion from float64 to uint8. Range [0, 1]. Convert image to uint8 prior to saving to suppress this warning.\n",
      "Lossy conversion from float64 to uint8. Range [0.0, 295.0]. Convert image to uint8 prior to saving to suppress this warning.\n",
      "Lossy conversion from float64 to uint8. Range [0, 1]. Convert image to uint8 prior to saving to suppress this warning.\n",
      "Lossy conversion from float64 to uint8. Range [0.0, 301.0]. Convert image to uint8 prior to saving to suppress this warning.\n",
      "Lossy conversion from float64 to uint8. Range [0, 1]. Convert image to uint8 prior to saving to suppress this warning.\n",
      "Lossy conversion from float64 to uint8. Range [0.0, 301.0]. Convert image to uint8 prior to saving to suppress this warning.\n",
      "Lossy conversion from float64 to uint8. Range [0, 1]. Convert image to uint8 prior to saving to suppress this warning.\n",
      "Lossy conversion from float64 to uint8. Range [0.0, 270.0]. Convert image to uint8 prior to saving to suppress this warning.\n",
      "Lossy conversion from float64 to uint8. Range [0, 1]. Convert image to uint8 prior to saving to suppress this warning.\n",
      "Lossy conversion from float64 to uint8. Range [0.0, 262.0]. Convert image to uint8 prior to saving to suppress this warning.\n",
      "Lossy conversion from float64 to uint8. Range [0, 1]. Convert image to uint8 prior to saving to suppress this warning.\n"
     ]
    },
    {
     "name": "stdout",
     "output_type": "stream",
     "text": [
      "  saved\n",
      "D:\\datasets\\ms\\MSAkdeniz_SpinalCord\\MSAkdeniz_SC_Masks\\\\SE_AK_GTmask_0079.jpg  saved\n",
      "D:\\datasets\\ms\\MSAkdeniz_SpinalCord\\MSAkdeniz_SC_MRs\\\\SE_AK_slice_0079.jpg  saved\n",
      "D:\\datasets\\ms\\MSAkdeniz_SpinalCord\\MSAkdeniz_SC_Masks\\\\SE_AK_GTmask_0080.jpg  saved\n",
      "D:\\datasets\\ms\\MSAkdeniz_SpinalCord\\MSAkdeniz_SC_MRs\\\\SE_AK_slice_0080.jpg  saved\n",
      "D:\\datasets\\ms\\MSAkdeniz_SpinalCord\\MSAkdeniz_SC_Masks\\\\SE_AK_GTmask_0081.jpg  saved\n",
      "D:\\datasets\\ms\\MSAkdeniz_SpinalCord\\MSAkdeniz_SC_MRs\\\\SE_AK_slice_0081.jpg  saved\n",
      "D:\\datasets\\ms\\MSAkdeniz_SpinalCord\\MSAkdeniz_SC_Masks\\\\SE_AK_GTmask_0082.jpg  saved\n",
      "D:\\datasets\\ms\\MSAkdeniz_SpinalCord\\MSAkdeniz_SC_MRs\\\\SE_AK_slice_0082.jpg  saved\n",
      "D:\\datasets\\ms\\MSAkdeniz_SpinalCord\\MSAkdeniz_SC_Masks\\\\SE_AK_GTmask_0083.jpg  saved\n",
      "D:\\datasets\\ms\\MSAkdeniz_SpinalCord\\MSAkdeniz_SC_MRs\\\\SE_AK_slice_0083.jpg  saved\n",
      "D:\\datasets\\ms\\MSAkdeniz_SpinalCord\\MSAkdeniz_SC_Masks\\\\SE_AK_GTmask_0084.jpg"
     ]
    },
    {
     "name": "stderr",
     "output_type": "stream",
     "text": [
      "Lossy conversion from float64 to uint8. Range [0.0, 275.0]. Convert image to uint8 prior to saving to suppress this warning.\n",
      "Lossy conversion from float64 to uint8. Range [0, 1]. Convert image to uint8 prior to saving to suppress this warning.\n",
      "Lossy conversion from float64 to uint8. Range [0.0, 253.0]. Convert image to uint8 prior to saving to suppress this warning.\n",
      "Lossy conversion from float64 to uint8. Range [0, 1]. Convert image to uint8 prior to saving to suppress this warning.\n",
      "Lossy conversion from float64 to uint8. Range [0.0, 240.0]. Convert image to uint8 prior to saving to suppress this warning.\n",
      "Lossy conversion from float64 to uint8. Range [0, 1]. Convert image to uint8 prior to saving to suppress this warning.\n",
      "Lossy conversion from float64 to uint8. Range [0.0, 257.0]. Convert image to uint8 prior to saving to suppress this warning.\n",
      "Lossy conversion from float64 to uint8. Range [0, 1]. Convert image to uint8 prior to saving to suppress this warning.\n",
      "Lossy conversion from float64 to uint8. Range [0.0, 315.0]. Convert image to uint8 prior to saving to suppress this warning.\n"
     ]
    },
    {
     "name": "stdout",
     "output_type": "stream",
     "text": [
      "  saved\n",
      "D:\\datasets\\ms\\MSAkdeniz_SpinalCord\\MSAkdeniz_SC_MRs\\\\SE_AK_slice_0084.jpg  saved\n",
      "D:\\datasets\\ms\\MSAkdeniz_SpinalCord\\MSAkdeniz_SC_Masks\\\\SE_AK_GTmask_0085.jpg  saved\n",
      "D:\\datasets\\ms\\MSAkdeniz_SpinalCord\\MSAkdeniz_SC_MRs\\\\SE_AK_slice_0085.jpg  saved\n",
      "D:\\datasets\\ms\\MSAkdeniz_SpinalCord\\MSAkdeniz_SC_Masks\\\\SE_AK_GTmask_0086.jpg  saved\n",
      "D:\\datasets\\ms\\MSAkdeniz_SpinalCord\\MSAkdeniz_SC_MRs\\\\SE_AK_slice_0086.jpg  saved\n",
      "D:\\datasets\\ms\\MSAkdeniz_SpinalCord\\MSAkdeniz_SC_Masks\\\\SE_AK_GTmask_0087.jpg  saved\n",
      "D:\\datasets\\ms\\MSAkdeniz_SpinalCord\\MSAkdeniz_SC_MRs\\\\SE_AK_slice_0087.jpg  saved\n",
      "D:\\datasets\\ms\\MSAkdeniz_SpinalCord\\MSAkdeniz_SC_Masks\\\\SE_AK_GTmask_0088.jpg  saved\n",
      "D:\\datasets\\ms\\MSAkdeniz_SpinalCord\\MSAkdeniz_SC_MRs\\\\SE_AK_slice_0088.jpg  saved\n",
      "SU_ME_B1_mask\n"
     ]
    },
    {
     "name": "stderr",
     "output_type": "stream",
     "text": [
      "Lossy conversion from float64 to uint8. Range [0, 1]. Convert image to uint8 prior to saving to suppress this warning.\n",
      "Lossy conversion from float64 to uint8. Range [0.0, 235.0]. Convert image to uint8 prior to saving to suppress this warning.\n"
     ]
    },
    {
     "name": "stdout",
     "output_type": "stream",
     "text": [
      "True\n",
      "D:\\datasets\\ms\\MSAkdeniz_SpinalCord\\MSAkdeniz_SC_Masks\\\\SU_ME_GTmask_0094.jpg  saved\n",
      "D:\\datasets\\ms\\MSAkdeniz_SpinalCord\\MSAkdeniz_SC_MRs\\\\SU_ME_slice_0094.jpg"
     ]
    },
    {
     "name": "stderr",
     "output_type": "stream",
     "text": [
      "Lossy conversion from float64 to uint8. Range [0, 1]. Convert image to uint8 prior to saving to suppress this warning.\n",
      "Lossy conversion from float64 to uint8. Range [0.0, 236.0]. Convert image to uint8 prior to saving to suppress this warning.\n",
      "Lossy conversion from float64 to uint8. Range [0, 1]. Convert image to uint8 prior to saving to suppress this warning.\n",
      "Lossy conversion from float64 to uint8. Range [0.0, 259.0]. Convert image to uint8 prior to saving to suppress this warning.\n",
      "Lossy conversion from float64 to uint8. Range [0, 1]. Convert image to uint8 prior to saving to suppress this warning.\n",
      "Lossy conversion from float64 to uint8. Range [0.0, 268.0]. Convert image to uint8 prior to saving to suppress this warning.\n",
      "Lossy conversion from float64 to uint8. Range [0, 1]. Convert image to uint8 prior to saving to suppress this warning.\n",
      "Lossy conversion from float64 to uint8. Range [0.0, 257.0]. Convert image to uint8 prior to saving to suppress this warning.\n",
      "Lossy conversion from float64 to uint8. Range [0, 1]. Convert image to uint8 prior to saving to suppress this warning.\n",
      "Lossy conversion from float64 to uint8. Range [0.0, 282.0]. Convert image to uint8 prior to saving to suppress this warning.\n",
      "Lossy conversion from float64 to uint8. Range [0, 1]. Convert image to uint8 prior to saving to suppress this warning.\n"
     ]
    },
    {
     "name": "stdout",
     "output_type": "stream",
     "text": [
      "  saved\n",
      "D:\\datasets\\ms\\MSAkdeniz_SpinalCord\\MSAkdeniz_SC_Masks\\\\SU_ME_GTmask_0095.jpg  saved\n",
      "D:\\datasets\\ms\\MSAkdeniz_SpinalCord\\MSAkdeniz_SC_MRs\\\\SU_ME_slice_0095.jpg  saved\n",
      "D:\\datasets\\ms\\MSAkdeniz_SpinalCord\\MSAkdeniz_SC_Masks\\\\SU_ME_GTmask_0096.jpg  saved\n",
      "D:\\datasets\\ms\\MSAkdeniz_SpinalCord\\MSAkdeniz_SC_MRs\\\\SU_ME_slice_0096.jpg  saved\n",
      "D:\\datasets\\ms\\MSAkdeniz_SpinalCord\\MSAkdeniz_SC_Masks\\\\SU_ME_GTmask_0097.jpg  saved\n",
      "D:\\datasets\\ms\\MSAkdeniz_SpinalCord\\MSAkdeniz_SC_MRs\\\\SU_ME_slice_0097.jpg  saved\n",
      "D:\\datasets\\ms\\MSAkdeniz_SpinalCord\\MSAkdeniz_SC_Masks\\\\SU_ME_GTmask_0098.jpg  saved\n",
      "D:\\datasets\\ms\\MSAkdeniz_SpinalCord\\MSAkdeniz_SC_MRs\\\\SU_ME_slice_0098.jpg  saved\n",
      "D:\\datasets\\ms\\MSAkdeniz_SpinalCord\\MSAkdeniz_SC_Masks\\\\SU_ME_GTmask_0099.jpg  saved\n",
      "D:\\datasets\\ms\\MSAkdeniz_SpinalCord\\MSAkdeniz_SC_MRs\\\\SU_ME_slice_0099.jpg  saved\n",
      "D:\\datasets\\ms\\MSAkdeniz_SpinalCord\\MSAkdeniz_SC_Masks\\\\SU_ME_GTmask_0100.jpg"
     ]
    },
    {
     "name": "stderr",
     "output_type": "stream",
     "text": [
      "Lossy conversion from float64 to uint8. Range [0.0, 258.0]. Convert image to uint8 prior to saving to suppress this warning.\n",
      "Lossy conversion from float64 to uint8. Range [0, 1]. Convert image to uint8 prior to saving to suppress this warning.\n",
      "Lossy conversion from float64 to uint8. Range [0.0, 242.0]. Convert image to uint8 prior to saving to suppress this warning.\n",
      "Lossy conversion from float64 to uint8. Range [0, 1]. Convert image to uint8 prior to saving to suppress this warning.\n",
      "Lossy conversion from float64 to uint8. Range [0.0, 236.0]. Convert image to uint8 prior to saving to suppress this warning.\n",
      "Lossy conversion from float64 to uint8. Range [0, 1]. Convert image to uint8 prior to saving to suppress this warning.\n",
      "Lossy conversion from float64 to uint8. Range [0.0, 224.0]. Convert image to uint8 prior to saving to suppress this warning.\n",
      "Lossy conversion from float64 to uint8. Range [0, 1]. Convert image to uint8 prior to saving to suppress this warning.\n",
      "Lossy conversion from float64 to uint8. Range [0.0, 239.0]. Convert image to uint8 prior to saving to suppress this warning.\n"
     ]
    },
    {
     "name": "stdout",
     "output_type": "stream",
     "text": [
      "  saved\n",
      "D:\\datasets\\ms\\MSAkdeniz_SpinalCord\\MSAkdeniz_SC_MRs\\\\SU_ME_slice_0100.jpg  saved\n",
      "D:\\datasets\\ms\\MSAkdeniz_SpinalCord\\MSAkdeniz_SC_Masks\\\\SU_ME_GTmask_0101.jpg  saved\n",
      "D:\\datasets\\ms\\MSAkdeniz_SpinalCord\\MSAkdeniz_SC_MRs\\\\SU_ME_slice_0101.jpg  saved\n",
      "D:\\datasets\\ms\\MSAkdeniz_SpinalCord\\MSAkdeniz_SC_Masks\\\\SU_ME_GTmask_0102.jpg  saved\n",
      "D:\\datasets\\ms\\MSAkdeniz_SpinalCord\\MSAkdeniz_SC_MRs\\\\SU_ME_slice_0102.jpg  saved\n",
      "D:\\datasets\\ms\\MSAkdeniz_SpinalCord\\MSAkdeniz_SC_Masks\\\\SU_ME_GTmask_0103.jpg  saved\n",
      "D:\\datasets\\ms\\MSAkdeniz_SpinalCord\\MSAkdeniz_SC_MRs\\\\SU_ME_slice_0103.jpg  saved\n",
      "D:\\datasets\\ms\\MSAkdeniz_SpinalCord\\MSAkdeniz_SC_Masks\\\\SU_ME_GTmask_0104.jpg  saved\n",
      "D:\\datasets\\ms\\MSAkdeniz_SpinalCord\\MSAkdeniz_SC_MRs\\\\SU_ME_slice_0104.jpg  saved\n",
      "UM_ER_B1_mask\n"
     ]
    },
    {
     "name": "stderr",
     "output_type": "stream",
     "text": [
      "Lossy conversion from float64 to uint8. Range [0, 1]. Convert image to uint8 prior to saving to suppress this warning.\n",
      "Lossy conversion from float64 to uint8. Range [0.0, 277.0]. Convert image to uint8 prior to saving to suppress this warning.\n",
      "Lossy conversion from float64 to uint8. Range [0, 1]. Convert image to uint8 prior to saving to suppress this warning.\n",
      "Lossy conversion from float64 to uint8. Range [0.0, 271.0]. Convert image to uint8 prior to saving to suppress this warning.\n",
      "Lossy conversion from float64 to uint8. Range [0, 1]. Convert image to uint8 prior to saving to suppress this warning.\n"
     ]
    },
    {
     "name": "stdout",
     "output_type": "stream",
     "text": [
      "True\n",
      "D:\\datasets\\ms\\MSAkdeniz_SpinalCord\\MSAkdeniz_SC_Masks\\\\UM_ER_GTmask_0094.jpg  saved\n",
      "D:\\datasets\\ms\\MSAkdeniz_SpinalCord\\MSAkdeniz_SC_MRs\\\\UM_ER_slice_0094.jpg  saved\n",
      "D:\\datasets\\ms\\MSAkdeniz_SpinalCord\\MSAkdeniz_SC_Masks\\\\UM_ER_GTmask_0095.jpg  saved\n",
      "D:\\datasets\\ms\\MSAkdeniz_SpinalCord\\MSAkdeniz_SC_MRs\\\\UM_ER_slice_0095.jpg  saved\n",
      "D:\\datasets\\ms\\MSAkdeniz_SpinalCord\\MSAkdeniz_SC_Masks\\\\UM_ER_GTmask_0096.jpg"
     ]
    },
    {
     "name": "stderr",
     "output_type": "stream",
     "text": [
      "Lossy conversion from float64 to uint8. Range [0.0, 297.0]. Convert image to uint8 prior to saving to suppress this warning.\n",
      "Lossy conversion from float64 to uint8. Range [0, 1]. Convert image to uint8 prior to saving to suppress this warning.\n",
      "Lossy conversion from float64 to uint8. Range [0.0, 309.0]. Convert image to uint8 prior to saving to suppress this warning.\n",
      "Lossy conversion from float64 to uint8. Range [0, 1]. Convert image to uint8 prior to saving to suppress this warning.\n",
      "Lossy conversion from float64 to uint8. Range [0.0, 262.0]. Convert image to uint8 prior to saving to suppress this warning.\n",
      "Lossy conversion from float64 to uint8. Range [0, 1]. Convert image to uint8 prior to saving to suppress this warning.\n",
      "Lossy conversion from float64 to uint8. Range [0.0, 277.0]. Convert image to uint8 prior to saving to suppress this warning.\n",
      "Lossy conversion from float64 to uint8. Range [0, 1]. Convert image to uint8 prior to saving to suppress this warning.\n",
      "Lossy conversion from float64 to uint8. Range [0.0, 306.0]. Convert image to uint8 prior to saving to suppress this warning.\n",
      "Lossy conversion from float64 to uint8. Range [0, 1]. Convert image to uint8 prior to saving to suppress this warning.\n"
     ]
    },
    {
     "name": "stdout",
     "output_type": "stream",
     "text": [
      "  saved\n",
      "D:\\datasets\\ms\\MSAkdeniz_SpinalCord\\MSAkdeniz_SC_MRs\\\\UM_ER_slice_0096.jpg  saved\n",
      "D:\\datasets\\ms\\MSAkdeniz_SpinalCord\\MSAkdeniz_SC_Masks\\\\UM_ER_GTmask_0097.jpg  saved\n",
      "D:\\datasets\\ms\\MSAkdeniz_SpinalCord\\MSAkdeniz_SC_MRs\\\\UM_ER_slice_0097.jpg  saved\n",
      "D:\\datasets\\ms\\MSAkdeniz_SpinalCord\\MSAkdeniz_SC_Masks\\\\UM_ER_GTmask_0098.jpg  saved\n",
      "D:\\datasets\\ms\\MSAkdeniz_SpinalCord\\MSAkdeniz_SC_MRs\\\\UM_ER_slice_0098.jpg  saved\n",
      "D:\\datasets\\ms\\MSAkdeniz_SpinalCord\\MSAkdeniz_SC_Masks\\\\UM_ER_GTmask_0099.jpg  saved\n",
      "D:\\datasets\\ms\\MSAkdeniz_SpinalCord\\MSAkdeniz_SC_MRs\\\\UM_ER_slice_0099.jpg  saved\n",
      "D:\\datasets\\ms\\MSAkdeniz_SpinalCord\\MSAkdeniz_SC_Masks\\\\UM_ER_GTmask_0100.jpg  saved\n",
      "D:\\datasets\\ms\\MSAkdeniz_SpinalCord\\MSAkdeniz_SC_MRs\\\\UM_ER_slice_0100.jpg  saved\n",
      "D:\\datasets\\ms\\MSAkdeniz_SpinalCord\\MSAkdeniz_SC_Masks\\\\UM_ER_GTmask_0101.jpg"
     ]
    },
    {
     "name": "stderr",
     "output_type": "stream",
     "text": [
      "Lossy conversion from float64 to uint8. Range [0.0, 322.0]. Convert image to uint8 prior to saving to suppress this warning.\n",
      "Lossy conversion from float64 to uint8. Range [0, 1]. Convert image to uint8 prior to saving to suppress this warning.\n",
      "Lossy conversion from float64 to uint8. Range [0.0, 293.0]. Convert image to uint8 prior to saving to suppress this warning.\n",
      "Lossy conversion from float64 to uint8. Range [0, 1]. Convert image to uint8 prior to saving to suppress this warning.\n",
      "Lossy conversion from float64 to uint8. Range [0.0, 321.0]. Convert image to uint8 prior to saving to suppress this warning.\n",
      "Lossy conversion from float64 to uint8. Range [0, 1]. Convert image to uint8 prior to saving to suppress this warning.\n",
      "Lossy conversion from float64 to uint8. Range [0.0, 263.0]. Convert image to uint8 prior to saving to suppress this warning.\n"
     ]
    },
    {
     "name": "stdout",
     "output_type": "stream",
     "text": [
      "  saved\n",
      "D:\\datasets\\ms\\MSAkdeniz_SpinalCord\\MSAkdeniz_SC_MRs\\\\UM_ER_slice_0101.jpg  saved\n",
      "D:\\datasets\\ms\\MSAkdeniz_SpinalCord\\MSAkdeniz_SC_Masks\\\\UM_ER_GTmask_0102.jpg  saved\n",
      "D:\\datasets\\ms\\MSAkdeniz_SpinalCord\\MSAkdeniz_SC_MRs\\\\UM_ER_slice_0102.jpg  saved\n",
      "D:\\datasets\\ms\\MSAkdeniz_SpinalCord\\MSAkdeniz_SC_Masks\\\\UM_ER_GTmask_0103.jpg  saved\n",
      "D:\\datasets\\ms\\MSAkdeniz_SpinalCord\\MSAkdeniz_SC_MRs\\\\UM_ER_slice_0103.jpg  saved\n",
      "D:\\datasets\\ms\\MSAkdeniz_SpinalCord\\MSAkdeniz_SC_Masks\\\\UM_ER_GTmask_0104.jpg  saved\n",
      "D:\\datasets\\ms\\MSAkdeniz_SpinalCord\\MSAkdeniz_SC_MRs\\\\UM_ER_slice_0104.jpg  saved\n",
      "UM_ER_B2_mask\n"
     ]
    },
    {
     "name": "stderr",
     "output_type": "stream",
     "text": [
      "Lossy conversion from float64 to uint8. Range [0, 1]. Convert image to uint8 prior to saving to suppress this warning.\n",
      "Lossy conversion from float64 to uint8. Range [0.0, 234.0]. Convert image to uint8 prior to saving to suppress this warning.\n",
      "Lossy conversion from float64 to uint8. Range [0, 1]. Convert image to uint8 prior to saving to suppress this warning.\n",
      "Lossy conversion from float64 to uint8. Range [0.0, 243.0]. Convert image to uint8 prior to saving to suppress this warning.\n"
     ]
    },
    {
     "name": "stdout",
     "output_type": "stream",
     "text": [
      "True\n",
      "D:\\datasets\\ms\\MSAkdeniz_SpinalCord\\MSAkdeniz_SC_Masks\\\\UM_ER_GTmask_0071.jpg  saved\n",
      "D:\\datasets\\ms\\MSAkdeniz_SpinalCord\\MSAkdeniz_SC_MRs\\\\UM_ER_slice_0071.jpg  saved\n",
      "D:\\datasets\\ms\\MSAkdeniz_SpinalCord\\MSAkdeniz_SC_Masks\\\\UM_ER_GTmask_0072.jpg  saved\n",
      "D:\\datasets\\ms\\MSAkdeniz_SpinalCord\\MSAkdeniz_SC_MRs\\\\UM_ER_slice_0072.jpg"
     ]
    },
    {
     "name": "stderr",
     "output_type": "stream",
     "text": [
      "Lossy conversion from float64 to uint8. Range [0, 1]. Convert image to uint8 prior to saving to suppress this warning.\n",
      "Lossy conversion from float64 to uint8. Range [0.0, 232.0]. Convert image to uint8 prior to saving to suppress this warning.\n",
      "Lossy conversion from float64 to uint8. Range [0, 1]. Convert image to uint8 prior to saving to suppress this warning.\n",
      "Lossy conversion from float64 to uint8. Range [0.0, 236.0]. Convert image to uint8 prior to saving to suppress this warning.\n",
      "Lossy conversion from float64 to uint8. Range [0, 1]. Convert image to uint8 prior to saving to suppress this warning.\n",
      "Lossy conversion from float64 to uint8. Range [0.0, 264.0]. Convert image to uint8 prior to saving to suppress this warning.\n",
      "Lossy conversion from float64 to uint8. Range [0, 1]. Convert image to uint8 prior to saving to suppress this warning.\n",
      "Lossy conversion from float64 to uint8. Range [0.0, 279.0]. Convert image to uint8 prior to saving to suppress this warning.\n",
      "Lossy conversion from float64 to uint8. Range [0, 1]. Convert image to uint8 prior to saving to suppress this warning.\n"
     ]
    },
    {
     "name": "stdout",
     "output_type": "stream",
     "text": [
      "  saved\n",
      "D:\\datasets\\ms\\MSAkdeniz_SpinalCord\\MSAkdeniz_SC_Masks\\\\UM_ER_GTmask_0073.jpg  saved\n",
      "D:\\datasets\\ms\\MSAkdeniz_SpinalCord\\MSAkdeniz_SC_MRs\\\\UM_ER_slice_0073.jpg  saved\n",
      "D:\\datasets\\ms\\MSAkdeniz_SpinalCord\\MSAkdeniz_SC_Masks\\\\UM_ER_GTmask_0074.jpg  saved\n",
      "D:\\datasets\\ms\\MSAkdeniz_SpinalCord\\MSAkdeniz_SC_MRs\\\\UM_ER_slice_0074.jpg  saved\n",
      "D:\\datasets\\ms\\MSAkdeniz_SpinalCord\\MSAkdeniz_SC_Masks\\\\UM_ER_GTmask_0075.jpg  saved\n",
      "D:\\datasets\\ms\\MSAkdeniz_SpinalCord\\MSAkdeniz_SC_MRs\\\\UM_ER_slice_0075.jpg  saved\n",
      "D:\\datasets\\ms\\MSAkdeniz_SpinalCord\\MSAkdeniz_SC_Masks\\\\UM_ER_GTmask_0076.jpg  saved\n",
      "D:\\datasets\\ms\\MSAkdeniz_SpinalCord\\MSAkdeniz_SC_MRs\\\\UM_ER_slice_0076.jpg  saved\n",
      "D:\\datasets\\ms\\MSAkdeniz_SpinalCord\\MSAkdeniz_SC_Masks\\\\UM_ER_GTmask_0077.jpg"
     ]
    },
    {
     "name": "stderr",
     "output_type": "stream",
     "text": [
      "Lossy conversion from float64 to uint8. Range [0.0, 245.0]. Convert image to uint8 prior to saving to suppress this warning.\n",
      "Lossy conversion from float64 to uint8. Range [0, 1]. Convert image to uint8 prior to saving to suppress this warning.\n",
      "Lossy conversion from float64 to uint8. Range [0.0, 253.0]. Convert image to uint8 prior to saving to suppress this warning.\n",
      "Lossy conversion from float64 to uint8. Range [0, 1]. Convert image to uint8 prior to saving to suppress this warning.\n",
      "Lossy conversion from float64 to uint8. Range [0.0, 264.0]. Convert image to uint8 prior to saving to suppress this warning.\n",
      "Lossy conversion from float64 to uint8. Range [0, 1]. Convert image to uint8 prior to saving to suppress this warning.\n",
      "Lossy conversion from float64 to uint8. Range [0.0, 272.0]. Convert image to uint8 prior to saving to suppress this warning.\n",
      "Lossy conversion from float64 to uint8. Range [0, 1]. Convert image to uint8 prior to saving to suppress this warning.\n",
      "Lossy conversion from float64 to uint8. Range [0.0, 268.0]. Convert image to uint8 prior to saving to suppress this warning.\n",
      "Lossy conversion from float64 to uint8. Range [0, 1]. Convert image to uint8 prior to saving to suppress this warning.\n"
     ]
    },
    {
     "name": "stdout",
     "output_type": "stream",
     "text": [
      "  saved\n",
      "D:\\datasets\\ms\\MSAkdeniz_SpinalCord\\MSAkdeniz_SC_MRs\\\\UM_ER_slice_0077.jpg  saved\n",
      "D:\\datasets\\ms\\MSAkdeniz_SpinalCord\\MSAkdeniz_SC_Masks\\\\UM_ER_GTmask_0078.jpg  saved\n",
      "D:\\datasets\\ms\\MSAkdeniz_SpinalCord\\MSAkdeniz_SC_MRs\\\\UM_ER_slice_0078.jpg  saved\n",
      "D:\\datasets\\ms\\MSAkdeniz_SpinalCord\\MSAkdeniz_SC_Masks\\\\UM_ER_GTmask_0079.jpg  saved\n",
      "D:\\datasets\\ms\\MSAkdeniz_SpinalCord\\MSAkdeniz_SC_MRs\\\\UM_ER_slice_0079.jpg  saved\n",
      "D:\\datasets\\ms\\MSAkdeniz_SpinalCord\\MSAkdeniz_SC_Masks\\\\UM_ER_GTmask_0080.jpg  saved\n",
      "D:\\datasets\\ms\\MSAkdeniz_SpinalCord\\MSAkdeniz_SC_MRs\\\\UM_ER_slice_0080.jpg  saved\n",
      "D:\\datasets\\ms\\MSAkdeniz_SpinalCord\\MSAkdeniz_SC_Masks\\\\UM_ER_GTmask_0081.jpg  saved\n",
      "D:\\datasets\\ms\\MSAkdeniz_SpinalCord\\MSAkdeniz_SC_MRs\\\\UM_ER_slice_0081.jpg  saved\n",
      "D:\\datasets\\ms\\MSAkdeniz_SpinalCord\\MSAkdeniz_SC_Masks\\\\UM_ER_GTmask_0082.jpg"
     ]
    },
    {
     "name": "stderr",
     "output_type": "stream",
     "text": [
      "Lossy conversion from float64 to uint8. Range [0.0, 283.0]. Convert image to uint8 prior to saving to suppress this warning.\n"
     ]
    },
    {
     "name": "stdout",
     "output_type": "stream",
     "text": [
      "  saved\n",
      "D:\\datasets\\ms\\MSAkdeniz_SpinalCord\\MSAkdeniz_SC_MRs\\\\UM_ER_slice_0082.jpg  saved\n"
     ]
    }
   ],
   "source": [
    "\n",
    "import numpy as np # linear algebra\n",
    "from glob import glob\n",
    "from skimage.io import imread\n",
    "import nibabel as nib\n",
    "import os,imageio,cv2\n",
    "\n",
    "\n",
    "filepath=\"D:\\\\datasets\\\\ms\\\\MSAkdeniz_SpinalCord\\\\_beyinbolgesiSecimler\\\\\"\n",
    "maskpath=\"D:\\\\datasets\\\\ms\\\\MSAkdeniz_SpinalCord\\\\_beyinbolgesiSecimlerMask\\\\\"\n",
    "t_img_path =\"D:\\\\datasets\\\\ms\\\\MSAkdeniz_SpinalCord\\\\MSAkdeniz_SC_MRs\\\\\"\n",
    "t_mask_path = \"D:\\\\datasets\\\\ms\\\\MSAkdeniz_SpinalCord\\\\MSAkdeniz_SC_Masks\\\\\"\n",
    "maskPatch=\"mask\"\n",
    "imgPatch=\"MR\"\n",
    "print(filepath)\n",
    "print(t_img_path)\n",
    "\n",
    "\n",
    "all_images=sorted(glob(os.path.join(filepath,'*.nii*')))\n",
    "all_mask_i=sorted(glob(os.path.join(maskpath,'*.nii*')))\n",
    "for item in all_mask_i:\n",
    "\n",
    "    fname=os.path.basename(item)\n",
    "    fnameA=fname.split(\".\")[0]\n",
    "    print(fnameA)\n",
    "    test_image=nib.load(item).get_fdata()\n",
    "    r=test_image.shape[2]\n",
    "    fnameA1=fnameA.split(\"_\")\n",
    "   # parentName=fnameA1[0]+\"_\"+fnameA1[1]+\"_\"+fnameA1[2]+\"_\"+fnameA1[3]\n",
    "    parentName=fnameA1[0]+\"_\"+fnameA1[1]\n",
    "    \n",
    "    \n",
    "    imgName=fname.replace(maskPatch,imgPatch)\n",
    "    imgPath=os.path.join(filepath,imgName)\n",
    "    imgMR=nib.load(imgPath).get_fdata()\n",
    "    print(os.path.exists(os.path.join(filepath,imgName)))\n",
    "    \n",
    "#     t_img_path=os.path.join(Target_IMG_PATH, fnameA)\n",
    "#     t_mask_path=os.path.join(t_img_path, \"GTMask\")\n",
    "    \n",
    "#     if not os.path.exists(t_img_path):\n",
    "#         os.makedirs(t_img_path)\n",
    "#     if not os.path.exists(t_mask_path):\n",
    "#         os.makedirs(t_mask_path)  \n",
    "\n",
    "    for yy in range(0,r):\n",
    "        #print(yy)\n",
    "        img=test_image[:,:,yy]\n",
    "        imgx=img\n",
    "        if(imgx.sum()>10):\n",
    "#             img=np.rot90(img)\n",
    "            img=np.fliplr(img)\n",
    "            img=np.rot90(img)\n",
    "            img.astype(np.uint8)\n",
    "            imageName='{}\\\\{}_GTmask_{:04}.jpg'.format(t_mask_path, parentName, yy)\n",
    "            imageio.imwrite(imageName, img)\n",
    "            print(imageName,\" saved\")\n",
    "            \n",
    "            img=imgMR[:,:,yy]\n",
    "#             img=np.rot90(img)\n",
    "            img=np.fliplr(img)\n",
    "            img=np.rot90(img)\n",
    "            img.astype(np.uint8)\n",
    "            imageName='{}\\\\{}_slice_{:04}.jpg'.format(t_img_path, parentName, yy)\n",
    "            imageio.imwrite(imageName, img)\n",
    "            print(imageName,\" saved\")\n"
   ]
  },
  {
   "cell_type": "code",
   "execution_count": 4,
   "metadata": {},
   "outputs": [
    {
     "data": {
      "text/plain": [
       "64"
      ]
     },
     "metadata": {},
     "output_type": "display_data"
    },
    {
     "name": "stdout",
     "output_type": "stream",
     "text": [
      "\n",
      " D:\\datasets\\ms\\MSAkdeniz_SpinalCord\\MSAkdeniz_SC\\testMask\\AB_AK_GTmask_0094.jpg\n",
      "readMask: D:\\datasets\\ms\\MSAkdeniz_SpinalCord\\MSAkdeniz_SC_MRs\\AB_AK_slice_0094.jpg\n",
      "wMask: D:\\datasets\\ms\\MSAkdeniz_SpinalCord\\MSAkdeniz_SC\\test\\AB_AK_slice_0094.jpg\n",
      "\n",
      " D:\\datasets\\ms\\MSAkdeniz_SpinalCord\\MSAkdeniz_SC\\testMask\\AB_AK_GTmask_0099.jpg\n",
      "readMask: D:\\datasets\\ms\\MSAkdeniz_SpinalCord\\MSAkdeniz_SC_MRs\\AB_AK_slice_0099.jpg\n",
      "wMask: D:\\datasets\\ms\\MSAkdeniz_SpinalCord\\MSAkdeniz_SC\\test\\AB_AK_slice_0099.jpg\n",
      "\n",
      " D:\\datasets\\ms\\MSAkdeniz_SpinalCord\\MSAkdeniz_SC\\testMask\\AB_AK_GTmask_0104.jpg\n",
      "readMask: D:\\datasets\\ms\\MSAkdeniz_SpinalCord\\MSAkdeniz_SC_MRs\\AB_AK_slice_0104.jpg\n",
      "wMask: D:\\datasets\\ms\\MSAkdeniz_SpinalCord\\MSAkdeniz_SC\\test\\AB_AK_slice_0104.jpg\n",
      "\n",
      " D:\\datasets\\ms\\MSAkdeniz_SpinalCord\\MSAkdeniz_SC\\testMask\\AD_EG_GTmask_0092.jpg\n",
      "readMask: D:\\datasets\\ms\\MSAkdeniz_SpinalCord\\MSAkdeniz_SC_MRs\\AD_EG_slice_0092.jpg\n",
      "wMask: D:\\datasets\\ms\\MSAkdeniz_SpinalCord\\MSAkdeniz_SC\\test\\AD_EG_slice_0092.jpg\n",
      "\n",
      " D:\\datasets\\ms\\MSAkdeniz_SpinalCord\\MSAkdeniz_SC\\testMask\\AD_EG_GTmask_0097.jpg\n",
      "readMask: D:\\datasets\\ms\\MSAkdeniz_SpinalCord\\MSAkdeniz_SC_MRs\\AD_EG_slice_0097.jpg\n",
      "wMask: D:\\datasets\\ms\\MSAkdeniz_SpinalCord\\MSAkdeniz_SC\\test\\AD_EG_slice_0097.jpg\n",
      "\n",
      " D:\\datasets\\ms\\MSAkdeniz_SpinalCord\\MSAkdeniz_SC\\testMask\\AD_EG_GTmask_0102.jpg\n",
      "readMask: D:\\datasets\\ms\\MSAkdeniz_SpinalCord\\MSAkdeniz_SC_MRs\\AD_EG_slice_0102.jpg\n",
      "wMask: D:\\datasets\\ms\\MSAkdeniz_SpinalCord\\MSAkdeniz_SC\\test\\AD_EG_slice_0102.jpg\n",
      "\n",
      " D:\\datasets\\ms\\MSAkdeniz_SpinalCord\\MSAkdeniz_SC\\testMask\\AY_OS_GTmask_0089.jpg\n",
      "readMask: D:\\datasets\\ms\\MSAkdeniz_SpinalCord\\MSAkdeniz_SC_MRs\\AY_OS_slice_0089.jpg\n",
      "wMask: D:\\datasets\\ms\\MSAkdeniz_SpinalCord\\MSAkdeniz_SC\\test\\AY_OS_slice_0089.jpg\n",
      "\n",
      " D:\\datasets\\ms\\MSAkdeniz_SpinalCord\\MSAkdeniz_SC\\testMask\\AY_OS_GTmask_0094.jpg\n",
      "readMask: D:\\datasets\\ms\\MSAkdeniz_SpinalCord\\MSAkdeniz_SC_MRs\\AY_OS_slice_0094.jpg\n",
      "wMask: D:\\datasets\\ms\\MSAkdeniz_SpinalCord\\MSAkdeniz_SC\\test\\AY_OS_slice_0094.jpg\n",
      "\n",
      " D:\\datasets\\ms\\MSAkdeniz_SpinalCord\\MSAkdeniz_SC\\testMask\\AY_OS_GTmask_0099.jpg\n",
      "readMask: D:\\datasets\\ms\\MSAkdeniz_SpinalCord\\MSAkdeniz_SC_MRs\\AY_OS_slice_0099.jpg\n",
      "wMask: D:\\datasets\\ms\\MSAkdeniz_SpinalCord\\MSAkdeniz_SC\\test\\AY_OS_slice_0099.jpg\n",
      "\n",
      " D:\\datasets\\ms\\MSAkdeniz_SpinalCord\\MSAkdeniz_SC\\testMask\\AY_TA_GTmask_0095.jpg\n",
      "readMask: D:\\datasets\\ms\\MSAkdeniz_SpinalCord\\MSAkdeniz_SC_MRs\\AY_TA_slice_0095.jpg\n",
      "wMask: D:\\datasets\\ms\\MSAkdeniz_SpinalCord\\MSAkdeniz_SC\\test\\AY_TA_slice_0095.jpg\n",
      "\n",
      " D:\\datasets\\ms\\MSAkdeniz_SpinalCord\\MSAkdeniz_SC\\testMask\\AY_TA_GTmask_0100.jpg\n",
      "readMask: D:\\datasets\\ms\\MSAkdeniz_SpinalCord\\MSAkdeniz_SC_MRs\\AY_TA_slice_0100.jpg\n",
      "wMask: D:\\datasets\\ms\\MSAkdeniz_SpinalCord\\MSAkdeniz_SC\\test\\AY_TA_slice_0100.jpg\n",
      "\n",
      " D:\\datasets\\ms\\MSAkdeniz_SpinalCord\\MSAkdeniz_SC\\testMask\\DU_MA_GTmask_0077.jpg\n",
      "readMask: D:\\datasets\\ms\\MSAkdeniz_SpinalCord\\MSAkdeniz_SC_MRs\\DU_MA_slice_0077.jpg\n",
      "wMask: D:\\datasets\\ms\\MSAkdeniz_SpinalCord\\MSAkdeniz_SC\\test\\DU_MA_slice_0077.jpg\n",
      "\n",
      " D:\\datasets\\ms\\MSAkdeniz_SpinalCord\\MSAkdeniz_SC\\testMask\\DU_MA_GTmask_0082.jpg\n",
      "readMask: D:\\datasets\\ms\\MSAkdeniz_SpinalCord\\MSAkdeniz_SC_MRs\\DU_MA_slice_0082.jpg\n",
      "wMask: D:\\datasets\\ms\\MSAkdeniz_SpinalCord\\MSAkdeniz_SC\\test\\DU_MA_slice_0082.jpg\n",
      "\n",
      " D:\\datasets\\ms\\MSAkdeniz_SpinalCord\\MSAkdeniz_SC\\testMask\\DU_MA_GTmask_0090.jpg\n",
      "readMask: D:\\datasets\\ms\\MSAkdeniz_SpinalCord\\MSAkdeniz_SC_MRs\\DU_MA_slice_0090.jpg\n",
      "wMask: D:\\datasets\\ms\\MSAkdeniz_SpinalCord\\MSAkdeniz_SC\\test\\DU_MA_slice_0090.jpg\n",
      "\n",
      " D:\\datasets\\ms\\MSAkdeniz_SpinalCord\\MSAkdeniz_SC\\testMask\\DU_MA_GTmask_0095.jpg\n",
      "readMask: D:\\datasets\\ms\\MSAkdeniz_SpinalCord\\MSAkdeniz_SC_MRs\\DU_MA_slice_0095.jpg\n",
      "wMask: D:\\datasets\\ms\\MSAkdeniz_SpinalCord\\MSAkdeniz_SC\\test\\DU_MA_slice_0095.jpg\n",
      "\n",
      " D:\\datasets\\ms\\MSAkdeniz_SpinalCord\\MSAkdeniz_SC\\testMask\\FA_CA_GTmask_0094.jpg\n",
      "readMask: D:\\datasets\\ms\\MSAkdeniz_SpinalCord\\MSAkdeniz_SC_MRs\\FA_CA_slice_0094.jpg\n",
      "wMask: D:\\datasets\\ms\\MSAkdeniz_SpinalCord\\MSAkdeniz_SC\\test\\FA_CA_slice_0094.jpg\n",
      "\n",
      " D:\\datasets\\ms\\MSAkdeniz_SpinalCord\\MSAkdeniz_SC\\testMask\\FA_CA_GTmask_0099.jpg\n",
      "readMask: D:\\datasets\\ms\\MSAkdeniz_SpinalCord\\MSAkdeniz_SC_MRs\\FA_CA_slice_0099.jpg\n",
      "wMask: D:\\datasets\\ms\\MSAkdeniz_SpinalCord\\MSAkdeniz_SC\\test\\FA_CA_slice_0099.jpg\n",
      "\n",
      " D:\\datasets\\ms\\MSAkdeniz_SpinalCord\\MSAkdeniz_SC\\testMask\\FA_CA_GTmask_0104.jpg\n",
      "readMask: D:\\datasets\\ms\\MSAkdeniz_SpinalCord\\MSAkdeniz_SC_MRs\\FA_CA_slice_0104.jpg\n",
      "wMask: D:\\datasets\\ms\\MSAkdeniz_SpinalCord\\MSAkdeniz_SC\\test\\FA_CA_slice_0104.jpg\n",
      "\n",
      " D:\\datasets\\ms\\MSAkdeniz_SpinalCord\\MSAkdeniz_SC\\testMask\\FA_TO_GTmask_0081.jpg\n",
      "readMask: D:\\datasets\\ms\\MSAkdeniz_SpinalCord\\MSAkdeniz_SC_MRs\\FA_TO_slice_0081.jpg\n",
      "wMask: D:\\datasets\\ms\\MSAkdeniz_SpinalCord\\MSAkdeniz_SC\\test\\FA_TO_slice_0081.jpg\n",
      "\n",
      " D:\\datasets\\ms\\MSAkdeniz_SpinalCord\\MSAkdeniz_SC\\testMask\\FA_TO_GTmask_0086.jpg\n",
      "readMask: D:\\datasets\\ms\\MSAkdeniz_SpinalCord\\MSAkdeniz_SC_MRs\\FA_TO_slice_0086.jpg\n",
      "wMask: D:\\datasets\\ms\\MSAkdeniz_SpinalCord\\MSAkdeniz_SC\\test\\FA_TO_slice_0086.jpg\n",
      "\n",
      " D:\\datasets\\ms\\MSAkdeniz_SpinalCord\\MSAkdeniz_SC\\testMask\\FE_EL_GTmask_0077.jpg\n",
      "readMask: D:\\datasets\\ms\\MSAkdeniz_SpinalCord\\MSAkdeniz_SC_MRs\\FE_EL_slice_0077.jpg\n",
      "wMask: D:\\datasets\\ms\\MSAkdeniz_SpinalCord\\MSAkdeniz_SC\\test\\FE_EL_slice_0077.jpg\n",
      "\n",
      " D:\\datasets\\ms\\MSAkdeniz_SpinalCord\\MSAkdeniz_SC\\testMask\\FE_EL_GTmask_0082.jpg\n",
      "readMask: D:\\datasets\\ms\\MSAkdeniz_SpinalCord\\MSAkdeniz_SC_MRs\\FE_EL_slice_0082.jpg\n",
      "wMask: D:\\datasets\\ms\\MSAkdeniz_SpinalCord\\MSAkdeniz_SC\\test\\FE_EL_slice_0082.jpg\n",
      "\n",
      " D:\\datasets\\ms\\MSAkdeniz_SpinalCord\\MSAkdeniz_SC\\testMask\\FE_EL_GTmask_0094.jpg\n",
      "readMask: D:\\datasets\\ms\\MSAkdeniz_SpinalCord\\MSAkdeniz_SC_MRs\\FE_EL_slice_0094.jpg\n",
      "wMask: D:\\datasets\\ms\\MSAkdeniz_SpinalCord\\MSAkdeniz_SC\\test\\FE_EL_slice_0094.jpg\n",
      "\n",
      " D:\\datasets\\ms\\MSAkdeniz_SpinalCord\\MSAkdeniz_SC\\testMask\\FE_EL_GTmask_0099.jpg\n",
      "readMask: D:\\datasets\\ms\\MSAkdeniz_SpinalCord\\MSAkdeniz_SC_MRs\\FE_EL_slice_0099.jpg\n",
      "wMask: D:\\datasets\\ms\\MSAkdeniz_SpinalCord\\MSAkdeniz_SC\\test\\FE_EL_slice_0099.jpg\n",
      "\n",
      " D:\\datasets\\ms\\MSAkdeniz_SpinalCord\\MSAkdeniz_SC\\testMask\\GU_CO_GTmask_0085.jpg\n",
      "readMask: D:\\datasets\\ms\\MSAkdeniz_SpinalCord\\MSAkdeniz_SC_MRs\\GU_CO_slice_0085.jpg\n",
      "wMask: D:\\datasets\\ms\\MSAkdeniz_SpinalCord\\MSAkdeniz_SC\\test\\GU_CO_slice_0085.jpg\n",
      "\n",
      " D:\\datasets\\ms\\MSAkdeniz_SpinalCord\\MSAkdeniz_SC\\testMask\\GU_CO_GTmask_0090.jpg\n",
      "readMask: D:\\datasets\\ms\\MSAkdeniz_SpinalCord\\MSAkdeniz_SC_MRs\\GU_CO_slice_0090.jpg\n",
      "wMask: D:\\datasets\\ms\\MSAkdeniz_SpinalCord\\MSAkdeniz_SC\\test\\GU_CO_slice_0090.jpg\n",
      "\n",
      " D:\\datasets\\ms\\MSAkdeniz_SpinalCord\\MSAkdeniz_SC\\testMask\\GU_CO_GTmask_0095.jpg\n",
      "readMask: D:\\datasets\\ms\\MSAkdeniz_SpinalCord\\MSAkdeniz_SC_MRs\\GU_CO_slice_0095.jpg\n",
      "wMask: D:\\datasets\\ms\\MSAkdeniz_SpinalCord\\MSAkdeniz_SC\\test\\GU_CO_slice_0095.jpg\n",
      "\n",
      " D:\\datasets\\ms\\MSAkdeniz_SpinalCord\\MSAkdeniz_SC\\testMask\\HA_AK_GTmask_0095.jpg\n",
      "readMask: D:\\datasets\\ms\\MSAkdeniz_SpinalCord\\MSAkdeniz_SC_MRs\\HA_AK_slice_0095.jpg\n",
      "wMask: D:\\datasets\\ms\\MSAkdeniz_SpinalCord\\MSAkdeniz_SC\\test\\HA_AK_slice_0095.jpg\n",
      "\n",
      " D:\\datasets\\ms\\MSAkdeniz_SpinalCord\\MSAkdeniz_SC\\testMask\\HA_AK_GTmask_0100.jpg\n",
      "readMask: D:\\datasets\\ms\\MSAkdeniz_SpinalCord\\MSAkdeniz_SC_MRs\\HA_AK_slice_0100.jpg\n",
      "wMask: D:\\datasets\\ms\\MSAkdeniz_SpinalCord\\MSAkdeniz_SC\\test\\HA_AK_slice_0100.jpg\n",
      "\n",
      " D:\\datasets\\ms\\MSAkdeniz_SpinalCord\\MSAkdeniz_SC\\testMask\\HA_AK_GTmask_0105.jpg\n",
      "readMask: D:\\datasets\\ms\\MSAkdeniz_SpinalCord\\MSAkdeniz_SC_MRs\\HA_AK_slice_0105.jpg\n",
      "wMask: D:\\datasets\\ms\\MSAkdeniz_SpinalCord\\MSAkdeniz_SC\\test\\HA_AK_slice_0105.jpg\n",
      "\n",
      " D:\\datasets\\ms\\MSAkdeniz_SpinalCord\\MSAkdeniz_SC\\testMask\\HA_KA_GTmask_0085.jpg\n",
      "readMask: D:\\datasets\\ms\\MSAkdeniz_SpinalCord\\MSAkdeniz_SC_MRs\\HA_KA_slice_0085.jpg\n",
      "wMask: D:\\datasets\\ms\\MSAkdeniz_SpinalCord\\MSAkdeniz_SC\\test\\HA_KA_slice_0085.jpg\n",
      "\n",
      " D:\\datasets\\ms\\MSAkdeniz_SpinalCord\\MSAkdeniz_SC\\testMask\\HA_KA_GTmask_0090.jpg\n",
      "readMask: D:\\datasets\\ms\\MSAkdeniz_SpinalCord\\MSAkdeniz_SC_MRs\\HA_KA_slice_0090.jpg\n",
      "wMask: D:\\datasets\\ms\\MSAkdeniz_SpinalCord\\MSAkdeniz_SC\\test\\HA_KA_slice_0090.jpg\n",
      "\n",
      " D:\\datasets\\ms\\MSAkdeniz_SpinalCord\\MSAkdeniz_SC\\testMask\\IH_AL_GTmask_0090.jpg\n",
      "readMask: D:\\datasets\\ms\\MSAkdeniz_SpinalCord\\MSAkdeniz_SC_MRs\\IH_AL_slice_0090.jpg\n",
      "wMask: D:\\datasets\\ms\\MSAkdeniz_SpinalCord\\MSAkdeniz_SC\\test\\IH_AL_slice_0090.jpg\n",
      "\n",
      " D:\\datasets\\ms\\MSAkdeniz_SpinalCord\\MSAkdeniz_SC\\testMask\\IH_AL_GTmask_0095.jpg\n",
      "readMask: D:\\datasets\\ms\\MSAkdeniz_SpinalCord\\MSAkdeniz_SC_MRs\\IH_AL_slice_0095.jpg\n",
      "wMask: D:\\datasets\\ms\\MSAkdeniz_SpinalCord\\MSAkdeniz_SC\\test\\IH_AL_slice_0095.jpg\n",
      "\n",
      " D:\\datasets\\ms\\MSAkdeniz_SpinalCord\\MSAkdeniz_SC\\testMask\\IH_AL_GTmask_0100.jpg\n",
      "readMask: D:\\datasets\\ms\\MSAkdeniz_SpinalCord\\MSAkdeniz_SC_MRs\\IH_AL_slice_0100.jpg\n",
      "wMask: D:\\datasets\\ms\\MSAkdeniz_SpinalCord\\MSAkdeniz_SC\\test\\IH_AL_slice_0100.jpg\n",
      "\n",
      " D:\\datasets\\ms\\MSAkdeniz_SpinalCord\\MSAkdeniz_SC\\testMask\\IH_AL_GTmask_0105.jpg\n",
      "readMask: D:\\datasets\\ms\\MSAkdeniz_SpinalCord\\MSAkdeniz_SC_MRs\\IH_AL_slice_0105.jpg\n",
      "wMask: D:\\datasets\\ms\\MSAkdeniz_SpinalCord\\MSAkdeniz_SC\\test\\IH_AL_slice_0105.jpg\n",
      "\n",
      " D:\\datasets\\ms\\MSAkdeniz_SpinalCord\\MSAkdeniz_SC\\testMask\\IK_AT_GTmask_0082.jpg\n",
      "readMask: D:\\datasets\\ms\\MSAkdeniz_SpinalCord\\MSAkdeniz_SC_MRs\\IK_AT_slice_0082.jpg\n",
      "wMask: D:\\datasets\\ms\\MSAkdeniz_SpinalCord\\MSAkdeniz_SC\\test\\IK_AT_slice_0082.jpg\n",
      "\n",
      " D:\\datasets\\ms\\MSAkdeniz_SpinalCord\\MSAkdeniz_SC\\testMask\\IR_ER_GTmask_0076.jpg\n",
      "readMask: D:\\datasets\\ms\\MSAkdeniz_SpinalCord\\MSAkdeniz_SC_MRs\\IR_ER_slice_0076.jpg\n",
      "wMask: D:\\datasets\\ms\\MSAkdeniz_SpinalCord\\MSAkdeniz_SC\\test\\IR_ER_slice_0076.jpg\n",
      "\n",
      " D:\\datasets\\ms\\MSAkdeniz_SpinalCord\\MSAkdeniz_SC\\testMask\\IR_ER_GTmask_0081.jpg\n",
      "readMask: D:\\datasets\\ms\\MSAkdeniz_SpinalCord\\MSAkdeniz_SC_MRs\\IR_ER_slice_0081.jpg\n",
      "wMask: D:\\datasets\\ms\\MSAkdeniz_SpinalCord\\MSAkdeniz_SC\\test\\IR_ER_slice_0081.jpg\n",
      "\n",
      " D:\\datasets\\ms\\MSAkdeniz_SpinalCord\\MSAkdeniz_SC\\testMask\\IR_ER_GTmask_0086.jpg\n",
      "readMask: D:\\datasets\\ms\\MSAkdeniz_SpinalCord\\MSAkdeniz_SC_MRs\\IR_ER_slice_0086.jpg\n",
      "wMask: D:\\datasets\\ms\\MSAkdeniz_SpinalCord\\MSAkdeniz_SC\\test\\IR_ER_slice_0086.jpg\n",
      "\n",
      " D:\\datasets\\ms\\MSAkdeniz_SpinalCord\\MSAkdeniz_SC\\testMask\\ME_YA_GTmask_0087.jpg\n",
      "readMask: D:\\datasets\\ms\\MSAkdeniz_SpinalCord\\MSAkdeniz_SC_MRs\\ME_YA_slice_0087.jpg\n",
      "wMask: D:\\datasets\\ms\\MSAkdeniz_SpinalCord\\MSAkdeniz_SC\\test\\ME_YA_slice_0087.jpg\n",
      "\n",
      " D:\\datasets\\ms\\MSAkdeniz_SpinalCord\\MSAkdeniz_SC\\testMask\\ME_YA_GTmask_0092.jpg\n",
      "readMask: D:\\datasets\\ms\\MSAkdeniz_SpinalCord\\MSAkdeniz_SC_MRs\\ME_YA_slice_0092.jpg\n",
      "wMask: D:\\datasets\\ms\\MSAkdeniz_SpinalCord\\MSAkdeniz_SC\\test\\ME_YA_slice_0092.jpg\n",
      "\n",
      " D:\\datasets\\ms\\MSAkdeniz_SpinalCord\\MSAkdeniz_SC\\testMask\\ME_YA_GTmask_0097.jpg\n",
      "readMask: D:\\datasets\\ms\\MSAkdeniz_SpinalCord\\MSAkdeniz_SC_MRs\\ME_YA_slice_0097.jpg\n",
      "wMask: D:\\datasets\\ms\\MSAkdeniz_SpinalCord\\MSAkdeniz_SC\\test\\ME_YA_slice_0097.jpg\n",
      "\n",
      " D:\\datasets\\ms\\MSAkdeniz_SpinalCord\\MSAkdeniz_SC\\testMask\\RA_UY_GTmask_0087.jpg\n",
      "readMask: D:\\datasets\\ms\\MSAkdeniz_SpinalCord\\MSAkdeniz_SC_MRs\\RA_UY_slice_0087.jpg\n",
      "wMask: D:\\datasets\\ms\\MSAkdeniz_SpinalCord\\MSAkdeniz_SC\\test\\RA_UY_slice_0087.jpg\n",
      "\n",
      " D:\\datasets\\ms\\MSAkdeniz_SpinalCord\\MSAkdeniz_SC\\testMask\\RA_UY_GTmask_0093.jpg\n",
      "readMask: D:\\datasets\\ms\\MSAkdeniz_SpinalCord\\MSAkdeniz_SC_MRs\\RA_UY_slice_0093.jpg\n",
      "wMask: D:\\datasets\\ms\\MSAkdeniz_SpinalCord\\MSAkdeniz_SC\\test\\RA_UY_slice_0093.jpg\n",
      "\n",
      " D:\\datasets\\ms\\MSAkdeniz_SpinalCord\\MSAkdeniz_SC\\testMask\\RA_UY_GTmask_0098.jpg\n",
      "readMask: D:\\datasets\\ms\\MSAkdeniz_SpinalCord\\MSAkdeniz_SC_MRs\\RA_UY_slice_0098.jpg\n",
      "wMask: D:\\datasets\\ms\\MSAkdeniz_SpinalCord\\MSAkdeniz_SC\\test\\RA_UY_slice_0098.jpg\n",
      "\n",
      " D:\\datasets\\ms\\MSAkdeniz_SpinalCord\\MSAkdeniz_SC\\testMask\\RE_KO_GTmask_0080.jpg\n",
      "readMask: D:\\datasets\\ms\\MSAkdeniz_SpinalCord\\MSAkdeniz_SC_MRs\\RE_KO_slice_0080.jpg\n",
      "wMask: D:\\datasets\\ms\\MSAkdeniz_SpinalCord\\MSAkdeniz_SC\\test\\RE_KO_slice_0080.jpg\n",
      "\n",
      " D:\\datasets\\ms\\MSAkdeniz_SpinalCord\\MSAkdeniz_SC\\testMask\\RE_KO_GTmask_0085.jpg\n",
      "readMask: D:\\datasets\\ms\\MSAkdeniz_SpinalCord\\MSAkdeniz_SC_MRs\\RE_KO_slice_0085.jpg\n",
      "wMask: D:\\datasets\\ms\\MSAkdeniz_SpinalCord\\MSAkdeniz_SC\\test\\RE_KO_slice_0085.jpg\n",
      "\n",
      " D:\\datasets\\ms\\MSAkdeniz_SpinalCord\\MSAkdeniz_SC\\testMask\\RE_KO_GTmask_0092.jpg\n",
      "readMask: D:\\datasets\\ms\\MSAkdeniz_SpinalCord\\MSAkdeniz_SC_MRs\\RE_KO_slice_0092.jpg\n",
      "wMask: D:\\datasets\\ms\\MSAkdeniz_SpinalCord\\MSAkdeniz_SC\\test\\RE_KO_slice_0092.jpg\n",
      "\n",
      " D:\\datasets\\ms\\MSAkdeniz_SpinalCord\\MSAkdeniz_SC\\testMask\\RE_KO_GTmask_0097.jpg\n",
      "readMask: D:\\datasets\\ms\\MSAkdeniz_SpinalCord\\MSAkdeniz_SC_MRs\\RE_KO_slice_0097.jpg\n",
      "wMask: D:\\datasets\\ms\\MSAkdeniz_SpinalCord\\MSAkdeniz_SC\\test\\RE_KO_slice_0097.jpg\n",
      "\n",
      " D:\\datasets\\ms\\MSAkdeniz_SpinalCord\\MSAkdeniz_SC\\testMask\\RE_UZ_GTmask_0076.jpg\n",
      "readMask: D:\\datasets\\ms\\MSAkdeniz_SpinalCord\\MSAkdeniz_SC_MRs\\RE_UZ_slice_0076.jpg\n",
      "wMask: D:\\datasets\\ms\\MSAkdeniz_SpinalCord\\MSAkdeniz_SC\\test\\RE_UZ_slice_0076.jpg\n",
      "\n",
      " D:\\datasets\\ms\\MSAkdeniz_SpinalCord\\MSAkdeniz_SC\\testMask\\RE_UZ_GTmask_0081.jpg\n",
      "readMask: D:\\datasets\\ms\\MSAkdeniz_SpinalCord\\MSAkdeniz_SC_MRs\\RE_UZ_slice_0081.jpg\n",
      "wMask: D:\\datasets\\ms\\MSAkdeniz_SpinalCord\\MSAkdeniz_SC\\test\\RE_UZ_slice_0081.jpg\n",
      "\n",
      " D:\\datasets\\ms\\MSAkdeniz_SpinalCord\\MSAkdeniz_SC\\testMask\\RE_UZ_GTmask_0087.jpg\n",
      "readMask: D:\\datasets\\ms\\MSAkdeniz_SpinalCord\\MSAkdeniz_SC_MRs\\RE_UZ_slice_0087.jpg\n",
      "wMask: D:\\datasets\\ms\\MSAkdeniz_SpinalCord\\MSAkdeniz_SC\\test\\RE_UZ_slice_0087.jpg\n",
      "\n",
      " D:\\datasets\\ms\\MSAkdeniz_SpinalCord\\MSAkdeniz_SC\\testMask\\RE_UZ_GTmask_0093.jpg\n",
      "readMask: D:\\datasets\\ms\\MSAkdeniz_SpinalCord\\MSAkdeniz_SC_MRs\\RE_UZ_slice_0093.jpg\n",
      "wMask: D:\\datasets\\ms\\MSAkdeniz_SpinalCord\\MSAkdeniz_SC\\test\\RE_UZ_slice_0093.jpg\n",
      "\n",
      " D:\\datasets\\ms\\MSAkdeniz_SpinalCord\\MSAkdeniz_SC\\testMask\\SE_AK_GTmask_0078.jpg\n",
      "readMask: D:\\datasets\\ms\\MSAkdeniz_SpinalCord\\MSAkdeniz_SC_MRs\\SE_AK_slice_0078.jpg\n",
      "wMask: D:\\datasets\\ms\\MSAkdeniz_SpinalCord\\MSAkdeniz_SC\\test\\SE_AK_slice_0078.jpg\n",
      "\n",
      " D:\\datasets\\ms\\MSAkdeniz_SpinalCord\\MSAkdeniz_SC\\testMask\\SE_AK_GTmask_0083.jpg\n",
      "readMask: D:\\datasets\\ms\\MSAkdeniz_SpinalCord\\MSAkdeniz_SC_MRs\\SE_AK_slice_0083.jpg\n",
      "wMask: D:\\datasets\\ms\\MSAkdeniz_SpinalCord\\MSAkdeniz_SC\\test\\SE_AK_slice_0083.jpg\n",
      "\n",
      " D:\\datasets\\ms\\MSAkdeniz_SpinalCord\\MSAkdeniz_SC\\testMask\\SE_AK_GTmask_0088.jpg\n",
      "readMask: D:\\datasets\\ms\\MSAkdeniz_SpinalCord\\MSAkdeniz_SC_MRs\\SE_AK_slice_0088.jpg\n",
      "wMask: D:\\datasets\\ms\\MSAkdeniz_SpinalCord\\MSAkdeniz_SC\\test\\SE_AK_slice_0088.jpg\n",
      "\n",
      " D:\\datasets\\ms\\MSAkdeniz_SpinalCord\\MSAkdeniz_SC\\testMask\\SE_AK_GTmask_0093.jpg\n",
      "readMask: D:\\datasets\\ms\\MSAkdeniz_SpinalCord\\MSAkdeniz_SC_MRs\\SE_AK_slice_0093.jpg\n",
      "wMask: D:\\datasets\\ms\\MSAkdeniz_SpinalCord\\MSAkdeniz_SC\\test\\SE_AK_slice_0093.jpg\n",
      "\n",
      " D:\\datasets\\ms\\MSAkdeniz_SpinalCord\\MSAkdeniz_SC\\testMask\\SU_ME_GTmask_0098.jpg\n",
      "readMask: D:\\datasets\\ms\\MSAkdeniz_SpinalCord\\MSAkdeniz_SC_MRs\\SU_ME_slice_0098.jpg\n",
      "wMask: D:\\datasets\\ms\\MSAkdeniz_SpinalCord\\MSAkdeniz_SC\\test\\SU_ME_slice_0098.jpg\n",
      "\n",
      " D:\\datasets\\ms\\MSAkdeniz_SpinalCord\\MSAkdeniz_SC\\testMask\\SU_ME_GTmask_0103.jpg\n",
      "readMask: D:\\datasets\\ms\\MSAkdeniz_SpinalCord\\MSAkdeniz_SC_MRs\\SU_ME_slice_0103.jpg\n",
      "wMask: D:\\datasets\\ms\\MSAkdeniz_SpinalCord\\MSAkdeniz_SC\\test\\SU_ME_slice_0103.jpg\n",
      "\n",
      " D:\\datasets\\ms\\MSAkdeniz_SpinalCord\\MSAkdeniz_SC\\testMask\\UM_ER_GTmask_0075.jpg\n",
      "readMask: D:\\datasets\\ms\\MSAkdeniz_SpinalCord\\MSAkdeniz_SC_MRs\\UM_ER_slice_0075.jpg\n",
      "wMask: D:\\datasets\\ms\\MSAkdeniz_SpinalCord\\MSAkdeniz_SC\\test\\UM_ER_slice_0075.jpg\n",
      "\n",
      " D:\\datasets\\ms\\MSAkdeniz_SpinalCord\\MSAkdeniz_SC\\testMask\\UM_ER_GTmask_0080.jpg\n",
      "readMask: D:\\datasets\\ms\\MSAkdeniz_SpinalCord\\MSAkdeniz_SC_MRs\\UM_ER_slice_0080.jpg\n",
      "wMask: D:\\datasets\\ms\\MSAkdeniz_SpinalCord\\MSAkdeniz_SC\\test\\UM_ER_slice_0080.jpg\n",
      "\n",
      " D:\\datasets\\ms\\MSAkdeniz_SpinalCord\\MSAkdeniz_SC\\testMask\\UM_ER_GTmask_0096.jpg\n",
      "readMask: D:\\datasets\\ms\\MSAkdeniz_SpinalCord\\MSAkdeniz_SC_MRs\\UM_ER_slice_0096.jpg\n",
      "wMask: D:\\datasets\\ms\\MSAkdeniz_SpinalCord\\MSAkdeniz_SC\\test\\UM_ER_slice_0096.jpg\n",
      "\n",
      " D:\\datasets\\ms\\MSAkdeniz_SpinalCord\\MSAkdeniz_SC\\testMask\\UM_ER_GTmask_0101.jpg\n",
      "readMask: D:\\datasets\\ms\\MSAkdeniz_SpinalCord\\MSAkdeniz_SC_MRs\\UM_ER_slice_0101.jpg\n",
      "wMask: D:\\datasets\\ms\\MSAkdeniz_SpinalCord\\MSAkdeniz_SC\\test\\UM_ER_slice_0101.jpg\n"
     ]
    }
   ],
   "source": [
    "import matplotlib.image as img\n",
    "import os\n",
    "import glob\n",
    "import cv2\n",
    "import shutil\n",
    "\n",
    "root_dir        = \"D:\\\\datasets\\\\ms\\\\MSAkdeniz_SpinalCord\\\\MSAkdeniz_SC\\\\testMask\\\\\"\n",
    "mask_root_dir   = \"D:\\\\datasets\\\\ms\\\\MSAkdeniz_SpinalCord\\\\MSAkdeniz_SC_MRs\\\\\"\n",
    "mask_target_dir = \"D:\\\\datasets\\\\ms\\\\MSAkdeniz_SpinalCord\\\\MSAkdeniz_SC\\\\test\\\\\"\n",
    "maskPatch = \"GTmask\"\n",
    "imgPatch  = \"slice\"\n",
    "fType=\"jpg\"\n",
    "\n",
    "all_images=sorted(glob.glob(os.path.join(root_dir,'*.'+fType)))\n",
    "display(len(all_images))\n",
    "for item in all_images:\n",
    "    print(\"\\n\",item)\n",
    "    fname=os.path.basename(item)\n",
    "    maskFname=fname.replace(maskPatch,imgPatch)\n",
    "    readMask=mask_root_dir+maskFname\n",
    "    print(\"readMask:\",readMask)\n",
    "#     mask=cv2.imread(readMask)\n",
    "#     display(mask)\n",
    "    writeMask=mask_target_dir+maskFname\n",
    "    print(\"wMask:\",writeMask)\n",
    "    shutil.copyfile(readMask, writeMask)\n",
    "    \n",
    "#     display(mask)\n",
    "#     img.imsave(writeMask, mask)\n",
    "\n",
    "\n"
   ]
  },
  {
   "cell_type": "code",
   "execution_count": 6,
   "metadata": {},
   "outputs": [
    {
     "name": "stdout",
     "output_type": "stream",
     "text": [
      "259\n",
      "0 - AB_AK_slice_0090.jpg / AB_AK_GTmask_0090.jpg\n",
      "1 - AB_AK_slice_0091.jpg / AB_AK_GTmask_0091.jpg\n",
      "2 - AB_AK_slice_0092.jpg / AB_AK_GTmask_0092.jpg\n",
      "3 - AB_AK_slice_0093.jpg / AB_AK_GTmask_0093.jpg\n",
      "4 - AB_AK_slice_0095.jpg / AB_AK_GTmask_0095.jpg\n",
      "5 - AB_AK_slice_0096.jpg / AB_AK_GTmask_0096.jpg\n",
      "6 - AB_AK_slice_0097.jpg / AB_AK_GTmask_0097.jpg\n",
      "7 - AB_AK_slice_0098.jpg / AB_AK_GTmask_0098.jpg\n",
      "8 - AB_AK_slice_0100.jpg / AB_AK_GTmask_0100.jpg\n",
      "9 - AB_AK_slice_0101.jpg / AB_AK_GTmask_0101.jpg\n",
      "10 - AB_AK_slice_0102.jpg / AB_AK_GTmask_0102.jpg\n",
      "11 - AB_AK_slice_0103.jpg / AB_AK_GTmask_0103.jpg\n",
      "12 - AD_EG_slice_0088.jpg / AD_EG_GTmask_0088.jpg\n",
      "13 - AD_EG_slice_0089.jpg / AD_EG_GTmask_0089.jpg\n",
      "14 - AD_EG_slice_0090.jpg / AD_EG_GTmask_0090.jpg\n",
      "15 - AD_EG_slice_0091.jpg / AD_EG_GTmask_0091.jpg\n",
      "16 - AD_EG_slice_0093.jpg / AD_EG_GTmask_0093.jpg\n",
      "17 - AD_EG_slice_0094.jpg / AD_EG_GTmask_0094.jpg\n",
      "18 - AD_EG_slice_0095.jpg / AD_EG_GTmask_0095.jpg\n",
      "19 - AD_EG_slice_0096.jpg / AD_EG_GTmask_0096.jpg\n",
      "20 - AD_EG_slice_0098.jpg / AD_EG_GTmask_0098.jpg\n",
      "21 - AD_EG_slice_0099.jpg / AD_EG_GTmask_0099.jpg\n",
      "22 - AD_EG_slice_0100.jpg / AD_EG_GTmask_0100.jpg\n",
      "23 - AD_EG_slice_0101.jpg / AD_EG_GTmask_0101.jpg\n",
      "24 - AY_OS_slice_0085.jpg / AY_OS_GTmask_0085.jpg\n",
      "25 - AY_OS_slice_0086.jpg / AY_OS_GTmask_0086.jpg\n",
      "26 - AY_OS_slice_0087.jpg / AY_OS_GTmask_0087.jpg\n",
      "27 - AY_OS_slice_0088.jpg / AY_OS_GTmask_0088.jpg\n",
      "28 - AY_OS_slice_0090.jpg / AY_OS_GTmask_0090.jpg\n",
      "29 - AY_OS_slice_0091.jpg / AY_OS_GTmask_0091.jpg\n",
      "30 - AY_OS_slice_0092.jpg / AY_OS_GTmask_0092.jpg\n",
      "31 - AY_OS_slice_0093.jpg / AY_OS_GTmask_0093.jpg\n",
      "32 - AY_OS_slice_0095.jpg / AY_OS_GTmask_0095.jpg\n",
      "33 - AY_OS_slice_0096.jpg / AY_OS_GTmask_0096.jpg\n",
      "34 - AY_OS_slice_0097.jpg / AY_OS_GTmask_0097.jpg\n",
      "35 - AY_OS_slice_0098.jpg / AY_OS_GTmask_0098.jpg\n",
      "36 - AY_TA_slice_0091.jpg / AY_TA_GTmask_0091.jpg\n",
      "37 - AY_TA_slice_0092.jpg / AY_TA_GTmask_0092.jpg\n",
      "38 - AY_TA_slice_0093.jpg / AY_TA_GTmask_0093.jpg\n",
      "39 - AY_TA_slice_0094.jpg / AY_TA_GTmask_0094.jpg\n",
      "40 - AY_TA_slice_0096.jpg / AY_TA_GTmask_0096.jpg\n",
      "41 - AY_TA_slice_0097.jpg / AY_TA_GTmask_0097.jpg\n",
      "42 - AY_TA_slice_0098.jpg / AY_TA_GTmask_0098.jpg\n",
      "43 - AY_TA_slice_0099.jpg / AY_TA_GTmask_0099.jpg\n",
      "44 - AY_TA_slice_0101.jpg / AY_TA_GTmask_0101.jpg\n",
      "45 - DU_MA_slice_0074.jpg / DU_MA_GTmask_0074.jpg\n",
      "46 - DU_MA_slice_0075.jpg / DU_MA_GTmask_0075.jpg\n",
      "47 - DU_MA_slice_0076.jpg / DU_MA_GTmask_0076.jpg\n",
      "48 - DU_MA_slice_0078.jpg / DU_MA_GTmask_0078.jpg\n",
      "49 - DU_MA_slice_0079.jpg / DU_MA_GTmask_0079.jpg\n",
      "50 - DU_MA_slice_0080.jpg / DU_MA_GTmask_0080.jpg\n",
      "51 - DU_MA_slice_0081.jpg / DU_MA_GTmask_0081.jpg\n",
      "52 - DU_MA_slice_0083.jpg / DU_MA_GTmask_0083.jpg\n",
      "53 - DU_MA_slice_0084.jpg / DU_MA_GTmask_0084.jpg\n",
      "54 - DU_MA_slice_0088.jpg / DU_MA_GTmask_0088.jpg\n",
      "55 - DU_MA_slice_0089.jpg / DU_MA_GTmask_0089.jpg\n",
      "56 - DU_MA_slice_0091.jpg / DU_MA_GTmask_0091.jpg\n",
      "57 - DU_MA_slice_0092.jpg / DU_MA_GTmask_0092.jpg\n",
      "58 - DU_MA_slice_0093.jpg / DU_MA_GTmask_0093.jpg\n",
      "59 - DU_MA_slice_0094.jpg / DU_MA_GTmask_0094.jpg\n",
      "60 - DU_MA_slice_0096.jpg / DU_MA_GTmask_0096.jpg\n",
      "61 - DU_MA_slice_0097.jpg / DU_MA_GTmask_0097.jpg\n",
      "62 - FA_CA_slice_0092.jpg / FA_CA_GTmask_0092.jpg\n",
      "63 - FA_CA_slice_0093.jpg / FA_CA_GTmask_0093.jpg\n",
      "64 - FA_CA_slice_0095.jpg / FA_CA_GTmask_0095.jpg\n",
      "65 - FA_CA_slice_0096.jpg / FA_CA_GTmask_0096.jpg\n",
      "66 - FA_CA_slice_0097.jpg / FA_CA_GTmask_0097.jpg\n",
      "67 - FA_CA_slice_0098.jpg / FA_CA_GTmask_0098.jpg\n",
      "68 - FA_CA_slice_0100.jpg / FA_CA_GTmask_0100.jpg\n",
      "69 - FA_CA_slice_0101.jpg / FA_CA_GTmask_0101.jpg\n",
      "70 - FA_CA_slice_0102.jpg / FA_CA_GTmask_0102.jpg\n",
      "71 - FA_CA_slice_0103.jpg / FA_CA_GTmask_0103.jpg\n",
      "72 - FA_CA_slice_0105.jpg / FA_CA_GTmask_0105.jpg\n",
      "73 - FA_CA_slice_0106.jpg / FA_CA_GTmask_0106.jpg\n",
      "74 - FA_TO_slice_0079.jpg / FA_TO_GTmask_0079.jpg\n",
      "75 - FA_TO_slice_0080.jpg / FA_TO_GTmask_0080.jpg\n",
      "76 - FA_TO_slice_0082.jpg / FA_TO_GTmask_0082.jpg\n",
      "77 - FA_TO_slice_0083.jpg / FA_TO_GTmask_0083.jpg\n",
      "78 - FA_TO_slice_0084.jpg / FA_TO_GTmask_0084.jpg\n",
      "79 - FA_TO_slice_0085.jpg / FA_TO_GTmask_0085.jpg\n",
      "80 - FA_TO_slice_0087.jpg / FA_TO_GTmask_0087.jpg\n",
      "81 - FA_TO_slice_0088.jpg / FA_TO_GTmask_0088.jpg\n",
      "82 - FA_TO_slice_0089.jpg / FA_TO_GTmask_0089.jpg\n",
      "83 - FE_EL_slice_0076.jpg / FE_EL_GTmask_0076.jpg\n",
      "84 - FE_EL_slice_0078.jpg / FE_EL_GTmask_0078.jpg\n",
      "85 - FE_EL_slice_0079.jpg / FE_EL_GTmask_0079.jpg\n",
      "86 - FE_EL_slice_0080.jpg / FE_EL_GTmask_0080.jpg\n",
      "87 - FE_EL_slice_0081.jpg / FE_EL_GTmask_0081.jpg\n",
      "88 - FE_EL_slice_0083.jpg / FE_EL_GTmask_0083.jpg\n",
      "89 - FE_EL_slice_0084.jpg / FE_EL_GTmask_0084.jpg\n",
      "90 - FE_EL_slice_0092.jpg / FE_EL_GTmask_0092.jpg\n",
      "91 - FE_EL_slice_0093.jpg / FE_EL_GTmask_0093.jpg\n",
      "92 - FE_EL_slice_0095.jpg / FE_EL_GTmask_0095.jpg\n",
      "93 - FE_EL_slice_0096.jpg / FE_EL_GTmask_0096.jpg\n",
      "94 - FE_EL_slice_0097.jpg / FE_EL_GTmask_0097.jpg\n",
      "95 - FE_EL_slice_0098.jpg / FE_EL_GTmask_0098.jpg\n",
      "96 - FE_EL_slice_0100.jpg / FE_EL_GTmask_0100.jpg\n",
      "97 - FE_EL_slice_0101.jpg / FE_EL_GTmask_0101.jpg\n",
      "98 - GU_CO_slice_0083.jpg / GU_CO_GTmask_0083.jpg\n",
      "99 - GU_CO_slice_0084.jpg / GU_CO_GTmask_0084.jpg\n",
      "100 - GU_CO_slice_0086.jpg / GU_CO_GTmask_0086.jpg\n",
      "101 - GU_CO_slice_0087.jpg / GU_CO_GTmask_0087.jpg\n",
      "102 - GU_CO_slice_0088.jpg / GU_CO_GTmask_0088.jpg\n",
      "103 - GU_CO_slice_0089.jpg / GU_CO_GTmask_0089.jpg\n",
      "104 - GU_CO_slice_0091.jpg / GU_CO_GTmask_0091.jpg\n",
      "105 - GU_CO_slice_0092.jpg / GU_CO_GTmask_0092.jpg\n",
      "106 - GU_CO_slice_0093.jpg / GU_CO_GTmask_0093.jpg\n",
      "107 - GU_CO_slice_0094.jpg / GU_CO_GTmask_0094.jpg\n",
      "108 - GU_CO_slice_0096.jpg / GU_CO_GTmask_0096.jpg\n",
      "109 - GU_CO_slice_0097.jpg / GU_CO_GTmask_0097.jpg\n",
      "110 - HA_AK_slice_0093.jpg / HA_AK_GTmask_0093.jpg\n",
      "111 - HA_AK_slice_0094.jpg / HA_AK_GTmask_0094.jpg\n",
      "112 - HA_AK_slice_0096.jpg / HA_AK_GTmask_0096.jpg\n",
      "113 - HA_AK_slice_0097.jpg / HA_AK_GTmask_0097.jpg\n",
      "114 - HA_AK_slice_0098.jpg / HA_AK_GTmask_0098.jpg\n",
      "115 - HA_AK_slice_0099.jpg / HA_AK_GTmask_0099.jpg\n",
      "116 - HA_AK_slice_0101.jpg / HA_AK_GTmask_0101.jpg\n",
      "117 - HA_AK_slice_0102.jpg / HA_AK_GTmask_0102.jpg\n",
      "118 - HA_AK_slice_0103.jpg / HA_AK_GTmask_0103.jpg\n",
      "119 - HA_AK_slice_0104.jpg / HA_AK_GTmask_0104.jpg\n",
      "120 - HA_KA_slice_0081.jpg / HA_KA_GTmask_0081.jpg\n",
      "121 - HA_KA_slice_0082.jpg / HA_KA_GTmask_0082.jpg\n",
      "122 - HA_KA_slice_0083.jpg / HA_KA_GTmask_0083.jpg\n",
      "123 - HA_KA_slice_0084.jpg / HA_KA_GTmask_0084.jpg\n",
      "124 - HA_KA_slice_0086.jpg / HA_KA_GTmask_0086.jpg\n",
      "125 - HA_KA_slice_0087.jpg / HA_KA_GTmask_0087.jpg\n",
      "126 - HA_KA_slice_0088.jpg / HA_KA_GTmask_0088.jpg\n",
      "127 - HA_KA_slice_0089.jpg / HA_KA_GTmask_0089.jpg\n",
      "128 - HA_KA_slice_0091.jpg / HA_KA_GTmask_0091.jpg\n",
      "129 - HA_KA_slice_0092.jpg / HA_KA_GTmask_0092.jpg\n",
      "130 - HA_KA_slice_0093.jpg / HA_KA_GTmask_0093.jpg\n",
      "131 - HA_KA_slice_0094.jpg / HA_KA_GTmask_0094.jpg\n",
      "132 - IH_AL_slice_0091.jpg / IH_AL_GTmask_0091.jpg\n",
      "133 - IH_AL_slice_0092.jpg / IH_AL_GTmask_0092.jpg\n",
      "134 - IH_AL_slice_0093.jpg / IH_AL_GTmask_0093.jpg\n",
      "135 - IH_AL_slice_0094.jpg / IH_AL_GTmask_0094.jpg\n",
      "136 - IH_AL_slice_0096.jpg / IH_AL_GTmask_0096.jpg\n",
      "137 - IH_AL_slice_0097.jpg / IH_AL_GTmask_0097.jpg\n",
      "138 - IH_AL_slice_0098.jpg / IH_AL_GTmask_0098.jpg\n",
      "139 - IH_AL_slice_0099.jpg / IH_AL_GTmask_0099.jpg\n",
      "140 - IH_AL_slice_0101.jpg / IH_AL_GTmask_0101.jpg\n",
      "141 - IH_AL_slice_0102.jpg / IH_AL_GTmask_0102.jpg\n",
      "142 - IH_AL_slice_0103.jpg / IH_AL_GTmask_0103.jpg\n",
      "143 - IH_AL_slice_0104.jpg / IH_AL_GTmask_0104.jpg\n",
      "144 - IH_AL_slice_0106.jpg / IH_AL_GTmask_0106.jpg\n",
      "145 - IK_AT_slice_0079.jpg / IK_AT_GTmask_0079.jpg\n",
      "146 - IK_AT_slice_0080.jpg / IK_AT_GTmask_0080.jpg\n",
      "147 - IK_AT_slice_0081.jpg / IK_AT_GTmask_0081.jpg\n",
      "148 - IK_AT_slice_0083.jpg / IK_AT_GTmask_0083.jpg\n",
      "149 - IK_AT_slice_0084.jpg / IK_AT_GTmask_0084.jpg\n",
      "150 - IK_AT_slice_0085.jpg / IK_AT_GTmask_0085.jpg\n",
      "151 - IK_AT_slice_0086.jpg / IK_AT_GTmask_0086.jpg\n",
      "152 - IR_ER_slice_0077.jpg / IR_ER_GTmask_0077.jpg\n",
      "153 - IR_ER_slice_0078.jpg / IR_ER_GTmask_0078.jpg\n",
      "154 - IR_ER_slice_0079.jpg / IR_ER_GTmask_0079.jpg\n",
      "155 - IR_ER_slice_0080.jpg / IR_ER_GTmask_0080.jpg\n",
      "156 - IR_ER_slice_0082.jpg / IR_ER_GTmask_0082.jpg\n",
      "157 - IR_ER_slice_0083.jpg / IR_ER_GTmask_0083.jpg\n",
      "158 - IR_ER_slice_0084.jpg / IR_ER_GTmask_0084.jpg\n",
      "159 - IR_ER_slice_0085.jpg / IR_ER_GTmask_0085.jpg\n",
      "160 - IR_ER_slice_0087.jpg / IR_ER_GTmask_0087.jpg\n",
      "161 - IR_ER_slice_0088.jpg / IR_ER_GTmask_0088.jpg\n",
      "162 - IR_ER_slice_0089.jpg / IR_ER_GTmask_0089.jpg\n",
      "163 - IR_ER_slice_0090.jpg / IR_ER_GTmask_0090.jpg\n",
      "164 - ME_YA_slice_0088.jpg / ME_YA_GTmask_0088.jpg\n",
      "165 - ME_YA_slice_0089.jpg / ME_YA_GTmask_0089.jpg\n",
      "166 - ME_YA_slice_0090.jpg / ME_YA_GTmask_0090.jpg\n",
      "167 - ME_YA_slice_0091.jpg / ME_YA_GTmask_0091.jpg\n",
      "168 - ME_YA_slice_0093.jpg / ME_YA_GTmask_0093.jpg\n",
      "169 - ME_YA_slice_0094.jpg / ME_YA_GTmask_0094.jpg\n",
      "170 - ME_YA_slice_0095.jpg / ME_YA_GTmask_0095.jpg\n",
      "171 - ME_YA_slice_0096.jpg / ME_YA_GTmask_0096.jpg\n",
      "172 - RA_UY_slice_0083.jpg / RA_UY_GTmask_0083.jpg\n",
      "173 - RA_UY_slice_0084.jpg / RA_UY_GTmask_0084.jpg\n",
      "174 - RA_UY_slice_0085.jpg / RA_UY_GTmask_0085.jpg\n",
      "175 - RA_UY_slice_0086.jpg / RA_UY_GTmask_0086.jpg\n",
      "176 - RA_UY_slice_0088.jpg / RA_UY_GTmask_0088.jpg\n",
      "177 - RA_UY_slice_0089.jpg / RA_UY_GTmask_0089.jpg\n",
      "178 - RA_UY_slice_0090.jpg / RA_UY_GTmask_0090.jpg\n",
      "179 - RA_UY_slice_0091.jpg / RA_UY_GTmask_0091.jpg\n",
      "180 - RA_UY_slice_0094.jpg / RA_UY_GTmask_0094.jpg\n",
      "181 - RA_UY_slice_0095.jpg / RA_UY_GTmask_0095.jpg\n",
      "182 - RA_UY_slice_0096.jpg / RA_UY_GTmask_0096.jpg\n",
      "183 - RA_UY_slice_0097.jpg / RA_UY_GTmask_0097.jpg\n",
      "184 - RA_UY_slice_0099.jpg / RA_UY_GTmask_0099.jpg\n",
      "185 - RA_UY_slice_0100.jpg / RA_UY_GTmask_0100.jpg\n",
      "186 - RA_UY_slice_0101.jpg / RA_UY_GTmask_0101.jpg\n",
      "187 - RA_UY_slice_0102.jpg / RA_UY_GTmask_0102.jpg\n",
      "188 - RE_KO_slice_0081.jpg / RE_KO_GTmask_0081.jpg\n",
      "189 - RE_KO_slice_0082.jpg / RE_KO_GTmask_0082.jpg\n",
      "190 - RE_KO_slice_0083.jpg / RE_KO_GTmask_0083.jpg\n",
      "191 - RE_KO_slice_0084.jpg / RE_KO_GTmask_0084.jpg\n",
      "192 - RE_KO_slice_0086.jpg / RE_KO_GTmask_0086.jpg\n",
      "193 - RE_KO_slice_0087.jpg / RE_KO_GTmask_0087.jpg\n",
      "194 - RE_KO_slice_0088.jpg / RE_KO_GTmask_0088.jpg\n",
      "195 - RE_KO_slice_0089.jpg / RE_KO_GTmask_0089.jpg\n",
      "196 - RE_KO_slice_0093.jpg / RE_KO_GTmask_0093.jpg\n",
      "197 - RE_KO_slice_0094.jpg / RE_KO_GTmask_0094.jpg\n",
      "198 - RE_KO_slice_0095.jpg / RE_KO_GTmask_0095.jpg\n",
      "199 - RE_KO_slice_0096.jpg / RE_KO_GTmask_0096.jpg\n",
      "200 - RE_KO_slice_0098.jpg / RE_KO_GTmask_0098.jpg\n",
      "201 - RE_KO_slice_0099.jpg / RE_KO_GTmask_0099.jpg\n",
      "202 - RE_UZ_slice_0074.jpg / RE_UZ_GTmask_0074.jpg\n",
      "203 - RE_UZ_slice_0075.jpg / RE_UZ_GTmask_0075.jpg\n",
      "204 - RE_UZ_slice_0077.jpg / RE_UZ_GTmask_0077.jpg\n",
      "205 - RE_UZ_slice_0078.jpg / RE_UZ_GTmask_0078.jpg\n",
      "206 - RE_UZ_slice_0079.jpg / RE_UZ_GTmask_0079.jpg\n",
      "207 - RE_UZ_slice_0080.jpg / RE_UZ_GTmask_0080.jpg\n",
      "208 - RE_UZ_slice_0082.jpg / RE_UZ_GTmask_0082.jpg\n",
      "209 - RE_UZ_slice_0083.jpg / RE_UZ_GTmask_0083.jpg\n",
      "210 - RE_UZ_slice_0084.jpg / RE_UZ_GTmask_0084.jpg\n",
      "211 - RE_UZ_slice_0086.jpg / RE_UZ_GTmask_0086.jpg\n",
      "212 - RE_UZ_slice_0088.jpg / RE_UZ_GTmask_0088.jpg\n",
      "213 - RE_UZ_slice_0090.jpg / RE_UZ_GTmask_0090.jpg\n",
      "214 - RE_UZ_slice_0091.jpg / RE_UZ_GTmask_0091.jpg\n",
      "215 - RE_UZ_slice_0092.jpg / RE_UZ_GTmask_0092.jpg\n",
      "216 - RE_UZ_slice_0094.jpg / RE_UZ_GTmask_0094.jpg\n",
      "217 - RE_UZ_slice_0095.jpg / RE_UZ_GTmask_0095.jpg\n",
      "218 - RE_UZ_slice_0096.jpg / RE_UZ_GTmask_0096.jpg\n",
      "219 - SE_AK_slice_0077.jpg / SE_AK_GTmask_0077.jpg\n",
      "220 - SE_AK_slice_0079.jpg / SE_AK_GTmask_0079.jpg\n",
      "221 - SE_AK_slice_0080.jpg / SE_AK_GTmask_0080.jpg\n",
      "222 - SE_AK_slice_0081.jpg / SE_AK_GTmask_0081.jpg\n",
      "223 - SE_AK_slice_0082.jpg / SE_AK_GTmask_0082.jpg\n",
      "224 - SE_AK_slice_0084.jpg / SE_AK_GTmask_0084.jpg\n",
      "225 - SE_AK_slice_0085.jpg / SE_AK_GTmask_0085.jpg\n",
      "226 - SE_AK_slice_0086.jpg / SE_AK_GTmask_0086.jpg\n",
      "227 - SE_AK_slice_0087.jpg / SE_AK_GTmask_0087.jpg\n",
      "228 - SE_AK_slice_0089.jpg / SE_AK_GTmask_0089.jpg\n",
      "229 - SE_AK_slice_0090.jpg / SE_AK_GTmask_0090.jpg\n",
      "230 - SE_AK_slice_0091.jpg / SE_AK_GTmask_0091.jpg\n",
      "231 - SE_AK_slice_0092.jpg / SE_AK_GTmask_0092.jpg\n",
      "232 - SU_ME_slice_0094.jpg / SU_ME_GTmask_0094.jpg\n",
      "233 - SU_ME_slice_0095.jpg / SU_ME_GTmask_0095.jpg\n",
      "234 - SU_ME_slice_0096.jpg / SU_ME_GTmask_0096.jpg\n",
      "235 - SU_ME_slice_0097.jpg / SU_ME_GTmask_0097.jpg\n",
      "236 - SU_ME_slice_0099.jpg / SU_ME_GTmask_0099.jpg\n",
      "237 - SU_ME_slice_0100.jpg / SU_ME_GTmask_0100.jpg\n",
      "238 - SU_ME_slice_0101.jpg / SU_ME_GTmask_0101.jpg\n",
      "239 - SU_ME_slice_0102.jpg / SU_ME_GTmask_0102.jpg\n",
      "240 - SU_ME_slice_0104.jpg / SU_ME_GTmask_0104.jpg\n",
      "241 - UM_ER_slice_0072.jpg / UM_ER_GTmask_0072.jpg\n",
      "242 - UM_ER_slice_0073.jpg / UM_ER_GTmask_0073.jpg\n",
      "243 - UM_ER_slice_0074.jpg / UM_ER_GTmask_0074.jpg\n",
      "244 - UM_ER_slice_0076.jpg / UM_ER_GTmask_0076.jpg\n",
      "245 - UM_ER_slice_0077.jpg / UM_ER_GTmask_0077.jpg\n",
      "246 - UM_ER_slice_0078.jpg / UM_ER_GTmask_0078.jpg\n",
      "247 - UM_ER_slice_0079.jpg / UM_ER_GTmask_0079.jpg\n",
      "248 - UM_ER_slice_0081.jpg / UM_ER_GTmask_0081.jpg\n",
      "249 - UM_ER_slice_0082.jpg / UM_ER_GTmask_0082.jpg\n",
      "250 - UM_ER_slice_0094.jpg / UM_ER_GTmask_0094.jpg\n",
      "251 - UM_ER_slice_0095.jpg / UM_ER_GTmask_0095.jpg\n",
      "252 - UM_ER_slice_0097.jpg / UM_ER_GTmask_0097.jpg\n",
      "253 - UM_ER_slice_0098.jpg / UM_ER_GTmask_0098.jpg\n",
      "254 - UM_ER_slice_0099.jpg / UM_ER_GTmask_0099.jpg\n",
      "255 - UM_ER_slice_0100.jpg / UM_ER_GTmask_0100.jpg\n",
      "256 - UM_ER_slice_0102.jpg / UM_ER_GTmask_0102.jpg\n",
      "257 - UM_ER_slice_0103.jpg / UM_ER_GTmask_0103.jpg\n",
      "258 - UM_ER_slice_0104.jpg / UM_ER_GTmask_0104.jpg\n"
     ]
    },
    {
     "name": "stdout",
     "output_type": "stream",
     "text": [
      "D:\\datasets\\ms\\MSAkdeniz_SpinalCord\\MSAkdeniz_SC\\train\\via_region_data.json json ok\n",
      "True\n",
      "64\n",
      "0 - AB_AK_slice_0094.jpg / AB_AK_GTmask_0094.jpg\n",
      "1 - AB_AK_slice_0099.jpg / AB_AK_GTmask_0099.jpg\n",
      "2 - AB_AK_slice_0104.jpg / AB_AK_GTmask_0104.jpg\n",
      "3 - AD_EG_slice_0092.jpg / AD_EG_GTmask_0092.jpg\n",
      "4 - AD_EG_slice_0097.jpg / AD_EG_GTmask_0097.jpg\n",
      "5 - AD_EG_slice_0102.jpg / AD_EG_GTmask_0102.jpg\n",
      "6 - AY_OS_slice_0089.jpg / AY_OS_GTmask_0089.jpg\n",
      "7 - AY_OS_slice_0094.jpg / AY_OS_GTmask_0094.jpg\n",
      "8 - AY_OS_slice_0099.jpg / AY_OS_GTmask_0099.jpg\n",
      "9 - AY_TA_slice_0095.jpg / AY_TA_GTmask_0095.jpg\n",
      "10 - AY_TA_slice_0100.jpg / AY_TA_GTmask_0100.jpg\n",
      "11 - DU_MA_slice_0077.jpg / DU_MA_GTmask_0077.jpg\n",
      "12 - DU_MA_slice_0082.jpg / DU_MA_GTmask_0082.jpg\n",
      "13 - DU_MA_slice_0090.jpg / DU_MA_GTmask_0090.jpg\n",
      "14 - DU_MA_slice_0095.jpg / DU_MA_GTmask_0095.jpg\n",
      "15 - FA_CA_slice_0094.jpg / FA_CA_GTmask_0094.jpg\n",
      "16 - FA_CA_slice_0099.jpg / FA_CA_GTmask_0099.jpg\n",
      "17 - FA_CA_slice_0104.jpg / FA_CA_GTmask_0104.jpg\n",
      "18 - FA_TO_slice_0081.jpg / FA_TO_GTmask_0081.jpg\n",
      "19 - FA_TO_slice_0086.jpg / FA_TO_GTmask_0086.jpg\n",
      "20 - FE_EL_slice_0077.jpg / FE_EL_GTmask_0077.jpg\n",
      "21 - FE_EL_slice_0082.jpg / FE_EL_GTmask_0082.jpg\n",
      "22 - FE_EL_slice_0094.jpg / FE_EL_GTmask_0094.jpg\n",
      "23 - FE_EL_slice_0099.jpg / FE_EL_GTmask_0099.jpg\n",
      "24 - GU_CO_slice_0085.jpg / GU_CO_GTmask_0085.jpg\n",
      "25 - GU_CO_slice_0090.jpg / GU_CO_GTmask_0090.jpg\n",
      "26 - GU_CO_slice_0095.jpg / GU_CO_GTmask_0095.jpg\n",
      "27 - HA_AK_slice_0095.jpg / HA_AK_GTmask_0095.jpg\n",
      "28 - HA_AK_slice_0100.jpg / HA_AK_GTmask_0100.jpg\n",
      "29 - HA_AK_slice_0105.jpg / HA_AK_GTmask_0105.jpg\n",
      "30 - HA_KA_slice_0085.jpg / HA_KA_GTmask_0085.jpg\n",
      "31 - HA_KA_slice_0090.jpg / HA_KA_GTmask_0090.jpg\n",
      "32 - IH_AL_slice_0090.jpg / IH_AL_GTmask_0090.jpg\n",
      "33 - IH_AL_slice_0095.jpg / IH_AL_GTmask_0095.jpg\n",
      "34 - IH_AL_slice_0100.jpg / IH_AL_GTmask_0100.jpg\n",
      "35 - IH_AL_slice_0105.jpg / IH_AL_GTmask_0105.jpg\n",
      "36 - IK_AT_slice_0082.jpg / IK_AT_GTmask_0082.jpg\n",
      "37 - IR_ER_slice_0076.jpg / IR_ER_GTmask_0076.jpg\n",
      "38 - IR_ER_slice_0081.jpg / IR_ER_GTmask_0081.jpg\n",
      "39 - IR_ER_slice_0086.jpg / IR_ER_GTmask_0086.jpg\n",
      "40 - ME_YA_slice_0087.jpg / ME_YA_GTmask_0087.jpg\n",
      "41 - ME_YA_slice_0092.jpg / ME_YA_GTmask_0092.jpg\n",
      "42 - ME_YA_slice_0097.jpg / ME_YA_GTmask_0097.jpg\n",
      "43 - RA_UY_slice_0087.jpg / RA_UY_GTmask_0087.jpg\n",
      "44 - RA_UY_slice_0093.jpg / RA_UY_GTmask_0093.jpg\n",
      "45 - RA_UY_slice_0098.jpg / RA_UY_GTmask_0098.jpg\n",
      "46 - RE_KO_slice_0080.jpg / RE_KO_GTmask_0080.jpg\n",
      "47 - RE_KO_slice_0085.jpg / RE_KO_GTmask_0085.jpg\n",
      "48 - RE_KO_slice_0092.jpg / RE_KO_GTmask_0092.jpg\n",
      "49 - RE_KO_slice_0097.jpg / RE_KO_GTmask_0097.jpg\n",
      "50 - RE_UZ_slice_0076.jpg / RE_UZ_GTmask_0076.jpg\n",
      "51 - RE_UZ_slice_0081.jpg / RE_UZ_GTmask_0081.jpg\n",
      "52 - RE_UZ_slice_0087.jpg / RE_UZ_GTmask_0087.jpg\n",
      "53 - RE_UZ_slice_0093.jpg / RE_UZ_GTmask_0093.jpg\n",
      "54 - SE_AK_slice_0078.jpg / SE_AK_GTmask_0078.jpg\n",
      "55 - SE_AK_slice_0083.jpg / SE_AK_GTmask_0083.jpg\n",
      "56 - SE_AK_slice_0088.jpg / SE_AK_GTmask_0088.jpg\n",
      "57 - SE_AK_slice_0093.jpg / SE_AK_GTmask_0093.jpg\n",
      "58 - SU_ME_slice_0098.jpg / SU_ME_GTmask_0098.jpg\n",
      "59 - SU_ME_slice_0103.jpg / SU_ME_GTmask_0103.jpg\n",
      "60 - UM_ER_slice_0075.jpg / UM_ER_GTmask_0075.jpg\n",
      "61 - UM_ER_slice_0080.jpg / UM_ER_GTmask_0080.jpg\n",
      "62 - UM_ER_slice_0096.jpg / UM_ER_GTmask_0096.jpg\n",
      "63 - UM_ER_slice_0101.jpg / UM_ER_GTmask_0101.jpg\n",
      "D:\\datasets\\ms\\MSAkdeniz_SpinalCord\\MSAkdeniz_SC\\test\\via_region_data.json json ok\n",
      "True\n"
     ]
    }
   ],
   "source": [
    "import vggJsonFx as v\n",
    "\n",
    "maskLabel=\"SC\"\n",
    "rootPath=\"D:\\\\datasets\\\\ms\\\\MSAkdeniz_SpinalCord\\\\MSAkdeniz_SC\\\\\"\n",
    "\n",
    "maskSource = rootPath+\"trainMask\\\\\"\n",
    "sourcePath = rootPath+\"train\\\\\"\n",
    "imgPatch   =\"slice\"\n",
    "maskPatch  =\"GTmask\"\n",
    "\n",
    "s=v.img2jsonAnnEx(sourcePath,imgPatch,maskSource,maskPatch,maskLabel)\n",
    "print(s)\n",
    "\n",
    "\n",
    "maskSource = rootPath+\"testMask\\\\\"\n",
    "sourcePath = rootPath+\"test\\\\\"\n",
    "imgPatch   =\"slice\"\n",
    "maskPatch  =\"GTmask\"\n",
    "\n",
    "\n",
    "s=v.img2jsonAnnEx(sourcePath,imgPatch,maskSource,maskPatch,maskLabel)\n",
    "print(s)"
   ]
  },
  {
   "cell_type": "code",
   "execution_count": 7,
   "metadata": {},
   "outputs": [
    {
     "data": {
      "text/plain": [
       "True"
      ]
     },
     "execution_count": 7,
     "metadata": {},
     "output_type": "execute_result"
    }
   ],
   "source": []
  },
  {
   "cell_type": "code",
   "execution_count": null,
   "metadata": {},
   "outputs": [],
   "source": [
    "\n",
    "\n",
    "\n",
    "import cv2\n",
    "import numpy as np\n",
    "\n",
    "\n",
    "# load resized image as grayscale\n",
    "sourcePath = \"D:\\\\datasets\\\\stroke\\\\atlas\\\\atlasPNG\\\\ATLAS_sub-r001s001_slice_0072.jpg\"\n",
    "img = cv2.imread(sourcePath) # vertical image\n",
    "h, w = img.shape\n",
    "print(h,w)\n",
    "\n",
    "# load background image as grayscale\n",
    "back=\n",
    "back = cv2.imread('background.png', cv2.IMREAD_GRAYSCALE)\n",
    "hh, ww = back.shape\n",
    "print(hh,ww)\n",
    "\n",
    "# compute xoff and yoff for placement of upper left corner of resized image   \n",
    "yoff = round((hh-h)/2)\n",
    "xoff = round((ww-w)/2)\n",
    "print(yoff,xoff)\n",
    "\n",
    "# use numpy indexing to place the resized image in the center of background image\n",
    "result = back.copy()\n",
    "result[yoff:yoff+h, xoff:xoff+w] = img"
   ]
  }
 ],
 "metadata": {
  "kernelspec": {
   "display_name": "Python 3.7 (tensorflow)",
   "language": "python",
   "name": "tensorflow"
  },
  "language_info": {
   "codemirror_mode": {
    "name": "ipython",
    "version": 3
   },
   "file_extension": ".py",
   "mimetype": "text/x-python",
   "name": "python",
   "nbconvert_exporter": "python",
   "pygments_lexer": "ipython3",
   "version": "3.7.9"
  }
 },
 "nbformat": 4,
 "nbformat_minor": 4
}
