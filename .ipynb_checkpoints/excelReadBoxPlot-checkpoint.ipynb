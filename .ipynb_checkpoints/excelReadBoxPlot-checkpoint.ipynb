{
 "cells": [
  {
   "cell_type": "code",
   "execution_count": null,
   "metadata": {},
   "outputs": [],
   "source": [
    "%matplotlib inline\n",
    "import pandas as pd\n",
    "import matplotlib as mp\n",
    "import matplotlib.pyplot as plt\n",
    "import seaborn as sns\n",
    "sns.set_theme(style=\"whitegrid\")\n",
    "#from openpyxl import Workbook\n",
    "\n",
    "excel_file=\"Kitap1.xlsx\"\n",
    "#workbook = Workbook(excel_file)\n",
    "\n",
    "#                dc       ltpr\n",
    "#eHealth Mask  84,90     73,75\n",
    "#UMCL    Mask  81,86     70,88\n",
    "#eHealth Unet  78,76      ----  66....\n",
    "#UMCL    Unet  72,21     64,56\n"
   ]
  },
  {
   "cell_type": "code",
   "execution_count": null,
   "metadata": {},
   "outputs": [],
   "source": []
  },
  {
   "cell_type": "code",
   "execution_count": null,
   "metadata": {
    "scrolled": false
   },
   "outputs": [],
   "source": [
    "pages = pd.read_excel(excel_file,\"eHealth\")\n",
    "df1=pages[pages['Type'].isin(['Mask R-CNN','U-NET'])]\n",
    "\n",
    "f = sns.catplot(y='Score', x='Type', \n",
    "                 data=df1, \n",
    "                 palette=\"Set2\",\n",
    "                 hue=' ', kind=\"box\",linewidth=2.5,height=6)\n",
    "f.set( xlabel=\"\",ylabel=\"\")\n",
    "plt.rcParams.update({'font.weight': 'bold'})\n",
    "plt.title('Experiments on eHealth Dataset', fontsize= 15,weight='bold')\n",
    "plt.show(f)\n",
    "f.savefig(\"eHealthN.png\")"
   ]
  },
  {
   "cell_type": "code",
   "execution_count": null,
   "metadata": {
    "scrolled": false
   },
   "outputs": [],
   "source": [
    "pages = pd.read_excel(excel_file,\"UMCL\")\n",
    "df1=pages[pages['Type'].isin(['Mask R-CNN','U-NET'])]\n",
    "\n",
    "f = sns.catplot(y='Score', x='Type', \n",
    "                 data=df1, \n",
    "                 palette=\"Set2\",\n",
    "                 hue=' ', kind=\"box\",linewidth=2.5,height=6)\n",
    "f.set( xlabel=\"\",ylabel=\"\")\n",
    "plt.rcParams.update({'font.weight': 'bold'})\n",
    "plt.title('Experiments on UMCL Dataset', fontsize= 15,weight='bold')\n",
    "plt.show(f)\n",
    "f.savefig(\"UMCLN.png\")"
   ]
  },
  {
   "cell_type": "code",
   "execution_count": null,
   "metadata": {},
   "outputs": [],
   "source": [
    "pages = pd.read_excel(excel_file,\"eh-dice\")\n",
    "plt.title('Experiments on eHealth Dataset')\n",
    "ax = sns.boxplot(data=pages).set(ylabel=\"DC\")\n",
    "\n",
    "f.savefig(\"a.jpeg\")"
   ]
  },
  {
   "cell_type": "code",
   "execution_count": null,
   "metadata": {},
   "outputs": [],
   "source": [
    "pages = pd.read_excel(excel_file,\"diceEH\")\n",
    "plt.title('Experiments on eHealth Dataset')\n",
    "ax = sns.boxplot(data=pages).set(ylabel=\"DC\")\n"
   ]
  },
  {
   "cell_type": "code",
   "execution_count": null,
   "metadata": {},
   "outputs": [],
   "source": [
    "pages = pd.read_excel(excel_file,\"eh-ltpr\")\n",
    "plt.title('Experiments on eHealth Dataset')\n",
    "ax = sns.boxplot(data=pages).set(ylabel=\"LTPR\")"
   ]
  },
  {
   "cell_type": "code",
   "execution_count": null,
   "metadata": {},
   "outputs": [],
   "source": [
    "pages = pd.read_excel(excel_file,\"um-dice\")\n",
    "plt.title('Experiments on UMCL Dataset')\n",
    "ax = sns.boxplot(data=pages).set(ylabel=\"DC\")"
   ]
  },
  {
   "cell_type": "code",
   "execution_count": null,
   "metadata": {},
   "outputs": [],
   "source": [
    "pages = pd.read_excel(excel_file,\"um-ltpr\")\n",
    "plt.title('Experiments on UMCL Dataset')\n",
    "ax = sns.boxplot(data=pages).set(ylabel=\"LTPR\")\n",
    "\n"
   ]
  },
  {
   "cell_type": "code",
   "execution_count": null,
   "metadata": {},
   "outputs": [],
   "source": [
    "pages = pd.read_excel(excel_file,\"eh-dice\")\n",
    "plt.title('Experiments on eHealth Dataset')\n",
    "ax = sns.boxplot(data=pages).set(ylabel=\"DC\")"
   ]
  },
  {
   "cell_type": "code",
   "execution_count": null,
   "metadata": {},
   "outputs": [],
   "source": [
    "pages = pd.read_excel(excel_file,\"all\")\n",
    "plt.title('Experiments on Datasets')\n",
    "print(pages.head(3))\n",
    "df1=pages[pages['type'].isin(['Mask R-CNN','U-Net'])]\n",
    "df1.head(n=3)\n",
    "ax = sns.boxplot(y='DC', x='Datasets', \n",
    "                 data=df1, \n",
    "                 palette=\"Set3\",\n",
    "                 hue='type',\n",
    "                 )"
   ]
  },
  {
   "cell_type": "code",
   "execution_count": null,
   "metadata": {},
   "outputs": [],
   "source": [
    "pages = pd.read_excel(excel_file,\"all\")\n",
    "plt.title('Experiments on Datasets')\n",
    "print(pages.head(3))\n",
    "df1=pages[pages['type'].isin(['Mask R-CNN','U-Net'])]\n",
    "df1.head(n=3)\n",
    "ax = sns.boxplot(y='LTPR', x='Datasets', \n",
    "                 data=df1, \n",
    "                 palette=\"Set3\",\n",
    "                 hue='type')"
   ]
  },
  {
   "cell_type": "code",
   "execution_count": null,
   "metadata": {
    "scrolled": false
   },
   "outputs": [],
   "source": [
    "pages = pd.read_excel(excel_file,\"allOrj\")\n",
    "plt.title('Experiments on Datasets')\n",
    "plt.rcParams[\"figure.figsize\"]=(5,5)\n",
    "#print(pages.head(3))\n",
    "df1=pages[pages['type'].isin(['Mask R-CNN','U-Net'])]\n",
    "#df1.head(n=3)\n",
    "ax = sns.boxplot(y='DC', x='Datasets', \n",
    "                 data=df1, \n",
    "                 palette=\"Set3\",\n",
    "                 hue='type',\n",
    "                 )"
   ]
  },
  {
   "cell_type": "code",
   "execution_count": null,
   "metadata": {},
   "outputs": [],
   "source": [
    "pages = pd.read_excel(excel_file,\"allOrj\")\n",
    "plt.title('Experiments on Datasets')\n",
    "plt.rcParams[\"figure.figsize\"]=(5,5)\n",
    "#print(pages.head(3))\n",
    "df1=pages[pages['type'].isin(['Mask R-CNN','U-Net'])]\n",
    "#df1.head(n=3)\n",
    "ax = sns.boxplot(y='LTPR', x='Datasets', \n",
    "                 data=df1, \n",
    "                 palette=\"Set3\",\n",
    "                 hue='type')"
   ]
  },
  {
   "cell_type": "code",
   "execution_count": null,
   "metadata": {
    "scrolled": false
   },
   "outputs": [],
   "source": [
    "pages = pd.read_excel(excel_file,\"allOrj\")\n",
    "#plt.title('Experiments on Datasets')\n",
    "#plt.rcParams[\"figure.figsize\"]=(5,5)\n",
    "#print(pages.head(3))\n",
    "df1=pages[pages[' '].isin(['Mask R-CNN','U-Net'])]\n",
    "#df1.head(n=3)\n",
    "f = sns.catplot(y='LTPR', x='Datasets', \n",
    "                 data=df1, \n",
    "                 palette=\"Set2\",\n",
    "                 hue=' ', kind=\"box\",linewidth=2.5,height=7)\n",
    "f.fig.suptitle('Experiments on Datasets', fontsize= 15)\n",
    "f.savefig(\"LTPR.jpg\")"
   ]
  },
  {
   "cell_type": "code",
   "execution_count": null,
   "metadata": {},
   "outputs": [],
   "source": [
    "#                dc       ltpr\n",
    "#eHealth Mask  84,90     73,75\n",
    "#UMCL    Mask  81,86     70,88\n",
    "#eHealth Unet  78,76      ----  66.... 70,85\n",
    "#UMCL    Unet  72,21     64,56"
   ]
  },
  {
   "cell_type": "code",
   "execution_count": null,
   "metadata": {
    "scrolled": false
   },
   "outputs": [],
   "source": [
    "pages = pd.read_excel(excel_file,\"allOrj\")\n",
    "df1=pages[pages[' '].isin(['Mask R-CNN','U-Net'])]\n",
    "\n",
    "f = sns.catplot(y='DC', x='Datasets', \n",
    "                 data=df1, \n",
    "                 palette=\"Set2\",\n",
    "                 hue=' ', kind=\"box\",linewidth=2.5,height=7)\n",
    "f.fig.suptitle('Experiments on Datasets', fontsize= 15)\n",
    "f.savefig(\"a.jpeg\")"
   ]
  },
  {
   "cell_type": "code",
   "execution_count": null,
   "metadata": {},
   "outputs": [],
   "source": [
    "pages = pd.read_excel(excel_file,\"allOrj\")\n",
    "df1=pages[pages[' '].isin(['Mask R-CNN','U-Net'])]\n",
    "\n",
    "f = sns.catplot(y='DC', x=' ', \n",
    "                 data=df1, \n",
    "                 palette=\"Set2\",\n",
    "                 hue='Datasets', kind=\"box\",linewidth=2.5,height=6)\n",
    "f.fig.suptitle('Experiments on Datasets', fontsize= 15)\n",
    "f.savefig(\"a.jpeg\")"
   ]
  },
  {
   "cell_type": "code",
   "execution_count": null,
   "metadata": {},
   "outputs": [],
   "source": [
    "#pages = pd.read_excel(excel_file,\"allOrjX\")\n",
    "#df1=pages[pages['Datasets'].isin(['eHealth'])]\n",
    "#f = sns.catplot(y='Score', x='Type', \n",
    "#                 data=df1, \n",
    "#                 palette=\"Set2\",\n",
    "#                 hue=' ', kind=\"box\",linewidth=2.5,height=6)\n",
    "#f.set( xlabel=\"\",ylabel=\"\")\n",
    "#plt.rcParams.update({'font.weight': 'bold'})\n",
    "#plt.title('Experiments on eHealth Dataset', fontsize= 15,weight='bold')\n",
    "#plt.show(f)\n"
   ]
  },
  {
   "cell_type": "code",
   "execution_count": null,
   "metadata": {},
   "outputs": [],
   "source": [
    "%matplotlib inline\n",
    "import pandas as pd\n",
    "import matplotlib as mp\n",
    "import matplotlib.pyplot as plt\n",
    "import seaborn as sns\n",
    "sns.set_theme(style=\"whitegrid\")\n",
    "#from openpyxl import Workbook\n",
    "\n",
    "excel_file=\"kitap2.xlsx\"\n",
    "#workbook = Workbook(excel_file)\n",
    "\n",
    "#                dc       ltpr\n",
    "#eHealth Mask  84,90     73,75\n",
    "#UMCL    Mask  81,86     70,88\n",
    "#eHealth Unet  78,76      ----  66....\n",
    "#UMCL    Unet  72,21     64,56\n"
   ]
  },
  {
   "cell_type": "code",
   "execution_count": null,
   "metadata": {},
   "outputs": [],
   "source": [
    "pages = pd.read_excel(excel_file,\"unetDCTest\")\n",
    "df1=pages[pages['Type'].isin(['UneT'])]\n",
    "\n",
    "f = sns.catplot(y='Score', x='Type', \n",
    "                 data=df1, \n",
    "                 palette=\"Set2\",\n",
    "                 kind=\"box\",linewidth=2.5,height=6)\n",
    "f.set( xlabel=\"\",ylabel=\"\")\n",
    "plt.rcParams.update({'font.weight': 'bold'})\n",
    "plt.title('Experiments on eHealth Dataset', fontsize= 15,weight='bold')\n",
    "plt.show(f)\n",
    "f.savefig(\"eHealthN.png\")"
   ]
  },
  {
   "cell_type": "code",
   "execution_count": null,
   "metadata": {},
   "outputs": [],
   "source": []
  }
 ],
 "metadata": {
  "kernelspec": {
   "display_name": "Python 3",
   "language": "python",
   "name": "python3"
  },
  "language_info": {
   "codemirror_mode": {
    "name": "ipython",
    "version": 3
   },
   "file_extension": ".py",
   "mimetype": "text/x-python",
   "name": "python",
   "nbconvert_exporter": "python",
   "pygments_lexer": "ipython3",
   "version": "3.7.9"
  }
 },
 "nbformat": 4,
 "nbformat_minor": 4
}
