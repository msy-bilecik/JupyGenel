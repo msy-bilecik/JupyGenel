{
 "cells": [
  {
   "cell_type": "code",
   "execution_count": null,
   "metadata": {},
   "outputs": [],
   "source": [
    "\"\"\"\n",
    "*.mhd \n",
    "\"\"\"\n",
    "\n",
    "\n",
    "\n",
    "import SimpleITK as sitk\n",
    "import matplotlib.image as img\n",
    "from matplotlib import cm\n",
    "from glob import glob\n",
    "import os\n",
    "\n",
    "basePath=\"D:\\\\datasets\\\\lung\\\\vessel(kaggle version)\\\\masks\\\\\"\n",
    "targetPath=\"D:\\\\datasets\\\\lung\\\\vessel(kaggle version)\\\\export\\\\masks\\\\\"\n",
    "\n",
    "tag=\"mask\"\n",
    "# print(basePath)\n",
    "if not os.path.exists(targetPath):\n",
    "    os.mkdir(targetPath)\n",
    "\n",
    "all_MHDfile=sorted(glob(os.path.join(basePath,'*.mhd')))\n",
    "\n",
    "for item in all_MHDfile:\n",
    "    print(item)\n",
    "    ct_scans = sitk.GetArrayFromImage(sitk.ReadImage(item, sitk.sitkInt16))\n",
    "    base= os.path.splitext(os.path.basename(item))[0]\n",
    "    saveFolder=\"{path}{base}{folder}\".format(path=targetPath,folder=\"_IMG\",base=base)\n",
    "    if not os.path.exists(saveFolder):\n",
    "        os.mkdir(saveFolder)\n",
    "    \n",
    "    for i in range(ct_scans.shape[0]):\n",
    "        savePath=\"{saveFolder}\\\\{base}_{tag}_{num:04}.jpg\".format(saveFolder=saveFolder,base=base,tag=tag,num=i)\n",
    "        print(savePath)\n",
    "        img.imsave(savePath,ct_scans[i],cmap = cm.gray)"
   ]
  },
  {
   "cell_type": "code",
   "execution_count": null,
   "metadata": {},
   "outputs": [],
   "source": [
    "import SimpleITK as sitk\n",
    "import matplotlib.image as img\n",
    "from matplotlib import cm\n",
    "from glob import glob\n",
    "import os\n",
    "\n",
    "basePath=\"D:\\\\datasets\\\\ms\\\\miccai2008v\\\\lession\\\\\"\n",
    "targetPath=\"D:\\\\datasets\\\\ms\\\\miccai2008v\\\\lession\\\\export\\\\\"\n",
    "\n",
    "tag=\"GTmask\"\n",
    "# print(basePath)\n",
    "if not os.path.exists(targetPath):\n",
    "    os.mkdir(targetPath)\n",
    "\n",
    "all_MHDfile=sorted(glob(os.path.join(basePath,'*.nhdr')))\n",
    "\n",
    "for item in all_MHDfile:\n",
    "    print(item)\n",
    "    ct_scans = sitk.GetArrayFromImage(sitk.ReadImage(item, sitk.sitkInt16))\n",
    "    base= os.path.splitext(os.path.basename(item))[0]\n",
    "    saveFolder=\"{path}{base}{folder}\".format(path=targetPath,folder=\"_IMG\",base=base)\n",
    "    if not os.path.exists(saveFolder):\n",
    "        os.mkdir(saveFolder)\n",
    "    \n",
    "    for i in range(ct_scans.shape[0]):\n",
    "        savePath=\"{saveFolder}\\\\{base}_{tag}_{num:04}.jpg\".format(saveFolder=saveFolder,base=base,tag=tag,num=i)\n",
    "        print(savePath)\n",
    "        img.imsave(savePath,ct_scans[i],cmap = cm.gray)"
   ]
  },
  {
   "cell_type": "code",
   "execution_count": null,
   "metadata": {},
   "outputs": [],
   "source": [
    "from PIL import Image\n",
    "\n",
    "basePath=\"D:\\\\datasets\\\\ms\\\\miccai2008v\\\\train\\\\CHB_train_Case01\"\n",
    "targetPath=\"D:\\\\datasets\\\\ms\\\\miccai2008v\\\\train\\\\EXPORT\"\n",
    "\n",
    "rawData = open(basePath+\"\\\\CHB_train_Case01_FLAIR.raw\", 'rb').read()\n",
    "\n",
    "imgSize = (512,512,512)# the image size\n",
    "img = Image.frombytes('L', imgSize, rawData)\n",
    "img.save(\"foo.jpg\")# can give any format you like .png"
   ]
  },
  {
   "cell_type": "code",
   "execution_count": null,
   "metadata": {},
   "outputs": [],
   "source": [
    "rawData.shape"
   ]
  },
  {
   "cell_type": "code",
   "execution_count": null,
   "metadata": {},
   "outputs": [],
   "source": []
  },
  {
   "cell_type": "code",
   "execution_count": null,
   "metadata": {},
   "outputs": [],
   "source": []
  }
 ],
 "metadata": {
  "kernelspec": {
   "display_name": "gputest",
   "language": "python",
   "name": "gputest"
  },
  "language_info": {
   "codemirror_mode": {
    "name": "ipython",
    "version": 3
   },
   "file_extension": ".py",
   "mimetype": "text/x-python",
   "name": "python",
   "nbconvert_exporter": "python",
   "pygments_lexer": "ipython3",
   "version": "3.7.9"
  }
 },
 "nbformat": 4,
 "nbformat_minor": 4
}
