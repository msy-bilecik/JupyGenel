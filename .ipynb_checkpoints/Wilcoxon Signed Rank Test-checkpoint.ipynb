{
 "cells": [
  {
   "cell_type": "markdown",
   "metadata": {},
   "source": [
    "# Wilcoxon Signed Rank Test\n"
   ]
  },
  {
   "cell_type": "code",
   "execution_count": null,
   "metadata": {},
   "outputs": [],
   "source": [
    "#!pip install pandas\n",
    "import pandas as pd\n",
    "from researchpy import ttest\n",
    "from pingouin import wilcoxon as pgWilc\n",
    "from scipy.stats import wilcoxon,mannwhitneyu\n",
    "\n",
    "from IPython.display import Markdown, display\n"
   ]
  },
  {
   "cell_type": "code",
   "execution_count": null,
   "metadata": {
    "scrolled": false
   },
   "outputs": [],
   "source": [
    "\n",
    "myDf = pd.read_excel('wilc.xls',sheet_name='sliver07')  \n",
    "# display(myDf.head())\n",
    "\n",
    "t1='DC'\n",
    "t2='OurDC'\n",
    "newDf = myDf[[t1, t2]].dropna()\n",
    "\n",
    "display(Markdown(\"<h2>sliver07 DC</h2>\"))\n",
    "#display(wilcoxon(newDf[t1], newDf[t2], correction=False))\n",
    "#display(wilcoxon(newDf[t1], newDf[t2], correction=True))\n",
    "#display(wilcoxon(newDf[t1], newDf[t2], zero_method='pratt'))\n",
    "display(ttest(newDf[t1], newDf[t2],equal_variances=False, paired=True))\n",
    "display(pgWilc(newDf[t1], newDf[t2]))\n",
    "display(newDf)\n",
    "display(mannwhitneyu(newDf[t1], newDf[t2]))\n",
    "\n",
    "myDf = pd.read_excel('wilc.xls',sheet_name='3dircab')  \n",
    "#display(myDf)\n",
    "newDf = myDf[[t1, t2]].dropna()\n",
    "display(Markdown(\"<h2>3dircab07 DC</h2>\"))\n",
    "#display(wilcoxon(newDf[t1], newDf[t2], correction=False))\n",
    "#display(wilcoxon(newDf[t1], newDf[t2], correction=True))\n",
    "#display(wilcoxon(newDf[t1], newDf[t2], zero_method='pratt'))\n",
    "display(ttest(newDf[t1], newDf[t2],equal_variances=False, paired=True))\n",
    "display(pgWilc(newDf[t1], newDf[t2]))\n",
    "#display(newDf)\n",
    "\n",
    "display(mannwhitneyu(newDf[t1], newDf[t2]))"
   ]
  },
  {
   "cell_type": "code",
   "execution_count": null,
   "metadata": {},
   "outputs": [],
   "source": []
  },
  {
   "cell_type": "code",
   "execution_count": null,
   "metadata": {},
   "outputs": [],
   "source": [
    "#!pip install pandas\n",
    "import pandas as pd\n",
    "from researchpy import ttest\n",
    "from pingouin import wilcoxon as pgWilc\n",
    "from scipy.stats import wilcoxon\n",
    "\n",
    "from IPython.display import Markdown, display\n",
    "\n",
    "myDf = pd.read_excel('wilc.xls',sheet_name='sliver07')  \n",
    "display(myDf)"
   ]
  },
  {
   "cell_type": "markdown",
   "metadata": {},
   "source": [
    "# Sliver07"
   ]
  },
  {
   "cell_type": "code",
   "execution_count": null,
   "metadata": {},
   "outputs": [],
   "source": [
    "t1='VOE'\n",
    "t2='OurVOE'\n",
    "newDf = myDf[[t1, t2]].dropna()\n",
    "\n",
    "display(Markdown(\"<h2>sliver07 voe</h2>\"))\n",
    "display(wilcoxon(newDf[t1], newDf[t2], correction=False))\n",
    "display(wilcoxon(newDf[t1], newDf[t2], correction=True))\n",
    "display(wilcoxon(newDf[t1], newDf[t2], zero_method='pratt'))\n",
    "display(ttest(newDf[t1], newDf[t2], equal_variances=False, paired=True))\n",
    "display(pgWilc(newDf[t1], newDf[t2]))\n",
    "display(newDf)\n"
   ]
  },
  {
   "cell_type": "code",
   "execution_count": null,
   "metadata": {},
   "outputs": [],
   "source": [
    "t1='DC'\n",
    "t2='OurDC'\n",
    "newDf = myDf[[t1, t2]].dropna()\n",
    "\n",
    "display(Markdown(\"<h2>sliver07 DC</h2>\"))\n",
    "display(wilcoxon(newDf[t1], newDf[t2], correction=False))\n",
    "display(wilcoxon(newDf[t1], newDf[t2], correction=True))\n",
    "display(wilcoxon(newDf[t1], newDf[t2], zero_method='pratt'))\n",
    "display(ttest(newDf[t1], newDf[t2],equal_variances=False, paired=True))\n",
    "display(pgWilc(newDf[t1], newDf[t2]))\n",
    "display(newDf)"
   ]
  },
  {
   "cell_type": "markdown",
   "metadata": {},
   "source": [
    "# 3dırcab"
   ]
  },
  {
   "cell_type": "code",
   "execution_count": null,
   "metadata": {},
   "outputs": [],
   "source": [
    "myDf = pd.read_excel('wilc.xls',sheet_name='3dircab')  \n",
    "display(myDf)"
   ]
  },
  {
   "cell_type": "code",
   "execution_count": null,
   "metadata": {},
   "outputs": [],
   "source": [
    "t1='VOE'\n",
    "t2='OurVOE'\n",
    "newDf = myDf[[t1, t2]].dropna()\n",
    "\n",
    "display(Markdown(\"<h2>3dircab voe</h2>\"))\n",
    "display(wilcoxon(newDf[t1], newDf[t2], correction=False))\n",
    "display(wilcoxon(newDf[t1], newDf[t2], correction=True))\n",
    "display(wilcoxon(newDf[t1], newDf[t2], zero_method='pratt'))\n",
    "display(ttest(newDf[t1], newDf[t2], equal_variances=False, paired=True))\n",
    "display(pgWilc(newDf[t1], newDf[t2]))\n"
   ]
  },
  {
   "cell_type": "code",
   "execution_count": null,
   "metadata": {},
   "outputs": [],
   "source": [
    "t1='DC'\n",
    "t2='OurDC'\n",
    "newDf = myDf[[t1, t2]].dropna()\n",
    "\n",
    "display(Markdown(\"<h2>3dircab DC</h2>\"))\n",
    "display(wilcoxon(newDf[t1], newDf[t2], correction=False))\n",
    "display(wilcoxon(newDf[t1], newDf[t2], correction=True))\n",
    "display(wilcoxon(newDf[t1], newDf[t2], zero_method='pratt'))\n",
    "display(ttest(newDf[t1], newDf[t2],equal_variances=False, paired=True))\n",
    "display(pgWilc(newDf[t1], newDf[t2]))\n",
    "\n",
    "display(newDf)"
   ]
  },
  {
   "cell_type": "markdown",
   "metadata": {},
   "source": [
    "# hepsi"
   ]
  },
  {
   "cell_type": "code",
   "execution_count": null,
   "metadata": {},
   "outputs": [],
   "source": [
    "myDf = pd.read_excel('wilc.xls',sheet_name='hepsii')  \n",
    "display(myDf)"
   ]
  },
  {
   "cell_type": "code",
   "execution_count": null,
   "metadata": {},
   "outputs": [],
   "source": [
    "t1='VOE'\n",
    "t2='OurVOE'\n",
    "newDf = myDf[[t1, t2]].dropna()\n",
    "\n",
    "display(Markdown(\"<h2>genel voe</h2>\"))\n",
    "display(wilcoxon(newDf[t1], newDf[t2], correction=False))\n",
    "display(wilcoxon(newDf[t1], newDf[t2], correction=True))\n",
    "display(wilcoxon(newDf[t1], newDf[t2], zero_method='pratt'))\n",
    "display(ttest(newDf[t1], newDf[t2], equal_variances=False, paired=True))\n",
    "display(pgWilc(newDf[t1], newDf[t2]))\n",
    "display(newDf)"
   ]
  },
  {
   "cell_type": "code",
   "execution_count": null,
   "metadata": {},
   "outputs": [],
   "source": [
    "t1='DC'\n",
    "t2='OurDC'\n",
    "newDf = myDf[[t1, t2]].dropna()\n",
    "\n",
    "display(Markdown(\"<h2>genel DC</h2>\"))\n",
    "display(wilcoxon(newDf[t1], newDf[t2], correction=False))\n",
    "display(wilcoxon(newDf[t1], newDf[t2], correction=True))\n",
    "display(wilcoxon(newDf[t1], newDf[t2], zero_method='pratt'))\n",
    "display(ttest(newDf[t1], newDf[t2],equal_variances=False, paired=True))\n",
    "display(pgWilc(newDf[t1], newDf[t2]))\n",
    "\n",
    "display(newDf)"
   ]
  },
  {
   "cell_type": "code",
   "execution_count": null,
   "metadata": {},
   "outputs": [],
   "source": []
  },
  {
   "cell_type": "code",
   "execution_count": null,
   "metadata": {},
   "outputs": [],
   "source": []
  }
 ],
 "metadata": {
  "kernelspec": {
   "display_name": "Python 3.7 (tensorflow)",
   "language": "python",
   "name": "tensorflow"
  },
  "language_info": {
   "codemirror_mode": {
    "name": "ipython",
    "version": 3
   },
   "file_extension": ".py",
   "mimetype": "text/x-python",
   "name": "python",
   "nbconvert_exporter": "python",
   "pygments_lexer": "ipython3",
   "version": "3.7.9"
  }
 },
 "nbformat": 4,
 "nbformat_minor": 2
}
