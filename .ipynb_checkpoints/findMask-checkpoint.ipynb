{
 "cells": [
  {
   "cell_type": "code",
   "execution_count": null,
   "metadata": {},
   "outputs": [],
   "source": [
    "import matplotlib.image as img\n",
    "import os\n",
    "import glob\n",
    "import cv2\n",
    "\n",
    "root_dir = 'D:\\\\datasets\\\\ms\\\\isbi\\\\isbi200\\\\test\\\\'\n",
    "mask_root_dir = 'D:\\\\datasets\\\\ms\\\\isbi\\\\isbiPNG\\\\maskPNG\\\\'\n",
    "mask_target_dir='D:\\\\datasets\\\\ms\\\\isbi\\\\isbi200\\\\testMask\\\\'\n",
    "\n",
    "all_images=sorted(glob.glob(os.path.join(root_dir,'*.jpg')))\n",
    "# display(all_images)\n",
    "for item in all_images:\n",
    "    print(\"\\n\",item)\n",
    "    fname=os.path.basename(item)\n",
    "    maskFname=fname.replace(\"slice\",\"GTmask\")\n",
    "    readMask=mask_root_dir+maskFname\n",
    "    print(\"readMask:\",readMask)\n",
    "    mask=cv2.imread(readMask)\n",
    "#     display(mask)\n",
    "    writeMask=mask_target_dir+maskFname\n",
    "    print(\"wMask:\",writeMask)\n",
    "    img.imsave(writeMask, mask)"
   ]
  },
  {
   "cell_type": "code",
   "execution_count": null,
   "metadata": {},
   "outputs": [],
   "source": [
    "import os\n",
    "import glob\n",
    "import cv2\n",
    "\n",
    "\n",
    "root_dir = 'D:\\\\datasets\\\\ms\\\\isbi\\\\isbiPNG\\\\train'\n",
    "mask_root_dir = 'D:\\\\datasets\\\\ms\\\\isbi\\\\isbiPNG\\\\maskPNG'\n",
    "mask_target_dir='D:\\\\datasets\\\\ms\\\\isbi\\\\isbiPNG\\\\trainMask'\n",
    "\n",
    "all_images=sorted(glob.glob(os.path.join(root_dir,'*.jpg')))\n",
    "# display(all_images)\n",
    "for item in all_images:\n",
    "    print(item)\n",
    "    fname=os.path.basename(item)\n",
    "    maskFname=fname.replace(\"slice\",\"mask\")\n",
    "    readMask=mask_root_dir+maskFname\n",
    "    print(\"readMask:\",readMask)\n",
    "    mask=cv2.imread(readMask)\n",
    "    writeMask=mask_target_dir+maskFname\n",
    "    print(\"wMask:\",writeMask)\n",
    "    cv2.imwrite(writeMask, mask)\n"
   ]
  },
  {
   "cell_type": "code",
   "execution_count": null,
   "metadata": {},
   "outputs": [],
   "source": []
  }
 ],
 "metadata": {
  "kernelspec": {
   "display_name": "Python 3.7 (tensorflow)",
   "language": "python",
   "name": "tensorflow"
  },
  "language_info": {
   "codemirror_mode": {
    "name": "ipython",
    "version": 3
   },
   "file_extension": ".py",
   "mimetype": "text/x-python",
   "name": "python",
   "nbconvert_exporter": "python",
   "pygments_lexer": "ipython3",
   "version": "3.7.9"
  }
 },
 "nbformat": 4,
 "nbformat_minor": 4
}
