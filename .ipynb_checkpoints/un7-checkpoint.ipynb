{
 "cells": [
  {
   "cell_type": "code",
   "execution_count": null,
   "metadata": {},
   "outputs": [],
   "source": [
    "import numpy as np\n",
    "import nibabel as nib\n",
    "import matplotlib\n",
    "import matplotlib.pyplot as plt\n",
    "filepath=\"patient01-05/patient01/patient01_T2W.nii.gz\"\n",
    "img_nifti = nib.load(filepath)\n",
    "img = img_nifti.get_data()\n",
    "print()\n",
    "plt.plot(img[140,:])\n",
    "plt.show()"
   ]
  },
  {
   "cell_type": "code",
   "execution_count": null,
   "metadata": {},
   "outputs": [],
   "source": [
    "import numpy as np\n",
    "import nibabel as nib\n",
    "a = np.sin(np.linspace(0, np.pi, 20))\n",
    "b = np.sin(np.linspace(0, np.pi*5, 20))\n",
    "data = np.outer(a, b)[..., np.newaxis] * a\n",
    "OrthoSlicer3D(data).show() "
   ]
  },
  {
   "cell_type": "code",
   "execution_count": null,
   "metadata": {},
   "outputs": [],
   "source": [
    "import nibabel as nib\n",
    "import numpy as np\n",
    "\n",
    "filepath=\"D:\\\\datasets\\\\3D_WML_MR\\\\patient01-05\\\\patient01\\\\patient01_T2W.nii.gz\"\n",
    "image = nib.load(filepath)\n",
    "\n",
    "# to be extra sure of not overwriting data:\n",
    "new_data = np.copy(image.get_data())\n",
    "hd = image.header\n",
    "\n",
    "# in case you want to remove nan:\n",
    "new_data = np.nan_to_num(new_data)\n",
    "\n",
    "# update data type:\n",
    "new_dtype = np.int8  # for example to cast to int8.\n",
    "new_data = new_data.astype(new_dtype)\n",
    "image.set_data_dtype(new_dtype)\n",
    "\n",
    "# if nifty1\n",
    "if hd['sizeof_hdr'] == 348:\n",
    "    print(1)\n",
    "    new_image = nib.Nifti1Image(new_data, image.affine, header=hd)\n",
    "# if nifty2\n",
    "elif hd['sizeof_hdr'] == 540:\n",
    "    print(2)\n",
    "    new_image = nib.Nifti2Image(new_data, image.affine, header=hd)\n",
    "else:\n",
    "    raise IOError('Input image header problem')\n",
    "\n"
   ]
  },
  {
   "cell_type": "code",
   "execution_count": null,
   "metadata": {},
   "outputs": [],
   "source": [
    "import numpy as np # linear algebra\n",
    "import pandas as pd # data processing, CSV file I/O (e.g. pd.read_csv)\n",
    "import skimage, os\n",
    "from skimage.morphology import ball, disk, dilation, binary_erosion, remove_small_objects, erosion, closing, reconstruction, binary_closing\n",
    "from skimage.measure import label,regionprops, perimeter\n",
    "from skimage.morphology import binary_dilation, binary_opening\n",
    "from skimage.filters import roberts, sobel\n",
    "from skimage import measure, feature\n",
    "from skimage.segmentation import clear_border\n",
    "from skimage import data\n",
    "from scipy import ndimage as ndi\n",
    "import matplotlib.pyplot as plt\n",
    "from mpl_toolkits.mplot3d.art3d import Poly3DCollection\n",
    "import scipy.misc\n",
    "import numpy as np\n",
    "from glob import glob\n",
    "from skimage.io import imread\n",
    "\n"
   ]
  },
  {
   "cell_type": "code",
   "execution_count": null,
   "metadata": {},
   "outputs": [],
   "source": [
    "filepath=\"D:\\\\datasets\\\\3D_WML_MR\\\\\"\n",
    "BASE_IMG_PATH=os.path.join('..',filepath)\n",
    "print(BASE_IMG_PATH)"
   ]
  },
  {
   "cell_type": "code",
   "execution_count": null,
   "metadata": {},
   "outputs": [],
   "source": [
    "glob(os.path.join(BASE_IMG_PATH,'patient01-05','patient01','*T2W*.nii*'))"
   ]
  },
  {
   "cell_type": "code",
   "execution_count": null,
   "metadata": {
    "scrolled": false
   },
   "outputs": [],
   "source": [
    "try:\n",
    "    import nibabel as nib\n",
    "except:\n",
    "    raise ImportError('Install NIBABEL')\n",
    "    \n",
    "from matplotlib import transforms\n",
    "\n",
    "import imageio\n",
    "\n",
    "test_image=nib.load(all_images[0]).get_fdata()\n",
    "print(test_image.shape)\n",
    "test_mask=nib.load(all_masks[0]).get_fdata()\n",
    "fig, (ax1, ax2) = plt.subplots(1,2, figsize = (13, 13))\n",
    "i=250\n",
    "\n",
    "\n",
    "im=test_image[:,:,i]\n",
    "im=np.rot90(im)\n",
    "ax1.imshow(im,cmap='gray')\n",
    "ax1.set_title('Image')\n",
    "imageio.imwrite(\"hh.png\", im)\n",
    "\n",
    "\n",
    "im=test_mask[:,:,i]\n",
    "im=np.rot90(im,1)\n",
    "ax2.imshow(im,cmap='gray')\n",
    "ax2.set_title('Mask')\n",
    "imageio.imwrite(\"maskhh.png\", im)"
   ]
  },
  {
   "cell_type": "code",
   "execution_count": null,
   "metadata": {},
   "outputs": [],
   "source": [
    "from glob import glob\n",
    "from matplotlib import transforms\n",
    "import imageio\n",
    "import skimage, os\n",
    "import matplotlib.pyplot as plt\n",
    "\n",
    "def resizeAllImg(sourcePath,targetPath,witdh,height):\n",
    "    all_images =sorted(glob(os.path.join(sourcePath,'*.png')))\n",
    "    for item in all_images:\n",
    "        sizeX=os.stat(item).st_size\n",
    "        fname=os.path.basename(item)\n",
    "        fnameA=fname.split(\"_\")\n",
    "        img = cv2.imread(item,cv2.COLOR_RGB2GRAY)\n",
    "        res = cv2.resize(img, dsize=(witdh, height), interpolation=cv2.INTER_CUBIC)\n",
    "        plt.imshow(res)\n",
    "        imageio.imwrite(targetPath+\"/\"+fname, res)\n",
    "        print(targetPath+\"/\"+fname+\" saved.\")\n",
    "\n",
    "\n",
    "import cv2\n",
    "sourcePath =\"D:\\\\datasets\\\\3dwmlmr3 secilmis\\\\train2100\"\n",
    "targetPath =\"D:\\\\datasets\\\\3dwmlmr3 secilmis\\\\train\"\n",
    "witdh  =512\n",
    "height =512\n",
    "s=resizeAllImg(sourcePath,targetPath,witdh,height)\n"
   ]
  },
  {
   "cell_type": "code",
   "execution_count": null,
   "metadata": {},
   "outputs": [],
   "source": [
    "\n",
    "\n",
    "\n",
    "img = cv2.imread('maskhh.png')\n",
    "res = cv2.resize(img, dsize=(192, 256), interpolation=cv2.INTER_LANCZOS4)\n",
    "plt.imshow(res)\n",
    "imageio.imwrite(\"maskhh2.png\", res)"
   ]
  },
  {
   "cell_type": "code",
   "execution_count": null,
   "metadata": {
    "scrolled": true
   },
   "outputs": [],
   "source": [
    "from skimage.util import montage \n",
    "fig, ax1 = plt.subplots(1, 1, figsize = (20, 20))\n",
    "ax1.imshow(montage(test_image), cmap ='gray', vmin=0, vmax=255)\n",
    "fig.savefig('ct_scan.png')\n"
   ]
  },
  {
   "cell_type": "code",
   "execution_count": null,
   "metadata": {},
   "outputs": [],
   "source": [
    "from skimage.util import montage \n",
    "fig, ax1 = plt.subplots(1, 1, figsize = (20, 20))\n",
    "ax1.imshow(montage(test_mask), cmap ='bone', vmin=0, vmax=1)\n",
    "fig.savefig('ct_scan_mask.png')\n"
   ]
  },
  {
   "cell_type": "code",
   "execution_count": null,
   "metadata": {},
   "outputs": [],
   "source": [
    "try:\n",
    "    import nibabel as nib\n",
    "except:\n",
    "    raise ImportError('Install NIBABEL')"
   ]
  },
  {
   "cell_type": "code",
   "execution_count": null,
   "metadata": {},
   "outputs": [],
   "source": [
    "proxy_img=nib.load(\"C:\\\\Users\\\\msy\\\\Downloads\\\\someones_epi.nii.gz\")\n",
    "\n",
    "data = proxy_img.get_fdata(caching='fill')\n",
    "data.shape"
   ]
  },
  {
   "cell_type": "code",
   "execution_count": null,
   "metadata": {},
   "outputs": [],
   "source": []
  },
  {
   "cell_type": "code",
   "execution_count": null,
   "metadata": {},
   "outputs": [],
   "source": [
    "import cv2\n",
    "import numpy as np\n",
    "from PIL import Image, ImageCms\n",
    "from skimage import color\n",
    "import matplotlib\n",
    "import matplotlib.pyplot as plt\n",
    "src = cv2.imread(\"D:\\\\doc\\\\workspace\\\\maskT.png\")\n",
    "\n",
    "#print(src)\n",
    "\n",
    "gray=cv2.cvtColor(src,cv2.COLOR_BGR2GRAY)\n",
    "blur = cv2.blur(gray, (3, 3))\n",
    "# binary thresholding of the image\n",
    "ret, thresh = cv2.threshold(blur, 200, 255, cv2.THRESH_BINARY)\n",
    "        # ret, thresh = cv2.threshold(gray, 127, 255,0)\n",
    "\n",
    "        # find contours\n",
    "        # contours, hierarchy = cv2.findContours(thresh,2,1)\n",
    "contours, hierarchy = cv2.findContours(thresh, cv2.RETR_EXTERNAL, cv2.CHAIN_APPROX_NONE)\n",
    "        # cc\n",
    "cnt = sorted(contours, key=cv2.contourArea, reverse=True)\n",
    "        # ROI will be object with biggest contour\n",
    "mask = contours[0]\n",
    "print(cnt)\n",
    "\n",
    "\n"
   ]
  },
  {
   "cell_type": "code",
   "execution_count": null,
   "metadata": {},
   "outputs": [],
   "source": [
    "all_images=glob(os.path.join(BASE_IMG_PATH,'patient01-05','patient01','*FLAIR.nii*'))\n",
    "print(all_images)\n",
    "all_masks =glob(os.path.join(BASE_IMG_PATH,'patient01-05','patient01','*consensus_gt.nii*'))\n",
    "print(all_masks)\n",
    "#consensus_gt.nii\n",
    "print(len(all_images),' matching files found:',all_images[0], all_masks[0])\n",
    "\n",
    "from matplotlib import transforms\n",
    "\n",
    "import imageio\n",
    "\n",
    "test_image=nib.load(all_images[0]).get_fdata()\n",
    "print(test_image.shape)\n",
    "test_mask=nib.load(all_masks[0]).get_fdata()\n",
    "fig, (ax1, ax2, ax3,ax4) = plt.subplots(1,4, figsize = (13,13))\n",
    "\n",
    "i=61\n",
    "im=test_image[i]\n",
    "im=np.rot90(im)\n",
    "ax1.imshow(im,cmap='gray')\n",
    "ax1.set_title('flair')\n",
    "imageio.imwrite(\"patient01_sagittal_s70.png\", im)\n",
    "\n",
    "i=61\n",
    "im=test_mask[i]\n",
    "im=np.rot90(im)\n",
    "ax2.imshow(im,cmap='gray')\n",
    "ax2.set_title('flair')\n",
    "imageio.imwrite(\"patient01_sagittalMask_s70.png\", im)\n",
    "\n",
    "i=270\n",
    "im=test_image[:,i,:]\n",
    "im=np.rot90(im)\n",
    "ax3.imshow(im,cmap='gray')\n",
    "ax3.set_title('coronal')\n",
    "imageio.imwrite(\"patient01_coronal_s250.png\", im)\n",
    "\n",
    "i=340\n",
    "im=test_image[:,:,i]\n",
    "im=np.rot90(im)\n",
    "ax4.imshow(im,cmap='gray')\n",
    "ax4.set_title('axial')\n",
    "imageio.imwrite(\"patient01_axial_s250.png\", im)\n",
    "\n"
   ]
  },
  {
   "cell_type": "code",
   "execution_count": null,
   "metadata": {},
   "outputs": [],
   "source": []
  }
 ],
 "metadata": {
  "kernelspec": {
   "display_name": "Python 3.7 (tensorflow)",
   "language": "python",
   "name": "tensorflow"
  },
  "language_info": {
   "codemirror_mode": {
    "name": "ipython",
    "version": 3
   },
   "file_extension": ".py",
   "mimetype": "text/x-python",
   "name": "python",
   "nbconvert_exporter": "python",
   "pygments_lexer": "ipython3",
   "version": "3.7.9"
  }
 },
 "nbformat": 4,
 "nbformat_minor": 2
}
