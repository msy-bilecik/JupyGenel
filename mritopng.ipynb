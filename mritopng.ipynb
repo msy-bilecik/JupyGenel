{
 "cells": [
  {
   "cell_type": "code",
   "execution_count": 7,
   "metadata": {},
   "outputs": [],
   "source": [
    "import os\n",
    "import png\n",
    "import pydicom as dicom\n",
    "import argparse\n",
    "import numpy as np\n",
    "import cv2\n",
    "\n",
    "def mri_to_png(mri_file, png_file):\n",
    "    \"\"\" Function to convert from a DICOM image to png\n",
    "        @param mri_file: An opened file like object to read te dicom data\n",
    "        @param png_file: An opened file like object to write the png data\n",
    "    \"\"\"\n",
    "\n",
    "    # Extracting data from the mri file\n",
    "    plan = dicom.read_file(mri_file)\n",
    "    shape = plan.pixel_array.shape\n",
    "\n",
    "    image_2d = []\n",
    "    max_val = 0\n",
    "    for row in plan.pixel_array:\n",
    "        pixels = []\n",
    "        for col in row:\n",
    "            pixels.append(col)\n",
    "            if col > max_val: max_val = col\n",
    "        image_2d.append(pixels)\n",
    "\n",
    "    # Rescaling grey scale between 0-255\n",
    "    image_2d_scaled = []\n",
    "    for row in image_2d:\n",
    "        row_scaled = []\n",
    "        for col in row:\n",
    "            col_scaled = int((float(col) / float(max_val)) * 255.0)\n",
    "            row_scaled.append(col_scaled)\n",
    "        image_2d_scaled.append(row_scaled)\n",
    "\n",
    "    # Writing the PNG file\n",
    "    w = png.Writer(shape[1], shape[0], greyscale=True)\n",
    "    display(np.histogram(image_2d_scaled))\n",
    "    w.write(png_file, image_2d_scaled)\n",
    "\n",
    "\n",
    "def convert_file(mri_file_path, png_file_path):\n",
    "    \"\"\" Function to convert an MRI binary file to a\n",
    "        PNG image file.\n",
    "        @param mri_file_path: Full path to the mri file\n",
    "        @param png_file_path: Fill path to the png file\n",
    "    \"\"\"\n",
    "\n",
    "    # Making sure that the mri file exists\n",
    "    if not os.path.exists(mri_file_path):\n",
    "        raise Exception('File \"%s\" does not exists' % mri_file_path)\n",
    "\n",
    "    # Making sure the png file does not exist\n",
    "    if os.path.exists(png_file_path):\n",
    "        raise Exception('File \"%s\" already exists' % png_file_path)\n",
    "\n",
    "    mri_file = open(mri_file_path, 'rb')\n",
    "    png_file = open(png_file_path, 'wb')\n",
    "\n",
    "    mri_to_png(mri_file, png_file)\n",
    "\n",
    "    png_file.close()\n",
    "\n",
    "\n",
    "def convert_folder(mri_folder, png_folder):\n",
    "    \"\"\" Convert all MRI files in a folder to png files\n",
    "        in a destination folder\n",
    "    \"\"\"\n",
    "\n",
    "    # Create the folder for the pnd directory structure\n",
    "    if not os.path.exists(png_folder):\n",
    "        os.makedirs(png_folder)\n",
    "\n",
    "    # Recursively traverse all sub-folders in the path\n",
    "    for mri_sub_folder, subdirs, files in os.walk(mri_folder):\n",
    "        for mri_file in os.listdir(mri_sub_folder):\n",
    "            mri_file_path = os.path.join(mri_sub_folder, mri_file)\n",
    "\n",
    "            # Make sure path is an actual file\n",
    "            if os.path.isfile(mri_file_path):\n",
    "\n",
    "                # Replicate the original file structure\n",
    "                rel_path = os.path.relpath(mri_sub_folder, mri_folder)\n",
    "                png_folder_path = os.path.join(png_folder, rel_path)\n",
    "                if not os.path.exists(png_folder_path):\n",
    "                    os.makedirs(png_folder_path)\n",
    "                png_file_path = os.path.join(png_folder_path, '%s.png' % mri_file.replace(\".dcm\",\"\"))\n",
    "\n",
    "                try:\n",
    "                    # Convert the actual file\n",
    "                    convert_file(mri_file_path, png_file_path)\n",
    "                    print('SUCCESS>', mri_file_path, '-->', png_file_path)\n",
    "                except Exception as e:\n",
    "                    print('FAIL>', mri_file_path, '-->', png_file_path, ':', e)\n",
    "\n",
    "\n",
    "# if __name__ == '__main__':\n",
    "#     parser = argparse.ArgumentParser(description=\"Convert a dicom MRI file to png\")\n",
    "#     parser.add_argument('-f', action='store_true')\n",
    "#     parser.add_argument('dicom_path', help='Full path to the mri file')\n",
    "#     parser.add_argument('png_path', help='Full path to the generated png file')\n",
    "\n",
    "#     args = parser.parse_args()\n",
    "#     print args\n",
    "#     if args.f:\n",
    "#         convert_folder(args.dicom_path, args.png_path)\n",
    "#     else:\n",
    "#         convert_file(args.dicom_path, args.png_path)\n"
   ]
  },
  {
   "cell_type": "code",
   "execution_count": 8,
   "metadata": {
    "scrolled": true
   },
   "outputs": [
    {
     "data": {
      "text/plain": [
       "(array([55772,     0,     0, 43414, 81157, 39779, 39187,  2340,   424,\n",
       "           71], dtype=int64),\n",
       " array([-166. , -123.9,  -81.8,  -39.7,    2.4,   44.5,   86.6,  128.7,\n",
       "         170.8,  212.9,  255. ]))"
      ]
     },
     "metadata": {},
     "output_type": "display_data"
    },
    {
     "name": "stdout",
     "output_type": "stream",
     "text": [
      "FAIL> D:\\datasets\\lung\\ild\\ILD_DB_lungMasksK\\101\\CT-0002-0001.dcm --> D:\\datasets\\lung\\ild\\ILD_DB_lungMasksKPNG\\101\\.\\CT-0002-0001.png : byte must be in range(0, 256)\n"
     ]
    },
    {
     "data": {
      "text/plain": [
       "(array([ 55772,      0,      0, 101872,  15869,  71238,  15122,   1811,\n",
       "           433,     27], dtype=int64),\n",
       " array([-155., -114.,  -73.,  -32.,    9.,   50.,   91.,  132.,  173.,\n",
       "         214.,  255.]))"
      ]
     },
     "metadata": {},
     "output_type": "display_data"
    },
    {
     "name": "stdout",
     "output_type": "stream",
     "text": [
      "FAIL> D:\\datasets\\lung\\ild\\ILD_DB_lungMasksK\\101\\CT-0002-0002.dcm --> D:\\datasets\\lung\\ild\\ILD_DB_lungMasksKPNG\\101\\.\\CT-0002-0002.png : byte must be in range(0, 256)\n"
     ]
    },
    {
     "data": {
      "text/plain": [
       "(array([55772,     0,     0, 76912, 38153, 58921, 29330,  2285,   682,\n",
       "           89], dtype=int64),\n",
       " array([-162. , -120.3,  -78.6,  -36.9,    4.8,   46.5,   88.2,  129.9,\n",
       "         171.6,  213.3,  255. ]))"
      ]
     },
     "metadata": {},
     "output_type": "display_data"
    },
    {
     "name": "stdout",
     "output_type": "stream",
     "text": [
      "FAIL> D:\\datasets\\lung\\ild\\ILD_DB_lungMasksK\\101\\CT-0002-0003.dcm --> D:\\datasets\\lung\\ild\\ILD_DB_lungMasksKPNG\\101\\.\\CT-0002-0003.png : byte must be in range(0, 256)\n"
     ]
    },
    {
     "data": {
      "text/plain": [
       "(array([55772,     0,     0, 98881, 17084, 73501, 14472,  1782,   584,\n",
       "           68], dtype=int64),\n",
       " array([-156. , -114.9,  -73.8,  -32.7,    8.4,   49.5,   90.6,  131.7,\n",
       "         172.8,  213.9,  255. ]))"
      ]
     },
     "metadata": {},
     "output_type": "display_data"
    },
    {
     "name": "stdout",
     "output_type": "stream",
     "text": [
      "FAIL> D:\\datasets\\lung\\ild\\ILD_DB_lungMasksK\\101\\CT-0002-0004.dcm --> D:\\datasets\\lung\\ild\\ILD_DB_lungMasksKPNG\\101\\.\\CT-0002-0004.png : byte must be in range(0, 256)\n"
     ]
    },
    {
     "data": {
      "text/plain": [
       "(array([ 55772,      0,      0, 105076,  15949,  75857,   7665,   1305,\n",
       "           461,     59], dtype=int64),\n",
       " array([-154. , -113.1,  -72.2,  -31.3,    9.6,   50.5,   91.4,  132.3,\n",
       "         173.2,  214.1,  255. ]))"
      ]
     },
     "metadata": {},
     "output_type": "display_data"
    },
    {
     "name": "stdout",
     "output_type": "stream",
     "text": [
      "FAIL> D:\\datasets\\lung\\ild\\ILD_DB_lungMasksK\\101\\CT-0002-0005.dcm --> D:\\datasets\\lung\\ild\\ILD_DB_lungMasksKPNG\\101\\.\\CT-0002-0005.png : byte must be in range(0, 256)\n"
     ]
    },
    {
     "data": {
      "text/plain": [
       "(array([55772,     0,     0, 71023, 47415, 52406, 32719,  1989,   674,\n",
       "          146], dtype=int64),\n",
       " array([-164. , -122.1,  -80.2,  -38.3,    3.6,   45.5,   87.4,  129.3,\n",
       "         171.2,  213.1,  255. ]))"
      ]
     },
     "metadata": {},
     "output_type": "display_data"
    },
    {
     "name": "stdout",
     "output_type": "stream",
     "text": [
      "FAIL> D:\\datasets\\lung\\ild\\ILD_DB_lungMasksK\\101\\CT-0002-0006.dcm --> D:\\datasets\\lung\\ild\\ILD_DB_lungMasksKPNG\\101\\.\\CT-0002-0006.png : byte must be in range(0, 256)\n"
     ]
    },
    {
     "data": {
      "text/plain": [
       "(array([ 55772,      0,      0,      0, 116605,  21653,  64735,   2731,\n",
       "           482,    166], dtype=int64),\n",
       " array([-174. , -131.1,  -88.2,  -45.3,   -2.4,   40.5,   83.4,  126.3,\n",
       "         169.2,  212.1,  255. ]))"
      ]
     },
     "metadata": {},
     "output_type": "display_data"
    },
    {
     "name": "stdout",
     "output_type": "stream",
     "text": [
      "FAIL> D:\\datasets\\lung\\ild\\ILD_DB_lungMasksK\\101\\CT-0002-0007.dcm --> D:\\datasets\\lung\\ild\\ILD_DB_lungMasksKPNG\\101\\.\\CT-0002-0007.png : byte must be in range(0, 256)\n"
     ]
    },
    {
     "data": {
      "text/plain": [
       "(array([55772,     0,     0, 54450, 68497, 43211, 37594,  1948,   553,\n",
       "          119], dtype=int64),\n",
       " array([-165., -123.,  -81.,  -39.,    3.,   45.,   87.,  129.,  171.,\n",
       "         213.,  255.]))"
      ]
     },
     "metadata": {},
     "output_type": "display_data"
    },
    {
     "name": "stdout",
     "output_type": "stream",
     "text": [
      "FAIL> D:\\datasets\\lung\\ild\\ILD_DB_lungMasksK\\101\\CT-0002-0008.dcm --> D:\\datasets\\lung\\ild\\ILD_DB_lungMasksKPNG\\101\\.\\CT-0002-0008.png : byte must be in range(0, 256)\n"
     ]
    },
    {
     "data": {
      "text/plain": [
       "(array([55772,     0,     0, 50624, 72873, 42667, 37687,  1858,   517,\n",
       "          146], dtype=int64),\n",
       " array([-166. , -123.9,  -81.8,  -39.7,    2.4,   44.5,   86.6,  128.7,\n",
       "         170.8,  212.9,  255. ]))"
      ]
     },
     "metadata": {},
     "output_type": "display_data"
    },
    {
     "name": "stdout",
     "output_type": "stream",
     "text": [
      "FAIL> D:\\datasets\\lung\\ild\\ILD_DB_lungMasksK\\101\\CT-0002-0009.dcm --> D:\\datasets\\lung\\ild\\ILD_DB_lungMasksKPNG\\101\\.\\CT-0002-0009.png : byte must be in range(0, 256)\n"
     ]
    },
    {
     "data": {
      "text/plain": [
       "(array([ 55772,      0,      0,      0, 114951,  24659,  63552,   2593,\n",
       "           501,    116], dtype=int64),\n",
       " array([-176. , -132.9,  -89.8,  -46.7,   -3.6,   39.5,   82.6,  125.7,\n",
       "         168.8,  211.9,  255. ]))"
      ]
     },
     "metadata": {},
     "output_type": "display_data"
    },
    {
     "name": "stdout",
     "output_type": "stream",
     "text": [
      "FAIL> D:\\datasets\\lung\\ild\\ILD_DB_lungMasksK\\101\\CT-0002-0010.dcm --> D:\\datasets\\lung\\ild\\ILD_DB_lungMasksKPNG\\101\\.\\CT-0002-0010.png : byte must be in range(0, 256)\n"
     ]
    },
    {
     "data": {
      "text/plain": [
       "(array([55772,     0,     0, 35790, 82406, 37951, 47660,  2445,   113,\n",
       "            7], dtype=int64),\n",
       " array([-168. , -125.7,  -83.4,  -41.1,    1.2,   43.5,   85.8,  128.1,\n",
       "         170.4,  212.7,  255. ]))"
      ]
     },
     "metadata": {},
     "output_type": "display_data"
    },
    {
     "name": "stdout",
     "output_type": "stream",
     "text": [
      "FAIL> D:\\datasets\\lung\\ild\\ILD_DB_lungMasksK\\101\\CT-0002-0011.dcm --> D:\\datasets\\lung\\ild\\ILD_DB_lungMasksKPNG\\101\\.\\CT-0002-0011.png : byte must be in range(0, 256)\n"
     ]
    },
    {
     "data": {
      "text/plain": [
       "(array([55772,     0,     0, 88839, 30665, 73052, 12760,   815,   201,\n",
       "           40], dtype=int64),\n",
       " array([-158. , -116.7,  -75.4,  -34.1,    7.2,   48.5,   89.8,  131.1,\n",
       "         172.4,  213.7,  255. ]))"
      ]
     },
     "metadata": {},
     "output_type": "display_data"
    },
    {
     "name": "stdout",
     "output_type": "stream",
     "text": [
      "FAIL> D:\\datasets\\lung\\ild\\ILD_DB_lungMasksK\\101\\CT-0002-0012.dcm --> D:\\datasets\\lung\\ild\\ILD_DB_lungMasksKPNG\\101\\.\\CT-0002-0012.png : byte must be in range(0, 256)\n"
     ]
    },
    {
     "data": {
      "text/plain": [
       "(array([55772,     0,     0, 91579, 31632, 71820,  9857,  1080,   382,\n",
       "           22], dtype=int64),\n",
       " array([-156. , -114.9,  -73.8,  -32.7,    8.4,   49.5,   90.6,  131.7,\n",
       "         172.8,  213.9,  255. ]))"
      ]
     },
     "metadata": {},
     "output_type": "display_data"
    },
    {
     "name": "stdout",
     "output_type": "stream",
     "text": [
      "FAIL> D:\\datasets\\lung\\ild\\ILD_DB_lungMasksK\\101\\CT-0002-0013.dcm --> D:\\datasets\\lung\\ild\\ILD_DB_lungMasksKPNG\\101\\.\\CT-0002-0013.png : byte must be in range(0, 256)\n"
     ]
    },
    {
     "data": {
      "text/plain": [
       "(array([55772,     0,     0, 50661, 71029, 48675, 34002,  1588,   363,\n",
       "           54], dtype=int64),\n",
       " array([-166. , -123.9,  -81.8,  -39.7,    2.4,   44.5,   86.6,  128.7,\n",
       "         170.8,  212.9,  255. ]))"
      ]
     },
     "metadata": {},
     "output_type": "display_data"
    },
    {
     "name": "stdout",
     "output_type": "stream",
     "text": [
      "FAIL> D:\\datasets\\lung\\ild\\ILD_DB_lungMasksK\\101\\CT-0002-0014.dcm --> D:\\datasets\\lung\\ild\\ILD_DB_lungMasksKPNG\\101\\.\\CT-0002-0014.png : byte must be in range(0, 256)\n"
     ]
    },
    {
     "data": {
      "text/plain": [
       "(array([55772,     0,     0, 86762, 35160, 70177, 13038,   962,   220,\n",
       "           53], dtype=int64),\n",
       " array([-159. , -117.6,  -76.2,  -34.8,    6.6,   48. ,   89.4,  130.8,\n",
       "         172.2,  213.6,  255. ]))"
      ]
     },
     "metadata": {},
     "output_type": "display_data"
    },
    {
     "name": "stdout",
     "output_type": "stream",
     "text": [
      "FAIL> D:\\datasets\\lung\\ild\\ILD_DB_lungMasksK\\101\\CT-0002-0015.dcm --> D:\\datasets\\lung\\ild\\ILD_DB_lungMasksKPNG\\101\\.\\CT-0002-0015.png : byte must be in range(0, 256)\n"
     ]
    },
    {
     "data": {
      "text/plain": [
       "(array([55772,     0,     0, 83864, 46702, 63140, 11312,  1054,   262,\n",
       "           38], dtype=int64),\n",
       " array([-159. , -117.6,  -76.2,  -34.8,    6.6,   48. ,   89.4,  130.8,\n",
       "         172.2,  213.6,  255. ]))"
      ]
     },
     "metadata": {},
     "output_type": "display_data"
    },
    {
     "name": "stdout",
     "output_type": "stream",
     "text": [
      "FAIL> D:\\datasets\\lung\\ild\\ILD_DB_lungMasksK\\101\\CT-0002-0016.dcm --> D:\\datasets\\lung\\ild\\ILD_DB_lungMasksKPNG\\101\\.\\CT-0002-0016.png : byte must be in range(0, 256)\n"
     ]
    },
    {
     "data": {
      "text/plain": [
       "(array([ 55772,      0,      0,      0, 115647,  24286,  64098,   2134,\n",
       "           186,     21], dtype=int64),\n",
       " array([-177. , -133.8,  -90.6,  -47.4,   -4.2,   39. ,   82.2,  125.4,\n",
       "         168.6,  211.8,  255. ]))"
      ]
     },
     "metadata": {},
     "output_type": "display_data"
    },
    {
     "name": "stdout",
     "output_type": "stream",
     "text": [
      "FAIL> D:\\datasets\\lung\\ild\\ILD_DB_lungMasksK\\101\\CT-0002-0017.dcm --> D:\\datasets\\lung\\ild\\ILD_DB_lungMasksKPNG\\101\\.\\CT-0002-0017.png : byte must be in range(0, 256)\n"
     ]
    },
    {
     "data": {
      "text/plain": [
       "(array([ 55772,      0,      0, 100206,  25353,  75654,   4533,    527,\n",
       "            94,      5], dtype=int64),\n",
       " array([-148. , -107.7,  -67.4,  -27.1,   13.2,   53.5,   93.8,  134.1,\n",
       "         174.4,  214.7,  255. ]))"
      ]
     },
     "metadata": {},
     "output_type": "display_data"
    },
    {
     "name": "stdout",
     "output_type": "stream",
     "text": [
      "FAIL> D:\\datasets\\lung\\ild\\ILD_DB_lungMasksK\\101\\CT-0002-0018.dcm --> D:\\datasets\\lung\\ild\\ILD_DB_lungMasksKPNG\\101\\.\\CT-0002-0018.png : byte must be in range(0, 256)\n"
     ]
    },
    {
     "data": {
      "text/plain": [
       "(array([ 55772,      0,      0,      0, 116068,  20748,  66099,   2980,\n",
       "           390,     87], dtype=int64),\n",
       " array([-183. , -139.2,  -95.4,  -51.6,   -7.8,   36. ,   79.8,  123.6,\n",
       "         167.4,  211.2,  255. ]))"
      ]
     },
     "metadata": {},
     "output_type": "display_data"
    },
    {
     "name": "stdout",
     "output_type": "stream",
     "text": [
      "FAIL> D:\\datasets\\lung\\ild\\ILD_DB_lungMasksK\\101\\CT-0002-0019.dcm --> D:\\datasets\\lung\\ild\\ILD_DB_lungMasksKPNG\\101\\.\\CT-0002-0019.png : byte must be in range(0, 256)\n"
     ]
    },
    {
     "data": {
      "text/plain": [
       "(array([ 55772,      0,      0,      0, 116108,  26411,  61536,   1990,\n",
       "           285,     42], dtype=int64),\n",
       " array([-174. , -131.1,  -88.2,  -45.3,   -2.4,   40.5,   83.4,  126.3,\n",
       "         169.2,  212.1,  255. ]))"
      ]
     },
     "metadata": {},
     "output_type": "display_data"
    },
    {
     "name": "stdout",
     "output_type": "stream",
     "text": [
      "FAIL> D:\\datasets\\lung\\ild\\ILD_DB_lungMasksK\\101\\CT-0002-0020.dcm --> D:\\datasets\\lung\\ild\\ILD_DB_lungMasksKPNG\\101\\.\\CT-0002-0020.png : byte must be in range(0, 256)\n"
     ]
    },
    {
     "data": {
      "text/plain": [
       "(array([ 55772,      0,      0,      0, 100605,  12256,  86571,   6391,\n",
       "           512,     37], dtype=int64),\n",
       " array([-198. , -152.7, -107.4,  -62.1,  -16.8,   28.5,   73.8,  119.1,\n",
       "         164.4,  209.7,  255. ]))"
      ]
     },
     "metadata": {},
     "output_type": "display_data"
    },
    {
     "name": "stdout",
     "output_type": "stream",
     "text": [
      "FAIL> D:\\datasets\\lung\\ild\\ILD_DB_lungMasksK\\101\\CT-0002-0021.dcm --> D:\\datasets\\lung\\ild\\ILD_DB_lungMasksKPNG\\101\\.\\CT-0002-0021.png : byte must be in range(0, 256)\n"
     ]
    },
    {
     "data": {
      "text/plain": [
       "(array([ 55772,      0,      0,      0, 105501,  19347,  79404,   1815,\n",
       "           268,     37], dtype=int64),\n",
       " array([-173. , -130.2,  -87.4,  -44.6,   -1.8,   41. ,   83.8,  126.6,\n",
       "         169.4,  212.2,  255. ]))"
      ]
     },
     "metadata": {},
     "output_type": "display_data"
    },
    {
     "name": "stdout",
     "output_type": "stream",
     "text": [
      "FAIL> D:\\datasets\\lung\\ild\\ILD_DB_lungMasksK\\101\\CT-0002-0022.dcm --> D:\\datasets\\lung\\ild\\ILD_DB_lungMasksKPNG\\101\\.\\CT-0002-0022.png : byte must be in range(0, 256)\n"
     ]
    },
    {
     "data": {
      "text/plain": [
       "(array([ 55772,      0,      0,      0, 103146,   6776,  93373,   2765,\n",
       "           247,     65], dtype=int64),\n",
       " array([-182. , -138.3,  -94.6,  -50.9,   -7.2,   36.5,   80.2,  123.9,\n",
       "         167.6,  211.3,  255. ]))"
      ]
     },
     "metadata": {},
     "output_type": "display_data"
    },
    {
     "name": "stdout",
     "output_type": "stream",
     "text": [
      "FAIL> D:\\datasets\\lung\\ild\\ILD_DB_lungMasksK\\101\\CT-0002-0023.dcm --> D:\\datasets\\lung\\ild\\ILD_DB_lungMasksKPNG\\101\\.\\CT-0002-0023.png : byte must be in range(0, 256)\n"
     ]
    },
    {
     "data": {
      "text/plain": [
       "(array([ 55772,      0,      0,      0, 102938,   3722,  95212,   3986,\n",
       "           440,     74], dtype=int64),\n",
       " array([-192. , -147.3, -102.6,  -57.9,  -13.2,   31.5,   76.2,  120.9,\n",
       "         165.6,  210.3,  255. ]))"
      ]
     },
     "metadata": {},
     "output_type": "display_data"
    },
    {
     "name": "stdout",
     "output_type": "stream",
     "text": [
      "FAIL> D:\\datasets\\lung\\ild\\ILD_DB_lungMasksK\\101\\CT-0002-0024.dcm --> D:\\datasets\\lung\\ild\\ILD_DB_lungMasksKPNG\\101\\.\\CT-0002-0024.png : byte must be in range(0, 256)\n",
      "FAIL> D:\\datasets\\lung\\ild\\ILD_DB_lungMasksK\\101\\ff.png --> D:\\datasets\\lung\\ild\\ILD_DB_lungMasksKPNG\\101\\.\\ff.png.png : File is missing DICOM File Meta Information header or the 'DICM' prefix is missing from the header. Use force=True to force reading.\n"
     ]
    },
    {
     "data": {
      "text/plain": [
       "(array([261959,      0,      0,      0,      0,      0,      0,      0,\n",
       "             0,    185], dtype=int64),\n",
       " array([  0. ,  25.5,  51. ,  76.5, 102. , 127.5, 153. , 178.5, 204. ,\n",
       "        229.5, 255. ]))"
      ]
     },
     "metadata": {},
     "output_type": "display_data"
    },
    {
     "name": "stdout",
     "output_type": "stream",
     "text": [
      "SUCCESS> D:\\datasets\\lung\\ild\\ILD_DB_lungMasksK\\101\\lung_mask\\lung_mask_2_1.dcm --> D:\\datasets\\lung\\ild\\ILD_DB_lungMasksKPNG\\101\\lung_mask\\lung_mask_2_1.png\n"
     ]
    },
    {
     "data": {
      "text/plain": [
       "(array([229244,      0,      0,      0,      0,      0,      0,      0,\n",
       "             0,  32900], dtype=int64),\n",
       " array([  0. ,  25.5,  51. ,  76.5, 102. , 127.5, 153. , 178.5, 204. ,\n",
       "        229.5, 255. ]))"
      ]
     },
     "metadata": {},
     "output_type": "display_data"
    },
    {
     "name": "stdout",
     "output_type": "stream",
     "text": [
      "SUCCESS> D:\\datasets\\lung\\ild\\ILD_DB_lungMasksK\\101\\lung_mask\\lung_mask_2_10.dcm --> D:\\datasets\\lung\\ild\\ILD_DB_lungMasksKPNG\\101\\lung_mask\\lung_mask_2_10.png\n"
     ]
    },
    {
     "data": {
      "text/plain": [
       "(array([230311,      0,      0,      0,      0,      0,      0,      0,\n",
       "             0,  31833], dtype=int64),\n",
       " array([  0. ,  25.5,  51. ,  76.5, 102. , 127.5, 153. , 178.5, 204. ,\n",
       "        229.5, 255. ]))"
      ]
     },
     "metadata": {},
     "output_type": "display_data"
    },
    {
     "name": "stdout",
     "output_type": "stream",
     "text": [
      "SUCCESS> D:\\datasets\\lung\\ild\\ILD_DB_lungMasksK\\101\\lung_mask\\lung_mask_2_11.dcm --> D:\\datasets\\lung\\ild\\ILD_DB_lungMasksKPNG\\101\\lung_mask\\lung_mask_2_11.png\n"
     ]
    },
    {
     "data": {
      "text/plain": [
       "(array([232238,      0,      0,      0,      0,      0,      0,      0,\n",
       "             0,  29906], dtype=int64),\n",
       " array([  0. ,  25.5,  51. ,  76.5, 102. , 127.5, 153. , 178.5, 204. ,\n",
       "        229.5, 255. ]))"
      ]
     },
     "metadata": {},
     "output_type": "display_data"
    },
    {
     "name": "stdout",
     "output_type": "stream",
     "text": [
      "SUCCESS> D:\\datasets\\lung\\ild\\ILD_DB_lungMasksK\\101\\lung_mask\\lung_mask_2_12.dcm --> D:\\datasets\\lung\\ild\\ILD_DB_lungMasksKPNG\\101\\lung_mask\\lung_mask_2_12.png\n"
     ]
    },
    {
     "data": {
      "text/plain": [
       "(array([225368,      0,      0,      0,      0,      0,      0,      0,\n",
       "             0,  36776], dtype=int64),\n",
       " array([  0. ,  25.5,  51. ,  76.5, 102. , 127.5, 153. , 178.5, 204. ,\n",
       "        229.5, 255. ]))"
      ]
     },
     "metadata": {},
     "output_type": "display_data"
    },
    {
     "name": "stdout",
     "output_type": "stream",
     "text": [
      "SUCCESS> D:\\datasets\\lung\\ild\\ILD_DB_lungMasksK\\101\\lung_mask\\lung_mask_2_13.dcm --> D:\\datasets\\lung\\ild\\ILD_DB_lungMasksKPNG\\101\\lung_mask\\lung_mask_2_13.png\n"
     ]
    },
    {
     "data": {
      "text/plain": [
       "(array([224436,      0,      0,      0,      0,      0,      0,      0,\n",
       "             0,  37708], dtype=int64),\n",
       " array([  0. ,  25.5,  51. ,  76.5, 102. , 127.5, 153. , 178.5, 204. ,\n",
       "        229.5, 255. ]))"
      ]
     },
     "metadata": {},
     "output_type": "display_data"
    },
    {
     "name": "stdout",
     "output_type": "stream",
     "text": [
      "SUCCESS> D:\\datasets\\lung\\ild\\ILD_DB_lungMasksK\\101\\lung_mask\\lung_mask_2_14.dcm --> D:\\datasets\\lung\\ild\\ILD_DB_lungMasksKPNG\\101\\lung_mask\\lung_mask_2_14.png\n"
     ]
    },
    {
     "data": {
      "text/plain": [
       "(array([227436,      0,      0,      0,      0,      0,      0,      0,\n",
       "             0,  34708], dtype=int64),\n",
       " array([  0. ,  25.5,  51. ,  76.5, 102. , 127.5, 153. , 178.5, 204. ,\n",
       "        229.5, 255. ]))"
      ]
     },
     "metadata": {},
     "output_type": "display_data"
    },
    {
     "name": "stdout",
     "output_type": "stream",
     "text": [
      "SUCCESS> D:\\datasets\\lung\\ild\\ILD_DB_lungMasksK\\101\\lung_mask\\lung_mask_2_15.dcm --> D:\\datasets\\lung\\ild\\ILD_DB_lungMasksKPNG\\101\\lung_mask\\lung_mask_2_15.png\n"
     ]
    },
    {
     "data": {
      "text/plain": [
       "(array([217402,      0,      0,      0,      0,      0,      0,      0,\n",
       "             0,  44742], dtype=int64),\n",
       " array([  0. ,  25.5,  51. ,  76.5, 102. , 127.5, 153. , 178.5, 204. ,\n",
       "        229.5, 255. ]))"
      ]
     },
     "metadata": {},
     "output_type": "display_data"
    },
    {
     "name": "stdout",
     "output_type": "stream",
     "text": [
      "SUCCESS> D:\\datasets\\lung\\ild\\ILD_DB_lungMasksK\\101\\lung_mask\\lung_mask_2_16.dcm --> D:\\datasets\\lung\\ild\\ILD_DB_lungMasksKPNG\\101\\lung_mask\\lung_mask_2_16.png\n"
     ]
    },
    {
     "data": {
      "text/plain": [
       "(array([225502,      0,      0,      0,      0,      0,      0,      0,\n",
       "             0,  36642], dtype=int64),\n",
       " array([  0. ,  25.5,  51. ,  76.5, 102. , 127.5, 153. , 178.5, 204. ,\n",
       "        229.5, 255. ]))"
      ]
     },
     "metadata": {},
     "output_type": "display_data"
    },
    {
     "name": "stdout",
     "output_type": "stream",
     "text": [
      "SUCCESS> D:\\datasets\\lung\\ild\\ILD_DB_lungMasksK\\101\\lung_mask\\lung_mask_2_17.dcm --> D:\\datasets\\lung\\ild\\ILD_DB_lungMasksKPNG\\101\\lung_mask\\lung_mask_2_17.png\n"
     ]
    },
    {
     "data": {
      "text/plain": [
       "(array([231753,      0,      0,      0,      0,      0,      0,      0,\n",
       "             0,  30391], dtype=int64),\n",
       " array([  0. ,  25.5,  51. ,  76.5, 102. , 127.5, 153. , 178.5, 204. ,\n",
       "        229.5, 255. ]))"
      ]
     },
     "metadata": {},
     "output_type": "display_data"
    },
    {
     "name": "stdout",
     "output_type": "stream",
     "text": [
      "SUCCESS> D:\\datasets\\lung\\ild\\ILD_DB_lungMasksK\\101\\lung_mask\\lung_mask_2_18.dcm --> D:\\datasets\\lung\\ild\\ILD_DB_lungMasksKPNG\\101\\lung_mask\\lung_mask_2_18.png\n"
     ]
    },
    {
     "data": {
      "text/plain": [
       "(array([226690,      0,      0,      0,      0,      0,      0,      0,\n",
       "             0,  35454], dtype=int64),\n",
       " array([  0. ,  25.5,  51. ,  76.5, 102. , 127.5, 153. , 178.5, 204. ,\n",
       "        229.5, 255. ]))"
      ]
     },
     "metadata": {},
     "output_type": "display_data"
    },
    {
     "name": "stdout",
     "output_type": "stream",
     "text": [
      "SUCCESS> D:\\datasets\\lung\\ild\\ILD_DB_lungMasksK\\101\\lung_mask\\lung_mask_2_19.dcm --> D:\\datasets\\lung\\ild\\ILD_DB_lungMasksKPNG\\101\\lung_mask\\lung_mask_2_19.png\n"
     ]
    },
    {
     "data": {
      "text/plain": [
       "(array([261835,      0,      0,      0,      0,      0,      0,      0,\n",
       "             0,    309], dtype=int64),\n",
       " array([  0. ,  25.5,  51. ,  76.5, 102. , 127.5, 153. , 178.5, 204. ,\n",
       "        229.5, 255. ]))"
      ]
     },
     "metadata": {},
     "output_type": "display_data"
    },
    {
     "name": "stdout",
     "output_type": "stream",
     "text": [
      "SUCCESS> D:\\datasets\\lung\\ild\\ILD_DB_lungMasksK\\101\\lung_mask\\lung_mask_2_2.dcm --> D:\\datasets\\lung\\ild\\ILD_DB_lungMasksKPNG\\101\\lung_mask\\lung_mask_2_2.png\n"
     ]
    },
    {
     "data": {
      "text/plain": [
       "(array([228812,      0,      0,      0,      0,      0,      0,      0,\n",
       "             0,  33332], dtype=int64),\n",
       " array([  0. ,  25.5,  51. ,  76.5, 102. , 127.5, 153. , 178.5, 204. ,\n",
       "        229.5, 255. ]))"
      ]
     },
     "metadata": {},
     "output_type": "display_data"
    },
    {
     "name": "stdout",
     "output_type": "stream",
     "text": [
      "SUCCESS> D:\\datasets\\lung\\ild\\ILD_DB_lungMasksK\\101\\lung_mask\\lung_mask_2_20.dcm --> D:\\datasets\\lung\\ild\\ILD_DB_lungMasksKPNG\\101\\lung_mask\\lung_mask_2_20.png\n"
     ]
    },
    {
     "data": {
      "text/plain": [
       "(array([254948,      0,      0,      0,      0,      0,      0,      0,\n",
       "             0,   7196], dtype=int64),\n",
       " array([  0. ,  25.5,  51. ,  76.5, 102. , 127.5, 153. , 178.5, 204. ,\n",
       "        229.5, 255. ]))"
      ]
     },
     "metadata": {},
     "output_type": "display_data"
    },
    {
     "name": "stdout",
     "output_type": "stream",
     "text": [
      "SUCCESS> D:\\datasets\\lung\\ild\\ILD_DB_lungMasksK\\101\\lung_mask\\lung_mask_2_21.dcm --> D:\\datasets\\lung\\ild\\ILD_DB_lungMasksKPNG\\101\\lung_mask\\lung_mask_2_21.png\n"
     ]
    },
    {
     "data": {
      "text/plain": [
       "(array([258715,      0,      0,      0,      0,      0,      0,      0,\n",
       "             0,   3429], dtype=int64),\n",
       " array([  0. ,  25.5,  51. ,  76.5, 102. , 127.5, 153. , 178.5, 204. ,\n",
       "        229.5, 255. ]))"
      ]
     },
     "metadata": {},
     "output_type": "display_data"
    },
    {
     "name": "stdout",
     "output_type": "stream",
     "text": [
      "SUCCESS> D:\\datasets\\lung\\ild\\ILD_DB_lungMasksK\\101\\lung_mask\\lung_mask_2_22.dcm --> D:\\datasets\\lung\\ild\\ILD_DB_lungMasksKPNG\\101\\lung_mask\\lung_mask_2_22.png\n"
     ]
    },
    {
     "data": {
      "text/plain": [
       "(array([260990,      0,      0,      0,      0,      0,      0,      0,\n",
       "             0,   1154], dtype=int64),\n",
       " array([  0. ,  25.5,  51. ,  76.5, 102. , 127.5, 153. , 178.5, 204. ,\n",
       "        229.5, 255. ]))"
      ]
     },
     "metadata": {},
     "output_type": "display_data"
    },
    {
     "name": "stdout",
     "output_type": "stream",
     "text": [
      "SUCCESS> D:\\datasets\\lung\\ild\\ILD_DB_lungMasksK\\101\\lung_mask\\lung_mask_2_23.dcm --> D:\\datasets\\lung\\ild\\ILD_DB_lungMasksKPNG\\101\\lung_mask\\lung_mask_2_23.png\n"
     ]
    },
    {
     "data": {
      "text/plain": [
       "(array([261964,      0,      0,      0,      0,      0,      0,      0,\n",
       "             0,    180], dtype=int64),\n",
       " array([  0. ,  25.5,  51. ,  76.5, 102. , 127.5, 153. , 178.5, 204. ,\n",
       "        229.5, 255. ]))"
      ]
     },
     "metadata": {},
     "output_type": "display_data"
    },
    {
     "name": "stdout",
     "output_type": "stream",
     "text": [
      "SUCCESS> D:\\datasets\\lung\\ild\\ILD_DB_lungMasksK\\101\\lung_mask\\lung_mask_2_24.dcm --> D:\\datasets\\lung\\ild\\ILD_DB_lungMasksKPNG\\101\\lung_mask\\lung_mask_2_24.png\n"
     ]
    },
    {
     "data": {
      "text/plain": [
       "(array([260245,      0,      0,      0,      0,      0,      0,      0,\n",
       "             0,   1899], dtype=int64),\n",
       " array([  0. ,  25.5,  51. ,  76.5, 102. , 127.5, 153. , 178.5, 204. ,\n",
       "        229.5, 255. ]))"
      ]
     },
     "metadata": {},
     "output_type": "display_data"
    },
    {
     "name": "stdout",
     "output_type": "stream",
     "text": [
      "SUCCESS> D:\\datasets\\lung\\ild\\ILD_DB_lungMasksK\\101\\lung_mask\\lung_mask_2_3.dcm --> D:\\datasets\\lung\\ild\\ILD_DB_lungMasksKPNG\\101\\lung_mask\\lung_mask_2_3.png\n"
     ]
    },
    {
     "data": {
      "text/plain": [
       "(array([255868,      0,      0,      0,      0,      0,      0,      0,\n",
       "             0,   6276], dtype=int64),\n",
       " array([  0. ,  25.5,  51. ,  76.5, 102. , 127.5, 153. , 178.5, 204. ,\n",
       "        229.5, 255. ]))"
      ]
     },
     "metadata": {},
     "output_type": "display_data"
    },
    {
     "name": "stdout",
     "output_type": "stream",
     "text": [
      "SUCCESS> D:\\datasets\\lung\\ild\\ILD_DB_lungMasksK\\101\\lung_mask\\lung_mask_2_4.dcm --> D:\\datasets\\lung\\ild\\ILD_DB_lungMasksKPNG\\101\\lung_mask\\lung_mask_2_4.png\n"
     ]
    },
    {
     "data": {
      "text/plain": [
       "(array([248541,      0,      0,      0,      0,      0,      0,      0,\n",
       "             0,  13603], dtype=int64),\n",
       " array([  0. ,  25.5,  51. ,  76.5, 102. , 127.5, 153. , 178.5, 204. ,\n",
       "        229.5, 255. ]))"
      ]
     },
     "metadata": {},
     "output_type": "display_data"
    },
    {
     "name": "stdout",
     "output_type": "stream",
     "text": [
      "SUCCESS> D:\\datasets\\lung\\ild\\ILD_DB_lungMasksK\\101\\lung_mask\\lung_mask_2_5.dcm --> D:\\datasets\\lung\\ild\\ILD_DB_lungMasksKPNG\\101\\lung_mask\\lung_mask_2_5.png\n"
     ]
    },
    {
     "data": {
      "text/plain": [
       "(array([245319,      0,      0,      0,      0,      0,      0,      0,\n",
       "             0,  16825], dtype=int64),\n",
       " array([  0. ,  25.5,  51. ,  76.5, 102. , 127.5, 153. , 178.5, 204. ,\n",
       "        229.5, 255. ]))"
      ]
     },
     "metadata": {},
     "output_type": "display_data"
    },
    {
     "name": "stdout",
     "output_type": "stream",
     "text": [
      "SUCCESS> D:\\datasets\\lung\\ild\\ILD_DB_lungMasksK\\101\\lung_mask\\lung_mask_2_6.dcm --> D:\\datasets\\lung\\ild\\ILD_DB_lungMasksKPNG\\101\\lung_mask\\lung_mask_2_6.png\n"
     ]
    },
    {
     "data": {
      "text/plain": [
       "(array([239168,      0,      0,      0,      0,      0,      0,      0,\n",
       "             0,  22976], dtype=int64),\n",
       " array([  0. ,  25.5,  51. ,  76.5, 102. , 127.5, 153. , 178.5, 204. ,\n",
       "        229.5, 255. ]))"
      ]
     },
     "metadata": {},
     "output_type": "display_data"
    },
    {
     "name": "stdout",
     "output_type": "stream",
     "text": [
      "SUCCESS> D:\\datasets\\lung\\ild\\ILD_DB_lungMasksK\\101\\lung_mask\\lung_mask_2_7.dcm --> D:\\datasets\\lung\\ild\\ILD_DB_lungMasksKPNG\\101\\lung_mask\\lung_mask_2_7.png\n"
     ]
    },
    {
     "data": {
      "text/plain": [
       "(array([232178,      0,      0,      0,      0,      0,      0,      0,\n",
       "             0,  29966], dtype=int64),\n",
       " array([  0. ,  25.5,  51. ,  76.5, 102. , 127.5, 153. , 178.5, 204. ,\n",
       "        229.5, 255. ]))"
      ]
     },
     "metadata": {},
     "output_type": "display_data"
    },
    {
     "name": "stdout",
     "output_type": "stream",
     "text": [
      "SUCCESS> D:\\datasets\\lung\\ild\\ILD_DB_lungMasksK\\101\\lung_mask\\lung_mask_2_8.dcm --> D:\\datasets\\lung\\ild\\ILD_DB_lungMasksKPNG\\101\\lung_mask\\lung_mask_2_8.png\n"
     ]
    },
    {
     "data": {
      "text/plain": [
       "(array([226645,      0,      0,      0,      0,      0,      0,      0,\n",
       "             0,  35499], dtype=int64),\n",
       " array([  0. ,  25.5,  51. ,  76.5, 102. , 127.5, 153. , 178.5, 204. ,\n",
       "        229.5, 255. ]))"
      ]
     },
     "metadata": {},
     "output_type": "display_data"
    },
    {
     "name": "stdout",
     "output_type": "stream",
     "text": [
      "SUCCESS> D:\\datasets\\lung\\ild\\ILD_DB_lungMasksK\\101\\lung_mask\\lung_mask_2_9.dcm --> D:\\datasets\\lung\\ild\\ILD_DB_lungMasksKPNG\\101\\lung_mask\\lung_mask_2_9.png\n"
     ]
    }
   ],
   "source": [
    "dicom_path=\"D:\\\\datasets\\\\lung\\\\ild\\\\ILD_DB_lungMasksK\\\\101\\\\\"\n",
    "png_path=\"D:\\\\datasets\\\\lung\\\\ild\\\\ILD_DB_lungMasksKPNG\\\\101\\\\\"\n",
    "convert_folder(dicom_path, png_path)"
   ]
  },
  {
   "cell_type": "code",
   "execution_count": 5,
   "metadata": {},
   "outputs": [],
   "source": [
    "\n",
    "def mri_to_png(mri_file, png_file):\n",
    "    \"\"\" Function to convert from a DICOM image to png\n",
    "        @param mri_file: An opened file like object to read te dicom data\n",
    "        @param png_file: An opened file like object to write the png data\n",
    "    \"\"\"\n",
    "\n",
    "    # Extracting data from the mri file\n",
    "    plan = dicom.dcmread(mri_file)\n",
    "    shape = plan.pixel_array.shape\n",
    "    img = plan.pixel_array\n",
    "    threshold = 500 # Adjust as needed\n",
    "    img_s = np.array((np.maximum(img, 0) / (np.amax(img) + threshold)) * 255.0, dtype=int)\n",
    "    display(np.histogram(img_s))\n",
    "    # Writing the PNG file\n",
    "    print(png_file)\n",
    "    cv2.imwrite(png_file ,img_s)\n",
    "\n"
   ]
  },
  {
   "cell_type": "code",
   "execution_count": 5,
   "metadata": {
    "scrolled": true
   },
   "outputs": [
    {
     "name": "stdout",
     "output_type": "stream",
     "text": [
      "parent101_axial.nii.gz\n",
      "D:\\datasets\\lung\\ild\\ILD_DB_lungMasksKNifti\\parent101_axial.nii.gz\n",
      "parent101_lung_mask.nii.gz\n",
      "D:\\datasets\\lung\\ild\\ILD_DB_lungMasksKNifti\\parent101_lung_mask.nii.gz\n",
      "parent105_axial.nii.gz\n",
      "D:\\datasets\\lung\\ild\\ILD_DB_lungMasksKNifti\\parent105_axial.nii.gz\n",
      "parent105_lung_mask.nii.gz\n",
      "D:\\datasets\\lung\\ild\\ILD_DB_lungMasksKNifti\\parent105_lung_mask.nii.gz\n",
      "parent107_axial.nii.gz\n",
      "D:\\datasets\\lung\\ild\\ILD_DB_lungMasksKNifti\\parent107_axial.nii.gz\n",
      "parent107_lung_mask.nii.gz\n",
      "D:\\datasets\\lung\\ild\\ILD_DB_lungMasksKNifti\\parent107_lung_mask.nii.gz\n",
      "parent108_axial.nii.gz\n",
      "D:\\datasets\\lung\\ild\\ILD_DB_lungMasksKNifti\\parent108_axial.nii.gz\n",
      "parent108_lung_mask.nii.gz\n",
      "D:\\datasets\\lung\\ild\\ILD_DB_lungMasksKNifti\\parent108_lung_mask.nii.gz\n",
      "parent109_axial.nii.gz\n",
      "D:\\datasets\\lung\\ild\\ILD_DB_lungMasksKNifti\\parent109_axial.nii.gz\n",
      "parent109_lung_mask.nii.gz\n",
      "D:\\datasets\\lung\\ild\\ILD_DB_lungMasksKNifti\\parent109_lung_mask.nii.gz\n",
      "parent112_axial.nii.gz\n",
      "D:\\datasets\\lung\\ild\\ILD_DB_lungMasksKNifti\\parent112_axial.nii.gz\n",
      "parent112_lung_mask.nii.gz\n",
      "D:\\datasets\\lung\\ild\\ILD_DB_lungMasksKNifti\\parent112_lung_mask.nii.gz\n",
      "parent116_axial.nii.gz\n",
      "D:\\datasets\\lung\\ild\\ILD_DB_lungMasksKNifti\\parent116_axial.nii.gz\n",
      "parent116_lung_mask.nii.gz\n",
      "D:\\datasets\\lung\\ild\\ILD_DB_lungMasksKNifti\\parent116_lung_mask.nii.gz\n",
      "parent118_axial.nii.gz\n",
      "D:\\datasets\\lung\\ild\\ILD_DB_lungMasksKNifti\\parent118_axial.nii.gz\n",
      "parent118_lung_mask.nii.gz\n",
      "D:\\datasets\\lung\\ild\\ILD_DB_lungMasksKNifti\\parent118_lung_mask.nii.gz\n",
      "parent119_axial.nii.gz\n",
      "D:\\datasets\\lung\\ild\\ILD_DB_lungMasksKNifti\\parent119_axial.nii.gz\n",
      "parent119_lung_mask.nii.gz\n",
      "D:\\datasets\\lung\\ild\\ILD_DB_lungMasksKNifti\\parent119_lung_mask.nii.gz\n",
      "parent12_axial.nii.gz\n",
      "D:\\datasets\\lung\\ild\\ILD_DB_lungMasksKNifti\\parent12_axial.nii.gz\n",
      "parent12_lung_mask.nii.gz\n",
      "D:\\datasets\\lung\\ild\\ILD_DB_lungMasksKNifti\\parent12_lung_mask.nii.gz\n",
      "parent120_axial.nii.gz\n",
      "D:\\datasets\\lung\\ild\\ILD_DB_lungMasksKNifti\\parent120_axial.nii.gz\n",
      "parent120_lung_mask.nii.gz\n",
      "D:\\datasets\\lung\\ild\\ILD_DB_lungMasksKNifti\\parent120_lung_mask.nii.gz\n",
      "parent121_axial.nii.gz\n",
      "D:\\datasets\\lung\\ild\\ILD_DB_lungMasksKNifti\\parent121_axial.nii.gz\n",
      "parent121_lung_mask.nii.gz\n",
      "D:\\datasets\\lung\\ild\\ILD_DB_lungMasksKNifti\\parent121_lung_mask.nii.gz\n",
      "parent122_axial.nii.gz\n",
      "D:\\datasets\\lung\\ild\\ILD_DB_lungMasksKNifti\\parent122_axial.nii.gz\n",
      "parent122_lung_mask.nii.gz\n",
      "D:\\datasets\\lung\\ild\\ILD_DB_lungMasksKNifti\\parent122_lung_mask.nii.gz\n",
      "parent123_axial.nii.gz\n",
      "D:\\datasets\\lung\\ild\\ILD_DB_lungMasksKNifti\\parent123_axial.nii.gz\n",
      "parent123_lung_mask.nii.gz\n",
      "D:\\datasets\\lung\\ild\\ILD_DB_lungMasksKNifti\\parent123_lung_mask.nii.gz\n",
      "parent124_axial.nii.gz\n",
      "D:\\datasets\\lung\\ild\\ILD_DB_lungMasksKNifti\\parent124_axial.nii.gz\n",
      "parent124_lung_mask.nii.gz\n",
      "D:\\datasets\\lung\\ild\\ILD_DB_lungMasksKNifti\\parent124_lung_mask.nii.gz\n",
      "parent126_axial.nii.gz\n",
      "D:\\datasets\\lung\\ild\\ILD_DB_lungMasksKNifti\\parent126_axial.nii.gz\n",
      "parent126_lung_mask.nii.gz\n",
      "D:\\datasets\\lung\\ild\\ILD_DB_lungMasksKNifti\\parent126_lung_mask.nii.gz\n",
      "parent127_axial.nii.gz\n",
      "D:\\datasets\\lung\\ild\\ILD_DB_lungMasksKNifti\\parent127_axial.nii.gz\n",
      "parent127_lung_mask.nii.gz\n",
      "D:\\datasets\\lung\\ild\\ILD_DB_lungMasksKNifti\\parent127_lung_mask.nii.gz\n",
      "parent129_axial.nii.gz\n",
      "D:\\datasets\\lung\\ild\\ILD_DB_lungMasksKNifti\\parent129_axial.nii.gz\n",
      "parent129_lung_mask.nii.gz\n",
      "D:\\datasets\\lung\\ild\\ILD_DB_lungMasksKNifti\\parent129_lung_mask.nii.gz\n",
      "parent130_axial.nii.gz\n",
      "D:\\datasets\\lung\\ild\\ILD_DB_lungMasksKNifti\\parent130_axial.nii.gz\n",
      "parent130_lung_mask.nii.gz\n",
      "D:\\datasets\\lung\\ild\\ILD_DB_lungMasksKNifti\\parent130_lung_mask.nii.gz\n",
      "parent131_axial.nii.gz\n",
      "D:\\datasets\\lung\\ild\\ILD_DB_lungMasksKNifti\\parent131_axial.nii.gz\n",
      "parent131_lung_mask.nii.gz\n",
      "D:\\datasets\\lung\\ild\\ILD_DB_lungMasksKNifti\\parent131_lung_mask.nii.gz\n",
      "parent132_axial.nii.gz\n",
      "D:\\datasets\\lung\\ild\\ILD_DB_lungMasksKNifti\\parent132_axial.nii.gz\n",
      "parent132_lung_mask.nii.gz\n",
      "D:\\datasets\\lung\\ild\\ILD_DB_lungMasksKNifti\\parent132_lung_mask.nii.gz\n",
      "parent134_axial.nii.gz\n",
      "D:\\datasets\\lung\\ild\\ILD_DB_lungMasksKNifti\\parent134_axial.nii.gz\n",
      "parent134_lung_mask.nii.gz\n",
      "D:\\datasets\\lung\\ild\\ILD_DB_lungMasksKNifti\\parent134_lung_mask.nii.gz\n",
      "parent135_axial.nii.gz\n",
      "D:\\datasets\\lung\\ild\\ILD_DB_lungMasksKNifti\\parent135_axial.nii.gz\n",
      "parent135_lung_mask.nii.gz\n",
      "D:\\datasets\\lung\\ild\\ILD_DB_lungMasksKNifti\\parent135_lung_mask.nii.gz\n",
      "parent136_axial.nii.gz\n",
      "D:\\datasets\\lung\\ild\\ILD_DB_lungMasksKNifti\\parent136_axial.nii.gz\n",
      "parent136_lung_mask.nii.gz\n",
      "D:\\datasets\\lung\\ild\\ILD_DB_lungMasksKNifti\\parent136_lung_mask.nii.gz\n",
      "parent137_axial.nii.gz\n",
      "D:\\datasets\\lung\\ild\\ILD_DB_lungMasksKNifti\\parent137_axial.nii.gz\n",
      "parent137_lung_mask.nii.gz\n",
      "D:\\datasets\\lung\\ild\\ILD_DB_lungMasksKNifti\\parent137_lung_mask.nii.gz\n",
      "parent138_axial.nii.gz\n",
      "D:\\datasets\\lung\\ild\\ILD_DB_lungMasksKNifti\\parent138_axial.nii.gz\n",
      "parent138_lung_mask.nii.gz\n",
      "D:\\datasets\\lung\\ild\\ILD_DB_lungMasksKNifti\\parent138_lung_mask.nii.gz\n",
      "parent140_axial.nii.gz\n",
      "D:\\datasets\\lung\\ild\\ILD_DB_lungMasksKNifti\\parent140_axial.nii.gz\n",
      "parent140_lung_mask.nii.gz\n",
      "D:\\datasets\\lung\\ild\\ILD_DB_lungMasksKNifti\\parent140_lung_mask.nii.gz\n",
      "parent142_CT-INSPIRIUM-2950_axial.nii.gz\n",
      "D:\\datasets\\lung\\ild\\ILD_DB_lungMasksKNifti\\parent142_CT-INSPIRIUM-2950_axial.nii.gz\n",
      "parent142_CT-INSPIRIUM-2950_lung_mask.nii.gz\n",
      "D:\\datasets\\lung\\ild\\ILD_DB_lungMasksKNifti\\parent142_CT-INSPIRIUM-2950_lung_mask.nii.gz\n",
      "parent142_CT-INSPIRIUM-2951_axial.nii.gz\n",
      "D:\\datasets\\lung\\ild\\ILD_DB_lungMasksKNifti\\parent142_CT-INSPIRIUM-2951_axial.nii.gz\n",
      "parent142_CT-INSPIRIUM-2951_lung_mask.nii.gz\n",
      "D:\\datasets\\lung\\ild\\ILD_DB_lungMasksKNifti\\parent142_CT-INSPIRIUM-2951_lung_mask.nii.gz\n",
      "parent143_axial.nii.gz\n",
      "D:\\datasets\\lung\\ild\\ILD_DB_lungMasksKNifti\\parent143_axial.nii.gz\n",
      "parent143_lung_mask.nii.gz\n",
      "D:\\datasets\\lung\\ild\\ILD_DB_lungMasksKNifti\\parent143_lung_mask.nii.gz\n",
      "parent144_axial.nii.gz\n",
      "D:\\datasets\\lung\\ild\\ILD_DB_lungMasksKNifti\\parent144_axial.nii.gz\n",
      "parent144_lung_mask.nii.gz\n",
      "D:\\datasets\\lung\\ild\\ILD_DB_lungMasksKNifti\\parent144_lung_mask.nii.gz\n",
      "parent147_axial.nii.gz\n",
      "D:\\datasets\\lung\\ild\\ILD_DB_lungMasksKNifti\\parent147_axial.nii.gz\n",
      "parent147_lung_mask.nii.gz\n",
      "D:\\datasets\\lung\\ild\\ILD_DB_lungMasksKNifti\\parent147_lung_mask.nii.gz\n",
      "parent149_axial.nii.gz\n",
      "D:\\datasets\\lung\\ild\\ILD_DB_lungMasksKNifti\\parent149_axial.nii.gz\n",
      "parent149_lung_mask.nii.gz\n",
      "D:\\datasets\\lung\\ild\\ILD_DB_lungMasksKNifti\\parent149_lung_mask.nii.gz\n",
      "parent150_axial.nii.gz\n",
      "D:\\datasets\\lung\\ild\\ILD_DB_lungMasksKNifti\\parent150_axial.nii.gz\n",
      "parent150_lung_mask.nii.gz\n",
      "D:\\datasets\\lung\\ild\\ILD_DB_lungMasksKNifti\\parent150_lung_mask.nii.gz\n",
      "parent152_axial.nii.gz\n",
      "D:\\datasets\\lung\\ild\\ILD_DB_lungMasksKNifti\\parent152_axial.nii.gz\n",
      "parent152_lung_mask.nii.gz\n",
      "D:\\datasets\\lung\\ild\\ILD_DB_lungMasksKNifti\\parent152_lung_mask.nii.gz\n",
      "parent153_axial.nii.gz\n",
      "D:\\datasets\\lung\\ild\\ILD_DB_lungMasksKNifti\\parent153_axial.nii.gz\n",
      "parent153_lung_mask.nii.gz\n",
      "D:\\datasets\\lung\\ild\\ILD_DB_lungMasksKNifti\\parent153_lung_mask.nii.gz\n",
      "parent154_CT-INSPIRIUM-6409_axial.nii.gz\n",
      "D:\\datasets\\lung\\ild\\ILD_DB_lungMasksKNifti\\parent154_CT-INSPIRIUM-6409_axial.nii.gz\n",
      "parent154_CT-INSPIRIUM-6409_lung_mask.nii.gz\n",
      "D:\\datasets\\lung\\ild\\ILD_DB_lungMasksKNifti\\parent154_CT-INSPIRIUM-6409_lung_mask.nii.gz\n",
      "parent154_CT-INSPIRIUM-6410_axial.nii.gz\n",
      "D:\\datasets\\lung\\ild\\ILD_DB_lungMasksKNifti\\parent154_CT-INSPIRIUM-6410_axial.nii.gz\n",
      "parent154_CT-INSPIRIUM-6410_lung_mask.nii.gz\n",
      "D:\\datasets\\lung\\ild\\ILD_DB_lungMasksKNifti\\parent154_CT-INSPIRIUM-6410_lung_mask.nii.gz\n",
      "parent157_axial.nii.gz\n",
      "D:\\datasets\\lung\\ild\\ILD_DB_lungMasksKNifti\\parent157_axial.nii.gz\n",
      "parent157_lung_mask.nii.gz\n",
      "D:\\datasets\\lung\\ild\\ILD_DB_lungMasksKNifti\\parent157_lung_mask.nii.gz\n",
      "parent158_axial.nii.gz\n",
      "D:\\datasets\\lung\\ild\\ILD_DB_lungMasksKNifti\\parent158_axial.nii.gz\n",
      "parent158_lung_mask.nii.gz\n",
      "D:\\datasets\\lung\\ild\\ILD_DB_lungMasksKNifti\\parent158_lung_mask.nii.gz\n",
      "parent159_axial.nii.gz\n",
      "D:\\datasets\\lung\\ild\\ILD_DB_lungMasksKNifti\\parent159_axial.nii.gz\n",
      "parent159_lung_mask.nii.gz\n",
      "D:\\datasets\\lung\\ild\\ILD_DB_lungMasksKNifti\\parent159_lung_mask.nii.gz\n",
      "parent160_axial.nii.gz\n",
      "D:\\datasets\\lung\\ild\\ILD_DB_lungMasksKNifti\\parent160_axial.nii.gz\n",
      "parent160_lung_mask.nii.gz\n",
      "D:\\datasets\\lung\\ild\\ILD_DB_lungMasksKNifti\\parent160_lung_mask.nii.gz\n",
      "parent162_axial.nii.gz\n",
      "D:\\datasets\\lung\\ild\\ILD_DB_lungMasksKNifti\\parent162_axial.nii.gz\n",
      "parent162_lung_mask.nii.gz\n",
      "D:\\datasets\\lung\\ild\\ILD_DB_lungMasksKNifti\\parent162_lung_mask.nii.gz\n",
      "parent163_axial.nii.gz\n",
      "D:\\datasets\\lung\\ild\\ILD_DB_lungMasksKNifti\\parent163_axial.nii.gz\n",
      "parent163_lung_mask.nii.gz\n",
      "D:\\datasets\\lung\\ild\\ILD_DB_lungMasksKNifti\\parent163_lung_mask.nii.gz\n",
      "parent164_axial.nii.gz\n",
      "D:\\datasets\\lung\\ild\\ILD_DB_lungMasksKNifti\\parent164_axial.nii.gz\n",
      "parent164_lung_mask.nii.gz\n",
      "D:\\datasets\\lung\\ild\\ILD_DB_lungMasksKNifti\\parent164_lung_mask.nii.gz\n",
      "parent165_axial.nii.gz\n",
      "D:\\datasets\\lung\\ild\\ILD_DB_lungMasksKNifti\\parent165_axial.nii.gz\n",
      "parent165_lung_mask.nii.gz\n",
      "D:\\datasets\\lung\\ild\\ILD_DB_lungMasksKNifti\\parent165_lung_mask.nii.gz\n",
      "parent166_axial.nii.gz\n",
      "D:\\datasets\\lung\\ild\\ILD_DB_lungMasksKNifti\\parent166_axial.nii.gz\n",
      "parent166_lung_mask.nii.gz\n",
      "D:\\datasets\\lung\\ild\\ILD_DB_lungMasksKNifti\\parent166_lung_mask.nii.gz\n",
      "parent167_axial.nii.gz\n",
      "D:\\datasets\\lung\\ild\\ILD_DB_lungMasksKNifti\\parent167_axial.nii.gz\n",
      "parent167_lung_mask.nii.gz\n",
      "D:\\datasets\\lung\\ild\\ILD_DB_lungMasksKNifti\\parent167_lung_mask.nii.gz\n",
      "parent168_axial.nii.gz\n",
      "D:\\datasets\\lung\\ild\\ILD_DB_lungMasksKNifti\\parent168_axial.nii.gz\n",
      "parent168_lung_mask.nii.gz\n",
      "D:\\datasets\\lung\\ild\\ILD_DB_lungMasksKNifti\\parent168_lung_mask.nii.gz\n",
      "parent169_axial.nii.gz\n",
      "D:\\datasets\\lung\\ild\\ILD_DB_lungMasksKNifti\\parent169_axial.nii.gz\n",
      "parent169_lung_mask.nii.gz\n",
      "D:\\datasets\\lung\\ild\\ILD_DB_lungMasksKNifti\\parent169_lung_mask.nii.gz\n",
      "parent17_axial.nii.gz\n",
      "D:\\datasets\\lung\\ild\\ILD_DB_lungMasksKNifti\\parent17_axial.nii.gz\n",
      "parent17_lung_mask.nii.gz\n",
      "D:\\datasets\\lung\\ild\\ILD_DB_lungMasksKNifti\\parent17_lung_mask.nii.gz\n",
      "parent171_axial.nii.gz\n",
      "D:\\datasets\\lung\\ild\\ILD_DB_lungMasksKNifti\\parent171_axial.nii.gz\n",
      "parent171_lung_mask.nii.gz\n",
      "D:\\datasets\\lung\\ild\\ILD_DB_lungMasksKNifti\\parent171_lung_mask.nii.gz\n",
      "parent173_axial.nii.gz\n",
      "D:\\datasets\\lung\\ild\\ILD_DB_lungMasksKNifti\\parent173_axial.nii.gz\n",
      "parent173_lung_mask.nii.gz\n",
      "D:\\datasets\\lung\\ild\\ILD_DB_lungMasksKNifti\\parent173_lung_mask.nii.gz\n",
      "parent174_axial.nii.gz\n",
      "D:\\datasets\\lung\\ild\\ILD_DB_lungMasksKNifti\\parent174_axial.nii.gz\n",
      "parent174_lung_mask.nii.gz\n",
      "D:\\datasets\\lung\\ild\\ILD_DB_lungMasksKNifti\\parent174_lung_mask.nii.gz\n",
      "parent177_axial.nii.gz\n",
      "D:\\datasets\\lung\\ild\\ILD_DB_lungMasksKNifti\\parent177_axial.nii.gz\n",
      "parent177_lung_mask.nii.gz\n",
      "D:\\datasets\\lung\\ild\\ILD_DB_lungMasksKNifti\\parent177_lung_mask.nii.gz\n",
      "parent180_axial.nii.gz\n",
      "D:\\datasets\\lung\\ild\\ILD_DB_lungMasksKNifti\\parent180_axial.nii.gz\n",
      "parent180_lung_mask.nii.gz\n",
      "D:\\datasets\\lung\\ild\\ILD_DB_lungMasksKNifti\\parent180_lung_mask.nii.gz\n",
      "parent181_axial.nii.gz\n",
      "D:\\datasets\\lung\\ild\\ILD_DB_lungMasksKNifti\\parent181_axial.nii.gz\n",
      "parent181_lung_mask.nii.gz\n",
      "D:\\datasets\\lung\\ild\\ILD_DB_lungMasksKNifti\\parent181_lung_mask.nii.gz\n",
      "parent183_axial.nii.gz\n",
      "D:\\datasets\\lung\\ild\\ILD_DB_lungMasksKNifti\\parent183_axial.nii.gz\n",
      "parent183_lung_mask.nii.gz\n",
      "D:\\datasets\\lung\\ild\\ILD_DB_lungMasksKNifti\\parent183_lung_mask.nii.gz\n",
      "parent184_CT-INSPIRIUM-5841_axial.nii.gz\n",
      "D:\\datasets\\lung\\ild\\ILD_DB_lungMasksKNifti\\parent184_CT-INSPIRIUM-5841_axial.nii.gz\n",
      "parent184_CT-INSPIRIUM-5841_lung_mask.nii.gz\n",
      "D:\\datasets\\lung\\ild\\ILD_DB_lungMasksKNifti\\parent184_CT-INSPIRIUM-5841_lung_mask.nii.gz\n",
      "parent184_CT-INSPIRIUM-5842_axial.nii.gz\n",
      "D:\\datasets\\lung\\ild\\ILD_DB_lungMasksKNifti\\parent184_CT-INSPIRIUM-5842_axial.nii.gz\n",
      "parent184_CT-INSPIRIUM-5842_lung_mask.nii.gz\n",
      "D:\\datasets\\lung\\ild\\ILD_DB_lungMasksKNifti\\parent184_CT-INSPIRIUM-5842_lung_mask.nii.gz\n",
      "parent185_axial.nii.gz\n",
      "D:\\datasets\\lung\\ild\\ILD_DB_lungMasksKNifti\\parent185_axial.nii.gz\n",
      "parent185_lung_mask.nii.gz\n",
      "D:\\datasets\\lung\\ild\\ILD_DB_lungMasksKNifti\\parent185_lung_mask.nii.gz\n",
      "parent19_axial.nii.gz\n",
      "D:\\datasets\\lung\\ild\\ILD_DB_lungMasksKNifti\\parent19_axial.nii.gz\n",
      "parent19_lung_mask.nii.gz\n",
      "D:\\datasets\\lung\\ild\\ILD_DB_lungMasksKNifti\\parent19_lung_mask.nii.gz\n",
      "parent200_axial.nii.gz\n",
      "D:\\datasets\\lung\\ild\\ILD_DB_lungMasksKNifti\\parent200_axial.nii.gz\n",
      "parent200_lung_mask.nii.gz\n",
      "D:\\datasets\\lung\\ild\\ILD_DB_lungMasksKNifti\\parent200_lung_mask.nii.gz\n",
      "parent201_axial.nii.gz\n",
      "D:\\datasets\\lung\\ild\\ILD_DB_lungMasksKNifti\\parent201_axial.nii.gz\n",
      "parent201_lung_mask.nii.gz\n",
      "D:\\datasets\\lung\\ild\\ILD_DB_lungMasksKNifti\\parent201_lung_mask.nii.gz\n",
      "parent203_axial.nii.gz\n",
      "D:\\datasets\\lung\\ild\\ILD_DB_lungMasksKNifti\\parent203_axial.nii.gz\n",
      "parent203_lung_mask.nii.gz\n",
      "D:\\datasets\\lung\\ild\\ILD_DB_lungMasksKNifti\\parent203_lung_mask.nii.gz\n",
      "parent204_axial.nii.gz\n",
      "D:\\datasets\\lung\\ild\\ILD_DB_lungMasksKNifti\\parent204_axial.nii.gz\n",
      "parent204_lung_mask.nii.gz\n",
      "D:\\datasets\\lung\\ild\\ILD_DB_lungMasksKNifti\\parent204_lung_mask.nii.gz\n",
      "parent205_axial.nii.gz\n",
      "D:\\datasets\\lung\\ild\\ILD_DB_lungMasksKNifti\\parent205_axial.nii.gz\n",
      "parent205_lung_mask.nii.gz\n",
      "D:\\datasets\\lung\\ild\\ILD_DB_lungMasksKNifti\\parent205_lung_mask.nii.gz\n",
      "parent206_axial.nii.gz\n",
      "D:\\datasets\\lung\\ild\\ILD_DB_lungMasksKNifti\\parent206_axial.nii.gz\n",
      "parent206_lung_mask.nii.gz\n",
      "D:\\datasets\\lung\\ild\\ILD_DB_lungMasksKNifti\\parent206_lung_mask.nii.gz\n",
      "parent207_axial.nii.gz\n",
      "D:\\datasets\\lung\\ild\\ILD_DB_lungMasksKNifti\\parent207_axial.nii.gz\n",
      "parent207_lung_mask.nii.gz\n",
      "D:\\datasets\\lung\\ild\\ILD_DB_lungMasksKNifti\\parent207_lung_mask.nii.gz\n",
      "parent209_axial.nii.gz\n",
      "D:\\datasets\\lung\\ild\\ILD_DB_lungMasksKNifti\\parent209_axial.nii.gz\n",
      "parent209_lung_mask.nii.gz\n",
      "D:\\datasets\\lung\\ild\\ILD_DB_lungMasksKNifti\\parent209_lung_mask.nii.gz\n",
      "parent21_axial.nii.gz\n",
      "D:\\datasets\\lung\\ild\\ILD_DB_lungMasksKNifti\\parent21_axial.nii.gz\n",
      "parent21_lung_mask.nii.gz\n",
      "D:\\datasets\\lung\\ild\\ILD_DB_lungMasksKNifti\\parent21_lung_mask.nii.gz\n",
      "parent210_axial.nii.gz\n",
      "D:\\datasets\\lung\\ild\\ILD_DB_lungMasksKNifti\\parent210_axial.nii.gz\n",
      "parent210_lung_mask.nii.gz\n",
      "D:\\datasets\\lung\\ild\\ILD_DB_lungMasksKNifti\\parent210_lung_mask.nii.gz\n",
      "parent23_axial.nii.gz\n",
      "D:\\datasets\\lung\\ild\\ILD_DB_lungMasksKNifti\\parent23_axial.nii.gz\n",
      "parent23_lung_mask.nii.gz\n",
      "D:\\datasets\\lung\\ild\\ILD_DB_lungMasksKNifti\\parent23_lung_mask.nii.gz\n",
      "parent3_axial.nii.gz\n",
      "D:\\datasets\\lung\\ild\\ILD_DB_lungMasksKNifti\\parent3_axial.nii.gz\n",
      "parent3_lung_mask.nii.gz\n",
      "D:\\datasets\\lung\\ild\\ILD_DB_lungMasksKNifti\\parent3_lung_mask.nii.gz\n",
      "parent34_axial.nii.gz\n",
      "D:\\datasets\\lung\\ild\\ILD_DB_lungMasksKNifti\\parent34_axial.nii.gz\n",
      "parent34_lung_mask.nii.gz\n",
      "D:\\datasets\\lung\\ild\\ILD_DB_lungMasksKNifti\\parent34_lung_mask.nii.gz\n",
      "parent35_axial.nii.gz\n",
      "D:\\datasets\\lung\\ild\\ILD_DB_lungMasksKNifti\\parent35_axial.nii.gz\n",
      "parent35_lung_mask.nii.gz\n",
      "D:\\datasets\\lung\\ild\\ILD_DB_lungMasksKNifti\\parent35_lung_mask.nii.gz\n",
      "parent36_axial.nii.gz\n",
      "D:\\datasets\\lung\\ild\\ILD_DB_lungMasksKNifti\\parent36_axial.nii.gz\n",
      "parent36_lung_mask.nii.gz\n",
      "D:\\datasets\\lung\\ild\\ILD_DB_lungMasksKNifti\\parent36_lung_mask.nii.gz\n",
      "parent37_axial.nii.gz\n",
      "D:\\datasets\\lung\\ild\\ILD_DB_lungMasksKNifti\\parent37_axial.nii.gz\n",
      "parent37_lung_mask.nii.gz\n",
      "D:\\datasets\\lung\\ild\\ILD_DB_lungMasksKNifti\\parent37_lung_mask.nii.gz\n",
      "parent38_axial.nii.gz\n",
      "D:\\datasets\\lung\\ild\\ILD_DB_lungMasksKNifti\\parent38_axial.nii.gz\n",
      "parent38_lung_mask.nii.gz\n",
      "D:\\datasets\\lung\\ild\\ILD_DB_lungMasksKNifti\\parent38_lung_mask.nii.gz\n",
      "parent39_axial.nii.gz\n",
      "D:\\datasets\\lung\\ild\\ILD_DB_lungMasksKNifti\\parent39_axial.nii.gz\n",
      "parent39_lung_mask.nii.gz\n",
      "D:\\datasets\\lung\\ild\\ILD_DB_lungMasksKNifti\\parent39_lung_mask.nii.gz\n",
      "parent41_axial.nii.gz\n",
      "D:\\datasets\\lung\\ild\\ILD_DB_lungMasksKNifti\\parent41_axial.nii.gz\n",
      "parent41_lung_mask.nii.gz\n",
      "D:\\datasets\\lung\\ild\\ILD_DB_lungMasksKNifti\\parent41_lung_mask.nii.gz\n",
      "parent45_axial.nii.gz\n",
      "D:\\datasets\\lung\\ild\\ILD_DB_lungMasksKNifti\\parent45_axial.nii.gz\n",
      "parent45_lung_mask.nii.gz\n",
      "D:\\datasets\\lung\\ild\\ILD_DB_lungMasksKNifti\\parent45_lung_mask.nii.gz\n",
      "parent46_axial.nii.gz\n",
      "D:\\datasets\\lung\\ild\\ILD_DB_lungMasksKNifti\\parent46_axial.nii.gz\n",
      "parent46_lung_mask.nii.gz\n",
      "D:\\datasets\\lung\\ild\\ILD_DB_lungMasksKNifti\\parent46_lung_mask.nii.gz\n",
      "parent47_axial.nii.gz\n",
      "D:\\datasets\\lung\\ild\\ILD_DB_lungMasksKNifti\\parent47_axial.nii.gz\n",
      "parent47_lung_mask.nii.gz\n",
      "D:\\datasets\\lung\\ild\\ILD_DB_lungMasksKNifti\\parent47_lung_mask.nii.gz\n",
      "parent48_axial.nii.gz\n",
      "D:\\datasets\\lung\\ild\\ILD_DB_lungMasksKNifti\\parent48_axial.nii.gz\n",
      "parent48_lung_mask.nii.gz\n",
      "D:\\datasets\\lung\\ild\\ILD_DB_lungMasksKNifti\\parent48_lung_mask.nii.gz\n",
      "parent51_axial.nii.gz\n",
      "D:\\datasets\\lung\\ild\\ILD_DB_lungMasksKNifti\\parent51_axial.nii.gz\n"
     ]
    },
    {
     "name": "stdout",
     "output_type": "stream",
     "text": [
      "parent51_lung_mask.nii.gz\n",
      "D:\\datasets\\lung\\ild\\ILD_DB_lungMasksKNifti\\parent51_lung_mask.nii.gz\n",
      "parent53_CT-INSPIRIUM-1841_axial.nii.gz\n",
      "D:\\datasets\\lung\\ild\\ILD_DB_lungMasksKNifti\\parent53_CT-INSPIRIUM-1841_axial.nii.gz\n",
      "parent53_CT-INSPIRIUM-1841_lung_mask.nii.gz\n",
      "D:\\datasets\\lung\\ild\\ILD_DB_lungMasksKNifti\\parent53_CT-INSPIRIUM-1841_lung_mask.nii.gz\n",
      "parent53_CT-INSPIRIUM-7605_axial.nii.gz\n",
      "D:\\datasets\\lung\\ild\\ILD_DB_lungMasksKNifti\\parent53_CT-INSPIRIUM-7605_axial.nii.gz\n",
      "parent53_CT-INSPIRIUM-7605_lung_mask.nii.gz\n",
      "D:\\datasets\\lung\\ild\\ILD_DB_lungMasksKNifti\\parent53_CT-INSPIRIUM-7605_lung_mask.nii.gz\n",
      "parent56_axial.nii.gz\n",
      "D:\\datasets\\lung\\ild\\ILD_DB_lungMasksKNifti\\parent56_axial.nii.gz\n",
      "parent56_lung_mask.nii.gz\n",
      "D:\\datasets\\lung\\ild\\ILD_DB_lungMasksKNifti\\parent56_lung_mask.nii.gz\n",
      "parent57_CT--0002_axial.nii.gz\n",
      "D:\\datasets\\lung\\ild\\ILD_DB_lungMasksKNifti\\parent57_CT--0002_axial.nii.gz\n",
      "parent57_CT--0002_lung_mask.nii.gz\n",
      "D:\\datasets\\lung\\ild\\ILD_DB_lungMasksKNifti\\parent57_CT--0002_lung_mask.nii.gz\n",
      "parent57_CT-INSPIRIUM-3550_axial.nii.gz\n",
      "D:\\datasets\\lung\\ild\\ILD_DB_lungMasksKNifti\\parent57_CT-INSPIRIUM-3550_axial.nii.gz\n",
      "parent57_CT-INSPIRIUM-3550_lung_mask.nii.gz\n",
      "D:\\datasets\\lung\\ild\\ILD_DB_lungMasksKNifti\\parent57_CT-INSPIRIUM-3550_lung_mask.nii.gz\n",
      "parent57_CT-series-5652_axial.nii.gz\n",
      "D:\\datasets\\lung\\ild\\ILD_DB_lungMasksKNifti\\parent57_CT-series-5652_axial.nii.gz\n",
      "parent57_CT-series-5652_lung_mask.nii.gz\n",
      "D:\\datasets\\lung\\ild\\ILD_DB_lungMasksKNifti\\parent57_CT-series-5652_lung_mask.nii.gz\n",
      "parent62_axial.nii.gz\n",
      "D:\\datasets\\lung\\ild\\ILD_DB_lungMasksKNifti\\parent62_axial.nii.gz\n",
      "parent62_lung_mask.nii.gz\n",
      "D:\\datasets\\lung\\ild\\ILD_DB_lungMasksKNifti\\parent62_lung_mask.nii.gz\n",
      "parent65_axial.nii.gz\n",
      "D:\\datasets\\lung\\ild\\ILD_DB_lungMasksKNifti\\parent65_axial.nii.gz\n",
      "parent65_lung_mask.nii.gz\n",
      "D:\\datasets\\lung\\ild\\ILD_DB_lungMasksKNifti\\parent65_lung_mask.nii.gz\n",
      "parent66_axial.nii.gz\n",
      "D:\\datasets\\lung\\ild\\ILD_DB_lungMasksKNifti\\parent66_axial.nii.gz\n",
      "parent66_lung_mask.nii.gz\n",
      "D:\\datasets\\lung\\ild\\ILD_DB_lungMasksKNifti\\parent66_lung_mask.nii.gz\n",
      "parent7_axial.nii.gz\n",
      "D:\\datasets\\lung\\ild\\ILD_DB_lungMasksKNifti\\parent7_axial.nii.gz\n",
      "parent7_lung_mask.nii.gz\n",
      "D:\\datasets\\lung\\ild\\ILD_DB_lungMasksKNifti\\parent7_lung_mask.nii.gz\n",
      "parent70_axial.nii.gz\n",
      "D:\\datasets\\lung\\ild\\ILD_DB_lungMasksKNifti\\parent70_axial.nii.gz\n",
      "parent70_lung_mask.nii.gz\n",
      "D:\\datasets\\lung\\ild\\ILD_DB_lungMasksKNifti\\parent70_lung_mask.nii.gz\n",
      "parent74_axial.nii.gz\n",
      "D:\\datasets\\lung\\ild\\ILD_DB_lungMasksKNifti\\parent74_axial.nii.gz\n",
      "parent74_lung_mask.nii.gz\n",
      "D:\\datasets\\lung\\ild\\ILD_DB_lungMasksKNifti\\parent74_lung_mask.nii.gz\n",
      "parent76_axial.nii.gz\n",
      "D:\\datasets\\lung\\ild\\ILD_DB_lungMasksKNifti\\parent76_axial.nii.gz\n",
      "parent76_lung_mask.nii.gz\n",
      "D:\\datasets\\lung\\ild\\ILD_DB_lungMasksKNifti\\parent76_lung_mask.nii.gz\n",
      "parent77_axial.nii.gz\n",
      "D:\\datasets\\lung\\ild\\ILD_DB_lungMasksKNifti\\parent77_axial.nii.gz\n",
      "parent77_lung_mask.nii.gz\n",
      "D:\\datasets\\lung\\ild\\ILD_DB_lungMasksKNifti\\parent77_lung_mask.nii.gz\n",
      "parent78_axial.nii.gz\n",
      "D:\\datasets\\lung\\ild\\ILD_DB_lungMasksKNifti\\parent78_axial.nii.gz\n",
      "parent78_lung_mask.nii.gz\n",
      "D:\\datasets\\lung\\ild\\ILD_DB_lungMasksKNifti\\parent78_lung_mask.nii.gz\n",
      "parent8_CT-INSPIRIUM-8871_axial.nii.gz\n",
      "D:\\datasets\\lung\\ild\\ILD_DB_lungMasksKNifti\\parent8_CT-INSPIRIUM-8871_axial.nii.gz\n",
      "parent8_CT-INSPIRIUM-8871_lung_mask.nii.gz\n",
      "D:\\datasets\\lung\\ild\\ILD_DB_lungMasksKNifti\\parent8_CT-INSPIRIUM-8871_lung_mask.nii.gz\n",
      "parent8_CT-INSPIRIUM-8873_axial.nii.gz\n",
      "D:\\datasets\\lung\\ild\\ILD_DB_lungMasksKNifti\\parent8_CT-INSPIRIUM-8873_axial.nii.gz\n",
      "parent8_CT-INSPIRIUM-8873_lung_mask.nii.gz\n",
      "D:\\datasets\\lung\\ild\\ILD_DB_lungMasksKNifti\\parent8_CT-INSPIRIUM-8873_lung_mask.nii.gz\n",
      "parent80_axial.nii.gz\n",
      "D:\\datasets\\lung\\ild\\ILD_DB_lungMasksKNifti\\parent80_axial.nii.gz\n",
      "parent80_lung_mask.nii.gz\n",
      "D:\\datasets\\lung\\ild\\ILD_DB_lungMasksKNifti\\parent80_lung_mask.nii.gz\n",
      "parent81_axial.nii.gz\n",
      "D:\\datasets\\lung\\ild\\ILD_DB_lungMasksKNifti\\parent81_axial.nii.gz\n",
      "parent81_lung_mask.nii.gz\n",
      "D:\\datasets\\lung\\ild\\ILD_DB_lungMasksKNifti\\parent81_lung_mask.nii.gz\n",
      "parent82_axial.nii.gz\n",
      "D:\\datasets\\lung\\ild\\ILD_DB_lungMasksKNifti\\parent82_axial.nii.gz\n",
      "parent82_lung_mask.nii.gz\n",
      "D:\\datasets\\lung\\ild\\ILD_DB_lungMasksKNifti\\parent82_lung_mask.nii.gz\n",
      "parent83_axial.nii.gz\n",
      "D:\\datasets\\lung\\ild\\ILD_DB_lungMasksKNifti\\parent83_axial.nii.gz\n",
      "parent83_lung_mask.nii.gz\n",
      "D:\\datasets\\lung\\ild\\ILD_DB_lungMasksKNifti\\parent83_lung_mask.nii.gz\n",
      "parent84_axial.nii.gz\n",
      "D:\\datasets\\lung\\ild\\ILD_DB_lungMasksKNifti\\parent84_axial.nii.gz\n",
      "parent84_lung_mask.nii.gz\n",
      "D:\\datasets\\lung\\ild\\ILD_DB_lungMasksKNifti\\parent84_lung_mask.nii.gz\n",
      "parent89_axial.nii.gz\n",
      "D:\\datasets\\lung\\ild\\ILD_DB_lungMasksKNifti\\parent89_axial.nii.gz\n",
      "parent89_lung_mask.nii.gz\n",
      "D:\\datasets\\lung\\ild\\ILD_DB_lungMasksKNifti\\parent89_lung_mask.nii.gz\n",
      "parent90_axial.nii.gz\n",
      "D:\\datasets\\lung\\ild\\ILD_DB_lungMasksKNifti\\parent90_axial.nii.gz\n",
      "parent90_lung_mask.nii.gz\n",
      "D:\\datasets\\lung\\ild\\ILD_DB_lungMasksKNifti\\parent90_lung_mask.nii.gz\n",
      "parent92_axial.nii.gz\n",
      "D:\\datasets\\lung\\ild\\ILD_DB_lungMasksKNifti\\parent92_axial.nii.gz\n",
      "parent92_lung_mask.nii.gz\n",
      "D:\\datasets\\lung\\ild\\ILD_DB_lungMasksKNifti\\parent92_lung_mask.nii.gz\n",
      "parent94_axial.nii.gz\n",
      "D:\\datasets\\lung\\ild\\ILD_DB_lungMasksKNifti\\parent94_axial.nii.gz\n",
      "parent94_lung_mask.nii.gz\n",
      "D:\\datasets\\lung\\ild\\ILD_DB_lungMasksKNifti\\parent94_lung_mask.nii.gz\n"
     ]
    },
    {
     "data": {
      "text/plain": [
       "['D:\\\\datasets\\\\lung\\\\ild\\\\ILD_DB_lungMasksK\\\\101',\n",
       " 'D:\\\\datasets\\\\lung\\\\ild\\\\ILD_DB_lungMasksK\\\\105',\n",
       " 'D:\\\\datasets\\\\lung\\\\ild\\\\ILD_DB_lungMasksK\\\\107',\n",
       " 'D:\\\\datasets\\\\lung\\\\ild\\\\ILD_DB_lungMasksK\\\\108',\n",
       " 'D:\\\\datasets\\\\lung\\\\ild\\\\ILD_DB_lungMasksK\\\\109',\n",
       " 'D:\\\\datasets\\\\lung\\\\ild\\\\ILD_DB_lungMasksK\\\\112',\n",
       " 'D:\\\\datasets\\\\lung\\\\ild\\\\ILD_DB_lungMasksK\\\\116',\n",
       " 'D:\\\\datasets\\\\lung\\\\ild\\\\ILD_DB_lungMasksK\\\\118',\n",
       " 'D:\\\\datasets\\\\lung\\\\ild\\\\ILD_DB_lungMasksK\\\\119',\n",
       " 'D:\\\\datasets\\\\lung\\\\ild\\\\ILD_DB_lungMasksK\\\\12',\n",
       " 'D:\\\\datasets\\\\lung\\\\ild\\\\ILD_DB_lungMasksK\\\\120',\n",
       " 'D:\\\\datasets\\\\lung\\\\ild\\\\ILD_DB_lungMasksK\\\\121',\n",
       " 'D:\\\\datasets\\\\lung\\\\ild\\\\ILD_DB_lungMasksK\\\\122',\n",
       " 'D:\\\\datasets\\\\lung\\\\ild\\\\ILD_DB_lungMasksK\\\\123',\n",
       " 'D:\\\\datasets\\\\lung\\\\ild\\\\ILD_DB_lungMasksK\\\\124',\n",
       " 'D:\\\\datasets\\\\lung\\\\ild\\\\ILD_DB_lungMasksK\\\\126',\n",
       " 'D:\\\\datasets\\\\lung\\\\ild\\\\ILD_DB_lungMasksK\\\\127',\n",
       " 'D:\\\\datasets\\\\lung\\\\ild\\\\ILD_DB_lungMasksK\\\\129',\n",
       " 'D:\\\\datasets\\\\lung\\\\ild\\\\ILD_DB_lungMasksK\\\\130',\n",
       " 'D:\\\\datasets\\\\lung\\\\ild\\\\ILD_DB_lungMasksK\\\\131',\n",
       " 'D:\\\\datasets\\\\lung\\\\ild\\\\ILD_DB_lungMasksK\\\\132',\n",
       " 'D:\\\\datasets\\\\lung\\\\ild\\\\ILD_DB_lungMasksK\\\\134',\n",
       " 'D:\\\\datasets\\\\lung\\\\ild\\\\ILD_DB_lungMasksK\\\\135',\n",
       " 'D:\\\\datasets\\\\lung\\\\ild\\\\ILD_DB_lungMasksK\\\\136',\n",
       " 'D:\\\\datasets\\\\lung\\\\ild\\\\ILD_DB_lungMasksK\\\\137',\n",
       " 'D:\\\\datasets\\\\lung\\\\ild\\\\ILD_DB_lungMasksK\\\\138',\n",
       " 'D:\\\\datasets\\\\lung\\\\ild\\\\ILD_DB_lungMasksK\\\\140',\n",
       " 'D:\\\\datasets\\\\lung\\\\ild\\\\ILD_DB_lungMasksK\\\\142',\n",
       " 'D:\\\\datasets\\\\lung\\\\ild\\\\ILD_DB_lungMasksK\\\\143',\n",
       " 'D:\\\\datasets\\\\lung\\\\ild\\\\ILD_DB_lungMasksK\\\\144',\n",
       " 'D:\\\\datasets\\\\lung\\\\ild\\\\ILD_DB_lungMasksK\\\\147',\n",
       " 'D:\\\\datasets\\\\lung\\\\ild\\\\ILD_DB_lungMasksK\\\\149',\n",
       " 'D:\\\\datasets\\\\lung\\\\ild\\\\ILD_DB_lungMasksK\\\\150',\n",
       " 'D:\\\\datasets\\\\lung\\\\ild\\\\ILD_DB_lungMasksK\\\\152',\n",
       " 'D:\\\\datasets\\\\lung\\\\ild\\\\ILD_DB_lungMasksK\\\\153',\n",
       " 'D:\\\\datasets\\\\lung\\\\ild\\\\ILD_DB_lungMasksK\\\\154',\n",
       " 'D:\\\\datasets\\\\lung\\\\ild\\\\ILD_DB_lungMasksK\\\\157',\n",
       " 'D:\\\\datasets\\\\lung\\\\ild\\\\ILD_DB_lungMasksK\\\\158',\n",
       " 'D:\\\\datasets\\\\lung\\\\ild\\\\ILD_DB_lungMasksK\\\\159',\n",
       " 'D:\\\\datasets\\\\lung\\\\ild\\\\ILD_DB_lungMasksK\\\\160',\n",
       " 'D:\\\\datasets\\\\lung\\\\ild\\\\ILD_DB_lungMasksK\\\\162',\n",
       " 'D:\\\\datasets\\\\lung\\\\ild\\\\ILD_DB_lungMasksK\\\\163',\n",
       " 'D:\\\\datasets\\\\lung\\\\ild\\\\ILD_DB_lungMasksK\\\\164',\n",
       " 'D:\\\\datasets\\\\lung\\\\ild\\\\ILD_DB_lungMasksK\\\\165',\n",
       " 'D:\\\\datasets\\\\lung\\\\ild\\\\ILD_DB_lungMasksK\\\\166',\n",
       " 'D:\\\\datasets\\\\lung\\\\ild\\\\ILD_DB_lungMasksK\\\\167',\n",
       " 'D:\\\\datasets\\\\lung\\\\ild\\\\ILD_DB_lungMasksK\\\\168',\n",
       " 'D:\\\\datasets\\\\lung\\\\ild\\\\ILD_DB_lungMasksK\\\\169',\n",
       " 'D:\\\\datasets\\\\lung\\\\ild\\\\ILD_DB_lungMasksK\\\\17',\n",
       " 'D:\\\\datasets\\\\lung\\\\ild\\\\ILD_DB_lungMasksK\\\\171',\n",
       " 'D:\\\\datasets\\\\lung\\\\ild\\\\ILD_DB_lungMasksK\\\\173',\n",
       " 'D:\\\\datasets\\\\lung\\\\ild\\\\ILD_DB_lungMasksK\\\\174',\n",
       " 'D:\\\\datasets\\\\lung\\\\ild\\\\ILD_DB_lungMasksK\\\\177',\n",
       " 'D:\\\\datasets\\\\lung\\\\ild\\\\ILD_DB_lungMasksK\\\\180',\n",
       " 'D:\\\\datasets\\\\lung\\\\ild\\\\ILD_DB_lungMasksK\\\\181',\n",
       " 'D:\\\\datasets\\\\lung\\\\ild\\\\ILD_DB_lungMasksK\\\\183',\n",
       " 'D:\\\\datasets\\\\lung\\\\ild\\\\ILD_DB_lungMasksK\\\\184',\n",
       " 'D:\\\\datasets\\\\lung\\\\ild\\\\ILD_DB_lungMasksK\\\\185',\n",
       " 'D:\\\\datasets\\\\lung\\\\ild\\\\ILD_DB_lungMasksK\\\\19',\n",
       " 'D:\\\\datasets\\\\lung\\\\ild\\\\ILD_DB_lungMasksK\\\\200',\n",
       " 'D:\\\\datasets\\\\lung\\\\ild\\\\ILD_DB_lungMasksK\\\\201',\n",
       " 'D:\\\\datasets\\\\lung\\\\ild\\\\ILD_DB_lungMasksK\\\\203',\n",
       " 'D:\\\\datasets\\\\lung\\\\ild\\\\ILD_DB_lungMasksK\\\\204',\n",
       " 'D:\\\\datasets\\\\lung\\\\ild\\\\ILD_DB_lungMasksK\\\\205',\n",
       " 'D:\\\\datasets\\\\lung\\\\ild\\\\ILD_DB_lungMasksK\\\\206',\n",
       " 'D:\\\\datasets\\\\lung\\\\ild\\\\ILD_DB_lungMasksK\\\\207',\n",
       " 'D:\\\\datasets\\\\lung\\\\ild\\\\ILD_DB_lungMasksK\\\\209',\n",
       " 'D:\\\\datasets\\\\lung\\\\ild\\\\ILD_DB_lungMasksK\\\\21',\n",
       " 'D:\\\\datasets\\\\lung\\\\ild\\\\ILD_DB_lungMasksK\\\\210',\n",
       " 'D:\\\\datasets\\\\lung\\\\ild\\\\ILD_DB_lungMasksK\\\\23',\n",
       " 'D:\\\\datasets\\\\lung\\\\ild\\\\ILD_DB_lungMasksK\\\\3',\n",
       " 'D:\\\\datasets\\\\lung\\\\ild\\\\ILD_DB_lungMasksK\\\\34',\n",
       " 'D:\\\\datasets\\\\lung\\\\ild\\\\ILD_DB_lungMasksK\\\\35',\n",
       " 'D:\\\\datasets\\\\lung\\\\ild\\\\ILD_DB_lungMasksK\\\\36',\n",
       " 'D:\\\\datasets\\\\lung\\\\ild\\\\ILD_DB_lungMasksK\\\\37',\n",
       " 'D:\\\\datasets\\\\lung\\\\ild\\\\ILD_DB_lungMasksK\\\\38',\n",
       " 'D:\\\\datasets\\\\lung\\\\ild\\\\ILD_DB_lungMasksK\\\\39',\n",
       " 'D:\\\\datasets\\\\lung\\\\ild\\\\ILD_DB_lungMasksK\\\\41',\n",
       " 'D:\\\\datasets\\\\lung\\\\ild\\\\ILD_DB_lungMasksK\\\\45',\n",
       " 'D:\\\\datasets\\\\lung\\\\ild\\\\ILD_DB_lungMasksK\\\\46',\n",
       " 'D:\\\\datasets\\\\lung\\\\ild\\\\ILD_DB_lungMasksK\\\\47',\n",
       " 'D:\\\\datasets\\\\lung\\\\ild\\\\ILD_DB_lungMasksK\\\\48',\n",
       " 'D:\\\\datasets\\\\lung\\\\ild\\\\ILD_DB_lungMasksK\\\\51',\n",
       " 'D:\\\\datasets\\\\lung\\\\ild\\\\ILD_DB_lungMasksK\\\\53',\n",
       " 'D:\\\\datasets\\\\lung\\\\ild\\\\ILD_DB_lungMasksK\\\\56',\n",
       " 'D:\\\\datasets\\\\lung\\\\ild\\\\ILD_DB_lungMasksK\\\\57',\n",
       " 'D:\\\\datasets\\\\lung\\\\ild\\\\ILD_DB_lungMasksK\\\\62',\n",
       " 'D:\\\\datasets\\\\lung\\\\ild\\\\ILD_DB_lungMasksK\\\\65',\n",
       " 'D:\\\\datasets\\\\lung\\\\ild\\\\ILD_DB_lungMasksK\\\\66',\n",
       " 'D:\\\\datasets\\\\lung\\\\ild\\\\ILD_DB_lungMasksK\\\\7',\n",
       " 'D:\\\\datasets\\\\lung\\\\ild\\\\ILD_DB_lungMasksK\\\\70',\n",
       " 'D:\\\\datasets\\\\lung\\\\ild\\\\ILD_DB_lungMasksK\\\\74',\n",
       " 'D:\\\\datasets\\\\lung\\\\ild\\\\ILD_DB_lungMasksK\\\\76',\n",
       " 'D:\\\\datasets\\\\lung\\\\ild\\\\ILD_DB_lungMasksK\\\\77',\n",
       " 'D:\\\\datasets\\\\lung\\\\ild\\\\ILD_DB_lungMasksK\\\\78',\n",
       " 'D:\\\\datasets\\\\lung\\\\ild\\\\ILD_DB_lungMasksK\\\\8',\n",
       " 'D:\\\\datasets\\\\lung\\\\ild\\\\ILD_DB_lungMasksK\\\\80',\n",
       " 'D:\\\\datasets\\\\lung\\\\ild\\\\ILD_DB_lungMasksK\\\\81',\n",
       " 'D:\\\\datasets\\\\lung\\\\ild\\\\ILD_DB_lungMasksK\\\\82',\n",
       " 'D:\\\\datasets\\\\lung\\\\ild\\\\ILD_DB_lungMasksK\\\\83',\n",
       " 'D:\\\\datasets\\\\lung\\\\ild\\\\ILD_DB_lungMasksK\\\\84',\n",
       " 'D:\\\\datasets\\\\lung\\\\ild\\\\ILD_DB_lungMasksK\\\\89',\n",
       " 'D:\\\\datasets\\\\lung\\\\ild\\\\ILD_DB_lungMasksK\\\\90',\n",
       " 'D:\\\\datasets\\\\lung\\\\ild\\\\ILD_DB_lungMasksK\\\\92',\n",
       " 'D:\\\\datasets\\\\lung\\\\ild\\\\ILD_DB_lungMasksK\\\\94',\n",
       " 'D:\\\\datasets\\\\lung\\\\ild\\\\ILD_DB_lungMasksK\\\\101\\\\axial',\n",
       " 'D:\\\\datasets\\\\lung\\\\ild\\\\ILD_DB_lungMasksK\\\\101\\\\lung_mask',\n",
       " 'D:\\\\datasets\\\\lung\\\\ild\\\\ILD_DB_lungMasksK\\\\105\\\\axial',\n",
       " 'D:\\\\datasets\\\\lung\\\\ild\\\\ILD_DB_lungMasksK\\\\105\\\\lung_mask',\n",
       " 'D:\\\\datasets\\\\lung\\\\ild\\\\ILD_DB_lungMasksK\\\\107\\\\axial',\n",
       " 'D:\\\\datasets\\\\lung\\\\ild\\\\ILD_DB_lungMasksK\\\\107\\\\lung_mask',\n",
       " 'D:\\\\datasets\\\\lung\\\\ild\\\\ILD_DB_lungMasksK\\\\108\\\\axial',\n",
       " 'D:\\\\datasets\\\\lung\\\\ild\\\\ILD_DB_lungMasksK\\\\108\\\\lung_mask',\n",
       " 'D:\\\\datasets\\\\lung\\\\ild\\\\ILD_DB_lungMasksK\\\\109\\\\axial',\n",
       " 'D:\\\\datasets\\\\lung\\\\ild\\\\ILD_DB_lungMasksK\\\\109\\\\lung_mask',\n",
       " 'D:\\\\datasets\\\\lung\\\\ild\\\\ILD_DB_lungMasksK\\\\112\\\\axial',\n",
       " 'D:\\\\datasets\\\\lung\\\\ild\\\\ILD_DB_lungMasksK\\\\112\\\\lung_mask',\n",
       " 'D:\\\\datasets\\\\lung\\\\ild\\\\ILD_DB_lungMasksK\\\\116\\\\axial',\n",
       " 'D:\\\\datasets\\\\lung\\\\ild\\\\ILD_DB_lungMasksK\\\\116\\\\lung_mask',\n",
       " 'D:\\\\datasets\\\\lung\\\\ild\\\\ILD_DB_lungMasksK\\\\118\\\\axial',\n",
       " 'D:\\\\datasets\\\\lung\\\\ild\\\\ILD_DB_lungMasksK\\\\118\\\\lung_mask',\n",
       " 'D:\\\\datasets\\\\lung\\\\ild\\\\ILD_DB_lungMasksK\\\\119\\\\axial',\n",
       " 'D:\\\\datasets\\\\lung\\\\ild\\\\ILD_DB_lungMasksK\\\\119\\\\lung_mask',\n",
       " 'D:\\\\datasets\\\\lung\\\\ild\\\\ILD_DB_lungMasksK\\\\12\\\\axial',\n",
       " 'D:\\\\datasets\\\\lung\\\\ild\\\\ILD_DB_lungMasksK\\\\12\\\\lung_mask',\n",
       " 'D:\\\\datasets\\\\lung\\\\ild\\\\ILD_DB_lungMasksK\\\\120\\\\axial',\n",
       " 'D:\\\\datasets\\\\lung\\\\ild\\\\ILD_DB_lungMasksK\\\\120\\\\lung_mask',\n",
       " 'D:\\\\datasets\\\\lung\\\\ild\\\\ILD_DB_lungMasksK\\\\121\\\\axial',\n",
       " 'D:\\\\datasets\\\\lung\\\\ild\\\\ILD_DB_lungMasksK\\\\121\\\\lung_mask',\n",
       " 'D:\\\\datasets\\\\lung\\\\ild\\\\ILD_DB_lungMasksK\\\\122\\\\axial',\n",
       " 'D:\\\\datasets\\\\lung\\\\ild\\\\ILD_DB_lungMasksK\\\\122\\\\lung_mask',\n",
       " 'D:\\\\datasets\\\\lung\\\\ild\\\\ILD_DB_lungMasksK\\\\123\\\\axial',\n",
       " 'D:\\\\datasets\\\\lung\\\\ild\\\\ILD_DB_lungMasksK\\\\123\\\\lung_mask',\n",
       " 'D:\\\\datasets\\\\lung\\\\ild\\\\ILD_DB_lungMasksK\\\\124\\\\axial',\n",
       " 'D:\\\\datasets\\\\lung\\\\ild\\\\ILD_DB_lungMasksK\\\\124\\\\lung_mask',\n",
       " 'D:\\\\datasets\\\\lung\\\\ild\\\\ILD_DB_lungMasksK\\\\126\\\\axial',\n",
       " 'D:\\\\datasets\\\\lung\\\\ild\\\\ILD_DB_lungMasksK\\\\126\\\\lung_mask',\n",
       " 'D:\\\\datasets\\\\lung\\\\ild\\\\ILD_DB_lungMasksK\\\\127\\\\axial',\n",
       " 'D:\\\\datasets\\\\lung\\\\ild\\\\ILD_DB_lungMasksK\\\\127\\\\lung_mask',\n",
       " 'D:\\\\datasets\\\\lung\\\\ild\\\\ILD_DB_lungMasksK\\\\129\\\\axial',\n",
       " 'D:\\\\datasets\\\\lung\\\\ild\\\\ILD_DB_lungMasksK\\\\129\\\\lung_mask',\n",
       " 'D:\\\\datasets\\\\lung\\\\ild\\\\ILD_DB_lungMasksK\\\\130\\\\axial',\n",
       " 'D:\\\\datasets\\\\lung\\\\ild\\\\ILD_DB_lungMasksK\\\\130\\\\lung_mask',\n",
       " 'D:\\\\datasets\\\\lung\\\\ild\\\\ILD_DB_lungMasksK\\\\131\\\\axial',\n",
       " 'D:\\\\datasets\\\\lung\\\\ild\\\\ILD_DB_lungMasksK\\\\131\\\\lung_mask',\n",
       " 'D:\\\\datasets\\\\lung\\\\ild\\\\ILD_DB_lungMasksK\\\\132\\\\axial',\n",
       " 'D:\\\\datasets\\\\lung\\\\ild\\\\ILD_DB_lungMasksK\\\\132\\\\lung_mask',\n",
       " 'D:\\\\datasets\\\\lung\\\\ild\\\\ILD_DB_lungMasksK\\\\134\\\\axial',\n",
       " 'D:\\\\datasets\\\\lung\\\\ild\\\\ILD_DB_lungMasksK\\\\134\\\\lung_mask',\n",
       " 'D:\\\\datasets\\\\lung\\\\ild\\\\ILD_DB_lungMasksK\\\\135\\\\axial',\n",
       " 'D:\\\\datasets\\\\lung\\\\ild\\\\ILD_DB_lungMasksK\\\\135\\\\lung_mask',\n",
       " 'D:\\\\datasets\\\\lung\\\\ild\\\\ILD_DB_lungMasksK\\\\136\\\\axial',\n",
       " 'D:\\\\datasets\\\\lung\\\\ild\\\\ILD_DB_lungMasksK\\\\136\\\\lung_mask',\n",
       " 'D:\\\\datasets\\\\lung\\\\ild\\\\ILD_DB_lungMasksK\\\\137\\\\axial',\n",
       " 'D:\\\\datasets\\\\lung\\\\ild\\\\ILD_DB_lungMasksK\\\\137\\\\lung_mask',\n",
       " 'D:\\\\datasets\\\\lung\\\\ild\\\\ILD_DB_lungMasksK\\\\138\\\\axial',\n",
       " 'D:\\\\datasets\\\\lung\\\\ild\\\\ILD_DB_lungMasksK\\\\138\\\\lung_mask',\n",
       " 'D:\\\\datasets\\\\lung\\\\ild\\\\ILD_DB_lungMasksK\\\\140\\\\axial',\n",
       " 'D:\\\\datasets\\\\lung\\\\ild\\\\ILD_DB_lungMasksK\\\\140\\\\lung_mask',\n",
       " 'D:\\\\datasets\\\\lung\\\\ild\\\\ILD_DB_lungMasksK\\\\142\\\\CT-INSPIRIUM-2950',\n",
       " 'D:\\\\datasets\\\\lung\\\\ild\\\\ILD_DB_lungMasksK\\\\142\\\\CT-INSPIRIUM-2951',\n",
       " 'D:\\\\datasets\\\\lung\\\\ild\\\\ILD_DB_lungMasksK\\\\142\\\\CT-INSPIRIUM-2950\\\\axial',\n",
       " 'D:\\\\datasets\\\\lung\\\\ild\\\\ILD_DB_lungMasksK\\\\142\\\\CT-INSPIRIUM-2950\\\\lung_mask',\n",
       " 'D:\\\\datasets\\\\lung\\\\ild\\\\ILD_DB_lungMasksK\\\\142\\\\CT-INSPIRIUM-2951\\\\axial',\n",
       " 'D:\\\\datasets\\\\lung\\\\ild\\\\ILD_DB_lungMasksK\\\\142\\\\CT-INSPIRIUM-2951\\\\lung_mask',\n",
       " 'D:\\\\datasets\\\\lung\\\\ild\\\\ILD_DB_lungMasksK\\\\143\\\\axial',\n",
       " 'D:\\\\datasets\\\\lung\\\\ild\\\\ILD_DB_lungMasksK\\\\143\\\\lung_mask',\n",
       " 'D:\\\\datasets\\\\lung\\\\ild\\\\ILD_DB_lungMasksK\\\\144\\\\axial',\n",
       " 'D:\\\\datasets\\\\lung\\\\ild\\\\ILD_DB_lungMasksK\\\\144\\\\lung_mask',\n",
       " 'D:\\\\datasets\\\\lung\\\\ild\\\\ILD_DB_lungMasksK\\\\147\\\\axial',\n",
       " 'D:\\\\datasets\\\\lung\\\\ild\\\\ILD_DB_lungMasksK\\\\147\\\\lung_mask',\n",
       " 'D:\\\\datasets\\\\lung\\\\ild\\\\ILD_DB_lungMasksK\\\\149\\\\axial',\n",
       " 'D:\\\\datasets\\\\lung\\\\ild\\\\ILD_DB_lungMasksK\\\\149\\\\lung_mask',\n",
       " 'D:\\\\datasets\\\\lung\\\\ild\\\\ILD_DB_lungMasksK\\\\150\\\\axial',\n",
       " 'D:\\\\datasets\\\\lung\\\\ild\\\\ILD_DB_lungMasksK\\\\150\\\\lung_mask',\n",
       " 'D:\\\\datasets\\\\lung\\\\ild\\\\ILD_DB_lungMasksK\\\\152\\\\axial',\n",
       " 'D:\\\\datasets\\\\lung\\\\ild\\\\ILD_DB_lungMasksK\\\\152\\\\lung_mask',\n",
       " 'D:\\\\datasets\\\\lung\\\\ild\\\\ILD_DB_lungMasksK\\\\153\\\\axial',\n",
       " 'D:\\\\datasets\\\\lung\\\\ild\\\\ILD_DB_lungMasksK\\\\153\\\\lung_mask',\n",
       " 'D:\\\\datasets\\\\lung\\\\ild\\\\ILD_DB_lungMasksK\\\\154\\\\CT-INSPIRIUM-6409',\n",
       " 'D:\\\\datasets\\\\lung\\\\ild\\\\ILD_DB_lungMasksK\\\\154\\\\CT-INSPIRIUM-6410',\n",
       " 'D:\\\\datasets\\\\lung\\\\ild\\\\ILD_DB_lungMasksK\\\\154\\\\CT-INSPIRIUM-6409\\\\axial',\n",
       " 'D:\\\\datasets\\\\lung\\\\ild\\\\ILD_DB_lungMasksK\\\\154\\\\CT-INSPIRIUM-6409\\\\lung_mask',\n",
       " 'D:\\\\datasets\\\\lung\\\\ild\\\\ILD_DB_lungMasksK\\\\154\\\\CT-INSPIRIUM-6410\\\\axial',\n",
       " 'D:\\\\datasets\\\\lung\\\\ild\\\\ILD_DB_lungMasksK\\\\154\\\\CT-INSPIRIUM-6410\\\\lung_mask',\n",
       " 'D:\\\\datasets\\\\lung\\\\ild\\\\ILD_DB_lungMasksK\\\\157\\\\axial',\n",
       " 'D:\\\\datasets\\\\lung\\\\ild\\\\ILD_DB_lungMasksK\\\\157\\\\lung_mask',\n",
       " 'D:\\\\datasets\\\\lung\\\\ild\\\\ILD_DB_lungMasksK\\\\158\\\\axial',\n",
       " 'D:\\\\datasets\\\\lung\\\\ild\\\\ILD_DB_lungMasksK\\\\158\\\\lung_mask',\n",
       " 'D:\\\\datasets\\\\lung\\\\ild\\\\ILD_DB_lungMasksK\\\\159\\\\axial',\n",
       " 'D:\\\\datasets\\\\lung\\\\ild\\\\ILD_DB_lungMasksK\\\\159\\\\lung_mask',\n",
       " 'D:\\\\datasets\\\\lung\\\\ild\\\\ILD_DB_lungMasksK\\\\160\\\\axial',\n",
       " 'D:\\\\datasets\\\\lung\\\\ild\\\\ILD_DB_lungMasksK\\\\160\\\\lung_mask',\n",
       " 'D:\\\\datasets\\\\lung\\\\ild\\\\ILD_DB_lungMasksK\\\\162\\\\axial',\n",
       " 'D:\\\\datasets\\\\lung\\\\ild\\\\ILD_DB_lungMasksK\\\\162\\\\lung_mask',\n",
       " 'D:\\\\datasets\\\\lung\\\\ild\\\\ILD_DB_lungMasksK\\\\163\\\\axial',\n",
       " 'D:\\\\datasets\\\\lung\\\\ild\\\\ILD_DB_lungMasksK\\\\163\\\\lung_mask',\n",
       " 'D:\\\\datasets\\\\lung\\\\ild\\\\ILD_DB_lungMasksK\\\\164\\\\axial',\n",
       " 'D:\\\\datasets\\\\lung\\\\ild\\\\ILD_DB_lungMasksK\\\\164\\\\lung_mask',\n",
       " 'D:\\\\datasets\\\\lung\\\\ild\\\\ILD_DB_lungMasksK\\\\165\\\\axial',\n",
       " 'D:\\\\datasets\\\\lung\\\\ild\\\\ILD_DB_lungMasksK\\\\165\\\\lung_mask',\n",
       " 'D:\\\\datasets\\\\lung\\\\ild\\\\ILD_DB_lungMasksK\\\\166\\\\axial',\n",
       " 'D:\\\\datasets\\\\lung\\\\ild\\\\ILD_DB_lungMasksK\\\\166\\\\lung_mask',\n",
       " 'D:\\\\datasets\\\\lung\\\\ild\\\\ILD_DB_lungMasksK\\\\167\\\\axial',\n",
       " 'D:\\\\datasets\\\\lung\\\\ild\\\\ILD_DB_lungMasksK\\\\167\\\\lung_mask',\n",
       " 'D:\\\\datasets\\\\lung\\\\ild\\\\ILD_DB_lungMasksK\\\\168\\\\axial',\n",
       " 'D:\\\\datasets\\\\lung\\\\ild\\\\ILD_DB_lungMasksK\\\\168\\\\lung_mask',\n",
       " 'D:\\\\datasets\\\\lung\\\\ild\\\\ILD_DB_lungMasksK\\\\169\\\\axial',\n",
       " 'D:\\\\datasets\\\\lung\\\\ild\\\\ILD_DB_lungMasksK\\\\169\\\\lung_mask',\n",
       " 'D:\\\\datasets\\\\lung\\\\ild\\\\ILD_DB_lungMasksK\\\\17\\\\axial',\n",
       " 'D:\\\\datasets\\\\lung\\\\ild\\\\ILD_DB_lungMasksK\\\\17\\\\lung_mask',\n",
       " 'D:\\\\datasets\\\\lung\\\\ild\\\\ILD_DB_lungMasksK\\\\171\\\\axial',\n",
       " 'D:\\\\datasets\\\\lung\\\\ild\\\\ILD_DB_lungMasksK\\\\171\\\\lung_mask',\n",
       " 'D:\\\\datasets\\\\lung\\\\ild\\\\ILD_DB_lungMasksK\\\\173\\\\axial',\n",
       " 'D:\\\\datasets\\\\lung\\\\ild\\\\ILD_DB_lungMasksK\\\\173\\\\lung_mask',\n",
       " 'D:\\\\datasets\\\\lung\\\\ild\\\\ILD_DB_lungMasksK\\\\174\\\\axial',\n",
       " 'D:\\\\datasets\\\\lung\\\\ild\\\\ILD_DB_lungMasksK\\\\174\\\\lung_mask',\n",
       " 'D:\\\\datasets\\\\lung\\\\ild\\\\ILD_DB_lungMasksK\\\\177\\\\axial',\n",
       " 'D:\\\\datasets\\\\lung\\\\ild\\\\ILD_DB_lungMasksK\\\\177\\\\lung_mask',\n",
       " 'D:\\\\datasets\\\\lung\\\\ild\\\\ILD_DB_lungMasksK\\\\180\\\\axial',\n",
       " 'D:\\\\datasets\\\\lung\\\\ild\\\\ILD_DB_lungMasksK\\\\180\\\\lung_mask',\n",
       " 'D:\\\\datasets\\\\lung\\\\ild\\\\ILD_DB_lungMasksK\\\\181\\\\axial',\n",
       " 'D:\\\\datasets\\\\lung\\\\ild\\\\ILD_DB_lungMasksK\\\\181\\\\lung_mask',\n",
       " 'D:\\\\datasets\\\\lung\\\\ild\\\\ILD_DB_lungMasksK\\\\183\\\\axial',\n",
       " 'D:\\\\datasets\\\\lung\\\\ild\\\\ILD_DB_lungMasksK\\\\183\\\\lung_mask',\n",
       " 'D:\\\\datasets\\\\lung\\\\ild\\\\ILD_DB_lungMasksK\\\\184\\\\CT-INSPIRIUM-5841',\n",
       " 'D:\\\\datasets\\\\lung\\\\ild\\\\ILD_DB_lungMasksK\\\\184\\\\CT-INSPIRIUM-5842',\n",
       " 'D:\\\\datasets\\\\lung\\\\ild\\\\ILD_DB_lungMasksK\\\\184\\\\CT-INSPIRIUM-5841\\\\axial',\n",
       " 'D:\\\\datasets\\\\lung\\\\ild\\\\ILD_DB_lungMasksK\\\\184\\\\CT-INSPIRIUM-5841\\\\lung_mask',\n",
       " 'D:\\\\datasets\\\\lung\\\\ild\\\\ILD_DB_lungMasksK\\\\184\\\\CT-INSPIRIUM-5842\\\\axial',\n",
       " 'D:\\\\datasets\\\\lung\\\\ild\\\\ILD_DB_lungMasksK\\\\184\\\\CT-INSPIRIUM-5842\\\\lung_mask',\n",
       " 'D:\\\\datasets\\\\lung\\\\ild\\\\ILD_DB_lungMasksK\\\\185\\\\axial',\n",
       " 'D:\\\\datasets\\\\lung\\\\ild\\\\ILD_DB_lungMasksK\\\\185\\\\lung_mask',\n",
       " 'D:\\\\datasets\\\\lung\\\\ild\\\\ILD_DB_lungMasksK\\\\19\\\\axial',\n",
       " 'D:\\\\datasets\\\\lung\\\\ild\\\\ILD_DB_lungMasksK\\\\19\\\\lung_mask',\n",
       " 'D:\\\\datasets\\\\lung\\\\ild\\\\ILD_DB_lungMasksK\\\\200\\\\axial',\n",
       " 'D:\\\\datasets\\\\lung\\\\ild\\\\ILD_DB_lungMasksK\\\\200\\\\lung_mask',\n",
       " 'D:\\\\datasets\\\\lung\\\\ild\\\\ILD_DB_lungMasksK\\\\201\\\\axial',\n",
       " 'D:\\\\datasets\\\\lung\\\\ild\\\\ILD_DB_lungMasksK\\\\201\\\\lung_mask',\n",
       " 'D:\\\\datasets\\\\lung\\\\ild\\\\ILD_DB_lungMasksK\\\\203\\\\axial',\n",
       " 'D:\\\\datasets\\\\lung\\\\ild\\\\ILD_DB_lungMasksK\\\\203\\\\lung_mask',\n",
       " 'D:\\\\datasets\\\\lung\\\\ild\\\\ILD_DB_lungMasksK\\\\204\\\\axial',\n",
       " 'D:\\\\datasets\\\\lung\\\\ild\\\\ILD_DB_lungMasksK\\\\204\\\\lung_mask',\n",
       " 'D:\\\\datasets\\\\lung\\\\ild\\\\ILD_DB_lungMasksK\\\\205\\\\axial',\n",
       " 'D:\\\\datasets\\\\lung\\\\ild\\\\ILD_DB_lungMasksK\\\\205\\\\lung_mask',\n",
       " 'D:\\\\datasets\\\\lung\\\\ild\\\\ILD_DB_lungMasksK\\\\206\\\\axial',\n",
       " 'D:\\\\datasets\\\\lung\\\\ild\\\\ILD_DB_lungMasksK\\\\206\\\\lung_mask',\n",
       " 'D:\\\\datasets\\\\lung\\\\ild\\\\ILD_DB_lungMasksK\\\\207\\\\axial',\n",
       " 'D:\\\\datasets\\\\lung\\\\ild\\\\ILD_DB_lungMasksK\\\\207\\\\lung_mask',\n",
       " 'D:\\\\datasets\\\\lung\\\\ild\\\\ILD_DB_lungMasksK\\\\209\\\\axial',\n",
       " 'D:\\\\datasets\\\\lung\\\\ild\\\\ILD_DB_lungMasksK\\\\209\\\\lung_mask',\n",
       " 'D:\\\\datasets\\\\lung\\\\ild\\\\ILD_DB_lungMasksK\\\\21\\\\axial',\n",
       " 'D:\\\\datasets\\\\lung\\\\ild\\\\ILD_DB_lungMasksK\\\\21\\\\lung_mask',\n",
       " 'D:\\\\datasets\\\\lung\\\\ild\\\\ILD_DB_lungMasksK\\\\210\\\\axial',\n",
       " 'D:\\\\datasets\\\\lung\\\\ild\\\\ILD_DB_lungMasksK\\\\210\\\\lung_mask',\n",
       " 'D:\\\\datasets\\\\lung\\\\ild\\\\ILD_DB_lungMasksK\\\\23\\\\axial',\n",
       " 'D:\\\\datasets\\\\lung\\\\ild\\\\ILD_DB_lungMasksK\\\\23\\\\lung_mask',\n",
       " 'D:\\\\datasets\\\\lung\\\\ild\\\\ILD_DB_lungMasksK\\\\3\\\\axial',\n",
       " 'D:\\\\datasets\\\\lung\\\\ild\\\\ILD_DB_lungMasksK\\\\3\\\\lung_mask',\n",
       " 'D:\\\\datasets\\\\lung\\\\ild\\\\ILD_DB_lungMasksK\\\\34\\\\axial',\n",
       " 'D:\\\\datasets\\\\lung\\\\ild\\\\ILD_DB_lungMasksK\\\\34\\\\lung_mask',\n",
       " 'D:\\\\datasets\\\\lung\\\\ild\\\\ILD_DB_lungMasksK\\\\35\\\\axial',\n",
       " 'D:\\\\datasets\\\\lung\\\\ild\\\\ILD_DB_lungMasksK\\\\35\\\\lung_mask',\n",
       " 'D:\\\\datasets\\\\lung\\\\ild\\\\ILD_DB_lungMasksK\\\\36\\\\axial',\n",
       " 'D:\\\\datasets\\\\lung\\\\ild\\\\ILD_DB_lungMasksK\\\\36\\\\lung_mask',\n",
       " 'D:\\\\datasets\\\\lung\\\\ild\\\\ILD_DB_lungMasksK\\\\37\\\\axial',\n",
       " 'D:\\\\datasets\\\\lung\\\\ild\\\\ILD_DB_lungMasksK\\\\37\\\\lung_mask',\n",
       " 'D:\\\\datasets\\\\lung\\\\ild\\\\ILD_DB_lungMasksK\\\\38\\\\axial',\n",
       " 'D:\\\\datasets\\\\lung\\\\ild\\\\ILD_DB_lungMasksK\\\\38\\\\lung_mask',\n",
       " 'D:\\\\datasets\\\\lung\\\\ild\\\\ILD_DB_lungMasksK\\\\39\\\\axial',\n",
       " 'D:\\\\datasets\\\\lung\\\\ild\\\\ILD_DB_lungMasksK\\\\39\\\\lung_mask',\n",
       " 'D:\\\\datasets\\\\lung\\\\ild\\\\ILD_DB_lungMasksK\\\\41\\\\axial',\n",
       " 'D:\\\\datasets\\\\lung\\\\ild\\\\ILD_DB_lungMasksK\\\\41\\\\lung_mask',\n",
       " 'D:\\\\datasets\\\\lung\\\\ild\\\\ILD_DB_lungMasksK\\\\45\\\\axial',\n",
       " 'D:\\\\datasets\\\\lung\\\\ild\\\\ILD_DB_lungMasksK\\\\45\\\\lung_mask',\n",
       " 'D:\\\\datasets\\\\lung\\\\ild\\\\ILD_DB_lungMasksK\\\\46\\\\axial',\n",
       " 'D:\\\\datasets\\\\lung\\\\ild\\\\ILD_DB_lungMasksK\\\\46\\\\lung_mask',\n",
       " 'D:\\\\datasets\\\\lung\\\\ild\\\\ILD_DB_lungMasksK\\\\47\\\\axial',\n",
       " 'D:\\\\datasets\\\\lung\\\\ild\\\\ILD_DB_lungMasksK\\\\47\\\\lung_mask',\n",
       " 'D:\\\\datasets\\\\lung\\\\ild\\\\ILD_DB_lungMasksK\\\\48\\\\axial',\n",
       " 'D:\\\\datasets\\\\lung\\\\ild\\\\ILD_DB_lungMasksK\\\\48\\\\lung_mask',\n",
       " 'D:\\\\datasets\\\\lung\\\\ild\\\\ILD_DB_lungMasksK\\\\51\\\\axial',\n",
       " 'D:\\\\datasets\\\\lung\\\\ild\\\\ILD_DB_lungMasksK\\\\51\\\\lung_mask',\n",
       " 'D:\\\\datasets\\\\lung\\\\ild\\\\ILD_DB_lungMasksK\\\\53\\\\CT-INSPIRIUM-1841',\n",
       " 'D:\\\\datasets\\\\lung\\\\ild\\\\ILD_DB_lungMasksK\\\\53\\\\CT-INSPIRIUM-7605',\n",
       " 'D:\\\\datasets\\\\lung\\\\ild\\\\ILD_DB_lungMasksK\\\\53\\\\CT-INSPIRIUM-1841\\\\axial',\n",
       " 'D:\\\\datasets\\\\lung\\\\ild\\\\ILD_DB_lungMasksK\\\\53\\\\CT-INSPIRIUM-1841\\\\lung_mask',\n",
       " 'D:\\\\datasets\\\\lung\\\\ild\\\\ILD_DB_lungMasksK\\\\53\\\\CT-INSPIRIUM-7605\\\\axial',\n",
       " 'D:\\\\datasets\\\\lung\\\\ild\\\\ILD_DB_lungMasksK\\\\53\\\\CT-INSPIRIUM-7605\\\\lung_mask',\n",
       " 'D:\\\\datasets\\\\lung\\\\ild\\\\ILD_DB_lungMasksK\\\\56\\\\axial',\n",
       " 'D:\\\\datasets\\\\lung\\\\ild\\\\ILD_DB_lungMasksK\\\\56\\\\lung_mask',\n",
       " 'D:\\\\datasets\\\\lung\\\\ild\\\\ILD_DB_lungMasksK\\\\57\\\\CT--0002',\n",
       " 'D:\\\\datasets\\\\lung\\\\ild\\\\ILD_DB_lungMasksK\\\\57\\\\CT-INSPIRIUM-3550',\n",
       " 'D:\\\\datasets\\\\lung\\\\ild\\\\ILD_DB_lungMasksK\\\\57\\\\CT-series-5652',\n",
       " 'D:\\\\datasets\\\\lung\\\\ild\\\\ILD_DB_lungMasksK\\\\57\\\\CT--0002\\\\axial',\n",
       " 'D:\\\\datasets\\\\lung\\\\ild\\\\ILD_DB_lungMasksK\\\\57\\\\CT--0002\\\\lung_mask',\n",
       " 'D:\\\\datasets\\\\lung\\\\ild\\\\ILD_DB_lungMasksK\\\\57\\\\CT-INSPIRIUM-3550\\\\axial',\n",
       " 'D:\\\\datasets\\\\lung\\\\ild\\\\ILD_DB_lungMasksK\\\\57\\\\CT-INSPIRIUM-3550\\\\lung_mask',\n",
       " 'D:\\\\datasets\\\\lung\\\\ild\\\\ILD_DB_lungMasksK\\\\57\\\\CT-series-5652\\\\axial',\n",
       " 'D:\\\\datasets\\\\lung\\\\ild\\\\ILD_DB_lungMasksK\\\\57\\\\CT-series-5652\\\\lung_mask',\n",
       " 'D:\\\\datasets\\\\lung\\\\ild\\\\ILD_DB_lungMasksK\\\\62\\\\axial',\n",
       " 'D:\\\\datasets\\\\lung\\\\ild\\\\ILD_DB_lungMasksK\\\\62\\\\lung_mask',\n",
       " 'D:\\\\datasets\\\\lung\\\\ild\\\\ILD_DB_lungMasksK\\\\65\\\\axial',\n",
       " 'D:\\\\datasets\\\\lung\\\\ild\\\\ILD_DB_lungMasksK\\\\65\\\\lung_mask',\n",
       " 'D:\\\\datasets\\\\lung\\\\ild\\\\ILD_DB_lungMasksK\\\\66\\\\axial',\n",
       " 'D:\\\\datasets\\\\lung\\\\ild\\\\ILD_DB_lungMasksK\\\\66\\\\lung_mask',\n",
       " 'D:\\\\datasets\\\\lung\\\\ild\\\\ILD_DB_lungMasksK\\\\7\\\\axial',\n",
       " 'D:\\\\datasets\\\\lung\\\\ild\\\\ILD_DB_lungMasksK\\\\7\\\\lung_mask',\n",
       " 'D:\\\\datasets\\\\lung\\\\ild\\\\ILD_DB_lungMasksK\\\\70\\\\axial',\n",
       " 'D:\\\\datasets\\\\lung\\\\ild\\\\ILD_DB_lungMasksK\\\\70\\\\lung_mask',\n",
       " 'D:\\\\datasets\\\\lung\\\\ild\\\\ILD_DB_lungMasksK\\\\74\\\\axial',\n",
       " 'D:\\\\datasets\\\\lung\\\\ild\\\\ILD_DB_lungMasksK\\\\74\\\\lung_mask',\n",
       " 'D:\\\\datasets\\\\lung\\\\ild\\\\ILD_DB_lungMasksK\\\\76\\\\axial',\n",
       " 'D:\\\\datasets\\\\lung\\\\ild\\\\ILD_DB_lungMasksK\\\\76\\\\lung_mask',\n",
       " 'D:\\\\datasets\\\\lung\\\\ild\\\\ILD_DB_lungMasksK\\\\77\\\\axial',\n",
       " 'D:\\\\datasets\\\\lung\\\\ild\\\\ILD_DB_lungMasksK\\\\77\\\\lung_mask',\n",
       " 'D:\\\\datasets\\\\lung\\\\ild\\\\ILD_DB_lungMasksK\\\\78\\\\axial',\n",
       " 'D:\\\\datasets\\\\lung\\\\ild\\\\ILD_DB_lungMasksK\\\\78\\\\lung_mask',\n",
       " 'D:\\\\datasets\\\\lung\\\\ild\\\\ILD_DB_lungMasksK\\\\8\\\\CT-INSPIRIUM-8871',\n",
       " 'D:\\\\datasets\\\\lung\\\\ild\\\\ILD_DB_lungMasksK\\\\8\\\\CT-INSPIRIUM-8873',\n",
       " 'D:\\\\datasets\\\\lung\\\\ild\\\\ILD_DB_lungMasksK\\\\8\\\\CT-INSPIRIUM-8871\\\\axial',\n",
       " 'D:\\\\datasets\\\\lung\\\\ild\\\\ILD_DB_lungMasksK\\\\8\\\\CT-INSPIRIUM-8871\\\\lung_mask',\n",
       " 'D:\\\\datasets\\\\lung\\\\ild\\\\ILD_DB_lungMasksK\\\\8\\\\CT-INSPIRIUM-8873\\\\axial',\n",
       " 'D:\\\\datasets\\\\lung\\\\ild\\\\ILD_DB_lungMasksK\\\\8\\\\CT-INSPIRIUM-8873\\\\lung_mask',\n",
       " 'D:\\\\datasets\\\\lung\\\\ild\\\\ILD_DB_lungMasksK\\\\80\\\\axial',\n",
       " 'D:\\\\datasets\\\\lung\\\\ild\\\\ILD_DB_lungMasksK\\\\80\\\\lung_mask',\n",
       " 'D:\\\\datasets\\\\lung\\\\ild\\\\ILD_DB_lungMasksK\\\\81\\\\axial',\n",
       " 'D:\\\\datasets\\\\lung\\\\ild\\\\ILD_DB_lungMasksK\\\\81\\\\lung_mask',\n",
       " 'D:\\\\datasets\\\\lung\\\\ild\\\\ILD_DB_lungMasksK\\\\82\\\\axial',\n",
       " 'D:\\\\datasets\\\\lung\\\\ild\\\\ILD_DB_lungMasksK\\\\82\\\\lung_mask',\n",
       " 'D:\\\\datasets\\\\lung\\\\ild\\\\ILD_DB_lungMasksK\\\\83\\\\axial',\n",
       " 'D:\\\\datasets\\\\lung\\\\ild\\\\ILD_DB_lungMasksK\\\\83\\\\lung_mask',\n",
       " 'D:\\\\datasets\\\\lung\\\\ild\\\\ILD_DB_lungMasksK\\\\84\\\\axial',\n",
       " 'D:\\\\datasets\\\\lung\\\\ild\\\\ILD_DB_lungMasksK\\\\84\\\\lung_mask',\n",
       " 'D:\\\\datasets\\\\lung\\\\ild\\\\ILD_DB_lungMasksK\\\\89\\\\axial',\n",
       " 'D:\\\\datasets\\\\lung\\\\ild\\\\ILD_DB_lungMasksK\\\\89\\\\lung_mask',\n",
       " 'D:\\\\datasets\\\\lung\\\\ild\\\\ILD_DB_lungMasksK\\\\90\\\\axial',\n",
       " 'D:\\\\datasets\\\\lung\\\\ild\\\\ILD_DB_lungMasksK\\\\90\\\\lung_mask',\n",
       " 'D:\\\\datasets\\\\lung\\\\ild\\\\ILD_DB_lungMasksK\\\\92\\\\axial',\n",
       " 'D:\\\\datasets\\\\lung\\\\ild\\\\ILD_DB_lungMasksK\\\\92\\\\lung_mask',\n",
       " 'D:\\\\datasets\\\\lung\\\\ild\\\\ILD_DB_lungMasksK\\\\94\\\\axial',\n",
       " 'D:\\\\datasets\\\\lung\\\\ild\\\\ILD_DB_lungMasksK\\\\94\\\\lung_mask']"
      ]
     },
     "execution_count": 5,
     "metadata": {},
     "output_type": "execute_result"
    }
   ],
   "source": [
    "# reorganization file system \n",
    "# ild files seperate each folder\n",
    "import os, shutil, glob\n",
    "import dicom2nifti\n",
    "import dicom2nifti.settings as settings\n",
    "\n",
    "def fast_scandir(dirname):\n",
    "    subfolders    = [f.path for f in os.scandir(dirname) if f.is_dir()]\n",
    "    for dirname in list(subfolders):\n",
    "        subfolders.extend(fast_scandir(dirname))\n",
    "        files    = [g.path for g in os.scandir(dirname) if g.is_file()]\n",
    "        folders  = [g.path for g in os.scandir(dirname) if g.is_dir()]\n",
    "        print(dirname +\"==>\"+ str(len(folders)))  \n",
    "        if len(folders)!=0 and len(files)>0 :\n",
    "            target_dir=os.path.join(dirname, \"axial\")\n",
    "            if not os.path.exists(target_dir):\n",
    "                os.makedirs(target_dir)\n",
    "            for file_name in files:\n",
    "                if(file_name.endswith('.dcm')):\n",
    "                    shutil.move(os.path.join(dirname,file_name), target_dir)\n",
    "    return subfolders\n",
    "\n",
    "def folder2fname(dirname):\n",
    "    dnX=dirname.split('\\\\')\n",
    "    nameX=\"parent\"+dnX[0]\n",
    "    for d in range(1,len(dnX)):\n",
    "        nameX+=\"_\"+dnX[d]\n",
    "    return nameX\n",
    "\n",
    "def copyFileNewFolder(path):\n",
    "    files    = [f.path for f in os.scandir(path) if f.is_file()]\n",
    "    return files\n",
    "\n",
    "def scandirDcm2Nifti(source_dir,target_dir):\n",
    "    subfolders    = [f.path for f in os.scandir(source_dir) if f.is_dir()]\n",
    "    for dirname in list(subfolders):\n",
    "        subfolders.extend(scandirDcm2Nifti(dirname,target_dir))\n",
    "        files    = [g.path for g in os.scandir(dirname) if g.is_file()]\n",
    "        folders  = [g.path for g in os.scandir(dirname) if g.is_dir()]    \n",
    "        if len(files)>0:\n",
    "            original_dicom_directory=dirname\n",
    "            fname=folder2fname(dirname.replace(root_dir,\"\"))+\".nii.gz\"\n",
    "            output_file=os.path.join(target_dir, fname)\n",
    "            print(fname)\n",
    "            print(output_file)\n",
    "            if not os.path.exists(output_file):\n",
    "                dicom2nifti.dicom_series_to_nifti(original_dicom_directory, output_file, reorient_nifti=True)\n",
    "    return subfolders\n",
    "\n",
    "def folder2fname(dirname):\n",
    "    dnX=dirname.split('\\\\')\n",
    "    nameX=\"parent\"+dnX[0]\n",
    "    for d in range(1,len(dnX)):\n",
    "        nameX+=\"_\"+dnX[d]\n",
    "    return nameX\n",
    "\n",
    "root_dir = 'D:\\\\datasets\\\\lung\\\\ild\\\\ILD_DB_lungMasksK\\\\'\n",
    "target_dir = 'D:\\\\datasets\\\\lung\\\\ild\\\\ILD_DB_lungMasksKNifti\\\\'\n",
    "\n",
    "# fList=fast_scandir(root_dir)\n",
    "scandirDcm2Nifti(root_dir,target_dir)\n",
    "\n",
    "\n",
    "# # display(fList)\n",
    "# fListName=[]\n",
    "# for dirname in fList:\n",
    "#     dn=dirname.replace(root_dir, \"\")\n",
    "#     dnX=folder2fname(dn)\n",
    "#     fListName.append(dnX) \n",
    "\n",
    "\n",
    "# display(fListName)\n",
    "\n",
    "    \n",
    "# file_names = os.listdir(source_dir)\n",
    "    \n",
    "# for file_name in file_names:\n",
    "#     shutil.move(os.path.join(source_dir, file_name), target_dir)"
   ]
  },
  {
   "cell_type": "code",
   "execution_count": 9,
   "metadata": {},
   "outputs": [
    {
     "name": "stdout",
     "output_type": "stream",
     "text": [
      "D:\\datasets\\lung\\ild\\ILD_DB_lungMasksKNifti\\\n",
      "D:\\datasets\\lung\\ild\\ILD_DB_lungMasksKNifti2PNG\\\n"
     ]
    },
    {
     "ename": "TypeError",
     "evalue": "'module' object is not callable",
     "output_type": "error",
     "traceback": [
      "\u001b[1;31m---------------------------------------------------------------------------\u001b[0m",
      "\u001b[1;31mTypeError\u001b[0m                                 Traceback (most recent call last)",
      "\u001b[1;32m<ipython-input-9-3bd993269e22>\u001b[0m in \u001b[0;36m<module>\u001b[1;34m\u001b[0m\n\u001b[0;32m      5\u001b[0m \u001b[0mprint\u001b[0m\u001b[1;33m(\u001b[0m\u001b[0mTarget_IMG_PATH\u001b[0m\u001b[1;33m)\u001b[0m\u001b[1;33m\u001b[0m\u001b[1;33m\u001b[0m\u001b[0m\n\u001b[0;32m      6\u001b[0m \u001b[1;33m\u001b[0m\u001b[0m\n\u001b[1;32m----> 7\u001b[1;33m \u001b[0mall_images\u001b[0m\u001b[1;33m=\u001b[0m\u001b[0msorted\u001b[0m\u001b[1;33m(\u001b[0m\u001b[0mglob\u001b[0m\u001b[1;33m(\u001b[0m\u001b[0mos\u001b[0m\u001b[1;33m.\u001b[0m\u001b[0mpath\u001b[0m\u001b[1;33m.\u001b[0m\u001b[0mjoin\u001b[0m\u001b[1;33m(\u001b[0m\u001b[0mBASE_IMG_PATH\u001b[0m\u001b[1;33m,\u001b[0m\u001b[1;34m'*axial.nii.gz'\u001b[0m\u001b[1;33m)\u001b[0m\u001b[1;33m)\u001b[0m\u001b[1;33m)\u001b[0m\u001b[1;33m\u001b[0m\u001b[1;33m\u001b[0m\u001b[0m\n\u001b[0m\u001b[0;32m      8\u001b[0m \u001b[0mall_masks\u001b[0m \u001b[1;33m=\u001b[0m\u001b[0msorted\u001b[0m\u001b[1;33m(\u001b[0m\u001b[0mglob\u001b[0m\u001b[1;33m(\u001b[0m\u001b[0mos\u001b[0m\u001b[1;33m.\u001b[0m\u001b[0mpath\u001b[0m\u001b[1;33m.\u001b[0m\u001b[0mjoin\u001b[0m\u001b[1;33m(\u001b[0m\u001b[0mBASE_IMG_PATH\u001b[0m\u001b[1;33m,\u001b[0m\u001b[1;34m'*lung_mask.nii.gz'\u001b[0m\u001b[1;33m)\u001b[0m\u001b[1;33m)\u001b[0m\u001b[1;33m)\u001b[0m\u001b[1;33m\u001b[0m\u001b[1;33m\u001b[0m\u001b[0m\n\u001b[0;32m      9\u001b[0m \u001b[0mi\u001b[0m\u001b[1;33m=\u001b[0m\u001b[1;36m0\u001b[0m\u001b[1;33m\u001b[0m\u001b[1;33m\u001b[0m\u001b[0m\n",
      "\u001b[1;31mTypeError\u001b[0m: 'module' object is not callable"
     ]
    }
   ],
   "source": [
    "filepath=\"D:\\\\datasets\\\\lung\\\\ild\\\\ILD_DB_lungMasksKNifti\\\\\"\n",
    "BASE_IMG_PATH=os.path.join('..',filepath)\n",
    "Target_IMG_PATH=\"D:\\\\datasets\\\\lung\\\\ild\\\\ILD_DB_lungMasksKNifti2PNG\\\\\"\n",
    "print(BASE_IMG_PATH)\n",
    "print(Target_IMG_PATH)\n",
    "\n",
    "all_images=sorted(glob(os.path.join(BASE_IMG_PATH,'*axial.nii.gz')))\n",
    "all_masks =sorted(glob(os.path.join(BASE_IMG_PATH,'*lung_mask.nii.gz')))\n",
    "i=0\n",
    "for item in all_images:\n",
    "    fname=os.path.basename(all_images[i])\n",
    "    fnameA=fname.split(\"_\")\n",
    "    test_image=nib.load(all_images[i]).get_fdata()\n",
    "    test_mask=nib.load(all_masks[i]).get_fdata()\n",
    "    i=i+1\n",
    "\n",
    "    r=test_image.shape[2]\n",
    "    for yy in range(0,r):\n",
    "        #print(yy)\n",
    "        img=test_image[:,:,yy]\n",
    "        img=np.rot90(img)\n",
    "        img = img.astype(np.uint8)\n",
    "        imageName='{}{}_slices_{:03}.png'.format(Target_IMG_PATH,fnameA[0], yy)\n",
    "        imageio.imwrite(imageName, img)\n",
    "        print(imageName,\" saved\")\n",
    "        maskImg=test_mask[:,:,yy]\n",
    "        maskImg=np.rot90(maskImg)*255\n",
    "        maskImg = maskImg.astype(np.uint8)\n",
    "        mimageName='{}{}_slices_{:03}.png'.format(Target_IMG_PATH,fnameA[0], yy)\n",
    "        imageio.imwrite(mimageName, maskImg)\n",
    "        print(mimageName,\" saved\")\n",
    "      "
   ]
  },
  {
   "cell_type": "code",
   "execution_count": null,
   "metadata": {},
   "outputs": [],
   "source": []
  }
 ],
 "metadata": {
  "kernelspec": {
   "display_name": "Python 3.7 (tensorflow)",
   "language": "python",
   "name": "tensorflow"
  },
  "language_info": {
   "codemirror_mode": {
    "name": "ipython",
    "version": 3
   },
   "file_extension": ".py",
   "mimetype": "text/x-python",
   "name": "python",
   "nbconvert_exporter": "python",
   "pygments_lexer": "ipython3",
   "version": "3.7.9"
  }
 },
 "nbformat": 4,
 "nbformat_minor": 4
}
